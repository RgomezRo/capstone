{
  "nbformat": 4,
  "nbformat_minor": 0,
  "metadata": {
    "colab": {
      "name": "EDA de Trade_CropsLivestock.ipynb",
      "provenance": [],
      "collapsed_sections": [
        "Jv2KOaewQoiE",
        "nplS4WbDEaf0",
        "_8Zry2X9M2r2",
        "U3dMjp36VxFF",
        "jW4RGwo8V7aI",
        "HsZrJhA29-iF",
        "5iC4PXOM-ENm",
        "z3SrtaHYDhWt",
        "vJ4k2qAZV7dc",
        "j9TejCtdCeTx",
        "WUNRj1tIDb4J"
      ]
    },
    "kernelspec": {
      "name": "python3",
      "display_name": "Python 3"
    },
    "language_info": {
      "name": "python"
    }
  },
  "cells": [
    {
      "cell_type": "markdown",
      "source": [
        "# Imports"
      ],
      "metadata": {
        "id": "tOvGjHDoBpkA"
      }
    },
    {
      "cell_type": "code",
      "source": [
        "!pip install calmap"
      ],
      "metadata": {
        "colab": {
          "base_uri": "https://localhost:8080/"
        },
        "id": "U_eMwaP1OOHR",
        "outputId": "a28449d0-6921-4503-cd61-8f0261d2b8f0"
      },
      "execution_count": null,
      "outputs": [
        {
          "output_type": "stream",
          "name": "stdout",
          "text": [
            "Collecting calmap\n",
            "  Downloading calmap-0.0.9-py2.py3-none-any.whl (7.1 kB)\n",
            "Requirement already satisfied: numpy in /usr/local/lib/python3.7/dist-packages (from calmap) (1.19.5)\n",
            "Requirement already satisfied: pandas in /usr/local/lib/python3.7/dist-packages (from calmap) (1.3.5)\n",
            "Requirement already satisfied: matplotlib in /usr/local/lib/python3.7/dist-packages (from calmap) (3.2.2)\n",
            "Requirement already satisfied: python-dateutil>=2.1 in /usr/local/lib/python3.7/dist-packages (from matplotlib->calmap) (2.8.2)\n",
            "Requirement already satisfied: kiwisolver>=1.0.1 in /usr/local/lib/python3.7/dist-packages (from matplotlib->calmap) (1.3.2)\n",
            "Requirement already satisfied: cycler>=0.10 in /usr/local/lib/python3.7/dist-packages (from matplotlib->calmap) (0.11.0)\n",
            "Requirement already satisfied: pyparsing!=2.0.4,!=2.1.2,!=2.1.6,>=2.0.1 in /usr/local/lib/python3.7/dist-packages (from matplotlib->calmap) (3.0.7)\n",
            "Requirement already satisfied: six>=1.5 in /usr/local/lib/python3.7/dist-packages (from python-dateutil>=2.1->matplotlib->calmap) (1.15.0)\n",
            "Requirement already satisfied: pytz>=2017.3 in /usr/local/lib/python3.7/dist-packages (from pandas->calmap) (2018.9)\n",
            "Installing collected packages: calmap\n",
            "Successfully installed calmap-0.0.9\n"
          ]
        }
      ]
    },
    {
      "cell_type": "code",
      "source": [
        "!pip install wget"
      ],
      "metadata": {
        "colab": {
          "base_uri": "https://localhost:8080/"
        },
        "id": "ex8hlA7mqMFZ",
        "outputId": "7c33444d-565d-4d21-e8d0-369645e89804"
      },
      "execution_count": null,
      "outputs": [
        {
          "output_type": "stream",
          "name": "stdout",
          "text": [
            "Collecting wget\n",
            "  Downloading wget-3.2.zip (10 kB)\n",
            "Building wheels for collected packages: wget\n",
            "  Building wheel for wget (setup.py) ... \u001b[?25l\u001b[?25hdone\n",
            "  Created wheel for wget: filename=wget-3.2-py3-none-any.whl size=9675 sha256=5ea51589eb6744ff5423d8bd918066980503a45ce7a7df8f9a86853395f27202\n",
            "  Stored in directory: /root/.cache/pip/wheels/a1/b6/7c/0e63e34eb06634181c63adacca38b79ff8f35c37e3c13e3c02\n",
            "Successfully built wget\n",
            "Installing collected packages: wget\n",
            "Successfully installed wget-3.2\n"
          ]
        }
      ]
    },
    {
      "cell_type": "code",
      "execution_count": null,
      "metadata": {
        "id": "npk2o4PoN8ri"
      },
      "outputs": [],
      "source": [
        "\n",
        "### importamos librerías\n",
        "\n",
        "'''\n",
        "instalar:\n",
        "- plotly\n",
        "- calmap\n",
        "- folium\n",
        "- wget\n",
        "'''\n",
        "\n",
        "#analisis\n",
        "import pandas as pd \n",
        "import numpy as np\n",
        "\n",
        "#visualización\n",
        "import matplotlib.pyplot as plt\n",
        "import seaborn as sns\n",
        "import plotly.express as px\n",
        "\n",
        "import calmap\n",
        "import folium\n",
        "\n",
        "#paletas\n",
        "confirmados='#393e46'\n",
        "fallecidos='#ff2e63'\n",
        "\n",
        "import wget\n",
        "import os"
      ]
    },
    {
      "cell_type": "markdown",
      "source": [
        "# Data Loading"
      ],
      "metadata": {
        "id": "wwlo0oiGByLJ"
      }
    },
    {
      "cell_type": "code",
      "source": [
        "from google.colab import drive\n",
        "drive.mount('/content/drive')"
      ],
      "metadata": {
        "colab": {
          "base_uri": "https://localhost:8080/"
        },
        "id": "kaPq1MuOOH3k",
        "outputId": "610f6acb-78e1-4035-b883-fcbf3abb8098"
      },
      "execution_count": null,
      "outputs": [
        {
          "output_type": "stream",
          "name": "stdout",
          "text": [
            "Drive already mounted at /content/drive; to attempt to forcibly remount, call drive.mount(\"/content/drive\", force_remount=True).\n"
          ]
        }
      ]
    },
    {
      "cell_type": "code",
      "source": [
        "Database = \"/content/drive/MyDrive/Colab Notebooks/Trade_CropsLivestock_E_All_Data_(Normalized).zip (Unzipped Files)/Trade_CropsLivestock_E_All_Data_(Normalized).csv\""
      ],
      "metadata": {
        "id": "aThcePEAOaXx"
      },
      "execution_count": null,
      "outputs": []
    },
    {
      "cell_type": "code",
      "source": [
        "df = pd.read_csv(Database, encoding = \"ISO-8859-1\")"
      ],
      "metadata": {
        "id": "SmIGv_PSOieY"
      },
      "execution_count": null,
      "outputs": []
    },
    {
      "cell_type": "markdown",
      "source": [
        "# DATA UNDERSTANDING"
      ],
      "metadata": {
        "id": "XkgRlghPBJ-m"
      }
    },
    {
      "cell_type": "markdown",
      "source": [
        "## Análisis de los datos"
      ],
      "metadata": {
        "id": "9e0eefy0BQWO"
      }
    },
    {
      "cell_type": "markdown",
      "source": [
        "### Tamaño del dataset"
      ],
      "metadata": {
        "id": "Zovecl6YBU6K"
      }
    },
    {
      "cell_type": "code",
      "source": [
        "df.info()"
      ],
      "metadata": {
        "colab": {
          "base_uri": "https://localhost:8080/"
        },
        "id": "yH5kOH15BXrq",
        "outputId": "654c8228-a031-462e-cca0-6d7b545e9c23"
      },
      "execution_count": null,
      "outputs": [
        {
          "output_type": "stream",
          "name": "stdout",
          "text": [
            "<class 'pandas.core.frame.DataFrame'>\n",
            "RangeIndex: 17384700 entries, 0 to 17384699\n",
            "Data columns (total 11 columns):\n",
            " #   Column        Dtype  \n",
            "---  ------        -----  \n",
            " 0   Area Code     int64  \n",
            " 1   Area          object \n",
            " 2   Item Code     int64  \n",
            " 3   Item          object \n",
            " 4   Element Code  int64  \n",
            " 5   Element       object \n",
            " 6   Year Code     int64  \n",
            " 7   Year          int64  \n",
            " 8   Unit          object \n",
            " 9   Value         float64\n",
            " 10  Flag          object \n",
            "dtypes: float64(1), int64(5), object(5)\n",
            "memory usage: 1.4+ GB\n"
          ]
        }
      ]
    },
    {
      "cell_type": "markdown",
      "source": [
        "### Visualización directa de los datos"
      ],
      "metadata": {
        "id": "A7KnqcvtBeCt"
      }
    },
    {
      "cell_type": "code",
      "source": [
        "df.head()"
      ],
      "metadata": {
        "colab": {
          "base_uri": "https://localhost:8080/",
          "height": 206
        },
        "id": "GYWrzZzPCIE4",
        "outputId": "e71e0b8c-a321-41b4-d12c-6c8acac8d3db"
      },
      "execution_count": null,
      "outputs": [
        {
          "output_type": "execute_result",
          "data": {
            "text/html": [
              "\n",
              "  <div id=\"df-88d45af9-95db-4e9c-bfbe-ff2079ecc563\">\n",
              "    <div class=\"colab-df-container\">\n",
              "      <div>\n",
              "<style scoped>\n",
              "    .dataframe tbody tr th:only-of-type {\n",
              "        vertical-align: middle;\n",
              "    }\n",
              "\n",
              "    .dataframe tbody tr th {\n",
              "        vertical-align: top;\n",
              "    }\n",
              "\n",
              "    .dataframe thead th {\n",
              "        text-align: right;\n",
              "    }\n",
              "</style>\n",
              "<table border=\"1\" class=\"dataframe\">\n",
              "  <thead>\n",
              "    <tr style=\"text-align: right;\">\n",
              "      <th></th>\n",
              "      <th>Area Code</th>\n",
              "      <th>Area</th>\n",
              "      <th>Item Code</th>\n",
              "      <th>Item</th>\n",
              "      <th>Element Code</th>\n",
              "      <th>Element</th>\n",
              "      <th>Year Code</th>\n",
              "      <th>Year</th>\n",
              "      <th>Unit</th>\n",
              "      <th>Value</th>\n",
              "      <th>Flag</th>\n",
              "    </tr>\n",
              "  </thead>\n",
              "  <tbody>\n",
              "    <tr>\n",
              "      <th>0</th>\n",
              "      <td>2</td>\n",
              "      <td>Afghanistan</td>\n",
              "      <td>862</td>\n",
              "      <td>Alfalfa meal and pellets</td>\n",
              "      <td>5910</td>\n",
              "      <td>Export Quantity</td>\n",
              "      <td>2019</td>\n",
              "      <td>2019</td>\n",
              "      <td>tonnes</td>\n",
              "      <td>49.0</td>\n",
              "      <td>*</td>\n",
              "    </tr>\n",
              "    <tr>\n",
              "      <th>1</th>\n",
              "      <td>2</td>\n",
              "      <td>Afghanistan</td>\n",
              "      <td>862</td>\n",
              "      <td>Alfalfa meal and pellets</td>\n",
              "      <td>5910</td>\n",
              "      <td>Export Quantity</td>\n",
              "      <td>2020</td>\n",
              "      <td>2020</td>\n",
              "      <td>tonnes</td>\n",
              "      <td>21.0</td>\n",
              "      <td>*</td>\n",
              "    </tr>\n",
              "    <tr>\n",
              "      <th>2</th>\n",
              "      <td>2</td>\n",
              "      <td>Afghanistan</td>\n",
              "      <td>862</td>\n",
              "      <td>Alfalfa meal and pellets</td>\n",
              "      <td>5922</td>\n",
              "      <td>Export Value</td>\n",
              "      <td>2019</td>\n",
              "      <td>2019</td>\n",
              "      <td>1000 US$</td>\n",
              "      <td>18.0</td>\n",
              "      <td>*</td>\n",
              "    </tr>\n",
              "    <tr>\n",
              "      <th>3</th>\n",
              "      <td>2</td>\n",
              "      <td>Afghanistan</td>\n",
              "      <td>862</td>\n",
              "      <td>Alfalfa meal and pellets</td>\n",
              "      <td>5922</td>\n",
              "      <td>Export Value</td>\n",
              "      <td>2020</td>\n",
              "      <td>2020</td>\n",
              "      <td>1000 US$</td>\n",
              "      <td>8.0</td>\n",
              "      <td>*</td>\n",
              "    </tr>\n",
              "    <tr>\n",
              "      <th>4</th>\n",
              "      <td>2</td>\n",
              "      <td>Afghanistan</td>\n",
              "      <td>231</td>\n",
              "      <td>Almonds shelled</td>\n",
              "      <td>5610</td>\n",
              "      <td>Import Quantity</td>\n",
              "      <td>2014</td>\n",
              "      <td>2014</td>\n",
              "      <td>tonnes</td>\n",
              "      <td>167.0</td>\n",
              "      <td>R</td>\n",
              "    </tr>\n",
              "  </tbody>\n",
              "</table>\n",
              "</div>\n",
              "      <button class=\"colab-df-convert\" onclick=\"convertToInteractive('df-88d45af9-95db-4e9c-bfbe-ff2079ecc563')\"\n",
              "              title=\"Convert this dataframe to an interactive table.\"\n",
              "              style=\"display:none;\">\n",
              "        \n",
              "  <svg xmlns=\"http://www.w3.org/2000/svg\" height=\"24px\"viewBox=\"0 0 24 24\"\n",
              "       width=\"24px\">\n",
              "    <path d=\"M0 0h24v24H0V0z\" fill=\"none\"/>\n",
              "    <path d=\"M18.56 5.44l.94 2.06.94-2.06 2.06-.94-2.06-.94-.94-2.06-.94 2.06-2.06.94zm-11 1L8.5 8.5l.94-2.06 2.06-.94-2.06-.94L8.5 2.5l-.94 2.06-2.06.94zm10 10l.94 2.06.94-2.06 2.06-.94-2.06-.94-.94-2.06-.94 2.06-2.06.94z\"/><path d=\"M17.41 7.96l-1.37-1.37c-.4-.4-.92-.59-1.43-.59-.52 0-1.04.2-1.43.59L10.3 9.45l-7.72 7.72c-.78.78-.78 2.05 0 2.83L4 21.41c.39.39.9.59 1.41.59.51 0 1.02-.2 1.41-.59l7.78-7.78 2.81-2.81c.8-.78.8-2.07 0-2.86zM5.41 20L4 18.59l7.72-7.72 1.47 1.35L5.41 20z\"/>\n",
              "  </svg>\n",
              "      </button>\n",
              "      \n",
              "  <style>\n",
              "    .colab-df-container {\n",
              "      display:flex;\n",
              "      flex-wrap:wrap;\n",
              "      gap: 12px;\n",
              "    }\n",
              "\n",
              "    .colab-df-convert {\n",
              "      background-color: #E8F0FE;\n",
              "      border: none;\n",
              "      border-radius: 50%;\n",
              "      cursor: pointer;\n",
              "      display: none;\n",
              "      fill: #1967D2;\n",
              "      height: 32px;\n",
              "      padding: 0 0 0 0;\n",
              "      width: 32px;\n",
              "    }\n",
              "\n",
              "    .colab-df-convert:hover {\n",
              "      background-color: #E2EBFA;\n",
              "      box-shadow: 0px 1px 2px rgba(60, 64, 67, 0.3), 0px 1px 3px 1px rgba(60, 64, 67, 0.15);\n",
              "      fill: #174EA6;\n",
              "    }\n",
              "\n",
              "    [theme=dark] .colab-df-convert {\n",
              "      background-color: #3B4455;\n",
              "      fill: #D2E3FC;\n",
              "    }\n",
              "\n",
              "    [theme=dark] .colab-df-convert:hover {\n",
              "      background-color: #434B5C;\n",
              "      box-shadow: 0px 1px 3px 1px rgba(0, 0, 0, 0.15);\n",
              "      filter: drop-shadow(0px 1px 2px rgba(0, 0, 0, 0.3));\n",
              "      fill: #FFFFFF;\n",
              "    }\n",
              "  </style>\n",
              "\n",
              "      <script>\n",
              "        const buttonEl =\n",
              "          document.querySelector('#df-88d45af9-95db-4e9c-bfbe-ff2079ecc563 button.colab-df-convert');\n",
              "        buttonEl.style.display =\n",
              "          google.colab.kernel.accessAllowed ? 'block' : 'none';\n",
              "\n",
              "        async function convertToInteractive(key) {\n",
              "          const element = document.querySelector('#df-88d45af9-95db-4e9c-bfbe-ff2079ecc563');\n",
              "          const dataTable =\n",
              "            await google.colab.kernel.invokeFunction('convertToInteractive',\n",
              "                                                     [key], {});\n",
              "          if (!dataTable) return;\n",
              "\n",
              "          const docLinkHtml = 'Like what you see? Visit the ' +\n",
              "            '<a target=\"_blank\" href=https://colab.research.google.com/notebooks/data_table.ipynb>data table notebook</a>'\n",
              "            + ' to learn more about interactive tables.';\n",
              "          element.innerHTML = '';\n",
              "          dataTable['output_type'] = 'display_data';\n",
              "          await google.colab.output.renderOutput(dataTable, element);\n",
              "          const docLink = document.createElement('div');\n",
              "          docLink.innerHTML = docLinkHtml;\n",
              "          element.appendChild(docLink);\n",
              "        }\n",
              "      </script>\n",
              "    </div>\n",
              "  </div>\n",
              "  "
            ],
            "text/plain": [
              "   Area Code         Area  Item Code  ...      Unit  Value Flag\n",
              "0          2  Afghanistan        862  ...    tonnes   49.0    *\n",
              "1          2  Afghanistan        862  ...    tonnes   21.0    *\n",
              "2          2  Afghanistan        862  ...  1000 US$   18.0    *\n",
              "3          2  Afghanistan        862  ...  1000 US$    8.0    *\n",
              "4          2  Afghanistan        231  ...    tonnes  167.0    R\n",
              "\n",
              "[5 rows x 11 columns]"
            ]
          },
          "metadata": {},
          "execution_count": 8
        }
      ]
    },
    {
      "cell_type": "markdown",
      "source": [
        "Vemos que como en todas las bases, estan organizadas con la columnas de área corresponde a los países y probablemente a agrupaciones, los Items a priori son alimentos de cultivos y ganadería, según se informa en la FAO hay también agrupaciones, y para cada combinación de País-Item-Año tenemos, según se indica en la columna \"Element\", tanto la cantidad como el valor de producto importado y exportado."
      ],
      "metadata": {
        "id": "RualuXQOCMHc"
      }
    },
    {
      "cell_type": "markdown",
      "source": [
        "Las variables, aunque están algunas cogidas como Numéricas, sólo hay dos columnas realmente numéricas, que son el año (\"Year\") y la columna \"Value\", ya que lo demás numéricas son identifiers (Area Code, Item Code, Element Code, Year Code, y Unit). El valor de cada columna define de qué se trata el valor numérico de la columna \"Value\"."
      ],
      "metadata": {
        "id": "XypY0xkbDQXI"
      }
    },
    {
      "cell_type": "markdown",
      "source": [
        "Miramos la información que hay en la base de datos"
      ],
      "metadata": {
        "id": "huw0o0KkeGHB"
      }
    },
    {
      "cell_type": "markdown",
      "source": [
        "**Area**"
      ],
      "metadata": {
        "id": "cGE5pJcI2_yl"
      }
    },
    {
      "cell_type": "markdown",
      "source": [
        "Contamos el número de Áreas?"
      ],
      "metadata": {
        "id": "JdYQVAHY3FDN"
      }
    },
    {
      "cell_type": "code",
      "source": [
        "df[\"Area\"].nunique()"
      ],
      "metadata": {
        "colab": {
          "base_uri": "https://localhost:8080/"
        },
        "id": "KTsVyZFDJyvC",
        "outputId": "41e6385e-f936-4ae6-c92b-4cbefb988c1d"
      },
      "execution_count": null,
      "outputs": [
        {
          "output_type": "execute_result",
          "data": {
            "text/plain": [
              "276"
            ]
          },
          "metadata": {},
          "execution_count": 9
        }
      ]
    },
    {
      "cell_type": "markdown",
      "source": [
        "Según la web de la FAO, las agrupaciones empiezan en el código 5000. Vemos qué agrupaciones hay."
      ],
      "metadata": {
        "id": "lBO9Lha73Mkw"
      }
    },
    {
      "cell_type": "code",
      "source": [
        "df[df[\"Area Code\"]>5000][\"Area\"].unique()"
      ],
      "metadata": {
        "colab": {
          "base_uri": "https://localhost:8080/"
        },
        "id": "3Zz6AMh0J8h-",
        "outputId": "923fbe54-4480-4418-fc77-324101d61bb2"
      },
      "execution_count": null,
      "outputs": [
        {
          "output_type": "execute_result",
          "data": {
            "text/plain": [
              "array(['Africa', 'Africa (excluding intra-trade)', 'Eastern Africa',\n",
              "       'Eastern Africa (excluding intra-trade)', 'Middle Africa',\n",
              "       'Middle Africa (excluding intra-trade)', 'Northern Africa',\n",
              "       'Northern Africa (excluding intra-trade)', 'Southern Africa',\n",
              "       'Southern Africa (excluding intra-trade)', 'Western Africa',\n",
              "       'Western Africa (excluding intra-trade)', 'Americas',\n",
              "       'Americas (excluding intra-trade)', 'Northern America',\n",
              "       'Northern America (excluding intra-trade)', 'Central America',\n",
              "       'Central America (excluding intra-trade)', 'Caribbean',\n",
              "       'Caribbean (excluding intra-trade)', 'South America',\n",
              "       'South America (excluding intra-trade)', 'Asia',\n",
              "       'Asia (excluding intra-trade)', 'Central Asia',\n",
              "       'Central Asia (excluding intra-trade)', 'Eastern Asia',\n",
              "       'Eastern Asia (excluding intra-trade)', 'Southern Asia',\n",
              "       'Southern Asia (excluding intra-trade)', 'South-eastern Asia',\n",
              "       'South-Eastern Asia (excluding intra-trade)', 'Western Asia',\n",
              "       'Western Asia (excluding intra-trade)', 'Europe',\n",
              "       'Europe (excluding intra-trade)', 'Eastern Europe',\n",
              "       'Eastern Europe (excluding intra-trade)', 'Northern Europe',\n",
              "       'Northern Europe (excluding intra-trade)', 'Southern Europe',\n",
              "       'Southern Europe (excluding intra-trade)', 'Western Europe',\n",
              "       'Western Europe (excluding intra-trade)', 'Oceania',\n",
              "       'Oceania (excluding intra-trade)', 'Australia and New Zealand',\n",
              "       'Australia and New Zealand (excluding intra-trade)', 'Melanesia',\n",
              "       'Melanesia (excluding intra-trade)', 'Micronesia',\n",
              "       'Micronesia (excluding intra-trade)', 'Polynesia',\n",
              "       'Polynesia (excluding intra-trade)',\n",
              "       'European Union (28) (excluding intra-trade)',\n",
              "       'European Union (27)',\n",
              "       'European Union (27) (excluding intra-trade)',\n",
              "       'Least Developed Countries',\n",
              "       'Least Developed Countries (excluding intra-trade)',\n",
              "       'Land Locked Developing Countries',\n",
              "       'Land Locked Developing Countries (excluding intra-trade)',\n",
              "       'Small Island Developing States',\n",
              "       'Small Island Developing States (excluding intra-trade)',\n",
              "       'Low Income Food Deficit Countries',\n",
              "       'Low Income Food Deficit Countries (excluding intra-trade)',\n",
              "       'Net Food Importing Developing Countries',\n",
              "       'Net Food Importing Developing Countries (excluding intra-trade)'],\n",
              "      dtype=object)"
            ]
          },
          "metadata": {},
          "execution_count": 10
        }
      ]
    },
    {
      "cell_type": "markdown",
      "source": [
        "Vemos agrupaciones por continentes y otras agrupaciones de países, como los menos desarrolados, países sin litoral, países con deficit de comida, etc."
      ],
      "metadata": {
        "id": "FdNZensU33OK"
      }
    },
    {
      "cell_type": "code",
      "source": [
        "## Hay también una agrupación de todo el mundo.\n",
        "\n",
        "(df[\"Area\"] == \"World\").sum()"
      ],
      "metadata": {
        "colab": {
          "base_uri": "https://localhost:8080/"
        },
        "id": "LXFwcRAS3UL-",
        "outputId": "0bfb2643-fe20-4617-a28e-8b8f5fa0dccd"
      },
      "execution_count": null,
      "outputs": [
        {
          "output_type": "execute_result",
          "data": {
            "text/plain": [
              "109807"
            ]
          },
          "metadata": {},
          "execution_count": 11
        }
      ]
    },
    {
      "cell_type": "markdown",
      "source": [
        "**Columna Element**"
      ],
      "metadata": {
        "id": "EPCUcdF7eSBL"
      }
    },
    {
      "cell_type": "code",
      "source": [
        "df[\"Element\"].unique()"
      ],
      "metadata": {
        "colab": {
          "base_uri": "https://localhost:8080/"
        },
        "id": "LwrwQzyyPVhf",
        "outputId": "e22653fe-5e4b-42da-8f38-d6fbe8e1d9ac"
      },
      "execution_count": null,
      "outputs": [
        {
          "output_type": "execute_result",
          "data": {
            "text/plain": [
              "array(['Export Quantity', 'Export Value', 'Import Quantity',\n",
              "       'Import Value'], dtype=object)"
            ]
          },
          "metadata": {},
          "execution_count": 12
        }
      ]
    },
    {
      "cell_type": "markdown",
      "source": [
        "Importaciones y exportaciones por cantidad de alimentos y por valor."
      ],
      "metadata": {
        "id": "Vb_-voJA4QHs"
      }
    },
    {
      "cell_type": "markdown",
      "source": [
        "**Columna Item**"
      ],
      "metadata": {
        "id": "Bc8nhEPged9H"
      }
    },
    {
      "cell_type": "code",
      "source": [
        "df[\"Item\"].unique()"
      ],
      "metadata": {
        "colab": {
          "base_uri": "https://localhost:8080/"
        },
        "id": "A2go8rKkeiDF",
        "outputId": "142c5180-7128-4f1a-87fa-93c97240d13f"
      },
      "execution_count": null,
      "outputs": [
        {
          "output_type": "execute_result",
          "data": {
            "text/plain": [
              "array(['Alfalfa meal and pellets', 'Almonds shelled',\n",
              "       'Almonds, with shell', 'Animals live nes',\n",
              "       'Animals, live, non-food', 'Anise, badian, fennel, coriander',\n",
              "       'Apples', 'Apricots', 'Apricots, dry', 'Areca nuts', 'Artichokes',\n",
              "       'Asparagus', 'Avocados', 'Bacon and ham', 'Bambara beans',\n",
              "       'Bananas', 'Barley', 'Beans, dry', 'Beans, green', 'Beehives',\n",
              "       'Beer of barley', 'Beeswax', 'Beet pulp',\n",
              "       'Beverages, distilled alcoholic', 'Beverages, fermented rice',\n",
              "       'Beverages, non alcoholic', 'Blueberries', 'Bran, maize',\n",
              "       'Bran, sorghum', 'Bran, wheat', 'Brazil nuts, shelled', 'Bread',\n",
              "       'Broad beans, horse beans, dry', 'Buckwheat', 'Buffaloes',\n",
              "       'Butter, cow milk', 'Buttermilk, curdled, acidified milk',\n",
              "       'Cabbages and other brassicas', 'Cake, copra', 'Cake, cottonseed',\n",
              "       'Cake, groundnuts', 'Cake, linseed', 'Cake, rapeseed',\n",
              "       'Cake, soybeans', 'Cake, sunflower', 'Camels', 'Canary seed',\n",
              "       'Carrots and turnips', 'Cashew nuts, shelled',\n",
              "       'Cashew nuts, with shell', 'Cassava dried', 'Cattle',\n",
              "       'Cauliflowers and broccoli', 'Cereal preparations nes',\n",
              "       'Cereals, breakfast', 'Cheese, processed',\n",
              "       'Cheese, whole cow milk', 'Cherries', 'Cherries, sour', 'Chestnut',\n",
              "       'Chick peas', 'Chickens', 'Chillies and peppers, dry',\n",
              "       'Chillies and peppers, green', 'Chocolate products nes',\n",
              "       'Cider etc', 'Cigarettes', 'Cigars, cheroots',\n",
              "       'Cinnamon (cannella)', 'Cloves', 'Cocoa, beans', 'Cocoa, butter',\n",
              "       'Cocoa, powder & cake', 'Coconuts', 'Coconuts, desiccated',\n",
              "       'Cocoons, unreelable & waste', 'Coffee, extracts', 'Coffee, green',\n",
              "       'Coffee, husks and skins', 'Coffee, roasted',\n",
              "       'Coffee, substitutes containing coffee', 'Coir', 'Copra',\n",
              "       'Cotton lint', 'Cotton linter', 'Cotton waste',\n",
              "       'Cotton, carded, combed', 'Cottonseed', 'Cream fresh',\n",
              "       'Crude materials', 'Cucumbers and gherkins', 'Currants', 'Dates',\n",
              "       'Ducks', 'Eggplants (aubergines)', 'Eggs, dried',\n",
              "       'Eggs, hen, in shell', 'Eggs, liquid',\n",
              "       'Eggs, other bird, in shell', 'Fat nes, prepared', 'Fat, cattle',\n",
              "       'Fat, liver prepared (foie gras)', 'Fatty acids',\n",
              "       'Fatty substance residues', 'Feed and meal, gluten',\n",
              "       'Feed supplements', 'Feed, compound nes', 'Feed, pulp of fruit',\n",
              "       'Feed, vegetable products nes', 'Fibre crops nes', 'Figs',\n",
              "       'Figs dried', 'Flax fibre and tow', 'Flour, cassava',\n",
              "       'Flour, cereals', 'Flour, maize', 'Flour, mixed grain',\n",
              "       'Flour, mustard', 'Flour, potatoes', 'Flour, pulses',\n",
              "       'Flour, rice', 'Flour, roots and tubers nes', 'Flour, wheat',\n",
              "       'Food prep nes', 'Food preparations, flour, malt extract',\n",
              "       'Food wastes', 'Forage products', 'Fructose and syrup, other',\n",
              "       'Fruit, cooked, homogenized preparations', 'Fruit, dried nes',\n",
              "       'Fruit, fresh nes', 'Fruit, prepared nes',\n",
              "       'Fruit, tropical fresh nes', 'Garlic', 'Ginger',\n",
              "       'Glucose and dextrose', 'Goats', 'Gooseberries',\n",
              "       'Grapefruit (inc. pomelos)', 'Grapes', 'Grease incl. lanolin wool',\n",
              "       'Groundnuts, prepared', 'Groundnuts, shelled', 'Hair, fine',\n",
              "       'Hazelnuts, shelled', 'Hazelnuts, with shell', 'Hides nes',\n",
              "       'Hides, cattle, wet salted', 'Honey, natural', 'Hops', 'Horses',\n",
              "       'Ice cream and edible ice', 'Infant food',\n",
              "       'Juice, apple, concentrated', 'Juice, apple, single strength',\n",
              "       'Juice, citrus, concentrated', 'Juice, citrus, single strength',\n",
              "       'Juice, fruit nes', 'Juice, grape', 'Juice, grapefruit',\n",
              "       'Juice, grapefruit, concentrated', 'Juice, lemon, single strength',\n",
              "       'Juice, orange, concentrated', 'Juice, orange, single strength',\n",
              "       'Juice, pineapple', 'Juice, pineapple, concentrated',\n",
              "       'Juice, tomato', 'Jute', 'Kiwi fruit', 'Kola nuts', 'Lactose',\n",
              "       'Lard', 'Leeks, other alliaceous vegetables', 'Lemons and limes',\n",
              "       'Lentils', 'Lettuce and chicory', 'Linseed', 'Macaroni', 'Maize',\n",
              "       'Maize, green', 'Malt', 'Mangoes, mangosteens, guavas',\n",
              "       'Maple sugar and syrups', 'Margarine, liquid', 'Margarine, short',\n",
              "       'Maté', 'Meal, meat', 'Meat nes', 'Meat, beef and veal sausages',\n",
              "       'Meat, beef, preparations', 'Meat, cattle',\n",
              "       'Meat, cattle, boneless (beef & veal)', 'Meat, chicken',\n",
              "       'Meat, chicken, canned', 'Meat, dried nes', 'Meat, duck',\n",
              "       'Meat, game', 'Meat, goat', 'Meat, goose and guinea fowl',\n",
              "       'Meat, pig', 'Meat, pig sausages', 'Meat, pig, preparations',\n",
              "       'Meat, pork', 'Meat, rabbit', 'Meat, sheep', 'Meat, turkey',\n",
              "       'Melons, other (inc.cantaloupes)',\n",
              "       'Milk, products of natural constituents nes', 'Milk, skimmed cow',\n",
              "       'Milk, skimmed dried', 'Milk, whole condensed',\n",
              "       'Milk, whole dried', 'Milk, whole evaporated',\n",
              "       'Milk, whole fresh cow', 'Millet', 'Mixes and doughs', 'Molasses',\n",
              "       'Mules', 'Mushrooms and truffles', 'Mushrooms, canned',\n",
              "       'Mustard seed', 'Nutmeg, mace and cardamoms', 'Nuts nes',\n",
              "       'Nuts, prepared (exc. groundnuts)', 'Oats', 'Oats rolled',\n",
              "       'Offals, edible, cattle', 'Offals, liver chicken',\n",
              "       'Offals, pigs, edible', 'Offals, sheep,edible', 'Oil, boiled etc',\n",
              "       'Oil, castor beans', 'Oil, citronella', 'Oil, coconut (copra)',\n",
              "       'Oil, cottonseed', 'Oil, essential nes', 'Oil, groundnut',\n",
              "       'Oil, linseed', 'Oil, maize', 'Oil, olive residues',\n",
              "       'Oil, olive, virgin', 'Oil, palm', 'Oil, palm kernel',\n",
              "       'Oil, rapeseed', 'Oil, sesame', 'Oil, soybean', 'Oil, sunflower',\n",
              "       'Oil, vegetable origin nes', 'Oils, fats of animal nes',\n",
              "       'Oilseeds nes', 'Olives', 'Olives preserved', 'Onions, dry',\n",
              "       'Onions, shallots, green', 'Oranges', 'Papayas', 'Pastry',\n",
              "       'Peaches and nectarines', 'Peanut butter', 'Pears', 'Peas, dry',\n",
              "       'Peas, green', 'Pepper (piper spp.)', 'Peppermint', 'Persimmons',\n",
              "       'Pet food', 'Pigs', 'Pineapples', 'Pineapples canned',\n",
              "       'Pistachios', 'Plantains and others', 'Plums and sloes',\n",
              "       'Plums dried (prunes)', 'Poppy seed', 'Potatoes',\n",
              "       'Potatoes, frozen', 'Pumpkins, squash and gourds',\n",
              "       'Pyrethrum, dried', 'Pyrethrum, extraction', 'Quinces', 'Quinoa',\n",
              "       'Raisins', 'Rapeseed', 'Rice, broken', 'Rice, husked',\n",
              "       'Rice, milled', 'Rice, milled/husked', 'Rice, paddy',\n",
              "       'Rice, paddy (rice milled equivalent)', 'Rodents, other',\n",
              "       'Roots and tubers nes', 'Rubber natural dry', 'Rubber, natural',\n",
              "       'Rye', 'Sesame seed', 'Sheep', 'Silk, raw',\n",
              "       'Silk-worm cocoons, reelable', 'Skins, calve, wet salted',\n",
              "       'Skins, sheep, dry salted', 'Skins, sheep, with wool', 'Sorghum',\n",
              "       'Soya sauce', 'Soybeans', 'Spices nes', 'Spinach', 'Straw husks',\n",
              "       'Strawberries', 'Sugar beet', 'Sugar confectionery',\n",
              "       'Sugar crops nes', 'Sugar nes', 'Sugar Raw Centrifugal',\n",
              "       'Sugar refined', 'Sunflower seed', 'Sweet corn frozen',\n",
              "       'Sweet corn prep or preserved', 'Sweet potatoes', 'Tallow',\n",
              "       'Tangerines, mandarins, clementines, satsumas', 'Tea',\n",
              "       'Tea, mate extracts', 'Tobacco products nes',\n",
              "       'Tobacco, unmanufactured', 'Tomatoes', 'Tomatoes, paste',\n",
              "       'Tomatoes, peeled', 'Turkeys', 'Vanilla', 'Vegetables in vinegar',\n",
              "       'Vegetables, dehydrated', 'Vegetables, fresh nes',\n",
              "       'Vegetables, fresh or dried products nes', 'Vegetables, frozen',\n",
              "       'Vegetables, homogenized preparations',\n",
              "       'Vegetables, preserved nes', 'Vegetables, preserved, frozen',\n",
              "       'Vegetables, temporarily preserved', 'Vermouths & similar',\n",
              "       'Wafers', 'Walnuts, shelled', 'Walnuts, with shell', 'Watermelons',\n",
              "       'Waters,ice etc', 'Waxes vegetable', 'Wheat', 'Whey, condensed',\n",
              "       'Whey, dry', 'Wine', 'Wool, degreased', 'Wool, greasy',\n",
              "       'Wool, hair waste', 'Yoghurt', 'Yoghurt, concentrated or not',\n",
              "       'Agricultural Products', 'Cereals and Preparations', 'Cereals',\n",
              "       'Food Excluding Fish', 'Cereal preparations',\n",
              "       'Total Merchandise Trade', 'Fats and Oils (excluding Butter)',\n",
              "       'Animal Fats and Oils (excl. Butter)', 'Vegetable Oil and Fat',\n",
              "       'Meat and Meat Preparations', 'Bovine Meat', 'Poultry Meat',\n",
              "       'Pigmeat', 'Other Meat', 'Sugar and Honey', 'Fruit and Vegetables',\n",
              "       'Fruit', 'Vegetables', 'Pulses', 'Roots and Tubers', 'Nuts',\n",
              "       'Sugar Crops Primary', 'Dairy Products and Eggs', 'Dairy Products',\n",
              "       'Eggs', 'Beverages', 'Alcoholic Beverages',\n",
              "       'Non-alcoholic Beverages', 'Other food', 'Live Animals',\n",
              "       'Oilseeds', 'Other food nes', 'Non-food',\n",
              "       'Fodder and Feeding Stuff', 'Non-edible Crude Materials',\n",
              "       'Natural Rubber', 'Textile Fibres', 'Hides and skins',\n",
              "       'Crude Materials nes', 'Non-edible Fats and Oils', 'Tobacco',\n",
              "       'Asses', 'Barley, pearled', 'Cake, maize', 'Cake, palm kernel',\n",
              "       'Cake, rice bran', 'Cocoa, paste', 'Cranberries',\n",
              "       'Dregs from brewing, distillation', 'Fat, pigs', 'Flax fibre raw',\n",
              "       'Flax tow waste', 'Germ, maize', 'Grain, mixed',\n",
              "       'Juice, lemon, concentrated', 'Karite nuts (sheanuts)',\n",
              "       'Meat, horse', 'Offals, liver duck', 'Oil, safflower',\n",
              "       'Skins, goat, wet salted', 'Skins, sheep, wet salted',\n",
              "       'Starch, cassava', 'Triticale', 'Cake, sesame seed',\n",
              "       'Camelids, other', 'Feed minerals', 'Rabbits and hares', 'Bulgur',\n",
              "       'Cake, mustard', 'Cassava', 'Cheese, sheep milk', 'Fat, camels',\n",
              "       'Fonio', 'Manila fibre (abaca)', 'Offals, liver geese',\n",
              "       'Oil, rice bran', 'Potato offals', 'Soya paste', 'Vetches',\n",
              "       'Offals, edible, goats', 'Hay (unspecified)',\n",
              "       'Hides, horse, dry salted', 'Butter of karite nuts',\n",
              "       'Milk, whole fresh sheep', 'Forage and silage, grasses nes',\n",
              "       'Hay (clover, lucerne,etc)', 'Bran, millet',\n",
              "       'Hides, buffalo, dry salted', 'Meat, ass', 'Beer of sorghum',\n",
              "       'Bran, buckwheat', 'Bran, fonio', 'Cake, hempseed', 'Cake, kapok',\n",
              "       'Cake, safflower', 'Cane tops', 'Cashewapple', 'Flour, fonio',\n",
              "       'Forage and silage, clover', 'Forage and silage, legumes',\n",
              "       'Ghee, buffalo milk', 'Hair, goat, coarse',\n",
              "       'Hides, buffalo, wet salted', 'Hides, camel nes',\n",
              "       'Hides, camel, wet salted', 'Juice, plum, concentrated',\n",
              "       'Juice, plum, single strength', 'Kapok fibre',\n",
              "       'Kapokseed in shell', 'Kapokseed shelled', 'Milk, reconstituted',\n",
              "       'Oil, kapok', 'Oil, poppy', 'Soya curd', 'Sugar non-centrifugal',\n",
              "       'Turnips for fodder', 'Vegetable tallow', 'Vitamins',\n",
              "       'Hides, cattle, fresh', 'Skins, sheep, fresh',\n",
              "       'Hides and skins nes, fresh', 'Vegetables, canned nes'],\n",
              "      dtype=object)"
            ]
          },
          "metadata": {},
          "execution_count": 13
        }
      ]
    },
    {
      "cell_type": "markdown",
      "source": [
        "Sabemos, segun la web de FAOSTAT que hay códigos que son agrupaciones de alimentos. Y también según la web, los códigos de alimentos y agrupaciones están separados.\n",
        "\n",
        "Lo comprobamos:"
      ],
      "metadata": {
        "id": "Sxfio9ZZrfNf"
      }
    },
    {
      "cell_type": "code",
      "source": [
        "df[\"Item Code\"].hist()"
      ],
      "metadata": {
        "colab": {
          "base_uri": "https://localhost:8080/",
          "height": 293
        },
        "id": "qQS8GR3IuRqJ",
        "outputId": "9e65c84f-1c8b-42ca-cdb2-4069df72231a"
      },
      "execution_count": null,
      "outputs": [
        {
          "output_type": "execute_result",
          "data": {
            "text/plain": [
              "<matplotlib.axes._subplots.AxesSubplot at 0x7f84b82bf310>"
            ]
          },
          "metadata": {},
          "execution_count": 14
        },
        {
          "output_type": "display_data",
          "data": {
            "image/png": "[encoded data removed]",
            "text/plain": [
              "<Figure size 432x288 with 1 Axes>"
            ]
          },
          "metadata": {
            "needs_background": "light"
          }
        }
      ]
    },
    {
      "cell_type": "markdown",
      "source": [
        "Además, hay un Item que los agrupa a todos, que és el 10. \n",
        "\n",
        "Vemos este Item para el ejemplo de España.\n"
      ],
      "metadata": {
        "id": "UJQkNz7PwBJC"
      }
    },
    {
      "cell_type": "code",
      "source": [
        "df[(df[\"Area\"]==\"Spain\") & (df[\"Item Code\"]==10) & (df[\"Year\"]==df[\"Year\"].max())].head()"
      ],
      "metadata": {
        "colab": {
          "base_uri": "https://localhost:8080/",
          "height": 112
        },
        "id": "5vJD9a930pmb",
        "outputId": "abd24279-c9d5-43bb-87ef-04d6a122a7b8"
      },
      "execution_count": null,
      "outputs": [
        {
          "output_type": "execute_result",
          "data": {
            "text/html": [
              "\n",
              "  <div id=\"df-45bf08cf-79e0-4e88-8ec0-862ce087e1f1\">\n",
              "    <div class=\"colab-df-container\">\n",
              "      <div>\n",
              "<style scoped>\n",
              "    .dataframe tbody tr th:only-of-type {\n",
              "        vertical-align: middle;\n",
              "    }\n",
              "\n",
              "    .dataframe tbody tr th {\n",
              "        vertical-align: top;\n",
              "    }\n",
              "\n",
              "    .dataframe thead th {\n",
              "        text-align: right;\n",
              "    }\n",
              "</style>\n",
              "<table border=\"1\" class=\"dataframe\">\n",
              "  <thead>\n",
              "    <tr style=\"text-align: right;\">\n",
              "      <th></th>\n",
              "      <th>Area Code</th>\n",
              "      <th>Area</th>\n",
              "      <th>Item Code</th>\n",
              "      <th>Item</th>\n",
              "      <th>Element Code</th>\n",
              "      <th>Element</th>\n",
              "      <th>Year Code</th>\n",
              "      <th>Year</th>\n",
              "      <th>Unit</th>\n",
              "      <th>Value</th>\n",
              "      <th>Flag</th>\n",
              "    </tr>\n",
              "  </thead>\n",
              "  <tbody>\n",
              "    <tr>\n",
              "      <th>10572313</th>\n",
              "      <td>203</td>\n",
              "      <td>Spain</td>\n",
              "      <td>10</td>\n",
              "      <td>Total Merchandise Trade</td>\n",
              "      <td>5622</td>\n",
              "      <td>Import Value</td>\n",
              "      <td>2020</td>\n",
              "      <td>2020</td>\n",
              "      <td>1000 US$</td>\n",
              "      <td>324993909.0</td>\n",
              "      <td>*</td>\n",
              "    </tr>\n",
              "    <tr>\n",
              "      <th>10572373</th>\n",
              "      <td>203</td>\n",
              "      <td>Spain</td>\n",
              "      <td>10</td>\n",
              "      <td>Total Merchandise Trade</td>\n",
              "      <td>5922</td>\n",
              "      <td>Export Value</td>\n",
              "      <td>2020</td>\n",
              "      <td>2020</td>\n",
              "      <td>1000 US$</td>\n",
              "      <td>307015020.0</td>\n",
              "      <td>*</td>\n",
              "    </tr>\n",
              "  </tbody>\n",
              "</table>\n",
              "</div>\n",
              "      <button class=\"colab-df-convert\" onclick=\"convertToInteractive('df-45bf08cf-79e0-4e88-8ec0-862ce087e1f1')\"\n",
              "              title=\"Convert this dataframe to an interactive table.\"\n",
              "              style=\"display:none;\">\n",
              "        \n",
              "  <svg xmlns=\"http://www.w3.org/2000/svg\" height=\"24px\"viewBox=\"0 0 24 24\"\n",
              "       width=\"24px\">\n",
              "    <path d=\"M0 0h24v24H0V0z\" fill=\"none\"/>\n",
              "    <path d=\"M18.56 5.44l.94 2.06.94-2.06 2.06-.94-2.06-.94-.94-2.06-.94 2.06-2.06.94zm-11 1L8.5 8.5l.94-2.06 2.06-.94-2.06-.94L8.5 2.5l-.94 2.06-2.06.94zm10 10l.94 2.06.94-2.06 2.06-.94-2.06-.94-.94-2.06-.94 2.06-2.06.94z\"/><path d=\"M17.41 7.96l-1.37-1.37c-.4-.4-.92-.59-1.43-.59-.52 0-1.04.2-1.43.59L10.3 9.45l-7.72 7.72c-.78.78-.78 2.05 0 2.83L4 21.41c.39.39.9.59 1.41.59.51 0 1.02-.2 1.41-.59l7.78-7.78 2.81-2.81c.8-.78.8-2.07 0-2.86zM5.41 20L4 18.59l7.72-7.72 1.47 1.35L5.41 20z\"/>\n",
              "  </svg>\n",
              "      </button>\n",
              "      \n",
              "  <style>\n",
              "    .colab-df-container {\n",
              "      display:flex;\n",
              "      flex-wrap:wrap;\n",
              "      gap: 12px;\n",
              "    }\n",
              "\n",
              "    .colab-df-convert {\n",
              "      background-color: #E8F0FE;\n",
              "      border: none;\n",
              "      border-radius: 50%;\n",
              "      cursor: pointer;\n",
              "      display: none;\n",
              "      fill: #1967D2;\n",
              "      height: 32px;\n",
              "      padding: 0 0 0 0;\n",
              "      width: 32px;\n",
              "    }\n",
              "\n",
              "    .colab-df-convert:hover {\n",
              "      background-color: #E2EBFA;\n",
              "      box-shadow: 0px 1px 2px rgba(60, 64, 67, 0.3), 0px 1px 3px 1px rgba(60, 64, 67, 0.15);\n",
              "      fill: #174EA6;\n",
              "    }\n",
              "\n",
              "    [theme=dark] .colab-df-convert {\n",
              "      background-color: #3B4455;\n",
              "      fill: #D2E3FC;\n",
              "    }\n",
              "\n",
              "    [theme=dark] .colab-df-convert:hover {\n",
              "      background-color: #434B5C;\n",
              "      box-shadow: 0px 1px 3px 1px rgba(0, 0, 0, 0.15);\n",
              "      filter: drop-shadow(0px 1px 2px rgba(0, 0, 0, 0.3));\n",
              "      fill: #FFFFFF;\n",
              "    }\n",
              "  </style>\n",
              "\n",
              "      <script>\n",
              "        const buttonEl =\n",
              "          document.querySelector('#df-45bf08cf-79e0-4e88-8ec0-862ce087e1f1 button.colab-df-convert');\n",
              "        buttonEl.style.display =\n",
              "          google.colab.kernel.accessAllowed ? 'block' : 'none';\n",
              "\n",
              "        async function convertToInteractive(key) {\n",
              "          const element = document.querySelector('#df-45bf08cf-79e0-4e88-8ec0-862ce087e1f1');\n",
              "          const dataTable =\n",
              "            await google.colab.kernel.invokeFunction('convertToInteractive',\n",
              "                                                     [key], {});\n",
              "          if (!dataTable) return;\n",
              "\n",
              "          const docLinkHtml = 'Like what you see? Visit the ' +\n",
              "            '<a target=\"_blank\" href=https://colab.research.google.com/notebooks/data_table.ipynb>data table notebook</a>'\n",
              "            + ' to learn more about interactive tables.';\n",
              "          element.innerHTML = '';\n",
              "          dataTable['output_type'] = 'display_data';\n",
              "          await google.colab.output.renderOutput(dataTable, element);\n",
              "          const docLink = document.createElement('div');\n",
              "          docLink.innerHTML = docLinkHtml;\n",
              "          element.appendChild(docLink);\n",
              "        }\n",
              "      </script>\n",
              "    </div>\n",
              "  </div>\n",
              "  "
            ],
            "text/plain": [
              "          Area Code   Area  Item Code  ...      Unit        Value Flag\n",
              "10572313        203  Spain         10  ...  1000 US$  324993909.0    *\n",
              "10572373        203  Spain         10  ...  1000 US$  307015020.0    *\n",
              "\n",
              "[2 rows x 11 columns]"
            ]
          },
          "metadata": {},
          "execution_count": 15
        }
      ]
    },
    {
      "cell_type": "markdown",
      "source": [
        "Número total de Items, alimentos y agrupaciones."
      ],
      "metadata": {
        "id": "L030JtxHQZ2H"
      }
    },
    {
      "cell_type": "code",
      "source": [
        "df[\"Item Code\"].nunique()"
      ],
      "metadata": {
        "colab": {
          "base_uri": "https://localhost:8080/"
        },
        "id": "3OJ4OU9xxdC_",
        "outputId": "8ca0e9bb-66d9-4540-e3fb-53c0a2799ea1"
      },
      "execution_count": null,
      "outputs": [
        {
          "output_type": "execute_result",
          "data": {
            "text/plain": [
              "476"
            ]
          },
          "metadata": {},
          "execution_count": 16
        }
      ]
    },
    {
      "cell_type": "code",
      "source": [
        "print(\"Tenemos un total de\", df[\"Item Code\"].nunique(), \"Items, de los cuales, \", df[df[\"Item Code\"].between(11,1500)==False][\"Item Code\"].nunique() , \"son agrupaciones.\")"
      ],
      "metadata": {
        "colab": {
          "base_uri": "https://localhost:8080/"
        },
        "id": "2HOahKUmwtu6",
        "outputId": "8a495b0f-c78e-4451-a29d-0cd2536d2b60"
      },
      "execution_count": null,
      "outputs": [
        {
          "output_type": "stream",
          "name": "stdout",
          "text": [
            "Tenemos un total de 476 Items, de los cuales,  41 son agrupaciones.\n"
          ]
        }
      ]
    },
    {
      "cell_type": "markdown",
      "source": [
        "Vemos un ejemplo de las agrupaciones."
      ],
      "metadata": {
        "id": "toyibXGwzZXD"
      }
    },
    {
      "cell_type": "code",
      "source": [
        "df[df[\"Item Code\"]>1500].Item.unique()"
      ],
      "metadata": {
        "colab": {
          "base_uri": "https://localhost:8080/"
        },
        "id": "CPZYKn5HzcJZ",
        "outputId": "b18518e7-d453-4b97-9581-dac4c7de5241"
      },
      "execution_count": null,
      "outputs": [
        {
          "output_type": "execute_result",
          "data": {
            "text/plain": [
              "array(['Agricultural Products', 'Cereals and Preparations', 'Cereals',\n",
              "       'Food Excluding Fish', 'Cereal preparations',\n",
              "       'Fats and Oils (excluding Butter)',\n",
              "       'Animal Fats and Oils (excl. Butter)', 'Vegetable Oil and Fat',\n",
              "       'Meat and Meat Preparations', 'Bovine Meat', 'Poultry Meat',\n",
              "       'Pigmeat', 'Other Meat', 'Sugar and Honey', 'Fruit and Vegetables',\n",
              "       'Fruit', 'Vegetables', 'Pulses', 'Roots and Tubers', 'Nuts',\n",
              "       'Sugar Crops Primary', 'Dairy Products and Eggs', 'Dairy Products',\n",
              "       'Eggs', 'Beverages', 'Alcoholic Beverages',\n",
              "       'Non-alcoholic Beverages', 'Other food', 'Live Animals',\n",
              "       'Oilseeds', 'Other food nes', 'Non-food',\n",
              "       'Fodder and Feeding Stuff', 'Non-edible Crude Materials',\n",
              "       'Natural Rubber', 'Textile Fibres', 'Hides and skins',\n",
              "       'Crude Materials nes', 'Non-edible Fats and Oils', 'Tobacco'],\n",
              "      dtype=object)"
            ]
          },
          "metadata": {},
          "execution_count": 18
        }
      ]
    },
    {
      "cell_type": "markdown",
      "source": [
        "### Resumen\n",
        "Vemos que la base de datos tiene información por pais y alimento, de la cantidad y valor exportado i importado.\n",
        "- A parte de los países, hay varias agrupaciones de países como continentes u otras agrupaciones.\n",
        "- Los alimentos también están agrupados en deiversas categorías, que se solapan entre ellas.\n",
        "- Se analizarán cuales son los alimentos más exportados/importados y también los países que más alimentos exportan e importan.\n",
        "- También se mostrará la evolución de las importaciones de alimentos en general, i por países más importadores.\n"
      ],
      "metadata": {
        "id": "Jv2KOaewQoiE"
      }
    },
    {
      "cell_type": "markdown",
      "source": [
        "### Miramos si hay nulos o duplicados"
      ],
      "metadata": {
        "id": "nplS4WbDEaf0"
      }
    },
    {
      "cell_type": "code",
      "source": [
        "df.isnull().sum()"
      ],
      "metadata": {
        "colab": {
          "base_uri": "https://localhost:8080/"
        },
        "id": "O8Y839XTEhWS",
        "outputId": "6b064c8b-ff61-438f-cccf-e189b39d8e0e"
      },
      "execution_count": null,
      "outputs": [
        {
          "output_type": "execute_result",
          "data": {
            "text/plain": [
              "Area Code             0\n",
              "Area                  0\n",
              "Item Code             0\n",
              "Item                  0\n",
              "Element Code          0\n",
              "Element               0\n",
              "Year Code             0\n",
              "Year                  0\n",
              "Unit                  0\n",
              "Value           2947019\n",
              "Flag            6924546\n",
              "dtype: int64"
            ]
          },
          "metadata": {},
          "execution_count": 19
        }
      ]
    },
    {
      "cell_type": "markdown",
      "source": [
        "De los 17 millones y pico de registros, tenemos unos casi 3 millones de nulos el la columna \"Value\", que es donde hay la información de esta base.\n",
        "Intentamos analizar de qué se tratan estos nulos.\n",
        "\n",
        "En el \"Flag\" también hay nulos, pero no es una columna que a priori vayamo a usar."
      ],
      "metadata": {
        "id": "becDkjpxEsKS"
      }
    },
    {
      "cell_type": "code",
      "source": [
        "df[ df[\"Value\"].isnull()].head()"
      ],
      "metadata": {
        "colab": {
          "base_uri": "https://localhost:8080/"
        },
        "id": "XC0JnmM7E-_W",
        "outputId": "5ec1497b-a613-4364-edf6-91c1da6d34b5"
      },
      "execution_count": null,
      "outputs": [
        {
          "output_type": "execute_result",
          "data": {
            "text/html": [
              "\n",
              "  <div id=\"df-42dde990-7bfc-4b4e-b7a8-ef725a4a14da\">\n",
              "    <div class=\"colab-df-container\">\n",
              "      <div>\n",
              "<style scoped>\n",
              "    .dataframe tbody tr th:only-of-type {\n",
              "        vertical-align: middle;\n",
              "    }\n",
              "\n",
              "    .dataframe tbody tr th {\n",
              "        vertical-align: top;\n",
              "    }\n",
              "\n",
              "    .dataframe thead th {\n",
              "        text-align: right;\n",
              "    }\n",
              "</style>\n",
              "<table border=\"1\" class=\"dataframe\">\n",
              "  <thead>\n",
              "    <tr style=\"text-align: right;\">\n",
              "      <th></th>\n",
              "      <th>Area Code</th>\n",
              "      <th>Area</th>\n",
              "      <th>Item Code</th>\n",
              "      <th>Item</th>\n",
              "      <th>Element Code</th>\n",
              "      <th>Element</th>\n",
              "      <th>Year Code</th>\n",
              "      <th>Year</th>\n",
              "      <th>Unit</th>\n",
              "      <th>Value</th>\n",
              "      <th>Flag</th>\n",
              "    </tr>\n",
              "  </thead>\n",
              "  <tbody>\n",
              "    <tr>\n",
              "      <th>141</th>\n",
              "      <td>2</td>\n",
              "      <td>Afghanistan</td>\n",
              "      <td>221</td>\n",
              "      <td>Almonds, with shell</td>\n",
              "      <td>5610</td>\n",
              "      <td>Import Quantity</td>\n",
              "      <td>2017</td>\n",
              "      <td>2017</td>\n",
              "      <td>tonnes</td>\n",
              "      <td>NaN</td>\n",
              "      <td>NaN</td>\n",
              "    </tr>\n",
              "    <tr>\n",
              "      <th>148</th>\n",
              "      <td>2</td>\n",
              "      <td>Afghanistan</td>\n",
              "      <td>221</td>\n",
              "      <td>Almonds, with shell</td>\n",
              "      <td>5622</td>\n",
              "      <td>Import Value</td>\n",
              "      <td>2017</td>\n",
              "      <td>2017</td>\n",
              "      <td>1000 US$</td>\n",
              "      <td>NaN</td>\n",
              "      <td>NaN</td>\n",
              "    </tr>\n",
              "    <tr>\n",
              "      <th>275</th>\n",
              "      <td>2</td>\n",
              "      <td>Afghanistan</td>\n",
              "      <td>1171</td>\n",
              "      <td>Animals live nes</td>\n",
              "      <td>5622</td>\n",
              "      <td>Import Value</td>\n",
              "      <td>2017</td>\n",
              "      <td>2017</td>\n",
              "      <td>1000 US$</td>\n",
              "      <td>NaN</td>\n",
              "      <td>NaN</td>\n",
              "    </tr>\n",
              "    <tr>\n",
              "      <th>280</th>\n",
              "      <td>2</td>\n",
              "      <td>Afghanistan</td>\n",
              "      <td>1171</td>\n",
              "      <td>Animals live nes</td>\n",
              "      <td>5922</td>\n",
              "      <td>Export Value</td>\n",
              "      <td>2017</td>\n",
              "      <td>2017</td>\n",
              "      <td>1000 US$</td>\n",
              "      <td>NaN</td>\n",
              "      <td>NaN</td>\n",
              "    </tr>\n",
              "    <tr>\n",
              "      <th>287</th>\n",
              "      <td>2</td>\n",
              "      <td>Afghanistan</td>\n",
              "      <td>1169</td>\n",
              "      <td>Animals, live, non-food</td>\n",
              "      <td>5622</td>\n",
              "      <td>Import Value</td>\n",
              "      <td>2017</td>\n",
              "      <td>2017</td>\n",
              "      <td>1000 US$</td>\n",
              "      <td>NaN</td>\n",
              "      <td>NaN</td>\n",
              "    </tr>\n",
              "  </tbody>\n",
              "</table>\n",
              "</div>\n",
              "      <button class=\"colab-df-convert\" onclick=\"convertToInteractive('df-42dde990-7bfc-4b4e-b7a8-ef725a4a14da')\"\n",
              "              title=\"Convert this dataframe to an interactive table.\"\n",
              "              style=\"display:none;\">\n",
              "        \n",
              "  <svg xmlns=\"http://www.w3.org/2000/svg\" height=\"24px\"viewBox=\"0 0 24 24\"\n",
              "       width=\"24px\">\n",
              "    <path d=\"M0 0h24v24H0V0z\" fill=\"none\"/>\n",
              "    <path d=\"M18.56 5.44l.94 2.06.94-2.06 2.06-.94-2.06-.94-.94-2.06-.94 2.06-2.06.94zm-11 1L8.5 8.5l.94-2.06 2.06-.94-2.06-.94L8.5 2.5l-.94 2.06-2.06.94zm10 10l.94 2.06.94-2.06 2.06-.94-2.06-.94-.94-2.06-.94 2.06-2.06.94z\"/><path d=\"M17.41 7.96l-1.37-1.37c-.4-.4-.92-.59-1.43-.59-.52 0-1.04.2-1.43.59L10.3 9.45l-7.72 7.72c-.78.78-.78 2.05 0 2.83L4 21.41c.39.39.9.59 1.41.59.51 0 1.02-.2 1.41-.59l7.78-7.78 2.81-2.81c.8-.78.8-2.07 0-2.86zM5.41 20L4 18.59l7.72-7.72 1.47 1.35L5.41 20z\"/>\n",
              "  </svg>\n",
              "      </button>\n",
              "      \n",
              "  <style>\n",
              "    .colab-df-container {\n",
              "      display:flex;\n",
              "      flex-wrap:wrap;\n",
              "      gap: 12px;\n",
              "    }\n",
              "\n",
              "    .colab-df-convert {\n",
              "      background-color: #E8F0FE;\n",
              "      border: none;\n",
              "      border-radius: 50%;\n",
              "      cursor: pointer;\n",
              "      display: none;\n",
              "      fill: #1967D2;\n",
              "      height: 32px;\n",
              "      padding: 0 0 0 0;\n",
              "      width: 32px;\n",
              "    }\n",
              "\n",
              "    .colab-df-convert:hover {\n",
              "      background-color: #E2EBFA;\n",
              "      box-shadow: 0px 1px 2px rgba(60, 64, 67, 0.3), 0px 1px 3px 1px rgba(60, 64, 67, 0.15);\n",
              "      fill: #174EA6;\n",
              "    }\n",
              "\n",
              "    [theme=dark] .colab-df-convert {\n",
              "      background-color: #3B4455;\n",
              "      fill: #D2E3FC;\n",
              "    }\n",
              "\n",
              "    [theme=dark] .colab-df-convert:hover {\n",
              "      background-color: #434B5C;\n",
              "      box-shadow: 0px 1px 3px 1px rgba(0, 0, 0, 0.15);\n",
              "      filter: drop-shadow(0px 1px 2px rgba(0, 0, 0, 0.3));\n",
              "      fill: #FFFFFF;\n",
              "    }\n",
              "  </style>\n",
              "\n",
              "      <script>\n",
              "        const buttonEl =\n",
              "          document.querySelector('#df-42dde990-7bfc-4b4e-b7a8-ef725a4a14da button.colab-df-convert');\n",
              "        buttonEl.style.display =\n",
              "          google.colab.kernel.accessAllowed ? 'block' : 'none';\n",
              "\n",
              "        async function convertToInteractive(key) {\n",
              "          const element = document.querySelector('#df-42dde990-7bfc-4b4e-b7a8-ef725a4a14da');\n",
              "          const dataTable =\n",
              "            await google.colab.kernel.invokeFunction('convertToInteractive',\n",
              "                                                     [key], {});\n",
              "          if (!dataTable) return;\n",
              "\n",
              "          const docLinkHtml = 'Like what you see? Visit the ' +\n",
              "            '<a target=\"_blank\" href=https://colab.research.google.com/notebooks/data_table.ipynb>data table notebook</a>'\n",
              "            + ' to learn more about interactive tables.';\n",
              "          element.innerHTML = '';\n",
              "          dataTable['output_type'] = 'display_data';\n",
              "          await google.colab.output.renderOutput(dataTable, element);\n",
              "          const docLink = document.createElement('div');\n",
              "          docLink.innerHTML = docLinkHtml;\n",
              "          element.appendChild(docLink);\n",
              "        }\n",
              "      </script>\n",
              "    </div>\n",
              "  </div>\n",
              "  "
            ],
            "text/plain": [
              "     Area Code         Area  Item Code  ...      Unit  Value Flag\n",
              "141          2  Afghanistan        221  ...    tonnes    NaN  NaN\n",
              "148          2  Afghanistan        221  ...  1000 US$    NaN  NaN\n",
              "275          2  Afghanistan       1171  ...  1000 US$    NaN  NaN\n",
              "280          2  Afghanistan       1171  ...  1000 US$    NaN  NaN\n",
              "287          2  Afghanistan       1169  ...  1000 US$    NaN  NaN\n",
              "\n",
              "[5 rows x 11 columns]"
            ]
          },
          "metadata": {},
          "execution_count": 20
        }
      ]
    },
    {
      "cell_type": "markdown",
      "source": [
        "Miramos los nulos por países."
      ],
      "metadata": {
        "id": "iLrs9tBPFi02"
      }
    },
    {
      "cell_type": "markdown",
      "source": [
        "Países con menos nulos"
      ],
      "metadata": {
        "id": "qPZr_7ft4hfi"
      }
    },
    {
      "cell_type": "code",
      "source": [
        "df.groupby([\"Area Code\", \"Area\"])[\"Value\"].apply(lambda x: x.isnull().sum()).sort_values().head(40)"
      ],
      "metadata": {
        "colab": {
          "base_uri": "https://localhost:8080/"
        },
        "id": "BiD8MInGINl1",
        "outputId": "5c3b672e-e424-4cb8-b02d-fc24a803bc84"
      },
      "execution_count": null,
      "outputs": [
        {
          "output_type": "execute_result",
          "data": {
            "text/plain": [
              "Area Code  Area                                                           \n",
              "261        European Union (12) (excluding intra-trade)                          0\n",
              "266        European Union (15) (excluding intra-trade)                          0\n",
              "268        European Union (25) (excluding intra-trade)                          0\n",
              "57070      European Union (27) (excluding intra-trade)                          0\n",
              "269        European Union (27) (excluding Croatia) (excluding intra-trade)      0\n",
              "54040      Western Europe (excluding intra-trade)                               0\n",
              "54020      Northern Europe (excluding intra-trade)                              0\n",
              "57060      European Union (28) (excluding intra-trade)                          6\n",
              "55040      Polynesia (excluding intra-trade)                                   13\n",
              "55010      Australia and New Zealand (excluding intra-trade)                   18\n",
              "54030      Southern Europe (excluding intra-trade)                             26\n",
              "55000      Oceania (excluding intra-trade)                                     28\n",
              "54000      Europe (excluding intra-trade)                                      31\n",
              "51040      Southern Africa (excluding intra-trade)                             49\n",
              "52060      Caribbean (excluding intra-trade)                                   54\n",
              "277        South Sudan                                                         59\n",
              "52030      Northern America (excluding intra-trade)                            62\n",
              "54010      Eastern Europe (excluding intra-trade)                              66\n",
              "58170      Net Food Importing Developing Countries (excluding intra-trade)     68\n",
              "58030      Small Island Developing States (excluding intra-trade)              69\n",
              "51000      Africa (excluding intra-trade)                                      82\n",
              "58150      Low Income Food Deficit Countries (excluding intra-trade)           84\n",
              "55020      Melanesia (excluding intra-trade)                                   90\n",
              "52000      Americas (excluding intra-trade)                                    91\n",
              "53030      Southern Asia (excluding intra-trade)                               99\n",
              "53000      Asia (excluding intra-trade)                                       103\n",
              "53040      South-Eastern Asia (excluding intra-trade)                         108\n",
              "148        Nauru                                                              128\n",
              "58010      Least Developed Countries (excluding intra-trade)                  173\n",
              "51010      Eastern Africa (excluding intra-trade)                             181\n",
              "248        Yugoslav SFR                                                       186\n",
              "160        Niue                                                               205\n",
              "58020      Land Locked Developing Countries (excluding intra-trade)           210\n",
              "61         Equatorial Guinea                                                  221\n",
              "53050      Western Asia (excluding intra-trade)                               223\n",
              "52070      South America (excluding intra-trade)                              226\n",
              "55030      Micronesia (excluding intra-trade)                                 230\n",
              "52040      Central America (excluding intra-trade)                            234\n",
              "51050      Western Africa (excluding intra-trade)                             249\n",
              "53010      Central Asia (excluding intra-trade)                               271\n",
              "Name: Value, dtype: int64"
            ]
          },
          "metadata": {},
          "execution_count": 21
        }
      ]
    },
    {
      "cell_type": "markdown",
      "source": [
        "La mayoría com pocos nulos son agrupaciones. Tiene sentido. Se podría analizar la evolución de los nulos en el tiempo. Hay quizás años en los que no hay valores? \n"
      ],
      "metadata": {
        "id": "wDNwu2xxLRm4"
      }
    },
    {
      "cell_type": "markdown",
      "source": [
        "Países con más nulos"
      ],
      "metadata": {
        "id": "zIohcenz42_6"
      }
    },
    {
      "cell_type": "code",
      "source": [
        "df.groupby([\"Area Code\", \"Area\"])[\"Value\"].apply(lambda x: x.isnull().sum()).sort_values().tail(20)"
      ],
      "metadata": {
        "colab": {
          "base_uri": "https://localhost:8080/"
        },
        "id": "fARPt6crIx9L",
        "outputId": "d2456ed7-4215-449a-e038-01dc430b2279"
      },
      "execution_count": null,
      "outputs": [
        {
          "output_type": "execute_result",
          "data": {
            "text/plain": [
              "Area Code  Area                       \n",
              "8          Antigua and Barbuda            27256\n",
              "173        Poland                         27882\n",
              "299        Palestine                      28045\n",
              "153        New Caledonia                  28437\n",
              "215        United Republic of Tanzania    28667\n",
              "249        Yemen                          28795\n",
              "141        Mongolia                       29493\n",
              "13         Bahrain                        30466\n",
              "91         Guyana                         30485\n",
              "115        Cambodia                       30562\n",
              "75         Gambia                         30968\n",
              "179        Qatar                          32795\n",
              "226        Uganda                         33224\n",
              "184        Rwanda                         33871\n",
              "225        United Arab Emirates           34431\n",
              "149        Nepal                          34848\n",
              "81         Ghana                          36871\n",
              "209        Eswatini                       39228\n",
              "3          Albania                        43765\n",
              "147        Namibia                        52689\n",
              "Name: Value, dtype: int64"
            ]
          },
          "metadata": {},
          "execution_count": 22
        }
      ]
    },
    {
      "cell_type": "markdown",
      "source": [
        "Analizamos los Nulos por año"
      ],
      "metadata": {
        "id": "XAtD2JR_hjYl"
      }
    },
    {
      "cell_type": "code",
      "source": [
        "nulos = df.groupby([\"Year\"])[\"Value\"].apply(lambda x: x.isnull().sum())"
      ],
      "metadata": {
        "id": "BO8XQ4fAhmdX"
      },
      "execution_count": null,
      "outputs": []
    },
    {
      "cell_type": "code",
      "source": [
        "plt.plot(nulos)"
      ],
      "metadata": {
        "colab": {
          "base_uri": "https://localhost:8080/"
        },
        "id": "SmLg88CBgn_L",
        "outputId": "fb30f751-d850-4b74-e669-02f763a31ae9"
      },
      "execution_count": null,
      "outputs": [
        {
          "output_type": "execute_result",
          "data": {
            "text/plain": [
              "[<matplotlib.lines.Line2D at 0x7f84b58c9e90>]"
            ]
          },
          "metadata": {},
          "execution_count": 24
        },
        {
          "output_type": "display_data",
          "data": {
            "image/png": "[encoded data removed]",
            "text/plain": [
              "<Figure size 432x288 with 1 Axes>"
            ]
          },
          "metadata": {
            "needs_background": "light"
          }
        }
      ]
    },
    {
      "cell_type": "markdown",
      "source": [
        "- Los nulos están concentrados en los años más anteriores. \n",
        "- Hay un salto extraño cerca de 1992. ¿Puede que se incluyeran nuevos alimentos? \n",
        "\n"
      ],
      "metadata": {
        "id": "QIfM_oOAi7NM"
      }
    },
    {
      "cell_type": "code",
      "source": [
        "## Hacemos zoom en los años cercanos al 1992\n",
        "\n",
        "plt.plot(nulos.loc[1990:2000])"
      ],
      "metadata": {
        "colab": {
          "base_uri": "https://localhost:8080/"
        },
        "id": "CejQZ8WXigNi",
        "outputId": "d63cfeaa-2a6c-4b0e-ab86-3717e1732911"
      },
      "execution_count": null,
      "outputs": [
        {
          "output_type": "execute_result",
          "data": {
            "text/plain": [
              "[<matplotlib.lines.Line2D at 0x7f84b57cbfd0>]"
            ]
          },
          "metadata": {},
          "execution_count": 25
        },
        {
          "output_type": "display_data",
          "data": {
            "image/png": "[encoded data removed]",
            "text/plain": [
              "<Figure size 432x288 with 1 Axes>"
            ]
          },
          "metadata": {
            "needs_background": "light"
          }
        }
      ]
    },
    {
      "cell_type": "markdown",
      "source": [
        "Efectivamente hay un cambio en el 1992"
      ],
      "metadata": {
        "id": "d6MfUJYhirNT"
      }
    },
    {
      "cell_type": "code",
      "source": [
        "df[df.Year == 1991][\"Item\"].nunique()"
      ],
      "metadata": {
        "colab": {
          "base_uri": "https://localhost:8080/"
        },
        "id": "jfFcFmDTjG-X",
        "outputId": "32c1e6db-367b-4fc4-813c-095313fbeb6b"
      },
      "execution_count": null,
      "outputs": [
        {
          "output_type": "execute_result",
          "data": {
            "text/plain": [
              "473"
            ]
          },
          "metadata": {},
          "execution_count": 26
        }
      ]
    },
    {
      "cell_type": "code",
      "source": [
        "df[df.Year == 1992][\"Item\"].nunique()"
      ],
      "metadata": {
        "colab": {
          "base_uri": "https://localhost:8080/"
        },
        "id": "poZAdwdpjc3e",
        "outputId": "d2bca540-ce7c-4aa3-8725-bd114872d76a"
      },
      "execution_count": null,
      "outputs": [
        {
          "output_type": "execute_result",
          "data": {
            "text/plain": [
              "473"
            ]
          },
          "metadata": {},
          "execution_count": 27
        }
      ]
    },
    {
      "cell_type": "code",
      "source": [
        "df[df.Year == 1991][\"Area\"].nunique()"
      ],
      "metadata": {
        "colab": {
          "base_uri": "https://localhost:8080/"
        },
        "id": "sf97L93Tj0l_",
        "outputId": "e2c438a7-fb66-4523-ce40-8b1c716c425d"
      },
      "execution_count": null,
      "outputs": [
        {
          "output_type": "execute_result",
          "data": {
            "text/plain": [
              "238"
            ]
          },
          "metadata": {},
          "execution_count": 28
        }
      ]
    },
    {
      "cell_type": "code",
      "source": [
        "df[df.Year == 1992][\"Area\"].nunique()"
      ],
      "metadata": {
        "colab": {
          "base_uri": "https://localhost:8080/"
        },
        "id": "AzWX1Fr4j5h3",
        "outputId": "89227183-f199-48c0-ccea-94148ce1de75"
      },
      "execution_count": null,
      "outputs": [
        {
          "output_type": "execute_result",
          "data": {
            "text/plain": [
              "258"
            ]
          },
          "metadata": {},
          "execution_count": 29
        }
      ]
    },
    {
      "cell_type": "markdown",
      "source": [
        "Pero si hay más paises. Quizás los nuevos países tienen muchos nulos.. Se podría seguir analizando..."
      ],
      "metadata": {
        "id": "nTddV00bkTCQ"
      }
    },
    {
      "cell_type": "code",
      "source": [
        "df[df.Year == 1991].shape"
      ],
      "metadata": {
        "colab": {
          "base_uri": "https://localhost:8080/"
        },
        "id": "w34KKBr_kmgo",
        "outputId": "7ae3540c-d92b-462f-ecd4-beb998ffd081"
      },
      "execution_count": null,
      "outputs": [
        {
          "output_type": "execute_result",
          "data": {
            "text/plain": [
              "(288020, 11)"
            ]
          },
          "metadata": {},
          "execution_count": 30
        }
      ]
    },
    {
      "cell_type": "code",
      "source": [
        "df[df.Year == 1992].shape"
      ],
      "metadata": {
        "colab": {
          "base_uri": "https://localhost:8080/"
        },
        "id": "7EB4df-5kvIS",
        "outputId": "b7165a26-abe5-4295-e734-8ff04ba41e64"
      },
      "execution_count": null,
      "outputs": [
        {
          "output_type": "execute_result",
          "data": {
            "text/plain": [
              "(314377, 11)"
            ]
          },
          "metadata": {},
          "execution_count": 31
        }
      ]
    },
    {
      "cell_type": "code",
      "source": [
        "plt.plot(df.groupby(\"Year\")[\"Value\"].apply(lambda x:len(x)))"
      ],
      "metadata": {
        "colab": {
          "base_uri": "https://localhost:8080/"
        },
        "id": "M3ZGmkFik6Br",
        "outputId": "d8020272-690b-4b83-fb5c-bb5d2799e04c"
      },
      "execution_count": null,
      "outputs": [
        {
          "output_type": "execute_result",
          "data": {
            "text/plain": [
              "[<matplotlib.lines.Line2D at 0x7f84b574bf50>]"
            ]
          },
          "metadata": {},
          "execution_count": 32
        },
        {
          "output_type": "display_data",
          "data": {
            "image/png": "[encoded data removed]",
            "text/plain": [
              "<Figure size 432x288 with 1 Axes>"
            ]
          },
          "metadata": {
            "needs_background": "light"
          }
        }
      ]
    },
    {
      "cell_type": "markdown",
      "source": [
        "Vemos que hay un salto en el número de registros.... así pues, podría ser  que ese salto en los nulos sea debido a que se ha cambiado la forma en la que se guardan los datos.\n",
        "\n",
        "De todos modos, en los últimos años vemos una reducción importante de los nulos mientras que el total de registros no tiene una reducción progresiva."
      ],
      "metadata": {
        "id": "98SzOlybo0CO"
      }
    },
    {
      "cell_type": "markdown",
      "source": [
        "Miramos en los últimos años, en qué paises están repartidos los nulos."
      ],
      "metadata": {
        "id": "onLeOMphiewL"
      }
    },
    {
      "cell_type": "code",
      "source": [
        "df_ult_año_paises = df[(df.Year == 2020) & (df[\"Area Code\"]<5000)]\n",
        "df_ult_año_paises.groupby([\"Area Code\", \"Area\"])[\"Value\"].apply(lambda x: x.isnull().sum()).sort_values(ascending=False).head(40)"
      ],
      "metadata": {
        "colab": {
          "base_uri": "https://localhost:8080/"
        },
        "id": "xM7wmaqsjNnx",
        "outputId": "558ce469-5951-42b0-a3ed-403182c8695e"
      },
      "execution_count": null,
      "outputs": [
        {
          "output_type": "execute_result",
          "data": {
            "text/plain": [
              "Area Code  Area                \n",
              "136        Mauritania              247\n",
              "35         Cabo Verde              240\n",
              "233        Burkina Faso            225\n",
              "58         Ecuador                 186\n",
              "170        Peru                    182\n",
              "40         Chile                   171\n",
              "194        Saudi Arabia            167\n",
              "225        United Arab Emirates    165\n",
              "46         Congo                   153\n",
              "53         Benin                   146\n",
              "196        Seychelles              145\n",
              "169        Paraguay                142\n",
              "45         Comoros                 140\n",
              "158        Niger                   132\n",
              "143        Morocco                 130\n",
              "129        Madagascar              121\n",
              "209        Eswatini                119\n",
              "48         Costa Rica              115\n",
              "118        Kuwait                  115\n",
              "56         Dominican Republic      107\n",
              "26         Brunei Darussalam       103\n",
              "144        Mozambique              101\n",
              "130        Malawi                   98\n",
              "108        Kazakhstan               97\n",
              "185        Russian Federation       96\n",
              "122        Lesotho                  95\n",
              "157        Nicaragua                88\n",
              "208        Tajikistan               79\n",
              "159        Nigeria                  66\n",
              "29         Burundi                  57\n",
              "2          Afghanistan              20\n",
              "39         Chad                     10\n",
              "32         Cameroon                 10\n",
              "238        Ethiopia                  6\n",
              "74         Gabon                     6\n",
              "112        Jordan                    6\n",
              "81         Ghana                     6\n",
              "216        Thailand                  4\n",
              "7          Angola                    4\n",
              "222        Tunisia                   4\n",
              "Name: Value, dtype: int64"
            ]
          },
          "metadata": {},
          "execution_count": 33
        }
      ]
    },
    {
      "cell_type": "markdown",
      "source": [
        "Observamos que hay mayor concentración de nulos en países de África y Suramérica. No aparecen países de Europa o Norteamérica. "
      ],
      "metadata": {
        "id": "d8wYwy3EEBys"
      }
    },
    {
      "cell_type": "code",
      "source": [
        "#Observamos los nulos de \"Saudi Arabia\"\n",
        "\n",
        "df[(df.Year == 2020) & (df[\"Area Code\"]==194) & (df[\"Value\"].isnull())].head(20)"
      ],
      "metadata": {
        "colab": {
          "base_uri": "https://localhost:8080/"
        },
        "id": "hNe59VRZksab",
        "outputId": "b8ac2d6f-729c-45d5-937e-da880fe5729d"
      },
      "execution_count": null,
      "outputs": [
        {
          "output_type": "execute_result",
          "data": {
            "text/html": [
              "\n",
              "  <div id=\"df-0c571c3d-1943-4bf0-9b8a-0eca31f1f3c8\">\n",
              "    <div class=\"colab-df-container\">\n",
              "      <div>\n",
              "<style scoped>\n",
              "    .dataframe tbody tr th:only-of-type {\n",
              "        vertical-align: middle;\n",
              "    }\n",
              "\n",
              "    .dataframe tbody tr th {\n",
              "        vertical-align: top;\n",
              "    }\n",
              "\n",
              "    .dataframe thead th {\n",
              "        text-align: right;\n",
              "    }\n",
              "</style>\n",
              "<table border=\"1\" class=\"dataframe\">\n",
              "  <thead>\n",
              "    <tr style=\"text-align: right;\">\n",
              "      <th></th>\n",
              "      <th>Area Code</th>\n",
              "      <th>Area</th>\n",
              "      <th>Item Code</th>\n",
              "      <th>Item</th>\n",
              "      <th>Element Code</th>\n",
              "      <th>Element</th>\n",
              "      <th>Year Code</th>\n",
              "      <th>Year</th>\n",
              "      <th>Unit</th>\n",
              "      <th>Value</th>\n",
              "      <th>Flag</th>\n",
              "    </tr>\n",
              "  </thead>\n",
              "  <tbody>\n",
              "    <tr>\n",
              "      <th>9833498</th>\n",
              "      <td>194</td>\n",
              "      <td>Saudi Arabia</td>\n",
              "      <td>1171</td>\n",
              "      <td>Animals live nes</td>\n",
              "      <td>5622</td>\n",
              "      <td>Import Value</td>\n",
              "      <td>2020</td>\n",
              "      <td>2020</td>\n",
              "      <td>1000 US$</td>\n",
              "      <td>NaN</td>\n",
              "      <td>NaN</td>\n",
              "    </tr>\n",
              "    <tr>\n",
              "      <th>9834640</th>\n",
              "      <td>194</td>\n",
              "      <td>Saudi Arabia</td>\n",
              "      <td>226</td>\n",
              "      <td>Areca nuts</td>\n",
              "      <td>5910</td>\n",
              "      <td>Export Quantity</td>\n",
              "      <td>2020</td>\n",
              "      <td>2020</td>\n",
              "      <td>tonnes</td>\n",
              "      <td>NaN</td>\n",
              "      <td>NaN</td>\n",
              "    </tr>\n",
              "    <tr>\n",
              "      <th>9834642</th>\n",
              "      <td>194</td>\n",
              "      <td>Saudi Arabia</td>\n",
              "      <td>226</td>\n",
              "      <td>Areca nuts</td>\n",
              "      <td>5922</td>\n",
              "      <td>Export Value</td>\n",
              "      <td>2020</td>\n",
              "      <td>2020</td>\n",
              "      <td>1000 US$</td>\n",
              "      <td>NaN</td>\n",
              "      <td>NaN</td>\n",
              "    </tr>\n",
              "    <tr>\n",
              "      <th>9835554</th>\n",
              "      <td>194</td>\n",
              "      <td>Saudi Arabia</td>\n",
              "      <td>1039</td>\n",
              "      <td>Bacon and ham</td>\n",
              "      <td>5610</td>\n",
              "      <td>Import Quantity</td>\n",
              "      <td>2020</td>\n",
              "      <td>2020</td>\n",
              "      <td>tonnes</td>\n",
              "      <td>NaN</td>\n",
              "      <td>NaN</td>\n",
              "    </tr>\n",
              "    <tr>\n",
              "      <th>9835557</th>\n",
              "      <td>194</td>\n",
              "      <td>Saudi Arabia</td>\n",
              "      <td>1039</td>\n",
              "      <td>Bacon and ham</td>\n",
              "      <td>5622</td>\n",
              "      <td>Import Value</td>\n",
              "      <td>2020</td>\n",
              "      <td>2020</td>\n",
              "      <td>1000 US$</td>\n",
              "      <td>NaN</td>\n",
              "      <td>NaN</td>\n",
              "    </tr>\n",
              "    <tr>\n",
              "      <th>9836099</th>\n",
              "      <td>194</td>\n",
              "      <td>Saudi Arabia</td>\n",
              "      <td>44</td>\n",
              "      <td>Barley</td>\n",
              "      <td>5910</td>\n",
              "      <td>Export Quantity</td>\n",
              "      <td>2020</td>\n",
              "      <td>2020</td>\n",
              "      <td>tonnes</td>\n",
              "      <td>NaN</td>\n",
              "      <td>NaN</td>\n",
              "    </tr>\n",
              "    <tr>\n",
              "      <th>9836155</th>\n",
              "      <td>194</td>\n",
              "      <td>Saudi Arabia</td>\n",
              "      <td>44</td>\n",
              "      <td>Barley</td>\n",
              "      <td>5922</td>\n",
              "      <td>Export Value</td>\n",
              "      <td>2020</td>\n",
              "      <td>2020</td>\n",
              "      <td>1000 US$</td>\n",
              "      <td>NaN</td>\n",
              "      <td>NaN</td>\n",
              "    </tr>\n",
              "    <tr>\n",
              "      <th>9836211</th>\n",
              "      <td>194</td>\n",
              "      <td>Saudi Arabia</td>\n",
              "      <td>46</td>\n",
              "      <td>Barley, pearled</td>\n",
              "      <td>5610</td>\n",
              "      <td>Import Quantity</td>\n",
              "      <td>2020</td>\n",
              "      <td>2020</td>\n",
              "      <td>tonnes</td>\n",
              "      <td>NaN</td>\n",
              "      <td>NaN</td>\n",
              "    </tr>\n",
              "    <tr>\n",
              "      <th>9836267</th>\n",
              "      <td>194</td>\n",
              "      <td>Saudi Arabia</td>\n",
              "      <td>46</td>\n",
              "      <td>Barley, pearled</td>\n",
              "      <td>5622</td>\n",
              "      <td>Import Value</td>\n",
              "      <td>2020</td>\n",
              "      <td>2020</td>\n",
              "      <td>1000 US$</td>\n",
              "      <td>NaN</td>\n",
              "      <td>NaN</td>\n",
              "    </tr>\n",
              "    <tr>\n",
              "      <th>9837138</th>\n",
              "      <td>194</td>\n",
              "      <td>Saudi Arabia</td>\n",
              "      <td>51</td>\n",
              "      <td>Beer of barley</td>\n",
              "      <td>5610</td>\n",
              "      <td>Import Quantity</td>\n",
              "      <td>2020</td>\n",
              "      <td>2020</td>\n",
              "      <td>tonnes</td>\n",
              "      <td>NaN</td>\n",
              "      <td>NaN</td>\n",
              "    </tr>\n",
              "    <tr>\n",
              "      <th>9837194</th>\n",
              "      <td>194</td>\n",
              "      <td>Saudi Arabia</td>\n",
              "      <td>51</td>\n",
              "      <td>Beer of barley</td>\n",
              "      <td>5622</td>\n",
              "      <td>Import Value</td>\n",
              "      <td>2020</td>\n",
              "      <td>2020</td>\n",
              "      <td>1000 US$</td>\n",
              "      <td>NaN</td>\n",
              "      <td>NaN</td>\n",
              "    </tr>\n",
              "    <tr>\n",
              "      <th>9837250</th>\n",
              "      <td>194</td>\n",
              "      <td>Saudi Arabia</td>\n",
              "      <td>51</td>\n",
              "      <td>Beer of barley</td>\n",
              "      <td>5910</td>\n",
              "      <td>Export Quantity</td>\n",
              "      <td>2020</td>\n",
              "      <td>2020</td>\n",
              "      <td>tonnes</td>\n",
              "      <td>NaN</td>\n",
              "      <td>NaN</td>\n",
              "    </tr>\n",
              "    <tr>\n",
              "      <th>9837306</th>\n",
              "      <td>194</td>\n",
              "      <td>Saudi Arabia</td>\n",
              "      <td>51</td>\n",
              "      <td>Beer of barley</td>\n",
              "      <td>5922</td>\n",
              "      <td>Export Value</td>\n",
              "      <td>2020</td>\n",
              "      <td>2020</td>\n",
              "      <td>1000 US$</td>\n",
              "      <td>NaN</td>\n",
              "      <td>NaN</td>\n",
              "    </tr>\n",
              "    <tr>\n",
              "      <th>9838233</th>\n",
              "      <td>194</td>\n",
              "      <td>Saudi Arabia</td>\n",
              "      <td>552</td>\n",
              "      <td>Blueberries</td>\n",
              "      <td>5610</td>\n",
              "      <td>Import Quantity</td>\n",
              "      <td>2020</td>\n",
              "      <td>2020</td>\n",
              "      <td>tonnes</td>\n",
              "      <td>NaN</td>\n",
              "      <td>NaN</td>\n",
              "    </tr>\n",
              "    <tr>\n",
              "      <th>9838236</th>\n",
              "      <td>194</td>\n",
              "      <td>Saudi Arabia</td>\n",
              "      <td>552</td>\n",
              "      <td>Blueberries</td>\n",
              "      <td>5622</td>\n",
              "      <td>Import Value</td>\n",
              "      <td>2020</td>\n",
              "      <td>2020</td>\n",
              "      <td>1000 US$</td>\n",
              "      <td>NaN</td>\n",
              "      <td>NaN</td>\n",
              "    </tr>\n",
              "    <tr>\n",
              "      <th>9839561</th>\n",
              "      <td>194</td>\n",
              "      <td>Saudi Arabia</td>\n",
              "      <td>89</td>\n",
              "      <td>Buckwheat</td>\n",
              "      <td>5610</td>\n",
              "      <td>Import Quantity</td>\n",
              "      <td>2020</td>\n",
              "      <td>2020</td>\n",
              "      <td>tonnes</td>\n",
              "      <td>NaN</td>\n",
              "      <td>NaN</td>\n",
              "    </tr>\n",
              "    <tr>\n",
              "      <th>9839618</th>\n",
              "      <td>194</td>\n",
              "      <td>Saudi Arabia</td>\n",
              "      <td>89</td>\n",
              "      <td>Buckwheat</td>\n",
              "      <td>5622</td>\n",
              "      <td>Import Value</td>\n",
              "      <td>2020</td>\n",
              "      <td>2020</td>\n",
              "      <td>1000 US$</td>\n",
              "      <td>NaN</td>\n",
              "      <td>NaN</td>\n",
              "    </tr>\n",
              "    <tr>\n",
              "      <th>9847550</th>\n",
              "      <td>194</td>\n",
              "      <td>Saudi Arabia</td>\n",
              "      <td>517</td>\n",
              "      <td>Cider etc</td>\n",
              "      <td>5610</td>\n",
              "      <td>Import Quantity</td>\n",
              "      <td>2020</td>\n",
              "      <td>2020</td>\n",
              "      <td>tonnes</td>\n",
              "      <td>NaN</td>\n",
              "      <td>NaN</td>\n",
              "    </tr>\n",
              "    <tr>\n",
              "      <th>9847606</th>\n",
              "      <td>194</td>\n",
              "      <td>Saudi Arabia</td>\n",
              "      <td>517</td>\n",
              "      <td>Cider etc</td>\n",
              "      <td>5622</td>\n",
              "      <td>Import Value</td>\n",
              "      <td>2020</td>\n",
              "      <td>2020</td>\n",
              "      <td>1000 US$</td>\n",
              "      <td>NaN</td>\n",
              "      <td>NaN</td>\n",
              "    </tr>\n",
              "    <tr>\n",
              "      <th>9847609</th>\n",
              "      <td>194</td>\n",
              "      <td>Saudi Arabia</td>\n",
              "      <td>517</td>\n",
              "      <td>Cider etc</td>\n",
              "      <td>5910</td>\n",
              "      <td>Export Quantity</td>\n",
              "      <td>2020</td>\n",
              "      <td>2020</td>\n",
              "      <td>tonnes</td>\n",
              "      <td>NaN</td>\n",
              "      <td>NaN</td>\n",
              "    </tr>\n",
              "  </tbody>\n",
              "</table>\n",
              "</div>\n",
              "      <button class=\"colab-df-convert\" onclick=\"convertToInteractive('df-0c571c3d-1943-4bf0-9b8a-0eca31f1f3c8')\"\n",
              "              title=\"Convert this dataframe to an interactive table.\"\n",
              "              style=\"display:none;\">\n",
              "        \n",
              "  <svg xmlns=\"http://www.w3.org/2000/svg\" height=\"24px\"viewBox=\"0 0 24 24\"\n",
              "       width=\"24px\">\n",
              "    <path d=\"M0 0h24v24H0V0z\" fill=\"none\"/>\n",
              "    <path d=\"M18.56 5.44l.94 2.06.94-2.06 2.06-.94-2.06-.94-.94-2.06-.94 2.06-2.06.94zm-11 1L8.5 8.5l.94-2.06 2.06-.94-2.06-.94L8.5 2.5l-.94 2.06-2.06.94zm10 10l.94 2.06.94-2.06 2.06-.94-2.06-.94-.94-2.06-.94 2.06-2.06.94z\"/><path d=\"M17.41 7.96l-1.37-1.37c-.4-.4-.92-.59-1.43-.59-.52 0-1.04.2-1.43.59L10.3 9.45l-7.72 7.72c-.78.78-.78 2.05 0 2.83L4 21.41c.39.39.9.59 1.41.59.51 0 1.02-.2 1.41-.59l7.78-7.78 2.81-2.81c.8-.78.8-2.07 0-2.86zM5.41 20L4 18.59l7.72-7.72 1.47 1.35L5.41 20z\"/>\n",
              "  </svg>\n",
              "      </button>\n",
              "      \n",
              "  <style>\n",
              "    .colab-df-container {\n",
              "      display:flex;\n",
              "      flex-wrap:wrap;\n",
              "      gap: 12px;\n",
              "    }\n",
              "\n",
              "    .colab-df-convert {\n",
              "      background-color: #E8F0FE;\n",
              "      border: none;\n",
              "      border-radius: 50%;\n",
              "      cursor: pointer;\n",
              "      display: none;\n",
              "      fill: #1967D2;\n",
              "      height: 32px;\n",
              "      padding: 0 0 0 0;\n",
              "      width: 32px;\n",
              "    }\n",
              "\n",
              "    .colab-df-convert:hover {\n",
              "      background-color: #E2EBFA;\n",
              "      box-shadow: 0px 1px 2px rgba(60, 64, 67, 0.3), 0px 1px 3px 1px rgba(60, 64, 67, 0.15);\n",
              "      fill: #174EA6;\n",
              "    }\n",
              "\n",
              "    [theme=dark] .colab-df-convert {\n",
              "      background-color: #3B4455;\n",
              "      fill: #D2E3FC;\n",
              "    }\n",
              "\n",
              "    [theme=dark] .colab-df-convert:hover {\n",
              "      background-color: #434B5C;\n",
              "      box-shadow: 0px 1px 3px 1px rgba(0, 0, 0, 0.15);\n",
              "      filter: drop-shadow(0px 1px 2px rgba(0, 0, 0, 0.3));\n",
              "      fill: #FFFFFF;\n",
              "    }\n",
              "  </style>\n",
              "\n",
              "      <script>\n",
              "        const buttonEl =\n",
              "          document.querySelector('#df-0c571c3d-1943-4bf0-9b8a-0eca31f1f3c8 button.colab-df-convert');\n",
              "        buttonEl.style.display =\n",
              "          google.colab.kernel.accessAllowed ? 'block' : 'none';\n",
              "\n",
              "        async function convertToInteractive(key) {\n",
              "          const element = document.querySelector('#df-0c571c3d-1943-4bf0-9b8a-0eca31f1f3c8');\n",
              "          const dataTable =\n",
              "            await google.colab.kernel.invokeFunction('convertToInteractive',\n",
              "                                                     [key], {});\n",
              "          if (!dataTable) return;\n",
              "\n",
              "          const docLinkHtml = 'Like what you see? Visit the ' +\n",
              "            '<a target=\"_blank\" href=https://colab.research.google.com/notebooks/data_table.ipynb>data table notebook</a>'\n",
              "            + ' to learn more about interactive tables.';\n",
              "          element.innerHTML = '';\n",
              "          dataTable['output_type'] = 'display_data';\n",
              "          await google.colab.output.renderOutput(dataTable, element);\n",
              "          const docLink = document.createElement('div');\n",
              "          docLink.innerHTML = docLinkHtml;\n",
              "          element.appendChild(docLink);\n",
              "        }\n",
              "      </script>\n",
              "    </div>\n",
              "  </div>\n",
              "  "
            ],
            "text/plain": [
              "         Area Code          Area  Item Code  ...      Unit  Value Flag\n",
              "9833498        194  Saudi Arabia       1171  ...  1000 US$    NaN  NaN\n",
              "9834640        194  Saudi Arabia        226  ...    tonnes    NaN  NaN\n",
              "9834642        194  Saudi Arabia        226  ...  1000 US$    NaN  NaN\n",
              "9835554        194  Saudi Arabia       1039  ...    tonnes    NaN  NaN\n",
              "9835557        194  Saudi Arabia       1039  ...  1000 US$    NaN  NaN\n",
              "9836099        194  Saudi Arabia         44  ...    tonnes    NaN  NaN\n",
              "9836155        194  Saudi Arabia         44  ...  1000 US$    NaN  NaN\n",
              "9836211        194  Saudi Arabia         46  ...    tonnes    NaN  NaN\n",
              "9836267        194  Saudi Arabia         46  ...  1000 US$    NaN  NaN\n",
              "9837138        194  Saudi Arabia         51  ...    tonnes    NaN  NaN\n",
              "9837194        194  Saudi Arabia         51  ...  1000 US$    NaN  NaN\n",
              "9837250        194  Saudi Arabia         51  ...    tonnes    NaN  NaN\n",
              "9837306        194  Saudi Arabia         51  ...  1000 US$    NaN  NaN\n",
              "9838233        194  Saudi Arabia        552  ...    tonnes    NaN  NaN\n",
              "9838236        194  Saudi Arabia        552  ...  1000 US$    NaN  NaN\n",
              "9839561        194  Saudi Arabia         89  ...    tonnes    NaN  NaN\n",
              "9839618        194  Saudi Arabia         89  ...  1000 US$    NaN  NaN\n",
              "9847550        194  Saudi Arabia        517  ...    tonnes    NaN  NaN\n",
              "9847606        194  Saudi Arabia        517  ...  1000 US$    NaN  NaN\n",
              "9847609        194  Saudi Arabia        517  ...    tonnes    NaN  NaN\n",
              "\n",
              "[20 rows x 11 columns]"
            ]
          },
          "metadata": {},
          "execution_count": 34
        }
      ]
    },
    {
      "cell_type": "code",
      "source": [
        "# Quizás los nulos equivalen a 0. Miramos la evolucion temporal de algunos de los alimentos con nulos de Arabia Saudi. \n",
        "# Por ejemplo las importaciones (Elemento 5622) de Cider (código 517)\n",
        "\n",
        "df[(df.Year.between(1990,2020)) & (df[\"Area Code\"]==194) & (df[\"Item Code\"] == 517) & (df[\"Element Code\"]==5622)].tail(20)"
      ],
      "metadata": {
        "colab": {
          "base_uri": "https://localhost:8080/"
        },
        "id": "3ukYSNF9kyLr",
        "outputId": "45966814-ef78-4890-a882-d58edb75c773"
      },
      "execution_count": null,
      "outputs": [
        {
          "output_type": "execute_result",
          "data": {
            "text/html": [
              "\n",
              "  <div id=\"df-3121f54e-cec2-4d9d-8caa-075dc344c2ff\">\n",
              "    <div class=\"colab-df-container\">\n",
              "      <div>\n",
              "<style scoped>\n",
              "    .dataframe tbody tr th:only-of-type {\n",
              "        vertical-align: middle;\n",
              "    }\n",
              "\n",
              "    .dataframe tbody tr th {\n",
              "        vertical-align: top;\n",
              "    }\n",
              "\n",
              "    .dataframe thead th {\n",
              "        text-align: right;\n",
              "    }\n",
              "</style>\n",
              "<table border=\"1\" class=\"dataframe\">\n",
              "  <thead>\n",
              "    <tr style=\"text-align: right;\">\n",
              "      <th></th>\n",
              "      <th>Area Code</th>\n",
              "      <th>Area</th>\n",
              "      <th>Item Code</th>\n",
              "      <th>Item</th>\n",
              "      <th>Element Code</th>\n",
              "      <th>Element</th>\n",
              "      <th>Year Code</th>\n",
              "      <th>Year</th>\n",
              "      <th>Unit</th>\n",
              "      <th>Value</th>\n",
              "      <th>Flag</th>\n",
              "    </tr>\n",
              "  </thead>\n",
              "  <tbody>\n",
              "    <tr>\n",
              "      <th>9847587</th>\n",
              "      <td>194</td>\n",
              "      <td>Saudi Arabia</td>\n",
              "      <td>517</td>\n",
              "      <td>Cider etc</td>\n",
              "      <td>5622</td>\n",
              "      <td>Import Value</td>\n",
              "      <td>1997</td>\n",
              "      <td>1997</td>\n",
              "      <td>1000 US$</td>\n",
              "      <td>0.0</td>\n",
              "      <td>F</td>\n",
              "    </tr>\n",
              "    <tr>\n",
              "      <th>9847588</th>\n",
              "      <td>194</td>\n",
              "      <td>Saudi Arabia</td>\n",
              "      <td>517</td>\n",
              "      <td>Cider etc</td>\n",
              "      <td>5622</td>\n",
              "      <td>Import Value</td>\n",
              "      <td>1998</td>\n",
              "      <td>1998</td>\n",
              "      <td>1000 US$</td>\n",
              "      <td>0.0</td>\n",
              "      <td>F</td>\n",
              "    </tr>\n",
              "    <tr>\n",
              "      <th>9847589</th>\n",
              "      <td>194</td>\n",
              "      <td>Saudi Arabia</td>\n",
              "      <td>517</td>\n",
              "      <td>Cider etc</td>\n",
              "      <td>5622</td>\n",
              "      <td>Import Value</td>\n",
              "      <td>1999</td>\n",
              "      <td>1999</td>\n",
              "      <td>1000 US$</td>\n",
              "      <td>0.0</td>\n",
              "      <td>F</td>\n",
              "    </tr>\n",
              "    <tr>\n",
              "      <th>9847590</th>\n",
              "      <td>194</td>\n",
              "      <td>Saudi Arabia</td>\n",
              "      <td>517</td>\n",
              "      <td>Cider etc</td>\n",
              "      <td>5622</td>\n",
              "      <td>Import Value</td>\n",
              "      <td>2000</td>\n",
              "      <td>2000</td>\n",
              "      <td>1000 US$</td>\n",
              "      <td>0.0</td>\n",
              "      <td>NaN</td>\n",
              "    </tr>\n",
              "    <tr>\n",
              "      <th>9847591</th>\n",
              "      <td>194</td>\n",
              "      <td>Saudi Arabia</td>\n",
              "      <td>517</td>\n",
              "      <td>Cider etc</td>\n",
              "      <td>5622</td>\n",
              "      <td>Import Value</td>\n",
              "      <td>2001</td>\n",
              "      <td>2001</td>\n",
              "      <td>1000 US$</td>\n",
              "      <td>0.0</td>\n",
              "      <td>NaN</td>\n",
              "    </tr>\n",
              "    <tr>\n",
              "      <th>9847592</th>\n",
              "      <td>194</td>\n",
              "      <td>Saudi Arabia</td>\n",
              "      <td>517</td>\n",
              "      <td>Cider etc</td>\n",
              "      <td>5622</td>\n",
              "      <td>Import Value</td>\n",
              "      <td>2002</td>\n",
              "      <td>2002</td>\n",
              "      <td>1000 US$</td>\n",
              "      <td>0.0</td>\n",
              "      <td>F</td>\n",
              "    </tr>\n",
              "    <tr>\n",
              "      <th>9847593</th>\n",
              "      <td>194</td>\n",
              "      <td>Saudi Arabia</td>\n",
              "      <td>517</td>\n",
              "      <td>Cider etc</td>\n",
              "      <td>5622</td>\n",
              "      <td>Import Value</td>\n",
              "      <td>2003</td>\n",
              "      <td>2003</td>\n",
              "      <td>1000 US$</td>\n",
              "      <td>31.0</td>\n",
              "      <td>R</td>\n",
              "    </tr>\n",
              "    <tr>\n",
              "      <th>9847594</th>\n",
              "      <td>194</td>\n",
              "      <td>Saudi Arabia</td>\n",
              "      <td>517</td>\n",
              "      <td>Cider etc</td>\n",
              "      <td>5622</td>\n",
              "      <td>Import Value</td>\n",
              "      <td>2004</td>\n",
              "      <td>2004</td>\n",
              "      <td>1000 US$</td>\n",
              "      <td>73.0</td>\n",
              "      <td>R</td>\n",
              "    </tr>\n",
              "    <tr>\n",
              "      <th>9847595</th>\n",
              "      <td>194</td>\n",
              "      <td>Saudi Arabia</td>\n",
              "      <td>517</td>\n",
              "      <td>Cider etc</td>\n",
              "      <td>5622</td>\n",
              "      <td>Import Value</td>\n",
              "      <td>2005</td>\n",
              "      <td>2005</td>\n",
              "      <td>1000 US$</td>\n",
              "      <td>0.0</td>\n",
              "      <td>*</td>\n",
              "    </tr>\n",
              "    <tr>\n",
              "      <th>9847596</th>\n",
              "      <td>194</td>\n",
              "      <td>Saudi Arabia</td>\n",
              "      <td>517</td>\n",
              "      <td>Cider etc</td>\n",
              "      <td>5622</td>\n",
              "      <td>Import Value</td>\n",
              "      <td>2006</td>\n",
              "      <td>2006</td>\n",
              "      <td>1000 US$</td>\n",
              "      <td>0.0</td>\n",
              "      <td>F</td>\n",
              "    </tr>\n",
              "    <tr>\n",
              "      <th>9847597</th>\n",
              "      <td>194</td>\n",
              "      <td>Saudi Arabia</td>\n",
              "      <td>517</td>\n",
              "      <td>Cider etc</td>\n",
              "      <td>5622</td>\n",
              "      <td>Import Value</td>\n",
              "      <td>2007</td>\n",
              "      <td>2007</td>\n",
              "      <td>1000 US$</td>\n",
              "      <td>0.0</td>\n",
              "      <td>F</td>\n",
              "    </tr>\n",
              "    <tr>\n",
              "      <th>9847598</th>\n",
              "      <td>194</td>\n",
              "      <td>Saudi Arabia</td>\n",
              "      <td>517</td>\n",
              "      <td>Cider etc</td>\n",
              "      <td>5622</td>\n",
              "      <td>Import Value</td>\n",
              "      <td>2008</td>\n",
              "      <td>2008</td>\n",
              "      <td>1000 US$</td>\n",
              "      <td>0.0</td>\n",
              "      <td>F</td>\n",
              "    </tr>\n",
              "    <tr>\n",
              "      <th>9847599</th>\n",
              "      <td>194</td>\n",
              "      <td>Saudi Arabia</td>\n",
              "      <td>517</td>\n",
              "      <td>Cider etc</td>\n",
              "      <td>5622</td>\n",
              "      <td>Import Value</td>\n",
              "      <td>2009</td>\n",
              "      <td>2009</td>\n",
              "      <td>1000 US$</td>\n",
              "      <td>0.0</td>\n",
              "      <td>F</td>\n",
              "    </tr>\n",
              "    <tr>\n",
              "      <th>9847600</th>\n",
              "      <td>194</td>\n",
              "      <td>Saudi Arabia</td>\n",
              "      <td>517</td>\n",
              "      <td>Cider etc</td>\n",
              "      <td>5622</td>\n",
              "      <td>Import Value</td>\n",
              "      <td>2010</td>\n",
              "      <td>2010</td>\n",
              "      <td>1000 US$</td>\n",
              "      <td>0.0</td>\n",
              "      <td>F</td>\n",
              "    </tr>\n",
              "    <tr>\n",
              "      <th>9847601</th>\n",
              "      <td>194</td>\n",
              "      <td>Saudi Arabia</td>\n",
              "      <td>517</td>\n",
              "      <td>Cider etc</td>\n",
              "      <td>5622</td>\n",
              "      <td>Import Value</td>\n",
              "      <td>2011</td>\n",
              "      <td>2011</td>\n",
              "      <td>1000 US$</td>\n",
              "      <td>0.0</td>\n",
              "      <td>F</td>\n",
              "    </tr>\n",
              "    <tr>\n",
              "      <th>9847602</th>\n",
              "      <td>194</td>\n",
              "      <td>Saudi Arabia</td>\n",
              "      <td>517</td>\n",
              "      <td>Cider etc</td>\n",
              "      <td>5622</td>\n",
              "      <td>Import Value</td>\n",
              "      <td>2012</td>\n",
              "      <td>2012</td>\n",
              "      <td>1000 US$</td>\n",
              "      <td>0.0</td>\n",
              "      <td>F</td>\n",
              "    </tr>\n",
              "    <tr>\n",
              "      <th>9847603</th>\n",
              "      <td>194</td>\n",
              "      <td>Saudi Arabia</td>\n",
              "      <td>517</td>\n",
              "      <td>Cider etc</td>\n",
              "      <td>5622</td>\n",
              "      <td>Import Value</td>\n",
              "      <td>2013</td>\n",
              "      <td>2013</td>\n",
              "      <td>1000 US$</td>\n",
              "      <td>0.0</td>\n",
              "      <td>F</td>\n",
              "    </tr>\n",
              "    <tr>\n",
              "      <th>9847604</th>\n",
              "      <td>194</td>\n",
              "      <td>Saudi Arabia</td>\n",
              "      <td>517</td>\n",
              "      <td>Cider etc</td>\n",
              "      <td>5622</td>\n",
              "      <td>Import Value</td>\n",
              "      <td>2016</td>\n",
              "      <td>2016</td>\n",
              "      <td>1000 US$</td>\n",
              "      <td>NaN</td>\n",
              "      <td>NaN</td>\n",
              "    </tr>\n",
              "    <tr>\n",
              "      <th>9847605</th>\n",
              "      <td>194</td>\n",
              "      <td>Saudi Arabia</td>\n",
              "      <td>517</td>\n",
              "      <td>Cider etc</td>\n",
              "      <td>5622</td>\n",
              "      <td>Import Value</td>\n",
              "      <td>2017</td>\n",
              "      <td>2017</td>\n",
              "      <td>1000 US$</td>\n",
              "      <td>NaN</td>\n",
              "      <td>NaN</td>\n",
              "    </tr>\n",
              "    <tr>\n",
              "      <th>9847606</th>\n",
              "      <td>194</td>\n",
              "      <td>Saudi Arabia</td>\n",
              "      <td>517</td>\n",
              "      <td>Cider etc</td>\n",
              "      <td>5622</td>\n",
              "      <td>Import Value</td>\n",
              "      <td>2020</td>\n",
              "      <td>2020</td>\n",
              "      <td>1000 US$</td>\n",
              "      <td>NaN</td>\n",
              "      <td>NaN</td>\n",
              "    </tr>\n",
              "  </tbody>\n",
              "</table>\n",
              "</div>\n",
              "      <button class=\"colab-df-convert\" onclick=\"convertToInteractive('df-3121f54e-cec2-4d9d-8caa-075dc344c2ff')\"\n",
              "              title=\"Convert this dataframe to an interactive table.\"\n",
              "              style=\"display:none;\">\n",
              "        \n",
              "  <svg xmlns=\"http://www.w3.org/2000/svg\" height=\"24px\"viewBox=\"0 0 24 24\"\n",
              "       width=\"24px\">\n",
              "    <path d=\"M0 0h24v24H0V0z\" fill=\"none\"/>\n",
              "    <path d=\"M18.56 5.44l.94 2.06.94-2.06 2.06-.94-2.06-.94-.94-2.06-.94 2.06-2.06.94zm-11 1L8.5 8.5l.94-2.06 2.06-.94-2.06-.94L8.5 2.5l-.94 2.06-2.06.94zm10 10l.94 2.06.94-2.06 2.06-.94-2.06-.94-.94-2.06-.94 2.06-2.06.94z\"/><path d=\"M17.41 7.96l-1.37-1.37c-.4-.4-.92-.59-1.43-.59-.52 0-1.04.2-1.43.59L10.3 9.45l-7.72 7.72c-.78.78-.78 2.05 0 2.83L4 21.41c.39.39.9.59 1.41.59.51 0 1.02-.2 1.41-.59l7.78-7.78 2.81-2.81c.8-.78.8-2.07 0-2.86zM5.41 20L4 18.59l7.72-7.72 1.47 1.35L5.41 20z\"/>\n",
              "  </svg>\n",
              "      </button>\n",
              "      \n",
              "  <style>\n",
              "    .colab-df-container {\n",
              "      display:flex;\n",
              "      flex-wrap:wrap;\n",
              "      gap: 12px;\n",
              "    }\n",
              "\n",
              "    .colab-df-convert {\n",
              "      background-color: #E8F0FE;\n",
              "      border: none;\n",
              "      border-radius: 50%;\n",
              "      cursor: pointer;\n",
              "      display: none;\n",
              "      fill: #1967D2;\n",
              "      height: 32px;\n",
              "      padding: 0 0 0 0;\n",
              "      width: 32px;\n",
              "    }\n",
              "\n",
              "    .colab-df-convert:hover {\n",
              "      background-color: #E2EBFA;\n",
              "      box-shadow: 0px 1px 2px rgba(60, 64, 67, 0.3), 0px 1px 3px 1px rgba(60, 64, 67, 0.15);\n",
              "      fill: #174EA6;\n",
              "    }\n",
              "\n",
              "    [theme=dark] .colab-df-convert {\n",
              "      background-color: #3B4455;\n",
              "      fill: #D2E3FC;\n",
              "    }\n",
              "\n",
              "    [theme=dark] .colab-df-convert:hover {\n",
              "      background-color: #434B5C;\n",
              "      box-shadow: 0px 1px 3px 1px rgba(0, 0, 0, 0.15);\n",
              "      filter: drop-shadow(0px 1px 2px rgba(0, 0, 0, 0.3));\n",
              "      fill: #FFFFFF;\n",
              "    }\n",
              "  </style>\n",
              "\n",
              "      <script>\n",
              "        const buttonEl =\n",
              "          document.querySelector('#df-3121f54e-cec2-4d9d-8caa-075dc344c2ff button.colab-df-convert');\n",
              "        buttonEl.style.display =\n",
              "          google.colab.kernel.accessAllowed ? 'block' : 'none';\n",
              "\n",
              "        async function convertToInteractive(key) {\n",
              "          const element = document.querySelector('#df-3121f54e-cec2-4d9d-8caa-075dc344c2ff');\n",
              "          const dataTable =\n",
              "            await google.colab.kernel.invokeFunction('convertToInteractive',\n",
              "                                                     [key], {});\n",
              "          if (!dataTable) return;\n",
              "\n",
              "          const docLinkHtml = 'Like what you see? Visit the ' +\n",
              "            '<a target=\"_blank\" href=https://colab.research.google.com/notebooks/data_table.ipynb>data table notebook</a>'\n",
              "            + ' to learn more about interactive tables.';\n",
              "          element.innerHTML = '';\n",
              "          dataTable['output_type'] = 'display_data';\n",
              "          await google.colab.output.renderOutput(dataTable, element);\n",
              "          const docLink = document.createElement('div');\n",
              "          docLink.innerHTML = docLinkHtml;\n",
              "          element.appendChild(docLink);\n",
              "        }\n",
              "      </script>\n",
              "    </div>\n",
              "  </div>\n",
              "  "
            ],
            "text/plain": [
              "         Area Code          Area  Item Code  ...      Unit  Value Flag\n",
              "9847587        194  Saudi Arabia        517  ...  1000 US$    0.0    F\n",
              "9847588        194  Saudi Arabia        517  ...  1000 US$    0.0    F\n",
              "9847589        194  Saudi Arabia        517  ...  1000 US$    0.0    F\n",
              "9847590        194  Saudi Arabia        517  ...  1000 US$    0.0  NaN\n",
              "9847591        194  Saudi Arabia        517  ...  1000 US$    0.0  NaN\n",
              "9847592        194  Saudi Arabia        517  ...  1000 US$    0.0    F\n",
              "9847593        194  Saudi Arabia        517  ...  1000 US$   31.0    R\n",
              "9847594        194  Saudi Arabia        517  ...  1000 US$   73.0    R\n",
              "9847595        194  Saudi Arabia        517  ...  1000 US$    0.0    *\n",
              "9847596        194  Saudi Arabia        517  ...  1000 US$    0.0    F\n",
              "9847597        194  Saudi Arabia        517  ...  1000 US$    0.0    F\n",
              "9847598        194  Saudi Arabia        517  ...  1000 US$    0.0    F\n",
              "9847599        194  Saudi Arabia        517  ...  1000 US$    0.0    F\n",
              "9847600        194  Saudi Arabia        517  ...  1000 US$    0.0    F\n",
              "9847601        194  Saudi Arabia        517  ...  1000 US$    0.0    F\n",
              "9847602        194  Saudi Arabia        517  ...  1000 US$    0.0    F\n",
              "9847603        194  Saudi Arabia        517  ...  1000 US$    0.0    F\n",
              "9847604        194  Saudi Arabia        517  ...  1000 US$    NaN  NaN\n",
              "9847605        194  Saudi Arabia        517  ...  1000 US$    NaN  NaN\n",
              "9847606        194  Saudi Arabia        517  ...  1000 US$    NaN  NaN\n",
              "\n",
              "[20 rows x 11 columns]"
            ]
          },
          "metadata": {},
          "execution_count": 35
        }
      ]
    },
    {
      "cell_type": "markdown",
      "source": [
        "En este caso, vemos que en años anteriores habían 0's y luego ha pasado a nulos. Es probable que los nulos representen 0.\n",
        "\n",
        "Miramos algun otro ejemplo"
      ],
      "metadata": {
        "id": "Bqq28nwglx44"
      }
    },
    {
      "cell_type": "code",
      "source": [
        "#Observamos los nulos de \"Mauritania\"\n",
        "\n",
        "df[(df.Year == 2020) & (df[\"Area Code\"]==136) & (df[\"Value\"].isnull())].head(20)"
      ],
      "metadata": {
        "id": "UlhZhAVBm7gu",
        "colab": {
          "base_uri": "https://localhost:8080/"
        },
        "outputId": "e39bacc2-9867-48c7-ec85-ea9e8036aace"
      },
      "execution_count": null,
      "outputs": [
        {
          "output_type": "execute_result",
          "data": {
            "text/html": [
              "\n",
              "  <div id=\"df-ec4a41ee-302a-4d8f-ba8b-713bdafce11c\">\n",
              "    <div class=\"colab-df-container\">\n",
              "      <div>\n",
              "<style scoped>\n",
              "    .dataframe tbody tr th:only-of-type {\n",
              "        vertical-align: middle;\n",
              "    }\n",
              "\n",
              "    .dataframe tbody tr th {\n",
              "        vertical-align: top;\n",
              "    }\n",
              "\n",
              "    .dataframe thead th {\n",
              "        text-align: right;\n",
              "    }\n",
              "</style>\n",
              "<table border=\"1\" class=\"dataframe\">\n",
              "  <thead>\n",
              "    <tr style=\"text-align: right;\">\n",
              "      <th></th>\n",
              "      <th>Area Code</th>\n",
              "      <th>Area</th>\n",
              "      <th>Item Code</th>\n",
              "      <th>Item</th>\n",
              "      <th>Element Code</th>\n",
              "      <th>Element</th>\n",
              "      <th>Year Code</th>\n",
              "      <th>Year</th>\n",
              "      <th>Unit</th>\n",
              "      <th>Value</th>\n",
              "      <th>Flag</th>\n",
              "    </tr>\n",
              "  </thead>\n",
              "  <tbody>\n",
              "    <tr>\n",
              "      <th>7192517</th>\n",
              "      <td>136</td>\n",
              "      <td>Mauritania</td>\n",
              "      <td>231</td>\n",
              "      <td>Almonds shelled</td>\n",
              "      <td>5610</td>\n",
              "      <td>Import Quantity</td>\n",
              "      <td>2020</td>\n",
              "      <td>2020</td>\n",
              "      <td>tonnes</td>\n",
              "      <td>NaN</td>\n",
              "      <td>NaN</td>\n",
              "    </tr>\n",
              "    <tr>\n",
              "      <th>7192573</th>\n",
              "      <td>136</td>\n",
              "      <td>Mauritania</td>\n",
              "      <td>231</td>\n",
              "      <td>Almonds shelled</td>\n",
              "      <td>5622</td>\n",
              "      <td>Import Value</td>\n",
              "      <td>2020</td>\n",
              "      <td>2020</td>\n",
              "      <td>1000 US$</td>\n",
              "      <td>NaN</td>\n",
              "      <td>NaN</td>\n",
              "    </tr>\n",
              "    <tr>\n",
              "      <th>7192848</th>\n",
              "      <td>136</td>\n",
              "      <td>Mauritania</td>\n",
              "      <td>1169</td>\n",
              "      <td>Animals, live, non-food</td>\n",
              "      <td>5922</td>\n",
              "      <td>Export Value</td>\n",
              "      <td>2020</td>\n",
              "      <td>2020</td>\n",
              "      <td>1000 US$</td>\n",
              "      <td>NaN</td>\n",
              "      <td>NaN</td>\n",
              "    </tr>\n",
              "    <tr>\n",
              "      <th>7192904</th>\n",
              "      <td>136</td>\n",
              "      <td>Mauritania</td>\n",
              "      <td>711</td>\n",
              "      <td>Anise, badian, fennel, coriander</td>\n",
              "      <td>5610</td>\n",
              "      <td>Import Quantity</td>\n",
              "      <td>2020</td>\n",
              "      <td>2020</td>\n",
              "      <td>tonnes</td>\n",
              "      <td>NaN</td>\n",
              "      <td>NaN</td>\n",
              "    </tr>\n",
              "    <tr>\n",
              "      <th>7192960</th>\n",
              "      <td>136</td>\n",
              "      <td>Mauritania</td>\n",
              "      <td>711</td>\n",
              "      <td>Anise, badian, fennel, coriander</td>\n",
              "      <td>5622</td>\n",
              "      <td>Import Value</td>\n",
              "      <td>2020</td>\n",
              "      <td>2020</td>\n",
              "      <td>1000 US$</td>\n",
              "      <td>NaN</td>\n",
              "      <td>NaN</td>\n",
              "    </tr>\n",
              "    <tr>\n",
              "      <th>7193136</th>\n",
              "      <td>136</td>\n",
              "      <td>Mauritania</td>\n",
              "      <td>526</td>\n",
              "      <td>Apricots</td>\n",
              "      <td>5610</td>\n",
              "      <td>Import Quantity</td>\n",
              "      <td>2020</td>\n",
              "      <td>2020</td>\n",
              "      <td>tonnes</td>\n",
              "      <td>NaN</td>\n",
              "      <td>NaN</td>\n",
              "    </tr>\n",
              "    <tr>\n",
              "      <th>7193192</th>\n",
              "      <td>136</td>\n",
              "      <td>Mauritania</td>\n",
              "      <td>526</td>\n",
              "      <td>Apricots</td>\n",
              "      <td>5622</td>\n",
              "      <td>Import Value</td>\n",
              "      <td>2020</td>\n",
              "      <td>2020</td>\n",
              "      <td>1000 US$</td>\n",
              "      <td>NaN</td>\n",
              "      <td>NaN</td>\n",
              "    </tr>\n",
              "    <tr>\n",
              "      <th>7193248</th>\n",
              "      <td>136</td>\n",
              "      <td>Mauritania</td>\n",
              "      <td>527</td>\n",
              "      <td>Apricots, dry</td>\n",
              "      <td>5610</td>\n",
              "      <td>Import Quantity</td>\n",
              "      <td>2020</td>\n",
              "      <td>2020</td>\n",
              "      <td>tonnes</td>\n",
              "      <td>NaN</td>\n",
              "      <td>NaN</td>\n",
              "    </tr>\n",
              "    <tr>\n",
              "      <th>7193251</th>\n",
              "      <td>136</td>\n",
              "      <td>Mauritania</td>\n",
              "      <td>527</td>\n",
              "      <td>Apricots, dry</td>\n",
              "      <td>5622</td>\n",
              "      <td>Import Value</td>\n",
              "      <td>2020</td>\n",
              "      <td>2020</td>\n",
              "      <td>1000 US$</td>\n",
              "      <td>NaN</td>\n",
              "      <td>NaN</td>\n",
              "    </tr>\n",
              "    <tr>\n",
              "      <th>7193641</th>\n",
              "      <td>136</td>\n",
              "      <td>Mauritania</td>\n",
              "      <td>1039</td>\n",
              "      <td>Bacon and ham</td>\n",
              "      <td>5610</td>\n",
              "      <td>Import Quantity</td>\n",
              "      <td>2020</td>\n",
              "      <td>2020</td>\n",
              "      <td>tonnes</td>\n",
              "      <td>NaN</td>\n",
              "      <td>NaN</td>\n",
              "    </tr>\n",
              "    <tr>\n",
              "      <th>7193697</th>\n",
              "      <td>136</td>\n",
              "      <td>Mauritania</td>\n",
              "      <td>1039</td>\n",
              "      <td>Bacon and ham</td>\n",
              "      <td>5622</td>\n",
              "      <td>Import Value</td>\n",
              "      <td>2020</td>\n",
              "      <td>2020</td>\n",
              "      <td>1000 US$</td>\n",
              "      <td>NaN</td>\n",
              "      <td>NaN</td>\n",
              "    </tr>\n",
              "    <tr>\n",
              "      <th>7193979</th>\n",
              "      <td>136</td>\n",
              "      <td>Mauritania</td>\n",
              "      <td>44</td>\n",
              "      <td>Barley</td>\n",
              "      <td>5610</td>\n",
              "      <td>Import Quantity</td>\n",
              "      <td>2020</td>\n",
              "      <td>2020</td>\n",
              "      <td>tonnes</td>\n",
              "      <td>NaN</td>\n",
              "      <td>NaN</td>\n",
              "    </tr>\n",
              "    <tr>\n",
              "      <th>7194035</th>\n",
              "      <td>136</td>\n",
              "      <td>Mauritania</td>\n",
              "      <td>44</td>\n",
              "      <td>Barley</td>\n",
              "      <td>5622</td>\n",
              "      <td>Import Value</td>\n",
              "      <td>2020</td>\n",
              "      <td>2020</td>\n",
              "      <td>1000 US$</td>\n",
              "      <td>NaN</td>\n",
              "      <td>NaN</td>\n",
              "    </tr>\n",
              "    <tr>\n",
              "      <th>7194606</th>\n",
              "      <td>136</td>\n",
              "      <td>Mauritania</td>\n",
              "      <td>51</td>\n",
              "      <td>Beer of barley</td>\n",
              "      <td>5910</td>\n",
              "      <td>Export Quantity</td>\n",
              "      <td>2020</td>\n",
              "      <td>2020</td>\n",
              "      <td>tonnes</td>\n",
              "      <td>NaN</td>\n",
              "      <td>NaN</td>\n",
              "    </tr>\n",
              "    <tr>\n",
              "      <th>7194607</th>\n",
              "      <td>136</td>\n",
              "      <td>Mauritania</td>\n",
              "      <td>51</td>\n",
              "      <td>Beer of barley</td>\n",
              "      <td>5922</td>\n",
              "      <td>Export Value</td>\n",
              "      <td>2020</td>\n",
              "      <td>2020</td>\n",
              "      <td>1000 US$</td>\n",
              "      <td>NaN</td>\n",
              "      <td>NaN</td>\n",
              "    </tr>\n",
              "    <tr>\n",
              "      <th>7194835</th>\n",
              "      <td>136</td>\n",
              "      <td>Mauritania</td>\n",
              "      <td>634</td>\n",
              "      <td>Beverages, distilled alcoholic</td>\n",
              "      <td>5910</td>\n",
              "      <td>Export Quantity</td>\n",
              "      <td>2020</td>\n",
              "      <td>2020</td>\n",
              "      <td>tonnes</td>\n",
              "      <td>NaN</td>\n",
              "      <td>NaN</td>\n",
              "    </tr>\n",
              "    <tr>\n",
              "      <th>7194837</th>\n",
              "      <td>136</td>\n",
              "      <td>Mauritania</td>\n",
              "      <td>634</td>\n",
              "      <td>Beverages, distilled alcoholic</td>\n",
              "      <td>5922</td>\n",
              "      <td>Export Value</td>\n",
              "      <td>2020</td>\n",
              "      <td>2020</td>\n",
              "      <td>1000 US$</td>\n",
              "      <td>NaN</td>\n",
              "      <td>NaN</td>\n",
              "    </tr>\n",
              "    <tr>\n",
              "      <th>7196000</th>\n",
              "      <td>136</td>\n",
              "      <td>Mauritania</td>\n",
              "      <td>358</td>\n",
              "      <td>Cabbages and other brassicas</td>\n",
              "      <td>5910</td>\n",
              "      <td>Export Quantity</td>\n",
              "      <td>2020</td>\n",
              "      <td>2020</td>\n",
              "      <td>tonnes</td>\n",
              "      <td>NaN</td>\n",
              "      <td>NaN</td>\n",
              "    </tr>\n",
              "    <tr>\n",
              "      <th>7196001</th>\n",
              "      <td>136</td>\n",
              "      <td>Mauritania</td>\n",
              "      <td>358</td>\n",
              "      <td>Cabbages and other brassicas</td>\n",
              "      <td>5922</td>\n",
              "      <td>Export Value</td>\n",
              "      <td>2020</td>\n",
              "      <td>2020</td>\n",
              "      <td>1000 US$</td>\n",
              "      <td>NaN</td>\n",
              "      <td>NaN</td>\n",
              "    </tr>\n",
              "    <tr>\n",
              "      <th>7196691</th>\n",
              "      <td>136</td>\n",
              "      <td>Mauritania</td>\n",
              "      <td>269</td>\n",
              "      <td>Cake, sunflower</td>\n",
              "      <td>5610</td>\n",
              "      <td>Import Quantity</td>\n",
              "      <td>2020</td>\n",
              "      <td>2020</td>\n",
              "      <td>tonnes</td>\n",
              "      <td>NaN</td>\n",
              "      <td>NaN</td>\n",
              "    </tr>\n",
              "  </tbody>\n",
              "</table>\n",
              "</div>\n",
              "      <button class=\"colab-df-convert\" onclick=\"convertToInteractive('df-ec4a41ee-302a-4d8f-ba8b-713bdafce11c')\"\n",
              "              title=\"Convert this dataframe to an interactive table.\"\n",
              "              style=\"display:none;\">\n",
              "        \n",
              "  <svg xmlns=\"http://www.w3.org/2000/svg\" height=\"24px\"viewBox=\"0 0 24 24\"\n",
              "       width=\"24px\">\n",
              "    <path d=\"M0 0h24v24H0V0z\" fill=\"none\"/>\n",
              "    <path d=\"M18.56 5.44l.94 2.06.94-2.06 2.06-.94-2.06-.94-.94-2.06-.94 2.06-2.06.94zm-11 1L8.5 8.5l.94-2.06 2.06-.94-2.06-.94L8.5 2.5l-.94 2.06-2.06.94zm10 10l.94 2.06.94-2.06 2.06-.94-2.06-.94-.94-2.06-.94 2.06-2.06.94z\"/><path d=\"M17.41 7.96l-1.37-1.37c-.4-.4-.92-.59-1.43-.59-.52 0-1.04.2-1.43.59L10.3 9.45l-7.72 7.72c-.78.78-.78 2.05 0 2.83L4 21.41c.39.39.9.59 1.41.59.51 0 1.02-.2 1.41-.59l7.78-7.78 2.81-2.81c.8-.78.8-2.07 0-2.86zM5.41 20L4 18.59l7.72-7.72 1.47 1.35L5.41 20z\"/>\n",
              "  </svg>\n",
              "      </button>\n",
              "      \n",
              "  <style>\n",
              "    .colab-df-container {\n",
              "      display:flex;\n",
              "      flex-wrap:wrap;\n",
              "      gap: 12px;\n",
              "    }\n",
              "\n",
              "    .colab-df-convert {\n",
              "      background-color: #E8F0FE;\n",
              "      border: none;\n",
              "      border-radius: 50%;\n",
              "      cursor: pointer;\n",
              "      display: none;\n",
              "      fill: #1967D2;\n",
              "      height: 32px;\n",
              "      padding: 0 0 0 0;\n",
              "      width: 32px;\n",
              "    }\n",
              "\n",
              "    .colab-df-convert:hover {\n",
              "      background-color: #E2EBFA;\n",
              "      box-shadow: 0px 1px 2px rgba(60, 64, 67, 0.3), 0px 1px 3px 1px rgba(60, 64, 67, 0.15);\n",
              "      fill: #174EA6;\n",
              "    }\n",
              "\n",
              "    [theme=dark] .colab-df-convert {\n",
              "      background-color: #3B4455;\n",
              "      fill: #D2E3FC;\n",
              "    }\n",
              "\n",
              "    [theme=dark] .colab-df-convert:hover {\n",
              "      background-color: #434B5C;\n",
              "      box-shadow: 0px 1px 3px 1px rgba(0, 0, 0, 0.15);\n",
              "      filter: drop-shadow(0px 1px 2px rgba(0, 0, 0, 0.3));\n",
              "      fill: #FFFFFF;\n",
              "    }\n",
              "  </style>\n",
              "\n",
              "      <script>\n",
              "        const buttonEl =\n",
              "          document.querySelector('#df-ec4a41ee-302a-4d8f-ba8b-713bdafce11c button.colab-df-convert');\n",
              "        buttonEl.style.display =\n",
              "          google.colab.kernel.accessAllowed ? 'block' : 'none';\n",
              "\n",
              "        async function convertToInteractive(key) {\n",
              "          const element = document.querySelector('#df-ec4a41ee-302a-4d8f-ba8b-713bdafce11c');\n",
              "          const dataTable =\n",
              "            await google.colab.kernel.invokeFunction('convertToInteractive',\n",
              "                                                     [key], {});\n",
              "          if (!dataTable) return;\n",
              "\n",
              "          const docLinkHtml = 'Like what you see? Visit the ' +\n",
              "            '<a target=\"_blank\" href=https://colab.research.google.com/notebooks/data_table.ipynb>data table notebook</a>'\n",
              "            + ' to learn more about interactive tables.';\n",
              "          element.innerHTML = '';\n",
              "          dataTable['output_type'] = 'display_data';\n",
              "          await google.colab.output.renderOutput(dataTable, element);\n",
              "          const docLink = document.createElement('div');\n",
              "          docLink.innerHTML = docLinkHtml;\n",
              "          element.appendChild(docLink);\n",
              "        }\n",
              "      </script>\n",
              "    </div>\n",
              "  </div>\n",
              "  "
            ],
            "text/plain": [
              "         Area Code        Area  Item Code  ...      Unit  Value Flag\n",
              "7192517        136  Mauritania        231  ...    tonnes    NaN  NaN\n",
              "7192573        136  Mauritania        231  ...  1000 US$    NaN  NaN\n",
              "7192848        136  Mauritania       1169  ...  1000 US$    NaN  NaN\n",
              "7192904        136  Mauritania        711  ...    tonnes    NaN  NaN\n",
              "7192960        136  Mauritania        711  ...  1000 US$    NaN  NaN\n",
              "7193136        136  Mauritania        526  ...    tonnes    NaN  NaN\n",
              "7193192        136  Mauritania        526  ...  1000 US$    NaN  NaN\n",
              "7193248        136  Mauritania        527  ...    tonnes    NaN  NaN\n",
              "7193251        136  Mauritania        527  ...  1000 US$    NaN  NaN\n",
              "7193641        136  Mauritania       1039  ...    tonnes    NaN  NaN\n",
              "7193697        136  Mauritania       1039  ...  1000 US$    NaN  NaN\n",
              "7193979        136  Mauritania         44  ...    tonnes    NaN  NaN\n",
              "7194035        136  Mauritania         44  ...  1000 US$    NaN  NaN\n",
              "7194606        136  Mauritania         51  ...    tonnes    NaN  NaN\n",
              "7194607        136  Mauritania         51  ...  1000 US$    NaN  NaN\n",
              "7194835        136  Mauritania        634  ...    tonnes    NaN  NaN\n",
              "7194837        136  Mauritania        634  ...  1000 US$    NaN  NaN\n",
              "7196000        136  Mauritania        358  ...    tonnes    NaN  NaN\n",
              "7196001        136  Mauritania        358  ...  1000 US$    NaN  NaN\n",
              "7196691        136  Mauritania        269  ...    tonnes    NaN  NaN\n",
              "\n",
              "[20 rows x 11 columns]"
            ]
          },
          "metadata": {},
          "execution_count": 36
        }
      ]
    },
    {
      "cell_type": "code",
      "source": [
        "# Observamos ahora la evolución de uno de los Items con nulos\n",
        "\n",
        "df[(df.Year.between(1990,2020)) & (df[\"Area Code\"]==136) & (df[\"Item Code\"] == 711) & (df[\"Element Code\"]==5622)].tail(20)"
      ],
      "metadata": {
        "colab": {
          "base_uri": "https://localhost:8080/"
        },
        "id": "npnlhtkQGASv",
        "outputId": "432f740d-c8f0-4714-94a0-2cb4ce13a8dd"
      },
      "execution_count": null,
      "outputs": [
        {
          "output_type": "execute_result",
          "data": {
            "text/html": [
              "\n",
              "  <div id=\"df-a12cf486-430d-4fec-aaee-61f89d7bc30c\">\n",
              "    <div class=\"colab-df-container\">\n",
              "      <div>\n",
              "<style scoped>\n",
              "    .dataframe tbody tr th:only-of-type {\n",
              "        vertical-align: middle;\n",
              "    }\n",
              "\n",
              "    .dataframe tbody tr th {\n",
              "        vertical-align: top;\n",
              "    }\n",
              "\n",
              "    .dataframe thead th {\n",
              "        text-align: right;\n",
              "    }\n",
              "</style>\n",
              "<table border=\"1\" class=\"dataframe\">\n",
              "  <thead>\n",
              "    <tr style=\"text-align: right;\">\n",
              "      <th></th>\n",
              "      <th>Area Code</th>\n",
              "      <th>Area</th>\n",
              "      <th>Item Code</th>\n",
              "      <th>Item</th>\n",
              "      <th>Element Code</th>\n",
              "      <th>Element</th>\n",
              "      <th>Year Code</th>\n",
              "      <th>Year</th>\n",
              "      <th>Unit</th>\n",
              "      <th>Value</th>\n",
              "      <th>Flag</th>\n",
              "    </tr>\n",
              "  </thead>\n",
              "  <tbody>\n",
              "    <tr>\n",
              "      <th>7192941</th>\n",
              "      <td>136</td>\n",
              "      <td>Mauritania</td>\n",
              "      <td>711</td>\n",
              "      <td>Anise, badian, fennel, coriander</td>\n",
              "      <td>5622</td>\n",
              "      <td>Import Value</td>\n",
              "      <td>1997</td>\n",
              "      <td>1997</td>\n",
              "      <td>1000 US$</td>\n",
              "      <td>NaN</td>\n",
              "      <td>M</td>\n",
              "    </tr>\n",
              "    <tr>\n",
              "      <th>7192942</th>\n",
              "      <td>136</td>\n",
              "      <td>Mauritania</td>\n",
              "      <td>711</td>\n",
              "      <td>Anise, badian, fennel, coriander</td>\n",
              "      <td>5622</td>\n",
              "      <td>Import Value</td>\n",
              "      <td>1998</td>\n",
              "      <td>1998</td>\n",
              "      <td>1000 US$</td>\n",
              "      <td>NaN</td>\n",
              "      <td>M</td>\n",
              "    </tr>\n",
              "    <tr>\n",
              "      <th>7192943</th>\n",
              "      <td>136</td>\n",
              "      <td>Mauritania</td>\n",
              "      <td>711</td>\n",
              "      <td>Anise, badian, fennel, coriander</td>\n",
              "      <td>5622</td>\n",
              "      <td>Import Value</td>\n",
              "      <td>1999</td>\n",
              "      <td>1999</td>\n",
              "      <td>1000 US$</td>\n",
              "      <td>NaN</td>\n",
              "      <td>M</td>\n",
              "    </tr>\n",
              "    <tr>\n",
              "      <th>7192944</th>\n",
              "      <td>136</td>\n",
              "      <td>Mauritania</td>\n",
              "      <td>711</td>\n",
              "      <td>Anise, badian, fennel, coriander</td>\n",
              "      <td>5622</td>\n",
              "      <td>Import Value</td>\n",
              "      <td>2000</td>\n",
              "      <td>2000</td>\n",
              "      <td>1000 US$</td>\n",
              "      <td>NaN</td>\n",
              "      <td>M</td>\n",
              "    </tr>\n",
              "    <tr>\n",
              "      <th>7192945</th>\n",
              "      <td>136</td>\n",
              "      <td>Mauritania</td>\n",
              "      <td>711</td>\n",
              "      <td>Anise, badian, fennel, coriander</td>\n",
              "      <td>5622</td>\n",
              "      <td>Import Value</td>\n",
              "      <td>2001</td>\n",
              "      <td>2001</td>\n",
              "      <td>1000 US$</td>\n",
              "      <td>NaN</td>\n",
              "      <td>M</td>\n",
              "    </tr>\n",
              "    <tr>\n",
              "      <th>7192946</th>\n",
              "      <td>136</td>\n",
              "      <td>Mauritania</td>\n",
              "      <td>711</td>\n",
              "      <td>Anise, badian, fennel, coriander</td>\n",
              "      <td>5622</td>\n",
              "      <td>Import Value</td>\n",
              "      <td>2002</td>\n",
              "      <td>2002</td>\n",
              "      <td>1000 US$</td>\n",
              "      <td>NaN</td>\n",
              "      <td>M</td>\n",
              "    </tr>\n",
              "    <tr>\n",
              "      <th>7192947</th>\n",
              "      <td>136</td>\n",
              "      <td>Mauritania</td>\n",
              "      <td>711</td>\n",
              "      <td>Anise, badian, fennel, coriander</td>\n",
              "      <td>5622</td>\n",
              "      <td>Import Value</td>\n",
              "      <td>2003</td>\n",
              "      <td>2003</td>\n",
              "      <td>1000 US$</td>\n",
              "      <td>NaN</td>\n",
              "      <td>M</td>\n",
              "    </tr>\n",
              "    <tr>\n",
              "      <th>7192948</th>\n",
              "      <td>136</td>\n",
              "      <td>Mauritania</td>\n",
              "      <td>711</td>\n",
              "      <td>Anise, badian, fennel, coriander</td>\n",
              "      <td>5622</td>\n",
              "      <td>Import Value</td>\n",
              "      <td>2004</td>\n",
              "      <td>2004</td>\n",
              "      <td>1000 US$</td>\n",
              "      <td>NaN</td>\n",
              "      <td>M</td>\n",
              "    </tr>\n",
              "    <tr>\n",
              "      <th>7192949</th>\n",
              "      <td>136</td>\n",
              "      <td>Mauritania</td>\n",
              "      <td>711</td>\n",
              "      <td>Anise, badian, fennel, coriander</td>\n",
              "      <td>5622</td>\n",
              "      <td>Import Value</td>\n",
              "      <td>2005</td>\n",
              "      <td>2005</td>\n",
              "      <td>1000 US$</td>\n",
              "      <td>NaN</td>\n",
              "      <td>M</td>\n",
              "    </tr>\n",
              "    <tr>\n",
              "      <th>7192950</th>\n",
              "      <td>136</td>\n",
              "      <td>Mauritania</td>\n",
              "      <td>711</td>\n",
              "      <td>Anise, badian, fennel, coriander</td>\n",
              "      <td>5622</td>\n",
              "      <td>Import Value</td>\n",
              "      <td>2006</td>\n",
              "      <td>2006</td>\n",
              "      <td>1000 US$</td>\n",
              "      <td>NaN</td>\n",
              "      <td>M</td>\n",
              "    </tr>\n",
              "    <tr>\n",
              "      <th>7192951</th>\n",
              "      <td>136</td>\n",
              "      <td>Mauritania</td>\n",
              "      <td>711</td>\n",
              "      <td>Anise, badian, fennel, coriander</td>\n",
              "      <td>5622</td>\n",
              "      <td>Import Value</td>\n",
              "      <td>2007</td>\n",
              "      <td>2007</td>\n",
              "      <td>1000 US$</td>\n",
              "      <td>35.0</td>\n",
              "      <td>NaN</td>\n",
              "    </tr>\n",
              "    <tr>\n",
              "      <th>7192952</th>\n",
              "      <td>136</td>\n",
              "      <td>Mauritania</td>\n",
              "      <td>711</td>\n",
              "      <td>Anise, badian, fennel, coriander</td>\n",
              "      <td>5622</td>\n",
              "      <td>Import Value</td>\n",
              "      <td>2008</td>\n",
              "      <td>2008</td>\n",
              "      <td>1000 US$</td>\n",
              "      <td>2.0</td>\n",
              "      <td>NaN</td>\n",
              "    </tr>\n",
              "    <tr>\n",
              "      <th>7192953</th>\n",
              "      <td>136</td>\n",
              "      <td>Mauritania</td>\n",
              "      <td>711</td>\n",
              "      <td>Anise, badian, fennel, coriander</td>\n",
              "      <td>5622</td>\n",
              "      <td>Import Value</td>\n",
              "      <td>2009</td>\n",
              "      <td>2009</td>\n",
              "      <td>1000 US$</td>\n",
              "      <td>2.0</td>\n",
              "      <td>F</td>\n",
              "    </tr>\n",
              "    <tr>\n",
              "      <th>7192954</th>\n",
              "      <td>136</td>\n",
              "      <td>Mauritania</td>\n",
              "      <td>711</td>\n",
              "      <td>Anise, badian, fennel, coriander</td>\n",
              "      <td>5622</td>\n",
              "      <td>Import Value</td>\n",
              "      <td>2010</td>\n",
              "      <td>2010</td>\n",
              "      <td>1000 US$</td>\n",
              "      <td>0.0</td>\n",
              "      <td>*</td>\n",
              "    </tr>\n",
              "    <tr>\n",
              "      <th>7192955</th>\n",
              "      <td>136</td>\n",
              "      <td>Mauritania</td>\n",
              "      <td>711</td>\n",
              "      <td>Anise, badian, fennel, coriander</td>\n",
              "      <td>5622</td>\n",
              "      <td>Import Value</td>\n",
              "      <td>2011</td>\n",
              "      <td>2011</td>\n",
              "      <td>1000 US$</td>\n",
              "      <td>0.0</td>\n",
              "      <td>F</td>\n",
              "    </tr>\n",
              "    <tr>\n",
              "      <th>7192956</th>\n",
              "      <td>136</td>\n",
              "      <td>Mauritania</td>\n",
              "      <td>711</td>\n",
              "      <td>Anise, badian, fennel, coriander</td>\n",
              "      <td>5622</td>\n",
              "      <td>Import Value</td>\n",
              "      <td>2012</td>\n",
              "      <td>2012</td>\n",
              "      <td>1000 US$</td>\n",
              "      <td>0.0</td>\n",
              "      <td>F</td>\n",
              "    </tr>\n",
              "    <tr>\n",
              "      <th>7192957</th>\n",
              "      <td>136</td>\n",
              "      <td>Mauritania</td>\n",
              "      <td>711</td>\n",
              "      <td>Anise, badian, fennel, coriander</td>\n",
              "      <td>5622</td>\n",
              "      <td>Import Value</td>\n",
              "      <td>2013</td>\n",
              "      <td>2013</td>\n",
              "      <td>1000 US$</td>\n",
              "      <td>0.0</td>\n",
              "      <td>F</td>\n",
              "    </tr>\n",
              "    <tr>\n",
              "      <th>7192958</th>\n",
              "      <td>136</td>\n",
              "      <td>Mauritania</td>\n",
              "      <td>711</td>\n",
              "      <td>Anise, badian, fennel, coriander</td>\n",
              "      <td>5622</td>\n",
              "      <td>Import Value</td>\n",
              "      <td>2015</td>\n",
              "      <td>2015</td>\n",
              "      <td>1000 US$</td>\n",
              "      <td>1.0</td>\n",
              "      <td>R</td>\n",
              "    </tr>\n",
              "    <tr>\n",
              "      <th>7192959</th>\n",
              "      <td>136</td>\n",
              "      <td>Mauritania</td>\n",
              "      <td>711</td>\n",
              "      <td>Anise, badian, fennel, coriander</td>\n",
              "      <td>5622</td>\n",
              "      <td>Import Value</td>\n",
              "      <td>2018</td>\n",
              "      <td>2018</td>\n",
              "      <td>1000 US$</td>\n",
              "      <td>NaN</td>\n",
              "      <td>NaN</td>\n",
              "    </tr>\n",
              "    <tr>\n",
              "      <th>7192960</th>\n",
              "      <td>136</td>\n",
              "      <td>Mauritania</td>\n",
              "      <td>711</td>\n",
              "      <td>Anise, badian, fennel, coriander</td>\n",
              "      <td>5622</td>\n",
              "      <td>Import Value</td>\n",
              "      <td>2020</td>\n",
              "      <td>2020</td>\n",
              "      <td>1000 US$</td>\n",
              "      <td>NaN</td>\n",
              "      <td>NaN</td>\n",
              "    </tr>\n",
              "  </tbody>\n",
              "</table>\n",
              "</div>\n",
              "      <button class=\"colab-df-convert\" onclick=\"convertToInteractive('df-a12cf486-430d-4fec-aaee-61f89d7bc30c')\"\n",
              "              title=\"Convert this dataframe to an interactive table.\"\n",
              "              style=\"display:none;\">\n",
              "        \n",
              "  <svg xmlns=\"http://www.w3.org/2000/svg\" height=\"24px\"viewBox=\"0 0 24 24\"\n",
              "       width=\"24px\">\n",
              "    <path d=\"M0 0h24v24H0V0z\" fill=\"none\"/>\n",
              "    <path d=\"M18.56 5.44l.94 2.06.94-2.06 2.06-.94-2.06-.94-.94-2.06-.94 2.06-2.06.94zm-11 1L8.5 8.5l.94-2.06 2.06-.94-2.06-.94L8.5 2.5l-.94 2.06-2.06.94zm10 10l.94 2.06.94-2.06 2.06-.94-2.06-.94-.94-2.06-.94 2.06-2.06.94z\"/><path d=\"M17.41 7.96l-1.37-1.37c-.4-.4-.92-.59-1.43-.59-.52 0-1.04.2-1.43.59L10.3 9.45l-7.72 7.72c-.78.78-.78 2.05 0 2.83L4 21.41c.39.39.9.59 1.41.59.51 0 1.02-.2 1.41-.59l7.78-7.78 2.81-2.81c.8-.78.8-2.07 0-2.86zM5.41 20L4 18.59l7.72-7.72 1.47 1.35L5.41 20z\"/>\n",
              "  </svg>\n",
              "      </button>\n",
              "      \n",
              "  <style>\n",
              "    .colab-df-container {\n",
              "      display:flex;\n",
              "      flex-wrap:wrap;\n",
              "      gap: 12px;\n",
              "    }\n",
              "\n",
              "    .colab-df-convert {\n",
              "      background-color: #E8F0FE;\n",
              "      border: none;\n",
              "      border-radius: 50%;\n",
              "      cursor: pointer;\n",
              "      display: none;\n",
              "      fill: #1967D2;\n",
              "      height: 32px;\n",
              "      padding: 0 0 0 0;\n",
              "      width: 32px;\n",
              "    }\n",
              "\n",
              "    .colab-df-convert:hover {\n",
              "      background-color: #E2EBFA;\n",
              "      box-shadow: 0px 1px 2px rgba(60, 64, 67, 0.3), 0px 1px 3px 1px rgba(60, 64, 67, 0.15);\n",
              "      fill: #174EA6;\n",
              "    }\n",
              "\n",
              "    [theme=dark] .colab-df-convert {\n",
              "      background-color: #3B4455;\n",
              "      fill: #D2E3FC;\n",
              "    }\n",
              "\n",
              "    [theme=dark] .colab-df-convert:hover {\n",
              "      background-color: #434B5C;\n",
              "      box-shadow: 0px 1px 3px 1px rgba(0, 0, 0, 0.15);\n",
              "      filter: drop-shadow(0px 1px 2px rgba(0, 0, 0, 0.3));\n",
              "      fill: #FFFFFF;\n",
              "    }\n",
              "  </style>\n",
              "\n",
              "      <script>\n",
              "        const buttonEl =\n",
              "          document.querySelector('#df-a12cf486-430d-4fec-aaee-61f89d7bc30c button.colab-df-convert');\n",
              "        buttonEl.style.display =\n",
              "          google.colab.kernel.accessAllowed ? 'block' : 'none';\n",
              "\n",
              "        async function convertToInteractive(key) {\n",
              "          const element = document.querySelector('#df-a12cf486-430d-4fec-aaee-61f89d7bc30c');\n",
              "          const dataTable =\n",
              "            await google.colab.kernel.invokeFunction('convertToInteractive',\n",
              "                                                     [key], {});\n",
              "          if (!dataTable) return;\n",
              "\n",
              "          const docLinkHtml = 'Like what you see? Visit the ' +\n",
              "            '<a target=\"_blank\" href=https://colab.research.google.com/notebooks/data_table.ipynb>data table notebook</a>'\n",
              "            + ' to learn more about interactive tables.';\n",
              "          element.innerHTML = '';\n",
              "          dataTable['output_type'] = 'display_data';\n",
              "          await google.colab.output.renderOutput(dataTable, element);\n",
              "          const docLink = document.createElement('div');\n",
              "          docLink.innerHTML = docLinkHtml;\n",
              "          element.appendChild(docLink);\n",
              "        }\n",
              "      </script>\n",
              "    </div>\n",
              "  </div>\n",
              "  "
            ],
            "text/plain": [
              "         Area Code        Area  Item Code  ...      Unit  Value Flag\n",
              "7192941        136  Mauritania        711  ...  1000 US$    NaN    M\n",
              "7192942        136  Mauritania        711  ...  1000 US$    NaN    M\n",
              "7192943        136  Mauritania        711  ...  1000 US$    NaN    M\n",
              "7192944        136  Mauritania        711  ...  1000 US$    NaN    M\n",
              "7192945        136  Mauritania        711  ...  1000 US$    NaN    M\n",
              "7192946        136  Mauritania        711  ...  1000 US$    NaN    M\n",
              "7192947        136  Mauritania        711  ...  1000 US$    NaN    M\n",
              "7192948        136  Mauritania        711  ...  1000 US$    NaN    M\n",
              "7192949        136  Mauritania        711  ...  1000 US$    NaN    M\n",
              "7192950        136  Mauritania        711  ...  1000 US$    NaN    M\n",
              "7192951        136  Mauritania        711  ...  1000 US$   35.0  NaN\n",
              "7192952        136  Mauritania        711  ...  1000 US$    2.0  NaN\n",
              "7192953        136  Mauritania        711  ...  1000 US$    2.0    F\n",
              "7192954        136  Mauritania        711  ...  1000 US$    0.0    *\n",
              "7192955        136  Mauritania        711  ...  1000 US$    0.0    F\n",
              "7192956        136  Mauritania        711  ...  1000 US$    0.0    F\n",
              "7192957        136  Mauritania        711  ...  1000 US$    0.0    F\n",
              "7192958        136  Mauritania        711  ...  1000 US$    1.0    R\n",
              "7192959        136  Mauritania        711  ...  1000 US$    NaN  NaN\n",
              "7192960        136  Mauritania        711  ...  1000 US$    NaN  NaN\n",
              "\n",
              "[20 rows x 11 columns]"
            ]
          },
          "metadata": {},
          "execution_count": 37
        }
      ]
    },
    {
      "cell_type": "markdown",
      "source": [
        "En este caso también podría ser buena opción poner 0's. \n",
        "Parece que en los casos con nulos, se repiten Nulos y 0's en otros años. Quizás una buena estrategia sería rellenar los Nulos con 0's, y más teniendo en cuenta que en caso de tener información del país con el que se hace una transacción, los campos ya se rellenan con esa información."
      ],
      "metadata": {
        "id": "ZGda4Op-cKkW"
      }
    },
    {
      "cell_type": "markdown",
      "source": [
        "# EDA"
      ],
      "metadata": {
        "id": "FqSvnKedwKCY"
      }
    },
    {
      "cell_type": "markdown",
      "source": [
        "### Vamos a ver cuales han sido los países  más exportadores el último año.\n",
        "Tenemos en cuenta lo siguiente:\n",
        "- Las agrupaciones de paises están en los códigos mayores de 5000\n",
        "- Las agrupaciones de productos están en los códigos mayores de 1500"
      ],
      "metadata": {
        "id": "_8Zry2X9M2r2"
      }
    },
    {
      "cell_type": "code",
      "source": [
        "ult_año = df[\"Year\"].max()"
      ],
      "metadata": {
        "id": "ZOoBu_WhSrZs"
      },
      "execution_count": null,
      "outputs": []
    },
    {
      "cell_type": "code",
      "source": [
        "# Filtramos la base de datos para quedarnos la cantidad exportada de alimentos (no agrupaciones), por países (no agrupaciones) en el último año.\n",
        "\n",
        "df_Paises_Export_q_2020 = df[ (df[\"Element\"] == \"Export Quantity\") & (df[\"Area Code\"] < 5000) & (df[\"Year\"] == ult_año ) & (df[\"Item Code\"] < 1500 )]"
      ],
      "metadata": {
        "id": "ZWKZ7Bfyveir"
      },
      "execution_count": null,
      "outputs": []
    },
    {
      "cell_type": "code",
      "source": [
        "df_Paises_Export_q_2020.head()"
      ],
      "metadata": {
        "colab": {
          "base_uri": "https://localhost:8080/",
          "height": 206
        },
        "id": "zE-NsyXtvxPQ",
        "outputId": "8f926e87-c222-4ec3-a558-1c792d838778"
      },
      "execution_count": null,
      "outputs": [
        {
          "output_type": "execute_result",
          "data": {
            "text/html": [
              "\n",
              "  <div id=\"df-0498f909-836c-43e5-ad8a-f1d857c2c827\">\n",
              "    <div class=\"colab-df-container\">\n",
              "      <div>\n",
              "<style scoped>\n",
              "    .dataframe tbody tr th:only-of-type {\n",
              "        vertical-align: middle;\n",
              "    }\n",
              "\n",
              "    .dataframe tbody tr th {\n",
              "        vertical-align: top;\n",
              "    }\n",
              "\n",
              "    .dataframe thead th {\n",
              "        text-align: right;\n",
              "    }\n",
              "</style>\n",
              "<table border=\"1\" class=\"dataframe\">\n",
              "  <thead>\n",
              "    <tr style=\"text-align: right;\">\n",
              "      <th></th>\n",
              "      <th>Area Code</th>\n",
              "      <th>Area</th>\n",
              "      <th>Item Code</th>\n",
              "      <th>Item</th>\n",
              "      <th>Element Code</th>\n",
              "      <th>Element</th>\n",
              "      <th>Year Code</th>\n",
              "      <th>Year</th>\n",
              "      <th>Unit</th>\n",
              "      <th>Value</th>\n",
              "      <th>Flag</th>\n",
              "    </tr>\n",
              "  </thead>\n",
              "  <tbody>\n",
              "    <tr>\n",
              "      <th>1</th>\n",
              "      <td>2</td>\n",
              "      <td>Afghanistan</td>\n",
              "      <td>862</td>\n",
              "      <td>Alfalfa meal and pellets</td>\n",
              "      <td>5910</td>\n",
              "      <td>Export Quantity</td>\n",
              "      <td>2020</td>\n",
              "      <td>2020</td>\n",
              "      <td>tonnes</td>\n",
              "      <td>21.0</td>\n",
              "      <td>*</td>\n",
              "    </tr>\n",
              "    <tr>\n",
              "      <th>77</th>\n",
              "      <td>2</td>\n",
              "      <td>Afghanistan</td>\n",
              "      <td>231</td>\n",
              "      <td>Almonds shelled</td>\n",
              "      <td>5910</td>\n",
              "      <td>Export Quantity</td>\n",
              "      <td>2020</td>\n",
              "      <td>2020</td>\n",
              "      <td>tonnes</td>\n",
              "      <td>4123.0</td>\n",
              "      <td>R</td>\n",
              "    </tr>\n",
              "    <tr>\n",
              "      <th>211</th>\n",
              "      <td>2</td>\n",
              "      <td>Afghanistan</td>\n",
              "      <td>221</td>\n",
              "      <td>Almonds, with shell</td>\n",
              "      <td>5910</td>\n",
              "      <td>Export Quantity</td>\n",
              "      <td>2020</td>\n",
              "      <td>2020</td>\n",
              "      <td>tonnes</td>\n",
              "      <td>2546.0</td>\n",
              "      <td>*</td>\n",
              "    </tr>\n",
              "    <tr>\n",
              "      <th>371</th>\n",
              "      <td>2</td>\n",
              "      <td>Afghanistan</td>\n",
              "      <td>711</td>\n",
              "      <td>Anise, badian, fennel, coriander</td>\n",
              "      <td>5910</td>\n",
              "      <td>Export Quantity</td>\n",
              "      <td>2020</td>\n",
              "      <td>2020</td>\n",
              "      <td>tonnes</td>\n",
              "      <td>15176.0</td>\n",
              "      <td>R</td>\n",
              "    </tr>\n",
              "    <tr>\n",
              "      <th>611</th>\n",
              "      <td>2</td>\n",
              "      <td>Afghanistan</td>\n",
              "      <td>515</td>\n",
              "      <td>Apples</td>\n",
              "      <td>5910</td>\n",
              "      <td>Export Quantity</td>\n",
              "      <td>2020</td>\n",
              "      <td>2020</td>\n",
              "      <td>tonnes</td>\n",
              "      <td>29776.0</td>\n",
              "      <td>R</td>\n",
              "    </tr>\n",
              "  </tbody>\n",
              "</table>\n",
              "</div>\n",
              "      <button class=\"colab-df-convert\" onclick=\"convertToInteractive('df-0498f909-836c-43e5-ad8a-f1d857c2c827')\"\n",
              "              title=\"Convert this dataframe to an interactive table.\"\n",
              "              style=\"display:none;\">\n",
              "        \n",
              "  <svg xmlns=\"http://www.w3.org/2000/svg\" height=\"24px\"viewBox=\"0 0 24 24\"\n",
              "       width=\"24px\">\n",
              "    <path d=\"M0 0h24v24H0V0z\" fill=\"none\"/>\n",
              "    <path d=\"M18.56 5.44l.94 2.06.94-2.06 2.06-.94-2.06-.94-.94-2.06-.94 2.06-2.06.94zm-11 1L8.5 8.5l.94-2.06 2.06-.94-2.06-.94L8.5 2.5l-.94 2.06-2.06.94zm10 10l.94 2.06.94-2.06 2.06-.94-2.06-.94-.94-2.06-.94 2.06-2.06.94z\"/><path d=\"M17.41 7.96l-1.37-1.37c-.4-.4-.92-.59-1.43-.59-.52 0-1.04.2-1.43.59L10.3 9.45l-7.72 7.72c-.78.78-.78 2.05 0 2.83L4 21.41c.39.39.9.59 1.41.59.51 0 1.02-.2 1.41-.59l7.78-7.78 2.81-2.81c.8-.78.8-2.07 0-2.86zM5.41 20L4 18.59l7.72-7.72 1.47 1.35L5.41 20z\"/>\n",
              "  </svg>\n",
              "      </button>\n",
              "      \n",
              "  <style>\n",
              "    .colab-df-container {\n",
              "      display:flex;\n",
              "      flex-wrap:wrap;\n",
              "      gap: 12px;\n",
              "    }\n",
              "\n",
              "    .colab-df-convert {\n",
              "      background-color: #E8F0FE;\n",
              "      border: none;\n",
              "      border-radius: 50%;\n",
              "      cursor: pointer;\n",
              "      display: none;\n",
              "      fill: #1967D2;\n",
              "      height: 32px;\n",
              "      padding: 0 0 0 0;\n",
              "      width: 32px;\n",
              "    }\n",
              "\n",
              "    .colab-df-convert:hover {\n",
              "      background-color: #E2EBFA;\n",
              "      box-shadow: 0px 1px 2px rgba(60, 64, 67, 0.3), 0px 1px 3px 1px rgba(60, 64, 67, 0.15);\n",
              "      fill: #174EA6;\n",
              "    }\n",
              "\n",
              "    [theme=dark] .colab-df-convert {\n",
              "      background-color: #3B4455;\n",
              "      fill: #D2E3FC;\n",
              "    }\n",
              "\n",
              "    [theme=dark] .colab-df-convert:hover {\n",
              "      background-color: #434B5C;\n",
              "      box-shadow: 0px 1px 3px 1px rgba(0, 0, 0, 0.15);\n",
              "      filter: drop-shadow(0px 1px 2px rgba(0, 0, 0, 0.3));\n",
              "      fill: #FFFFFF;\n",
              "    }\n",
              "  </style>\n",
              "\n",
              "      <script>\n",
              "        const buttonEl =\n",
              "          document.querySelector('#df-0498f909-836c-43e5-ad8a-f1d857c2c827 button.colab-df-convert');\n",
              "        buttonEl.style.display =\n",
              "          google.colab.kernel.accessAllowed ? 'block' : 'none';\n",
              "\n",
              "        async function convertToInteractive(key) {\n",
              "          const element = document.querySelector('#df-0498f909-836c-43e5-ad8a-f1d857c2c827');\n",
              "          const dataTable =\n",
              "            await google.colab.kernel.invokeFunction('convertToInteractive',\n",
              "                                                     [key], {});\n",
              "          if (!dataTable) return;\n",
              "\n",
              "          const docLinkHtml = 'Like what you see? Visit the ' +\n",
              "            '<a target=\"_blank\" href=https://colab.research.google.com/notebooks/data_table.ipynb>data table notebook</a>'\n",
              "            + ' to learn more about interactive tables.';\n",
              "          element.innerHTML = '';\n",
              "          dataTable['output_type'] = 'display_data';\n",
              "          await google.colab.output.renderOutput(dataTable, element);\n",
              "          const docLink = document.createElement('div');\n",
              "          docLink.innerHTML = docLinkHtml;\n",
              "          element.appendChild(docLink);\n",
              "        }\n",
              "      </script>\n",
              "    </div>\n",
              "  </div>\n",
              "  "
            ],
            "text/plain": [
              "     Area Code         Area  Item Code  ...    Unit    Value Flag\n",
              "1            2  Afghanistan        862  ...  tonnes     21.0    *\n",
              "77           2  Afghanistan        231  ...  tonnes   4123.0    R\n",
              "211          2  Afghanistan        221  ...  tonnes   2546.0    *\n",
              "371          2  Afghanistan        711  ...  tonnes  15176.0    R\n",
              "611          2  Afghanistan        515  ...  tonnes  29776.0    R\n",
              "\n",
              "[5 rows x 11 columns]"
            ]
          },
          "metadata": {},
          "execution_count": 40
        }
      ]
    },
    {
      "cell_type": "code",
      "source": [
        "# Agrupamos por país y sumamos todas las cantidades exportadas\n",
        "\n",
        "gb_df_Paises_Export_q_2020 = df_Paises_Export_q_2020.groupby([\"Year\",\"Area\",\"Element\"])[\"Value\"].sum().reset_index()"
      ],
      "metadata": {
        "id": "jV2b_3jjN0SH"
      },
      "execution_count": null,
      "outputs": []
    },
    {
      "cell_type": "code",
      "source": [
        "tabla_orden=gb_df_Paises_Export_q_2020.sort_values(\"Value\", ascending=True).tail(20).reset_index(drop=True)"
      ],
      "metadata": {
        "id": "VEuWHILHTxyh"
      },
      "execution_count": null,
      "outputs": []
    },
    {
      "cell_type": "code",
      "source": [
        "tabla_orden.head()"
      ],
      "metadata": {
        "colab": {
          "base_uri": "https://localhost:8080/",
          "height": 206
        },
        "id": "iQkrt-qJT7rQ",
        "outputId": "9246146f-72b4-4bb5-e49b-c1032992d337"
      },
      "execution_count": null,
      "outputs": [
        {
          "output_type": "execute_result",
          "data": {
            "text/html": [
              "\n",
              "  <div id=\"df-0975d0e9-a80d-4c38-945b-2c88a37f644e\">\n",
              "    <div class=\"colab-df-container\">\n",
              "      <div>\n",
              "<style scoped>\n",
              "    .dataframe tbody tr th:only-of-type {\n",
              "        vertical-align: middle;\n",
              "    }\n",
              "\n",
              "    .dataframe tbody tr th {\n",
              "        vertical-align: top;\n",
              "    }\n",
              "\n",
              "    .dataframe thead th {\n",
              "        text-align: right;\n",
              "    }\n",
              "</style>\n",
              "<table border=\"1\" class=\"dataframe\">\n",
              "  <thead>\n",
              "    <tr style=\"text-align: right;\">\n",
              "      <th></th>\n",
              "      <th>Year</th>\n",
              "      <th>Area</th>\n",
              "      <th>Element</th>\n",
              "      <th>Value</th>\n",
              "    </tr>\n",
              "  </thead>\n",
              "  <tbody>\n",
              "    <tr>\n",
              "      <th>0</th>\n",
              "      <td>2020</td>\n",
              "      <td>Malaysia</td>\n",
              "      <td>Export Quantity</td>\n",
              "      <td>26937042.0</td>\n",
              "    </tr>\n",
              "    <tr>\n",
              "      <th>1</th>\n",
              "      <td>2020</td>\n",
              "      <td>Poland</td>\n",
              "      <td>Export Quantity</td>\n",
              "      <td>27748419.0</td>\n",
              "    </tr>\n",
              "    <tr>\n",
              "      <th>2</th>\n",
              "      <td>2020</td>\n",
              "      <td>Australia</td>\n",
              "      <td>Export Quantity</td>\n",
              "      <td>31572071.0</td>\n",
              "    </tr>\n",
              "    <tr>\n",
              "      <th>3</th>\n",
              "      <td>2020</td>\n",
              "      <td>China (excluding intra-trade)</td>\n",
              "      <td>Export Quantity</td>\n",
              "      <td>32719976.0</td>\n",
              "    </tr>\n",
              "    <tr>\n",
              "      <th>4</th>\n",
              "      <td>2020</td>\n",
              "      <td>Belgium</td>\n",
              "      <td>Export Quantity</td>\n",
              "      <td>36037663.0</td>\n",
              "    </tr>\n",
              "  </tbody>\n",
              "</table>\n",
              "</div>\n",
              "      <button class=\"colab-df-convert\" onclick=\"convertToInteractive('df-0975d0e9-a80d-4c38-945b-2c88a37f644e')\"\n",
              "              title=\"Convert this dataframe to an interactive table.\"\n",
              "              style=\"display:none;\">\n",
              "        \n",
              "  <svg xmlns=\"http://www.w3.org/2000/svg\" height=\"24px\"viewBox=\"0 0 24 24\"\n",
              "       width=\"24px\">\n",
              "    <path d=\"M0 0h24v24H0V0z\" fill=\"none\"/>\n",
              "    <path d=\"M18.56 5.44l.94 2.06.94-2.06 2.06-.94-2.06-.94-.94-2.06-.94 2.06-2.06.94zm-11 1L8.5 8.5l.94-2.06 2.06-.94-2.06-.94L8.5 2.5l-.94 2.06-2.06.94zm10 10l.94 2.06.94-2.06 2.06-.94-2.06-.94-.94-2.06-.94 2.06-2.06.94z\"/><path d=\"M17.41 7.96l-1.37-1.37c-.4-.4-.92-.59-1.43-.59-.52 0-1.04.2-1.43.59L10.3 9.45l-7.72 7.72c-.78.78-.78 2.05 0 2.83L4 21.41c.39.39.9.59 1.41.59.51 0 1.02-.2 1.41-.59l7.78-7.78 2.81-2.81c.8-.78.8-2.07 0-2.86zM5.41 20L4 18.59l7.72-7.72 1.47 1.35L5.41 20z\"/>\n",
              "  </svg>\n",
              "      </button>\n",
              "      \n",
              "  <style>\n",
              "    .colab-df-container {\n",
              "      display:flex;\n",
              "      flex-wrap:wrap;\n",
              "      gap: 12px;\n",
              "    }\n",
              "\n",
              "    .colab-df-convert {\n",
              "      background-color: #E8F0FE;\n",
              "      border: none;\n",
              "      border-radius: 50%;\n",
              "      cursor: pointer;\n",
              "      display: none;\n",
              "      fill: #1967D2;\n",
              "      height: 32px;\n",
              "      padding: 0 0 0 0;\n",
              "      width: 32px;\n",
              "    }\n",
              "\n",
              "    .colab-df-convert:hover {\n",
              "      background-color: #E2EBFA;\n",
              "      box-shadow: 0px 1px 2px rgba(60, 64, 67, 0.3), 0px 1px 3px 1px rgba(60, 64, 67, 0.15);\n",
              "      fill: #174EA6;\n",
              "    }\n",
              "\n",
              "    [theme=dark] .colab-df-convert {\n",
              "      background-color: #3B4455;\n",
              "      fill: #D2E3FC;\n",
              "    }\n",
              "\n",
              "    [theme=dark] .colab-df-convert:hover {\n",
              "      background-color: #434B5C;\n",
              "      box-shadow: 0px 1px 3px 1px rgba(0, 0, 0, 0.15);\n",
              "      filter: drop-shadow(0px 1px 2px rgba(0, 0, 0, 0.3));\n",
              "      fill: #FFFFFF;\n",
              "    }\n",
              "  </style>\n",
              "\n",
              "      <script>\n",
              "        const buttonEl =\n",
              "          document.querySelector('#df-0975d0e9-a80d-4c38-945b-2c88a37f644e button.colab-df-convert');\n",
              "        buttonEl.style.display =\n",
              "          google.colab.kernel.accessAllowed ? 'block' : 'none';\n",
              "\n",
              "        async function convertToInteractive(key) {\n",
              "          const element = document.querySelector('#df-0975d0e9-a80d-4c38-945b-2c88a37f644e');\n",
              "          const dataTable =\n",
              "            await google.colab.kernel.invokeFunction('convertToInteractive',\n",
              "                                                     [key], {});\n",
              "          if (!dataTable) return;\n",
              "\n",
              "          const docLinkHtml = 'Like what you see? Visit the ' +\n",
              "            '<a target=\"_blank\" href=https://colab.research.google.com/notebooks/data_table.ipynb>data table notebook</a>'\n",
              "            + ' to learn more about interactive tables.';\n",
              "          element.innerHTML = '';\n",
              "          dataTable['output_type'] = 'display_data';\n",
              "          await google.colab.output.renderOutput(dataTable, element);\n",
              "          const docLink = document.createElement('div');\n",
              "          docLink.innerHTML = docLinkHtml;\n",
              "          element.appendChild(docLink);\n",
              "        }\n",
              "      </script>\n",
              "    </div>\n",
              "  </div>\n",
              "  "
            ],
            "text/plain": [
              "   Year                           Area          Element       Value\n",
              "0  2020                       Malaysia  Export Quantity  26937042.0\n",
              "1  2020                         Poland  Export Quantity  27748419.0\n",
              "2  2020                      Australia  Export Quantity  31572071.0\n",
              "3  2020  China (excluding intra-trade)  Export Quantity  32719976.0\n",
              "4  2020                        Belgium  Export Quantity  36037663.0"
            ]
          },
          "metadata": {},
          "execution_count": 43
        }
      ]
    },
    {
      "cell_type": "code",
      "source": [
        "fig = px.bar(tabla_orden, \n",
        "             x=\"Value\", y=\"Area\", title='Cantidad Total Exportada en Toneladas el 2020', text='Value', orientation='h', \n",
        "             width=700, height=700, range_x = [0, max(gb_df_Paises_Export_q_2020['Value'])+50000000])\n",
        "fig.update_traces(marker_color='#46cdcf', opacity=0.8, textposition='outside')"
      ],
      "metadata": {
        "colab": {
          "base_uri": "https://localhost:8080/",
          "height": 717
        },
        "id": "8munRgI5UV7o",
        "outputId": "d78d30c4-2765-480a-8462-ade796c4fe91"
      },
      "execution_count": null,
      "outputs": [
        {
          "output_type": "display_data",
          "data": {
            "text/html": [
              "<html>\n",
              "<head><meta charset=\"utf-8\" /></head>\n",
              "<body>\n",
              "    <div>            <script src=\"https://cdnjs.cloudflare.com/ajax/libs/mathjax/2.7.5/MathJax.js?config=TeX-AMS-MML_SVG\"></script><script type=\"text/javascript\">if (window.MathJax) {MathJax.Hub.Config({SVG: {font: \"STIX-Web\"}});}</script>                <script type=\"text/javascript\">window.PlotlyConfig = {MathJaxConfig: 'local'};</script>\n",
              "        <script src=\"https://cdn.plot.ly/plotly-2.8.3.min.js\"></script>                <div id=\"8887b6b3-4d9a-471f-a4ad-c15da7234e01\" class=\"plotly-graph-div\" style=\"height:700px; width:700px;\"></div>            <script type=\"text/javascript\">                                    window.PLOTLYENV=window.PLOTLYENV || {};                                    if (document.getElementById(\"8887b6b3-4d9a-471f-a4ad-c15da7234e01\")) {                    Plotly.newPlot(                        \"8887b6b3-4d9a-471f-a4ad-c15da7234e01\",                        [{\"alignmentgroup\":\"True\",\"hovertemplate\":\"Value=%{text}<br>Area=%{y}<extra></extra>\",\"legendgroup\":\"\",\"marker\":{\"color\":\"#46cdcf\",\"pattern\":{\"shape\":\"\"}},\"name\":\"\",\"offsetgroup\":\"\",\"orientation\":\"h\",\"showlegend\":false,\"text\":[26937042.0,27748419.0,31572071.0,32719976.0,36037663.0,38632619.0,39160862.0,41262213.0,42856855.0,46612023.0,54516340.0,64126123.0,67099944.0,67738027.0,68366228.0,73405834.0,84377014.0,95129606.0,188606176.0,227885780.0],\"textposition\":\"outside\",\"x\":[26937042.0,27748419.0,31572071.0,32719976.0,36037663.0,38632619.0,39160862.0,41262213.0,42856855.0,46612023.0,54516340.0,64126123.0,67099944.0,67738027.0,68366228.0,73405834.0,84377014.0,95129606.0,188606176.0,227885780.0],\"xaxis\":\"x\",\"y\":[\"Malaysia\",\"Poland\",\"Australia\",\"China (excluding intra-trade)\",\"Belgium\",\"Spain\",\"China, mainland\",\"Thailand\",\"China\",\"Indonesia\",\"India\",\"Germany\",\"Netherlands\",\"Russian Federation\",\"France\",\"Ukraine\",\"Canada\",\"Argentina\",\"Brazil\",\"United States of America\"],\"yaxis\":\"y\",\"type\":\"bar\",\"opacity\":0.8}],                        {\"template\":{\"data\":{\"bar\":[{\"error_x\":{\"color\":\"#2a3f5f\"},\"error_y\":{\"color\":\"#2a3f5f\"},\"marker\":{\"line\":{\"color\":\"#E5ECF6\",\"width\":0.5},\"pattern\":{\"fillmode\":\"overlay\",\"size\":10,\"solidity\":0.2}},\"type\":\"bar\"}],\"barpolar\":[{\"marker\":{\"line\":{\"color\":\"#E5ECF6\",\"width\":0.5},\"pattern\":{\"fillmode\":\"overlay\",\"size\":10,\"solidity\":0.2}},\"type\":\"barpolar\"}],\"carpet\":[{\"aaxis\":{\"endlinecolor\":\"#2a3f5f\",\"gridcolor\":\"white\",\"linecolor\":\"white\",\"minorgridcolor\":\"white\",\"startlinecolor\":\"#2a3f5f\"},\"baxis\":{\"endlinecolor\":\"#2a3f5f\",\"gridcolor\":\"white\",\"linecolor\":\"white\",\"minorgridcolor\":\"white\",\"startlinecolor\":\"#2a3f5f\"},\"type\":\"carpet\"}],\"choropleth\":[{\"colorbar\":{\"outlinewidth\":0,\"ticks\":\"\"},\"type\":\"choropleth\"}],\"contour\":[{\"colorbar\":{\"outlinewidth\":0,\"ticks\":\"\"},\"colorscale\":[[0.0,\"#0d0887\"],[0.1111111111111111,\"#46039f\"],[0.2222222222222222,\"#7201a8\"],[0.3333333333333333,\"#9c179e\"],[0.4444444444444444,\"#bd3786\"],[0.5555555555555556,\"#d8576b\"],[0.6666666666666666,\"#ed7953\"],[0.7777777777777778,\"#fb9f3a\"],[0.8888888888888888,\"#fdca26\"],[1.0,\"#f0f921\"]],\"type\":\"contour\"}],\"contourcarpet\":[{\"colorbar\":{\"outlinewidth\":0,\"ticks\":\"\"},\"type\":\"contourcarpet\"}],\"heatmap\":[{\"colorbar\":{\"outlinewidth\":0,\"ticks\":\"\"},\"colorscale\":[[0.0,\"#0d0887\"],[0.1111111111111111,\"#46039f\"],[0.2222222222222222,\"#7201a8\"],[0.3333333333333333,\"#9c179e\"],[0.4444444444444444,\"#bd3786\"],[0.5555555555555556,\"#d8576b\"],[0.6666666666666666,\"#ed7953\"],[0.7777777777777778,\"#fb9f3a\"],[0.8888888888888888,\"#fdca26\"],[1.0,\"#f0f921\"]],\"type\":\"heatmap\"}],\"heatmapgl\":[{\"colorbar\":{\"outlinewidth\":0,\"ticks\":\"\"},\"colorscale\":[[0.0,\"#0d0887\"],[0.1111111111111111,\"#46039f\"],[0.2222222222222222,\"#7201a8\"],[0.3333333333333333,\"#9c179e\"],[0.4444444444444444,\"#bd3786\"],[0.5555555555555556,\"#d8576b\"],[0.6666666666666666,\"#ed7953\"],[0.7777777777777778,\"#fb9f3a\"],[0.8888888888888888,\"#fdca26\"],[1.0,\"#f0f921\"]],\"type\":\"heatmapgl\"}],\"histogram\":[{\"marker\":{\"pattern\":{\"fillmode\":\"overlay\",\"size\":10,\"solidity\":0.2}},\"type\":\"histogram\"}],\"histogram2d\":[{\"colorbar\":{\"outlinewidth\":0,\"ticks\":\"\"},\"colorscale\":[[0.0,\"#0d0887\"],[0.1111111111111111,\"#46039f\"],[0.2222222222222222,\"#7201a8\"],[0.3333333333333333,\"#9c179e\"],[0.4444444444444444,\"#bd3786\"],[0.5555555555555556,\"#d8576b\"],[0.6666666666666666,\"#ed7953\"],[0.7777777777777778,\"#fb9f3a\"],[0.8888888888888888,\"#fdca26\"],[1.0,\"#f0f921\"]],\"type\":\"histogram2d\"}],\"histogram2dcontour\":[{\"colorbar\":{\"outlinewidth\":0,\"ticks\":\"\"},\"colorscale\":[[0.0,\"#0d0887\"],[0.1111111111111111,\"#46039f\"],[0.2222222222222222,\"#7201a8\"],[0.3333333333333333,\"#9c179e\"],[0.4444444444444444,\"#bd3786\"],[0.5555555555555556,\"#d8576b\"],[0.6666666666666666,\"#ed7953\"],[0.7777777777777778,\"#fb9f3a\"],[0.8888888888888888,\"#fdca26\"],[1.0,\"#f0f921\"]],\"type\":\"histogram2dcontour\"}],\"mesh3d\":[{\"colorbar\":{\"outlinewidth\":0,\"ticks\":\"\"},\"type\":\"mesh3d\"}],\"parcoords\":[{\"line\":{\"colorbar\":{\"outlinewidth\":0,\"ticks\":\"\"}},\"type\":\"parcoords\"}],\"pie\":[{\"automargin\":true,\"type\":\"pie\"}],\"scatter\":[{\"marker\":{\"colorbar\":{\"outlinewidth\":0,\"ticks\":\"\"}},\"type\":\"scatter\"}],\"scatter3d\":[{\"line\":{\"colorbar\":{\"outlinewidth\":0,\"ticks\":\"\"}},\"marker\":{\"colorbar\":{\"outlinewidth\":0,\"ticks\":\"\"}},\"type\":\"scatter3d\"}],\"scattercarpet\":[{\"marker\":{\"colorbar\":{\"outlinewidth\":0,\"ticks\":\"\"}},\"type\":\"scattercarpet\"}],\"scattergeo\":[{\"marker\":{\"colorbar\":{\"outlinewidth\":0,\"ticks\":\"\"}},\"type\":\"scattergeo\"}],\"scattergl\":[{\"marker\":{\"colorbar\":{\"outlinewidth\":0,\"ticks\":\"\"}},\"type\":\"scattergl\"}],\"scattermapbox\":[{\"marker\":{\"colorbar\":{\"outlinewidth\":0,\"ticks\":\"\"}},\"type\":\"scattermapbox\"}],\"scatterpolar\":[{\"marker\":{\"colorbar\":{\"outlinewidth\":0,\"ticks\":\"\"}},\"type\":\"scatterpolar\"}],\"scatterpolargl\":[{\"marker\":{\"colorbar\":{\"outlinewidth\":0,\"ticks\":\"\"}},\"type\":\"scatterpolargl\"}],\"scatterternary\":[{\"marker\":{\"colorbar\":{\"outlinewidth\":0,\"ticks\":\"\"}},\"type\":\"scatterternary\"}],\"surface\":[{\"colorbar\":{\"outlinewidth\":0,\"ticks\":\"\"},\"colorscale\":[[0.0,\"#0d0887\"],[0.1111111111111111,\"#46039f\"],[0.2222222222222222,\"#7201a8\"],[0.3333333333333333,\"#9c179e\"],[0.4444444444444444,\"#bd3786\"],[0.5555555555555556,\"#d8576b\"],[0.6666666666666666,\"#ed7953\"],[0.7777777777777778,\"#fb9f3a\"],[0.8888888888888888,\"#fdca26\"],[1.0,\"#f0f921\"]],\"type\":\"surface\"}],\"table\":[{\"cells\":{\"fill\":{\"color\":\"#EBF0F8\"},\"line\":{\"color\":\"white\"}},\"header\":{\"fill\":{\"color\":\"#C8D4E3\"},\"line\":{\"color\":\"white\"}},\"type\":\"table\"}]},\"layout\":{\"annotationdefaults\":{\"arrowcolor\":\"#2a3f5f\",\"arrowhead\":0,\"arrowwidth\":1},\"autotypenumbers\":\"strict\",\"coloraxis\":{\"colorbar\":{\"outlinewidth\":0,\"ticks\":\"\"}},\"colorscale\":{\"diverging\":[[0,\"#8e0152\"],[0.1,\"#c51b7d\"],[0.2,\"#de77ae\"],[0.3,\"#f1b6da\"],[0.4,\"#fde0ef\"],[0.5,\"#f7f7f7\"],[0.6,\"#e6f5d0\"],[0.7,\"#b8e186\"],[0.8,\"#7fbc41\"],[0.9,\"#4d9221\"],[1,\"#276419\"]],\"sequential\":[[0.0,\"#0d0887\"],[0.1111111111111111,\"#46039f\"],[0.2222222222222222,\"#7201a8\"],[0.3333333333333333,\"#9c179e\"],[0.4444444444444444,\"#bd3786\"],[0.5555555555555556,\"#d8576b\"],[0.6666666666666666,\"#ed7953\"],[0.7777777777777778,\"#fb9f3a\"],[0.8888888888888888,\"#fdca26\"],[1.0,\"#f0f921\"]],\"sequentialminus\":[[0.0,\"#0d0887\"],[0.1111111111111111,\"#46039f\"],[0.2222222222222222,\"#7201a8\"],[0.3333333333333333,\"#9c179e\"],[0.4444444444444444,\"#bd3786\"],[0.5555555555555556,\"#d8576b\"],[0.6666666666666666,\"#ed7953\"],[0.7777777777777778,\"#fb9f3a\"],[0.8888888888888888,\"#fdca26\"],[1.0,\"#f0f921\"]]},\"colorway\":[\"#636efa\",\"#EF553B\",\"#00cc96\",\"#ab63fa\",\"#FFA15A\",\"#19d3f3\",\"#FF6692\",\"#B6E880\",\"#FF97FF\",\"#FECB52\"],\"font\":{\"color\":\"#2a3f5f\"},\"geo\":{\"bgcolor\":\"white\",\"lakecolor\":\"white\",\"landcolor\":\"#E5ECF6\",\"showlakes\":true,\"showland\":true,\"subunitcolor\":\"white\"},\"hoverlabel\":{\"align\":\"left\"},\"hovermode\":\"closest\",\"mapbox\":{\"style\":\"light\"},\"paper_bgcolor\":\"white\",\"plot_bgcolor\":\"#E5ECF6\",\"polar\":{\"angularaxis\":{\"gridcolor\":\"white\",\"linecolor\":\"white\",\"ticks\":\"\"},\"bgcolor\":\"#E5ECF6\",\"radialaxis\":{\"gridcolor\":\"white\",\"linecolor\":\"white\",\"ticks\":\"\"}},\"scene\":{\"xaxis\":{\"backgroundcolor\":\"#E5ECF6\",\"gridcolor\":\"white\",\"gridwidth\":2,\"linecolor\":\"white\",\"showbackground\":true,\"ticks\":\"\",\"zerolinecolor\":\"white\"},\"yaxis\":{\"backgroundcolor\":\"#E5ECF6\",\"gridcolor\":\"white\",\"gridwidth\":2,\"linecolor\":\"white\",\"showbackground\":true,\"ticks\":\"\",\"zerolinecolor\":\"white\"},\"zaxis\":{\"backgroundcolor\":\"#E5ECF6\",\"gridcolor\":\"white\",\"gridwidth\":2,\"linecolor\":\"white\",\"showbackground\":true,\"ticks\":\"\",\"zerolinecolor\":\"white\"}},\"shapedefaults\":{\"line\":{\"color\":\"#2a3f5f\"}},\"ternary\":{\"aaxis\":{\"gridcolor\":\"white\",\"linecolor\":\"white\",\"ticks\":\"\"},\"baxis\":{\"gridcolor\":\"white\",\"linecolor\":\"white\",\"ticks\":\"\"},\"bgcolor\":\"#E5ECF6\",\"caxis\":{\"gridcolor\":\"white\",\"linecolor\":\"white\",\"ticks\":\"\"}},\"title\":{\"x\":0.05},\"xaxis\":{\"automargin\":true,\"gridcolor\":\"white\",\"linecolor\":\"white\",\"ticks\":\"\",\"title\":{\"standoff\":15},\"zerolinecolor\":\"white\",\"zerolinewidth\":2},\"yaxis\":{\"automargin\":true,\"gridcolor\":\"white\",\"linecolor\":\"white\",\"ticks\":\"\",\"title\":{\"standoff\":15},\"zerolinecolor\":\"white\",\"zerolinewidth\":2}}},\"xaxis\":{\"anchor\":\"y\",\"domain\":[0.0,1.0],\"title\":{\"text\":\"Value\"},\"range\":[0,277885780.0]},\"yaxis\":{\"anchor\":\"x\",\"domain\":[0.0,1.0],\"title\":{\"text\":\"Area\"}},\"legend\":{\"tracegroupgap\":0},\"title\":{\"text\":\"Cantidad Total Exportada en Toneladas el 2020\"},\"barmode\":\"relative\",\"height\":700,\"width\":700},                        {\"responsive\": true}                    ).then(function(){\n",
              "                            \n",
              "var gd = document.getElementById('8887b6b3-4d9a-471f-a4ad-c15da7234e01');\n",
              "var x = new MutationObserver(function (mutations, observer) {{\n",
              "        var display = window.getComputedStyle(gd).display;\n",
              "        if (!display || display === 'none') {{\n",
              "            console.log([gd, 'removed!']);\n",
              "            Plotly.purge(gd);\n",
              "            observer.disconnect();\n",
              "        }}\n",
              "}});\n",
              "\n",
              "// Listen for the removal of the full notebook cells\n",
              "var notebookContainer = gd.closest('#notebook-container');\n",
              "if (notebookContainer) {{\n",
              "    x.observe(notebookContainer, {childList: true});\n",
              "}}\n",
              "\n",
              "// Listen for the clearing of the current output cell\n",
              "var outputEl = gd.closest('.output');\n",
              "if (outputEl) {{\n",
              "    x.observe(outputEl, {childList: true});\n",
              "}}\n",
              "\n",
              "                        })                };                            </script>        </div>\n",
              "</body>\n",
              "</html>"
            ]
          },
          "metadata": {}
        }
      ]
    },
    {
      "cell_type": "markdown",
      "source": [
        "Países más exportadores de alimentos: USA y Brasil con diferencia. China, aunque es probablemente el país más exportador del mundo, no es un gran exportador de alimentos. "
      ],
      "metadata": {
        "id": "NoujyGPm7H7N"
      }
    },
    {
      "cell_type": "markdown",
      "source": [
        "### Vamos a ver ahora los países  más importadores en el último año.\n",
        "Tenemos en cuenta lo siguiente:\n",
        "- Las agrupaciones de paises están en los códigos mayores de 5000\n",
        "- Las agrupaciones de productos están en los códigos mayores de 1500"
      ],
      "metadata": {
        "id": "U3dMjp36VxFF"
      }
    },
    {
      "cell_type": "code",
      "source": [
        "df_Paises_Import_q_2020 = df[ (df[\"Element\"] == \"Import Quantity\") & (df[\"Area Code\"] < 5000) & (df[\"Year\"] == ult_año ) & (df[\"Item Code\"] < 1500 )]\n",
        "\n",
        "gb_df_Paises_Import_q_2020 = df_Paises_Import_q_2020.groupby([\"Year\",\"Area\",\"Element\"])[\"Value\"].sum().reset_index()\n",
        "\n",
        "tabla_orden=gb_df_Paises_Import_q_2020.sort_values(\"Value\", ascending=True).tail(20).reset_index(drop=True)"
      ],
      "metadata": {
        "id": "9agvBkeDV6vk"
      },
      "execution_count": null,
      "outputs": []
    },
    {
      "cell_type": "code",
      "source": [
        "fig = px.bar(tabla_orden, \n",
        "             x=\"Value\", y=\"Area\", title='Cantidad Total Importada en Toneladas el 2020', text='Value', orientation='h', \n",
        "             width=700, height=700, range_x = [0, max(gb_df_Paises_Import_q_2020['Value'])+150000000])\n",
        "fig.update_traces(marker_color='#46cdcf', opacity=0.8, textposition='outside')"
      ],
      "metadata": {
        "colab": {
          "base_uri": "https://localhost:8080/",
          "height": 717
        },
        "id": "8DpMvwWVV7XD",
        "outputId": "dabf7907-5563-466e-a615-99dd26315ff8"
      },
      "execution_count": null,
      "outputs": [
        {
          "output_type": "display_data",
          "data": {
            "text/html": [
              "<html>\n",
              "<head><meta charset=\"utf-8\" /></head>\n",
              "<body>\n",
              "    <div>            <script src=\"https://cdnjs.cloudflare.com/ajax/libs/mathjax/2.7.5/MathJax.js?config=TeX-AMS-MML_SVG\"></script><script type=\"text/javascript\">if (window.MathJax) {MathJax.Hub.Config({SVG: {font: \"STIX-Web\"}});}</script>                <script type=\"text/javascript\">window.PlotlyConfig = {MathJaxConfig: 'local'};</script>\n",
              "        <script src=\"https://cdn.plot.ly/plotly-2.8.3.min.js\"></script>                <div id=\"e2edfa3e-36ed-4382-afd5-f8e56b51ce9d\" class=\"plotly-graph-div\" style=\"height:700px; width:700px;\"></div>            <script type=\"text/javascript\">                                    window.PLOTLYENV=window.PLOTLYENV || {};                                    if (document.getElementById(\"e2edfa3e-36ed-4382-afd5-f8e56b51ce9d\")) {                    Plotly.newPlot(                        \"e2edfa3e-36ed-4382-afd5-f8e56b51ce9d\",                        [{\"alignmentgroup\":\"True\",\"hovertemplate\":\"Value=%{text}<br>Area=%{y}<extra></extra>\",\"legendgroup\":\"\",\"marker\":{\"color\":\"#46cdcf\",\"pattern\":{\"shape\":\"\"}},\"name\":\"\",\"offsetgroup\":\"\",\"orientation\":\"h\",\"showlegend\":false,\"text\":[29407373.0,32289121.0,32614469.0,33791851.0,36677474.0,37013057.0,39152809.0,42388872.0,42632174.0,44209473.0,45099789.0,54305371.0,73561117.0,77125495.0,83258110.0,85448697.0,97681934.0,214387837.0,230188340.0,335774684.0],\"textposition\":\"outside\",\"x\":[29407373.0,32289121.0,32614469.0,33791851.0,36677474.0,37013057.0,39152809.0,42388872.0,42632174.0,44209473.0,45099789.0,54305371.0,73561117.0,77125495.0,83258110.0,85448697.0,97681934.0,214387837.0,230188340.0,335774684.0],\"xaxis\":\"x\",\"y\":[\"Saudi Arabia\",\"Turkey\",\"Indonesia\",\"Viet Nam\",\"France\",\"Republic of Korea\",\"Mexico\",\"United Kingdom of Great Britain and Northern Ireland\",\"Spain\",\"Italy\",\"Belgium\",\"Japan\",\"Myanmar\",\"Netherlands\",\"United States of America\",\"Germany\",\"China, Macao SAR\",\"China, mainland\",\"China (excluding intra-trade)\",\"China\"],\"yaxis\":\"y\",\"type\":\"bar\",\"opacity\":0.8}],                        {\"template\":{\"data\":{\"bar\":[{\"error_x\":{\"color\":\"#2a3f5f\"},\"error_y\":{\"color\":\"#2a3f5f\"},\"marker\":{\"line\":{\"color\":\"#E5ECF6\",\"width\":0.5},\"pattern\":{\"fillmode\":\"overlay\",\"size\":10,\"solidity\":0.2}},\"type\":\"bar\"}],\"barpolar\":[{\"marker\":{\"line\":{\"color\":\"#E5ECF6\",\"width\":0.5},\"pattern\":{\"fillmode\":\"overlay\",\"size\":10,\"solidity\":0.2}},\"type\":\"barpolar\"}],\"carpet\":[{\"aaxis\":{\"endlinecolor\":\"#2a3f5f\",\"gridcolor\":\"white\",\"linecolor\":\"white\",\"minorgridcolor\":\"white\",\"startlinecolor\":\"#2a3f5f\"},\"baxis\":{\"endlinecolor\":\"#2a3f5f\",\"gridcolor\":\"white\",\"linecolor\":\"white\",\"minorgridcolor\":\"white\",\"startlinecolor\":\"#2a3f5f\"},\"type\":\"carpet\"}],\"choropleth\":[{\"colorbar\":{\"outlinewidth\":0,\"ticks\":\"\"},\"type\":\"choropleth\"}],\"contour\":[{\"colorbar\":{\"outlinewidth\":0,\"ticks\":\"\"},\"colorscale\":[[0.0,\"#0d0887\"],[0.1111111111111111,\"#46039f\"],[0.2222222222222222,\"#7201a8\"],[0.3333333333333333,\"#9c179e\"],[0.4444444444444444,\"#bd3786\"],[0.5555555555555556,\"#d8576b\"],[0.6666666666666666,\"#ed7953\"],[0.7777777777777778,\"#fb9f3a\"],[0.8888888888888888,\"#fdca26\"],[1.0,\"#f0f921\"]],\"type\":\"contour\"}],\"contourcarpet\":[{\"colorbar\":{\"outlinewidth\":0,\"ticks\":\"\"},\"type\":\"contourcarpet\"}],\"heatmap\":[{\"colorbar\":{\"outlinewidth\":0,\"ticks\":\"\"},\"colorscale\":[[0.0,\"#0d0887\"],[0.1111111111111111,\"#46039f\"],[0.2222222222222222,\"#7201a8\"],[0.3333333333333333,\"#9c179e\"],[0.4444444444444444,\"#bd3786\"],[0.5555555555555556,\"#d8576b\"],[0.6666666666666666,\"#ed7953\"],[0.7777777777777778,\"#fb9f3a\"],[0.8888888888888888,\"#fdca26\"],[1.0,\"#f0f921\"]],\"type\":\"heatmap\"}],\"heatmapgl\":[{\"colorbar\":{\"outlinewidth\":0,\"ticks\":\"\"},\"colorscale\":[[0.0,\"#0d0887\"],[0.1111111111111111,\"#46039f\"],[0.2222222222222222,\"#7201a8\"],[0.3333333333333333,\"#9c179e\"],[0.4444444444444444,\"#bd3786\"],[0.5555555555555556,\"#d8576b\"],[0.6666666666666666,\"#ed7953\"],[0.7777777777777778,\"#fb9f3a\"],[0.8888888888888888,\"#fdca26\"],[1.0,\"#f0f921\"]],\"type\":\"heatmapgl\"}],\"histogram\":[{\"marker\":{\"pattern\":{\"fillmode\":\"overlay\",\"size\":10,\"solidity\":0.2}},\"type\":\"histogram\"}],\"histogram2d\":[{\"colorbar\":{\"outlinewidth\":0,\"ticks\":\"\"},\"colorscale\":[[0.0,\"#0d0887\"],[0.1111111111111111,\"#46039f\"],[0.2222222222222222,\"#7201a8\"],[0.3333333333333333,\"#9c179e\"],[0.4444444444444444,\"#bd3786\"],[0.5555555555555556,\"#d8576b\"],[0.6666666666666666,\"#ed7953\"],[0.7777777777777778,\"#fb9f3a\"],[0.8888888888888888,\"#fdca26\"],[1.0,\"#f0f921\"]],\"type\":\"histogram2d\"}],\"histogram2dcontour\":[{\"colorbar\":{\"outlinewidth\":0,\"ticks\":\"\"},\"colorscale\":[[0.0,\"#0d0887\"],[0.1111111111111111,\"#46039f\"],[0.2222222222222222,\"#7201a8\"],[0.3333333333333333,\"#9c179e\"],[0.4444444444444444,\"#bd3786\"],[0.5555555555555556,\"#d8576b\"],[0.6666666666666666,\"#ed7953\"],[0.7777777777777778,\"#fb9f3a\"],[0.8888888888888888,\"#fdca26\"],[1.0,\"#f0f921\"]],\"type\":\"histogram2dcontour\"}],\"mesh3d\":[{\"colorbar\":{\"outlinewidth\":0,\"ticks\":\"\"},\"type\":\"mesh3d\"}],\"parcoords\":[{\"line\":{\"colorbar\":{\"outlinewidth\":0,\"ticks\":\"\"}},\"type\":\"parcoords\"}],\"pie\":[{\"automargin\":true,\"type\":\"pie\"}],\"scatter\":[{\"marker\":{\"colorbar\":{\"outlinewidth\":0,\"ticks\":\"\"}},\"type\":\"scatter\"}],\"scatter3d\":[{\"line\":{\"colorbar\":{\"outlinewidth\":0,\"ticks\":\"\"}},\"marker\":{\"colorbar\":{\"outlinewidth\":0,\"ticks\":\"\"}},\"type\":\"scatter3d\"}],\"scattercarpet\":[{\"marker\":{\"colorbar\":{\"outlinewidth\":0,\"ticks\":\"\"}},\"type\":\"scattercarpet\"}],\"scattergeo\":[{\"marker\":{\"colorbar\":{\"outlinewidth\":0,\"ticks\":\"\"}},\"type\":\"scattergeo\"}],\"scattergl\":[{\"marker\":{\"colorbar\":{\"outlinewidth\":0,\"ticks\":\"\"}},\"type\":\"scattergl\"}],\"scattermapbox\":[{\"marker\":{\"colorbar\":{\"outlinewidth\":0,\"ticks\":\"\"}},\"type\":\"scattermapbox\"}],\"scatterpolar\":[{\"marker\":{\"colorbar\":{\"outlinewidth\":0,\"ticks\":\"\"}},\"type\":\"scatterpolar\"}],\"scatterpolargl\":[{\"marker\":{\"colorbar\":{\"outlinewidth\":0,\"ticks\":\"\"}},\"type\":\"scatterpolargl\"}],\"scatterternary\":[{\"marker\":{\"colorbar\":{\"outlinewidth\":0,\"ticks\":\"\"}},\"type\":\"scatterternary\"}],\"surface\":[{\"colorbar\":{\"outlinewidth\":0,\"ticks\":\"\"},\"colorscale\":[[0.0,\"#0d0887\"],[0.1111111111111111,\"#46039f\"],[0.2222222222222222,\"#7201a8\"],[0.3333333333333333,\"#9c179e\"],[0.4444444444444444,\"#bd3786\"],[0.5555555555555556,\"#d8576b\"],[0.6666666666666666,\"#ed7953\"],[0.7777777777777778,\"#fb9f3a\"],[0.8888888888888888,\"#fdca26\"],[1.0,\"#f0f921\"]],\"type\":\"surface\"}],\"table\":[{\"cells\":{\"fill\":{\"color\":\"#EBF0F8\"},\"line\":{\"color\":\"white\"}},\"header\":{\"fill\":{\"color\":\"#C8D4E3\"},\"line\":{\"color\":\"white\"}},\"type\":\"table\"}]},\"layout\":{\"annotationdefaults\":{\"arrowcolor\":\"#2a3f5f\",\"arrowhead\":0,\"arrowwidth\":1},\"autotypenumbers\":\"strict\",\"coloraxis\":{\"colorbar\":{\"outlinewidth\":0,\"ticks\":\"\"}},\"colorscale\":{\"diverging\":[[0,\"#8e0152\"],[0.1,\"#c51b7d\"],[0.2,\"#de77ae\"],[0.3,\"#f1b6da\"],[0.4,\"#fde0ef\"],[0.5,\"#f7f7f7\"],[0.6,\"#e6f5d0\"],[0.7,\"#b8e186\"],[0.8,\"#7fbc41\"],[0.9,\"#4d9221\"],[1,\"#276419\"]],\"sequential\":[[0.0,\"#0d0887\"],[0.1111111111111111,\"#46039f\"],[0.2222222222222222,\"#7201a8\"],[0.3333333333333333,\"#9c179e\"],[0.4444444444444444,\"#bd3786\"],[0.5555555555555556,\"#d8576b\"],[0.6666666666666666,\"#ed7953\"],[0.7777777777777778,\"#fb9f3a\"],[0.8888888888888888,\"#fdca26\"],[1.0,\"#f0f921\"]],\"sequentialminus\":[[0.0,\"#0d0887\"],[0.1111111111111111,\"#46039f\"],[0.2222222222222222,\"#7201a8\"],[0.3333333333333333,\"#9c179e\"],[0.4444444444444444,\"#bd3786\"],[0.5555555555555556,\"#d8576b\"],[0.6666666666666666,\"#ed7953\"],[0.7777777777777778,\"#fb9f3a\"],[0.8888888888888888,\"#fdca26\"],[1.0,\"#f0f921\"]]},\"colorway\":[\"#636efa\",\"#EF553B\",\"#00cc96\",\"#ab63fa\",\"#FFA15A\",\"#19d3f3\",\"#FF6692\",\"#B6E880\",\"#FF97FF\",\"#FECB52\"],\"font\":{\"color\":\"#2a3f5f\"},\"geo\":{\"bgcolor\":\"white\",\"lakecolor\":\"white\",\"landcolor\":\"#E5ECF6\",\"showlakes\":true,\"showland\":true,\"subunitcolor\":\"white\"},\"hoverlabel\":{\"align\":\"left\"},\"hovermode\":\"closest\",\"mapbox\":{\"style\":\"light\"},\"paper_bgcolor\":\"white\",\"plot_bgcolor\":\"#E5ECF6\",\"polar\":{\"angularaxis\":{\"gridcolor\":\"white\",\"linecolor\":\"white\",\"ticks\":\"\"},\"bgcolor\":\"#E5ECF6\",\"radialaxis\":{\"gridcolor\":\"white\",\"linecolor\":\"white\",\"ticks\":\"\"}},\"scene\":{\"xaxis\":{\"backgroundcolor\":\"#E5ECF6\",\"gridcolor\":\"white\",\"gridwidth\":2,\"linecolor\":\"white\",\"showbackground\":true,\"ticks\":\"\",\"zerolinecolor\":\"white\"},\"yaxis\":{\"backgroundcolor\":\"#E5ECF6\",\"gridcolor\":\"white\",\"gridwidth\":2,\"linecolor\":\"white\",\"showbackground\":true,\"ticks\":\"\",\"zerolinecolor\":\"white\"},\"zaxis\":{\"backgroundcolor\":\"#E5ECF6\",\"gridcolor\":\"white\",\"gridwidth\":2,\"linecolor\":\"white\",\"showbackground\":true,\"ticks\":\"\",\"zerolinecolor\":\"white\"}},\"shapedefaults\":{\"line\":{\"color\":\"#2a3f5f\"}},\"ternary\":{\"aaxis\":{\"gridcolor\":\"white\",\"linecolor\":\"white\",\"ticks\":\"\"},\"baxis\":{\"gridcolor\":\"white\",\"linecolor\":\"white\",\"ticks\":\"\"},\"bgcolor\":\"#E5ECF6\",\"caxis\":{\"gridcolor\":\"white\",\"linecolor\":\"white\",\"ticks\":\"\"}},\"title\":{\"x\":0.05},\"xaxis\":{\"automargin\":true,\"gridcolor\":\"white\",\"linecolor\":\"white\",\"ticks\":\"\",\"title\":{\"standoff\":15},\"zerolinecolor\":\"white\",\"zerolinewidth\":2},\"yaxis\":{\"automargin\":true,\"gridcolor\":\"white\",\"linecolor\":\"white\",\"ticks\":\"\",\"title\":{\"standoff\":15},\"zerolinecolor\":\"white\",\"zerolinewidth\":2}}},\"xaxis\":{\"anchor\":\"y\",\"domain\":[0.0,1.0],\"title\":{\"text\":\"Value\"},\"range\":[0,485774684.0]},\"yaxis\":{\"anchor\":\"x\",\"domain\":[0.0,1.0],\"title\":{\"text\":\"Area\"}},\"legend\":{\"tracegroupgap\":0},\"title\":{\"text\":\"Cantidad Total Importada en Toneladas el 2020\"},\"barmode\":\"relative\",\"height\":700,\"width\":700},                        {\"responsive\": true}                    ).then(function(){\n",
              "                            \n",
              "var gd = document.getElementById('e2edfa3e-36ed-4382-afd5-f8e56b51ce9d');\n",
              "var x = new MutationObserver(function (mutations, observer) {{\n",
              "        var display = window.getComputedStyle(gd).display;\n",
              "        if (!display || display === 'none') {{\n",
              "            console.log([gd, 'removed!']);\n",
              "            Plotly.purge(gd);\n",
              "            observer.disconnect();\n",
              "        }}\n",
              "}});\n",
              "\n",
              "// Listen for the removal of the full notebook cells\n",
              "var notebookContainer = gd.closest('#notebook-container');\n",
              "if (notebookContainer) {{\n",
              "    x.observe(notebookContainer, {childList: true});\n",
              "}}\n",
              "\n",
              "// Listen for the clearing of the current output cell\n",
              "var outputEl = gd.closest('.output');\n",
              "if (outputEl) {{\n",
              "    x.observe(outputEl, {childList: true});\n",
              "}}\n",
              "\n",
              "                        })                };                            </script>        </div>\n",
              "</body>\n",
              "</html>"
            ]
          },
          "metadata": {}
        }
      ]
    },
    {
      "cell_type": "markdown",
      "source": [
        "### Evolución de las importaciones y exportaciones por países más exportadores e importadores."
      ],
      "metadata": {
        "id": "jW4RGwo8V7aI"
      }
    },
    {
      "cell_type": "markdown",
      "source": [
        "#### Países más exportadores"
      ],
      "metadata": {
        "id": "HsZrJhA29-iF"
      }
    },
    {
      "cell_type": "code",
      "source": [
        "# Paises más exportadores\n",
        "top_paises_exp = gb_df_Paises_Export_q_2020.sort_values(\"Value\").tail(20)[\"Area\"].to_list()\n"
      ],
      "metadata": {
        "id": "y_YFczK7bY0m"
      },
      "execution_count": null,
      "outputs": []
    },
    {
      "cell_type": "code",
      "source": [
        "df_Paises_Export_q = df[ (df[\"Element\"] == \"Export Quantity\") & (df[\"Area\"].isin(top_paises_exp)) & (df[\"Item Code\"] < 1500 )]"
      ],
      "metadata": {
        "id": "YN-NYMV-Z6H2"
      },
      "execution_count": null,
      "outputs": []
    },
    {
      "cell_type": "code",
      "source": [
        "#GRAFICO EVOLUTIVO HORIZONTAL DE LOS CASOS DEL COVID POR PAIS Y FECHA\n",
        "grafico_horizontal = df_Paises_Export_q.groupby(['Area', 'Year'])['Value'].sum().reset_index()\n",
        "\n",
        "evolucion_horizontal = px.bar(grafico_horizontal, x=\"Year\", y=\"Value\", color='Area', orientation='v', height=600,\n",
        "             title='Toneladas Exportadas por Año', color_discrete_sequence = px.colors.cyclical.mygbm)\n",
        "\n",
        "evolucion_horizontal.show()"
      ],
      "metadata": {
        "colab": {
          "base_uri": "https://localhost:8080/",
          "height": 617
        },
        "id": "2rBnCEa-YW6g",
        "outputId": "2313a449-2402-48c6-df1d-d1ba274116d9"
      },
      "execution_count": null,
      "outputs": [
        {
          "output_type": "display_data",
          "data": {
            "text/html": [
              "<html>\n",
              "<head><meta charset=\"utf-8\" /></head>\n",
              "<body>\n",
              "    <div>            <script src=\"https://cdnjs.cloudflare.com/ajax/libs/mathjax/2.7.5/MathJax.js?config=TeX-AMS-MML_SVG\"></script><script type=\"text/javascript\">if (window.MathJax) {MathJax.Hub.Config({SVG: {font: \"STIX-Web\"}});}</script>                <script type=\"text/javascript\">window.PlotlyConfig = {MathJaxConfig: 'local'};</script>\n",
              "        <script src=\"https://cdn.plot.ly/plotly-2.8.3.min.js\"></script>                <div id=\"15e545e0-8f2e-46a2-b56f-6c37379e6e4c\" class=\"plotly-graph-div\" style=\"height:600px; width:100%;\"></div>            <script type=\"text/javascript\">                                    window.PLOTLYENV=window.PLOTLYENV || {};                                    if (document.getElementById(\"15e545e0-8f2e-46a2-b56f-6c37379e6e4c\")) {                    Plotly.newPlot(                        \"15e545e0-8f2e-46a2-b56f-6c37379e6e4c\",                        [{\"alignmentgroup\":\"True\",\"hovertemplate\":\"Area=Argentina<br>Year=%{x}<br>Value=%{y}<extra></extra>\",\"legendgroup\":\"Argentina\",\"marker\":{\"color\":\"#ef55f1\",\"pattern\":{\"shape\":\"\"}},\"name\":\"Argentina\",\"offsetgroup\":\"Argentina\",\"orientation\":\"v\",\"showlegend\":true,\"textposition\":\"auto\",\"x\":[1961,1962,1963,1964,1965,1966,1967,1968,1969,1970,1971,1972,1973,1974,1975,1976,1977,1978,1979,1980,1981,1982,1983,1984,1985,1986,1987,1988,1989,1990,1991,1992,1993,1994,1995,1996,1997,1998,1999,2000,2001,2002,2003,2004,2005,2006,2007,2008,2009,2010,2011,2012,2013,2014,2015,2016,2017,2018,2019,2020],\"xaxis\":\"x\",\"y\":[6797001.0,10627730.0,9035103.0,12219939.0,14009864.0,13698929.0,11248481.0,10192872.0,12113956.0,14160480.0,13362945.0,8819409.0,13227984.0,14294271.0,10936148.0,14489485.0,22923322.0,21528807.0,23234205.0,18104986.0,25783336.0,22093475.0,31562034.0,28592766.0,32132019.0,26063219.0,19675365.0,23434660.0,18546891.0,27013375.0,29797038.0,31124744.0,27861537.0,28213710.0,34392462.0,28886029.0,41938178.0,51793004.0,48450924.0,52471066.0,55698580.0,53145310.0,58585207.0,58779931.0,72429763.0,70450896.0,82833921.0,79192788.0,59437917.0,79657834.0,84764563.0,81959502.0,74942397.0,69103010.0,79748064.0,95504581.0,92520541.0,79296051.0,104068940.0,95129606.0],\"yaxis\":\"y\",\"type\":\"bar\"},{\"alignmentgroup\":\"True\",\"hovertemplate\":\"Area=Australia<br>Year=%{x}<br>Value=%{y}<extra></extra>\",\"legendgroup\":\"Australia\",\"marker\":{\"color\":\"#fb84ce\",\"pattern\":{\"shape\":\"\"}},\"name\":\"Australia\",\"offsetgroup\":\"Australia\",\"orientation\":\"v\",\"showlegend\":true,\"textposition\":\"auto\",\"x\":[1961,1962,1963,1964,1965,1966,1967,1968,1969,1970,1971,1972,1973,1974,1975,1976,1977,1978,1979,1980,1981,1982,1983,1984,1985,1986,1987,1988,1989,1990,1991,1992,1993,1994,1995,1996,1997,1998,1999,2000,2001,2002,2003,2004,2005,2006,2007,2008,2009,2010,2011,2012,2013,2014,2015,2016,2017,2018,2019,2020],\"xaxis\":\"x\",\"y\":[8654783.0,10283375.0,8862128.0,12209530.0,11009078.0,9935713.0,12368652.0,11788885.0,11194781.0,13237660.0,17083176.0,18349420.0,14197054.0,13065499.0,17492655.0,18601720.0,21469629.0,23537746.0,19214322.0,31523231.0,24937629.0,26934007.0,23459038.0,26923086.0,35729031.0,35989160.0,33741772.0,29677494.0,27524391.0,27842725.0,26886613.0,24111988.0,28143079.0,33613814.0,27613223.0,39176709.0,43915302.0,39537618.0,43289662.0,43964033.0,41689750.0,40811214.0,29078344.0,42815393.0,35696157.0,38545288.0,24466585.0,28422979.0,36105611.0,36998838.0,39250682.0,50248925.0,45509310.0,46391891.0,46103519.0,44545842.0,54074363.0,38127696.0,29859951.0,31572071.0],\"yaxis\":\"y\",\"type\":\"bar\"},{\"alignmentgroup\":\"True\",\"hovertemplate\":\"Area=Belgium<br>Year=%{x}<br>Value=%{y}<extra></extra>\",\"legendgroup\":\"Belgium\",\"marker\":{\"color\":\"#fbafa1\",\"pattern\":{\"shape\":\"\"}},\"name\":\"Belgium\",\"offsetgroup\":\"Belgium\",\"orientation\":\"v\",\"showlegend\":true,\"textposition\":\"auto\",\"x\":[2000,2001,2002,2003,2004,2005,2006,2007,2008,2009,2010,2011,2012,2013,2014,2015,2016,2017,2018,2019,2020],\"xaxis\":\"x\",\"y\":[23573651.0,22987471.0,23296226.0,24267638.0,24764838.0,26476313.0,27323184.0,27316094.0,28056778.0,26695258.0,28063114.0,29095456.0,30094756.0,30007993.0,31039670.0,31697697.0,32494977.0,34924763.0,36943741.0,35727698.0,36037663.0],\"yaxis\":\"y\",\"type\":\"bar\"},{\"alignmentgroup\":\"True\",\"hovertemplate\":\"Area=Brazil<br>Year=%{x}<br>Value=%{y}<extra></extra>\",\"legendgroup\":\"Brazil\",\"marker\":{\"color\":\"#fcd471\",\"pattern\":{\"shape\":\"\"}},\"name\":\"Brazil\",\"offsetgroup\":\"Brazil\",\"orientation\":\"v\",\"showlegend\":true,\"textposition\":\"auto\",\"x\":[1961,1962,1963,1964,1965,1966,1967,1968,1969,1970,1971,1972,1973,1974,1975,1976,1977,1978,1979,1980,1981,1982,1983,1984,1985,1986,1987,1988,1989,1990,1991,1992,1993,1994,1995,1996,1997,1998,1999,2000,2001,2002,2003,2004,2005,2006,2007,2008,2009,2010,2011,2012,2013,2014,2015,2016,2017,2018,2019,2020],\"xaxis\":\"x\",\"y\":[3443952.0,2699017.0,3712959.0,2499292.0,4296615.0,4964923.0,4360001.0,5655153.0,6004072.0,7022773.0,7385623.0,8929465.0,10204369.0,11942579.0,13245040.0,14784189.0,16637715.0,12699072.0,12195268.0,16235180.0,19417763.0,16782893.0,19423126.0,19176108.0,21432647.0,15917037.0,19690301.0,18686298.0,22046858.0,20416104.0,17407117.0,21291524.0,24252906.0,27019528.0,28496368.0,27966679.0,32166824.0,34500454.0,39420769.0,34716099.0,53959037.0,55886652.0,63118493.0,70513327.0,72391276.0,76696669.0,84332693.0,81366070.0,90717371.0,100223161.0,103061007.0,111439051.0,129024776.0,122844448.0,142790580.0,135663160.0,159223658.0,166207890.0,173057848.0,188606176.0],\"yaxis\":\"y\",\"type\":\"bar\"},{\"alignmentgroup\":\"True\",\"hovertemplate\":\"Area=Canada<br>Year=%{x}<br>Value=%{y}<extra></extra>\",\"legendgroup\":\"Canada\",\"marker\":{\"color\":\"#f0ed35\",\"pattern\":{\"shape\":\"\"}},\"name\":\"Canada\",\"offsetgroup\":\"Canada\",\"orientation\":\"v\",\"showlegend\":true,\"textposition\":\"auto\",\"x\":[1961,1962,1963,1964,1965,1966,1967,1968,1969,1970,1971,1972,1973,1974,1975,1976,1977,1978,1979,1980,1981,1982,1983,1984,1985,1986,1987,1988,1989,1990,1991,1992,1993,1994,1995,1996,1997,1998,1999,2000,2001,2002,2003,2004,2005,2006,2007,2008,2009,2010,2011,2012,2013,2014,2015,2016,2017,2018,2019,2020],\"xaxis\":\"x\",\"y\":[14103923.0,11843354.0,14627935.0,18455120.0,16802806.0,19634121.0,14308267.0,13310492.0,10757849.0,18305523.0,22373123.0,23858211.0,20772507.0,16502328.0,18859955.0,20570649.0,23678614.0,24830277.0,23184382.0,27857442.0,29132049.0,33111780.0,36138064.0,34998242.0,28427912.0,31194097.0,37688917.0,33332577.0,25836713.0,32775709.0,39216448.0,38664286.0,35831453.0,41873537.0,38830409.0,39970042.0,42753593.0,43791000.0,42435847.0,46401794.0,47114842.0,37951895.0,40172758.0,47321610.0,48410390.0,56649819.0,59275830.0,58775144.0,58432184.0,59724713.0,58744318.0,61132564.0,62990815.0,73784396.0,72366112.0,71884862.0,75718231.0,77583651.0,74011041.0,84377014.0],\"yaxis\":\"y\",\"type\":\"bar\"},{\"alignmentgroup\":\"True\",\"hovertemplate\":\"Area=China<br>Year=%{x}<br>Value=%{y}<extra></extra>\",\"legendgroup\":\"China\",\"marker\":{\"color\":\"#c6e516\",\"pattern\":{\"shape\":\"\"}},\"name\":\"China\",\"offsetgroup\":\"China\",\"orientation\":\"v\",\"showlegend\":true,\"textposition\":\"auto\",\"x\":[1961,1962,1963,1964,1965,1966,1967,1968,1969,1970,1971,1972,1973,1974,1975,1976,1977,1978,1979,1980,1981,1982,1983,1984,1985,1986,1987,1988,1989,1990,1991,1992,1993,1994,1995,1996,1997,1998,1999,2000,2001,2002,2003,2004,2005,2006,2007,2008,2009,2010,2011,2012,2013,2014,2015,2016,2017,2018,2019,2020],\"xaxis\":\"x\",\"y\":[3009096.0,4951447.0,6356688.0,7957960.0,8376666.0,10102132.0,9535905.0,9060606.0,8709468.0,8529402.0,9410531.0,9693120.0,11813267.0,11146848.0,10247591.0,9415285.0,8850301.0,9871693.0,10183056.0,12122956.0,9927679.0,10572665.0,12235600.0,14128242.0,20614340.0,25264474.0,24243055.0,24669859.0,22081217.0,21588353.0,29222911.0,32092844.0,33807473.0,32604766.0,18221510.0,18552175.0,25533295.0,28051419.0,26287482.0,34639404.0,28924644.0,37094367.0,46086535.0,27768981.0,34519726.0,31542742.0,38954172.0,32140573.0,32292399.0,32633818.0,33697220.0,34029169.0,34088468.0,36043619.0,35620188.0,37909854.0,69960398.0,43501771.0,44975196.0,42856855.0],\"yaxis\":\"y\",\"type\":\"bar\"},{\"alignmentgroup\":\"True\",\"hovertemplate\":\"Area=China (excluding intra-trade)<br>Year=%{x}<br>Value=%{y}<extra></extra>\",\"legendgroup\":\"China (excluding intra-trade)\",\"marker\":{\"color\":\"#96d310\",\"pattern\":{\"shape\":\"\"}},\"name\":\"China (excluding intra-trade)\",\"offsetgroup\":\"China (excluding intra-trade)\",\"orientation\":\"v\",\"showlegend\":true,\"textposition\":\"auto\",\"x\":[1986,1987,1988,1989,1990,1991,1992,1993,1994,1995,1996,1997,1998,1999,2000,2001,2002,2003,2004,2005,2006,2007,2008,2009,2010,2011,2012,2013,2014,2015,2016,2017,2018,2019,2020],\"xaxis\":\"x\",\"y\":[2167853.0,12984428.0,15357172.0,14166921.0,14218398.0,20969115.0,23032797.0,24604389.0,22832625.0,10156408.0,9697890.0,16047596.0,16359978.0,16471033.0,24862063.0,19874792.0,28385439.0,36149727.0,19766249.0,27305282.0,23830627.0,30360487.0,23124231.0,23894819.0,24198820.0,26653129.0,26239363.0,27306602.0,26465927.0,26798709.0,27992731.0,60106541.0,34900691.0,33730449.0,32719976.0],\"yaxis\":\"y\",\"type\":\"bar\"},{\"alignmentgroup\":\"True\",\"hovertemplate\":\"Area=China, mainland<br>Year=%{x}<br>Value=%{y}<extra></extra>\",\"legendgroup\":\"China, mainland\",\"marker\":{\"color\":\"#61c10b\",\"pattern\":{\"shape\":\"\"}},\"name\":\"China, mainland\",\"offsetgroup\":\"China, mainland\",\"orientation\":\"v\",\"showlegend\":true,\"textposition\":\"auto\",\"x\":[1961,1962,1963,1964,1965,1966,1967,1968,1969,1970,1971,1972,1973,1974,1975,1976,1977,1978,1979,1980,1981,1982,1983,1984,1985,1986,1987,1988,1989,1990,1991,1992,1993,1994,1995,1996,1997,1998,1999,2000,2001,2002,2003,2004,2005,2006,2007,2008,2009,2010,2011,2012,2013,2014,2015,2016,2017,2018,2019,2020],\"xaxis\":\"x\",\"y\":[1525071.0,3425238.0,4730958.0,5883423.0,5877989.0,7547627.0,7542558.0,7068391.0,6784336.0,6920677.0,7403825.0,7848025.0,9910911.0,9642982.0,8970545.0,7809837.0,6848628.0,7820362.0,7643077.0,9665116.0,8002037.0,7998607.0,9233283.0,11748562.0,18488284.0,22439352.0,21419275.0,21962105.0,19350250.0,18933525.0,25967814.0,29069306.0,30885975.0,29039674.0,14223783.0,14474725.0,21745947.0,24446326.0,22829385.0,30920105.0,25558647.0,33956505.0,43145937.0,25377065.0,32323796.0,29142991.0,36331701.0,28852548.0,28698337.0,28524176.0,29395546.0,29995945.0,30064226.0,31751400.0,31418775.0,33357883.0,65311260.0,38597960.0,40455606.0,39160862.0],\"yaxis\":\"y\",\"type\":\"bar\"},{\"alignmentgroup\":\"True\",\"hovertemplate\":\"Area=France<br>Year=%{x}<br>Value=%{y}<extra></extra>\",\"legendgroup\":\"France\",\"marker\":{\"color\":\"#31ac28\",\"pattern\":{\"shape\":\"\"}},\"name\":\"France\",\"offsetgroup\":\"France\",\"orientation\":\"v\",\"showlegend\":true,\"textposition\":\"auto\",\"x\":[1961,1962,1963,1964,1965,1966,1967,1968,1969,1970,1971,1972,1973,1974,1975,1976,1977,1978,1979,1980,1981,1982,1983,1984,1985,1986,1987,1988,1989,1990,1991,1992,1993,1994,1995,1996,1997,1998,1999,2000,2001,2002,2003,2004,2005,2006,2007,2008,2009,2010,2011,2012,2013,2014,2015,2016,2017,2018,2019,2020],\"xaxis\":\"x\",\"y\":[8402671.0,6926477.0,9311163.0,11052475.0,12228539.0,12390999.0,11712525.0,15824255.0,18605180.0,17675826.0,19973255.0,24316742.0,26444617.0,27877064.0,23420099.0,25148891.0,23076522.0,28194196.0,31379642.0,35305335.0,38458830.0,36007172.0,42106484.0,45068572.0,51153555.0,48821346.0,54521281.0,53575551.0,58393345.0,59316455.0,58857229.0,61682693.0,62981189.0,55683314.0,58008842.0,57079626.0,59944048.0,62472190.0,69152387.0,67337789.0,60773942.0,61305580.0,64796190.0,61742289.0,66024106.0,64601385.0,60322345.0,62493501.0,61375186.0,71069248.0,69285811.0,64818502.0,68439783.0,68864831.0,73273970.0,67569109.0,63600392.0,69689797.0,68893249.0,68366228.0],\"yaxis\":\"y\",\"type\":\"bar\"},{\"alignmentgroup\":\"True\",\"hovertemplate\":\"Area=Germany<br>Year=%{x}<br>Value=%{y}<extra></extra>\",\"legendgroup\":\"Germany\",\"marker\":{\"color\":\"#439064\",\"pattern\":{\"shape\":\"\"}},\"name\":\"Germany\",\"offsetgroup\":\"Germany\",\"orientation\":\"v\",\"showlegend\":true,\"textposition\":\"auto\",\"x\":[1961,1962,1963,1964,1965,1966,1967,1968,1969,1970,1971,1972,1973,1974,1975,1976,1977,1978,1979,1980,1981,1982,1983,1984,1985,1986,1987,1988,1989,1990,1991,1992,1993,1994,1995,1996,1997,1998,1999,2000,2001,2002,2003,2004,2005,2006,2007,2008,2009,2010,2011,2012,2013,2014,2015,2016,2017,2018,2019,2020],\"xaxis\":\"x\",\"y\":[4523059.0,4487981.0,4902575.0,5475689.0,5758579.0,6515591.0,7408240.0,8337441.0,10067574.0,11641657.0,11598067.0,13487055.0,15756630.0,15863891.0,15903311.0,17551023.0,18035999.0,18569178.0,19449926.0,20547399.0,22090359.0,22802841.0,22806919.0,23742632.0,25455593.0,29861926.0,31353363.0,30764569.0,31283640.0,32725023.0,36538078.0,37959342.0,36590248.0,38773496.0,36137354.0,38615953.0,37021865.0,40332464.0,42798006.0,47197729.0,46880823.0,45798663.0,47588010.0,47330438.0,50074584.0,49003159.0,46976117.0,50056680.0,53799059.0,57548462.0,55311356.0,57755554.0,61051948.0,63615210.0,66846564.0,66482415.0,63754126.0,60990663.0,60405108.0,64126123.0],\"yaxis\":\"y\",\"type\":\"bar\"},{\"alignmentgroup\":\"True\",\"hovertemplate\":\"Area=India<br>Year=%{x}<br>Value=%{y}<extra></extra>\",\"legendgroup\":\"India\",\"marker\":{\"color\":\"#3d719a\",\"pattern\":{\"shape\":\"\"}},\"name\":\"India\",\"offsetgroup\":\"India\",\"orientation\":\"v\",\"showlegend\":true,\"textposition\":\"auto\",\"x\":[1961,1962,1963,1964,1965,1966,1967,1968,1969,1970,1971,1972,1973,1974,1975,1976,1977,1978,1979,1980,1981,1982,1983,1984,1985,1986,1987,1988,1989,1990,1991,1992,1993,1994,1995,1996,1997,1998,1999,2000,2001,2002,2003,2004,2005,2006,2007,2008,2009,2010,2011,2012,2013,2014,2015,2016,2017,2018,2019,2020],\"xaxis\":\"x\",\"y\":[1673842.0,2025232.0,2441793.0,2145859.0,1975761.0,2062194.0,1735204.0,1821430.0,1569947.0,2207464.0,2368128.0,2373064.0,2639499.0,2551355.0,3046857.0,4279817.0,2931867.0,3407210.0,4976861.0,3864142.0,4742249.0,4007193.0,4096922.0,3620663.0,3380081.0,3738967.0,3327227.0,3510215.0,5262153.0,5368425.0,6945171.0,6655796.0,8505791.0,7692848.0,18074968.0,15952730.0,12138752.0,15346135.0,8836728.0,10170849.0,14797491.0,20961895.0,20917241.0,20433879.0,21091149.0,25061921.0,35378532.0,26951486.0,20045017.0,23432933.0,35368303.0,50650243.0,56564388.0,48127338.0,39192724.0,36635944.0,41585915.0,42842391.0,40153418.0,54516340.0],\"yaxis\":\"y\",\"type\":\"bar\"},{\"alignmentgroup\":\"True\",\"hovertemplate\":\"Area=Indonesia<br>Year=%{x}<br>Value=%{y}<extra></extra>\",\"legendgroup\":\"Indonesia\",\"marker\":{\"color\":\"#284ec8\",\"pattern\":{\"shape\":\"\"}},\"name\":\"Indonesia\",\"offsetgroup\":\"Indonesia\",\"orientation\":\"v\",\"showlegend\":true,\"textposition\":\"auto\",\"x\":[1961,1962,1963,1964,1965,1966,1967,1968,1969,1970,1971,1972,1973,1974,1975,1976,1977,1978,1979,1980,1981,1982,1983,1984,1985,1986,1987,1988,1989,1990,1991,1992,1993,1994,1995,1996,1997,1998,1999,2000,2001,2002,2003,2004,2005,2006,2007,2008,2009,2010,2011,2012,2013,2014,2015,2016,2017,2018,2019,2020],\"xaxis\":\"x\",\"y\":[1603338.0,1437999.0,1468529.0,1543644.0,1819190.0,1960320.0,1914674.0,2063081.0,2350887.0,2479764.0,2623426.0,2425168.0,2505132.0,2893725.0,2880237.0,2777125.0,2581518.0,2954879.0,3408256.0,3609293.0,3094108.0,3144368.0,3740135.0,3834656.0,5205112.0,4682230.0,5176459.0,5695024.0,6494843.0,6892509.0,7035746.0,7514806.0,9027672.0,9118778.0,7468561.0,8352621.0,9545471.0,8924250.0,10525839.0,11614803.0,12032554.0,13858531.0,13421982.0,17744337.0,20928187.0,23320917.0,21233175.0,27423184.0,29332834.0,29235654.0,30871534.0,34422667.0,37044388.0,40601791.0,45008899.0,39991494.0,46641720.0,48648823.0,47949492.0,46612023.0],\"yaxis\":\"y\",\"type\":\"bar\"},{\"alignmentgroup\":\"True\",\"hovertemplate\":\"Area=Malaysia<br>Year=%{x}<br>Value=%{y}<extra></extra>\",\"legendgroup\":\"Malaysia\",\"marker\":{\"color\":\"#2e21ea\",\"pattern\":{\"shape\":\"\"}},\"name\":\"Malaysia\",\"offsetgroup\":\"Malaysia\",\"orientation\":\"v\",\"showlegend\":true,\"textposition\":\"auto\",\"x\":[1961,1962,1963,1964,1965,1966,1967,1968,1969,1970,1971,1972,1973,1974,1975,1976,1977,1978,1979,1980,1981,1982,1983,1984,1985,1986,1987,1988,1989,1990,1991,1992,1993,1994,1995,1996,1997,1998,1999,2000,2001,2002,2003,2004,2005,2006,2007,2008,2009,2010,2011,2012,2013,2014,2015,2016,2017,2018,2019,2020],\"xaxis\":\"x\",\"y\":[1430726.0,1386053.0,1439379.0,1462867.0,1560814.0,1598965.0,1630047.0,1866318.0,2063709.0,2180843.0,2385962.0,2603949.0,3035269.0,3088331.0,3375528.0,3750878.0,3854082.0,3883737.0,4578722.0,5010366.0,5342505.0,5920912.0,6402778.0,6635657.0,7025341.0,8643746.0,8754838.0,9036642.0,10549417.0,11611827.0,11094780.0,11132643.0,11937621.0,13193182.0,13429414.0,14347028.0,13257950.0,13886621.0,15254768.0,14903082.0,17304584.0,17841703.0,20203769.0,20663055.0,21887759.0,23466173.0,22783822.0,23561072.0,23053980.0,24395529.0,25866093.0,25272293.0,25817760.0,26587057.0,26846568.0,25178777.0,24588551.0,26147328.0,28255649.0,26937042.0],\"yaxis\":\"y\",\"type\":\"bar\"},{\"alignmentgroup\":\"True\",\"hovertemplate\":\"Area=Netherlands<br>Year=%{x}<br>Value=%{y}<extra></extra>\",\"legendgroup\":\"Netherlands\",\"marker\":{\"color\":\"#6324f5\",\"pattern\":{\"shape\":\"\"}},\"name\":\"Netherlands\",\"offsetgroup\":\"Netherlands\",\"orientation\":\"v\",\"showlegend\":true,\"textposition\":\"auto\",\"x\":[1961,1962,1963,1964,1965,1966,1967,1968,1969,1970,1971,1972,1973,1974,1975,1976,1977,1978,1979,1980,1981,1982,1983,1984,1985,1986,1987,1988,1989,1990,1991,1992,1993,1994,1995,1996,1997,1998,1999,2000,2001,2002,2003,2004,2005,2006,2007,2008,2009,2010,2011,2012,2013,2014,2015,2016,2017,2018,2019,2020],\"xaxis\":\"x\",\"y\":[4424536.0,4530486.0,4560962.0,5174211.0,5852568.0,5306994.0,5939196.0,7605458.0,8643753.0,9152771.0,11062246.0,10895461.0,17638895.0,13058123.0,15519556.0,16178373.0,15423896.0,16199463.0,17812424.0,18625223.0,20539990.0,20935068.0,21675033.0,21826256.0,23318935.0,23361935.0,26559482.0,28329764.0,29969577.0,31185350.0,28269767.0,30582406.0,30436473.0,35408258.0,32095241.0,33406721.0,29171783.0,28937635.0,34725983.0,29378188.0,31654076.0,33278594.0,37882600.0,40597328.0,43910010.0,45447803.0,48432526.0,51783591.0,54800333.0,57056781.0,55977514.0,56210164.0,58409342.0,56070284.0,52567833.0,53497815.0,66515176.0,65603578.0,67392132.0,67099944.0],\"yaxis\":\"y\",\"type\":\"bar\"},{\"alignmentgroup\":\"True\",\"hovertemplate\":\"Area=Poland<br>Year=%{x}<br>Value=%{y}<extra></extra>\",\"legendgroup\":\"Poland\",\"marker\":{\"color\":\"#9139fa\",\"pattern\":{\"shape\":\"\"}},\"name\":\"Poland\",\"offsetgroup\":\"Poland\",\"orientation\":\"v\",\"showlegend\":true,\"textposition\":\"auto\",\"x\":[1961,1962,1963,1964,1965,1966,1967,1968,1969,1970,1971,1972,1973,1974,1975,1976,1977,1978,1979,1980,1981,1982,1983,1984,1985,1986,1987,1988,1989,1990,1991,1992,1993,1994,1995,1996,1997,1998,1999,2000,2001,2002,2003,2004,2005,2006,2007,2008,2009,2010,2011,2012,2013,2014,2015,2016,2017,2018,2019,2020],\"xaxis\":\"x\",\"y\":[2173536.0,2161277.0,1222438.0,2532134.0,2161518.0,1964528.0,2002669.0,2474988.0,1690496.0,2011344.0,1577610.0,2986892.0,2392187.0,2089877.0,1878380.0,2085353.0,2228579.0,1842483.0,2211642.0,1687104.0,1039440.0,1347646.0,1955541.0,2727576.0,3172081.0,3226112.0,3841350.0,4121983.0,4517425.0,5039449.0,5455842.0,5865534.0,3704041.0,3823422.0,3801213.0,3729148.0,4432479.0,4306727.0,4930182.0,4009811.0,4479917.0,4991061.0,5866207.0,6553986.0,9518053.0,9984377.0,9458141.0,9769436.0,13209019.0,12386481.0,11441221.0,15105528.0,17697065.0,19904811.0,21529506.0,21946703.0,21808542.0,21368699.0,22624246.0,27748419.0],\"yaxis\":\"y\",\"type\":\"bar\"},{\"alignmentgroup\":\"True\",\"hovertemplate\":\"Area=Russian Federation<br>Year=%{x}<br>Value=%{y}<extra></extra>\",\"legendgroup\":\"Russian Federation\",\"marker\":{\"color\":\"#c543fa\",\"pattern\":{\"shape\":\"\"}},\"name\":\"Russian Federation\",\"offsetgroup\":\"Russian Federation\",\"orientation\":\"v\",\"showlegend\":true,\"textposition\":\"auto\",\"x\":[1992,1993,1994,1995,1996,1997,1998,1999,2000,2001,2002,2003,2004,2005,2006,2007,2008,2009,2010,2011,2012,2013,2014,2015,2016,2017,2018,2019,2020],\"xaxis\":\"x\",\"y\":[1158091.0,1042358.0,3898824.0,4058083.0,3926302.0,4433546.0,4841879.0,2561689.0,4560746.0,5237549.0,15305472.0,13531948.0,8634201.0,15903519.0,15797792.0,21765357.0,18284461.0,27970435.0,18083588.0,24291827.0,32412150.0,28288233.0,41312291.0,42557660.0,47445494.0,58672147.0,71634950.0,59228221.0,67738027.0],\"yaxis\":\"y\",\"type\":\"bar\"},{\"alignmentgroup\":\"True\",\"hovertemplate\":\"Area=Spain<br>Year=%{x}<br>Value=%{y}<extra></extra>\",\"legendgroup\":\"Spain\",\"marker\":{\"color\":\"#ef55f1\",\"pattern\":{\"shape\":\"\"}},\"name\":\"Spain\",\"offsetgroup\":\"Spain\",\"orientation\":\"v\",\"showlegend\":true,\"textposition\":\"auto\",\"x\":[1961,1962,1963,1964,1965,1966,1967,1968,1969,1970,1971,1972,1973,1974,1975,1976,1977,1978,1979,1980,1981,1982,1983,1984,1985,1986,1987,1988,1989,1990,1991,1992,1993,1994,1995,1996,1997,1998,1999,2000,2001,2002,2003,2004,2005,2006,2007,2008,2009,2010,2011,2012,2013,2014,2015,2016,2017,2018,2019,2020],\"xaxis\":\"x\",\"y\":[2350541.0,2504291.0,2171404.0,3114351.0,2881169.0,2900207.0,3637514.0,3501252.0,3799946.0,4191353.0,3603298.0,3924745.0,4519093.0,4043034.0,4005687.0,4939407.0,4885649.0,4804023.0,5196856.0,4941959.0,7199074.0,6044896.0,6435956.0,7796169.0,7866014.0,8821549.0,9419175.0,10104194.0,9971689.0,9149383.0,9955192.0,10712129.0,12431485.0,14224709.0,13530799.0,14767954.0,16819022.0,16640355.0,16928922.0,18310452.0,18941335.0,20197598.0,22026728.0,21950114.0,21217718.0,22596601.0,24204411.0,23752048.0,24171590.0,26692932.0,28564248.0,30364749.0,30280651.0,32698809.0,33939085.0,34396374.0,35119951.0,35952557.0,38882227.0,38632619.0],\"yaxis\":\"y\",\"type\":\"bar\"},{\"alignmentgroup\":\"True\",\"hovertemplate\":\"Area=Thailand<br>Year=%{x}<br>Value=%{y}<extra></extra>\",\"legendgroup\":\"Thailand\",\"marker\":{\"color\":\"#ef55f1\",\"pattern\":{\"shape\":\"\"}},\"name\":\"Thailand\",\"offsetgroup\":\"Thailand\",\"orientation\":\"v\",\"showlegend\":true,\"textposition\":\"auto\",\"x\":[1961,1962,1963,1964,1965,1966,1967,1968,1969,1970,1971,1972,1973,1974,1975,1976,1977,1978,1979,1980,1981,1982,1983,1984,1985,1986,1987,1988,1989,1990,1991,1992,1993,1994,1995,1996,1997,1998,1999,2000,2001,2002,2003,2004,2005,2006,2007,2008,2009,2010,2011,2012,2013,2014,2015,2016,2017,2018,2019,2020],\"xaxis\":\"x\",\"y\":[4710102.0,4023250.0,4343287.0,6187184.0,5978681.0,5634711.0,5451501.0,5155430.0,5295457.0,5750086.0,7369266.0,8895008.0,6504628.0,8619135.0,8421698.0,12934360.0,15067762.0,14579291.0,14856533.0,15104925.0,18000387.0,23112717.0,18702531.0,22634890.0,22904669.0,24361726.0,21558686.0,24631024.0,29935657.0,23654543.0,24096463.0,27786123.0,23641271.0,22713292.0,25053948.0,24796275.0,25317073.0,23929407.0,27160277.0,27276364.0,32010448.0,30289650.0,35281680.0,40910990.0,31844043.0,32199552.0,38382584.0,40491474.0,39648349.0,38467932.0,45132978.0,39785505.0,41479034.0,52619826.0,52587719.0,52210917.0,55555057.0,53756852.0,47120851.0,41262213.0],\"yaxis\":\"y\",\"type\":\"bar\"},{\"alignmentgroup\":\"True\",\"hovertemplate\":\"Area=Ukraine<br>Year=%{x}<br>Value=%{y}<extra></extra>\",\"legendgroup\":\"Ukraine\",\"marker\":{\"color\":\"#fb84ce\",\"pattern\":{\"shape\":\"\"}},\"name\":\"Ukraine\",\"offsetgroup\":\"Ukraine\",\"orientation\":\"v\",\"showlegend\":true,\"textposition\":\"auto\",\"x\":[1992,1993,1994,1995,1996,1997,1998,1999,2000,2001,2002,2003,2004,2005,2006,2007,2008,2009,2010,2011,2012,2013,2014,2015,2016,2017,2018,2019,2020],\"xaxis\":\"x\",\"y\":[2378199.0,2060141.0,5682727.0,6912216.0,7713738.0,4855315.0,6458774.0,8442160.0,4241386.0,8332652.0,15254042.0,8711601.0,12268642.0,17445587.0,17564230.0,12482754.0,24815920.0,36943146.0,20525573.0,25879570.0,42061390.0,41062870.0,48311577.0,52785366.0,57866303.0,63371532.0,62262937.0,64235460.0,73405834.0],\"yaxis\":\"y\",\"type\":\"bar\"},{\"alignmentgroup\":\"True\",\"hovertemplate\":\"Area=United States of America<br>Year=%{x}<br>Value=%{y}<extra></extra>\",\"legendgroup\":\"United States of America\",\"marker\":{\"color\":\"#fbafa1\",\"pattern\":{\"shape\":\"\"}},\"name\":\"United States of America\",\"offsetgroup\":\"United States of America\",\"orientation\":\"v\",\"showlegend\":true,\"textposition\":\"auto\",\"x\":[1961,1962,1963,1964,1965,1966,1967,1968,1969,1970,1971,1972,1973,1974,1975,1976,1977,1978,1979,1980,1981,1982,1983,1984,1985,1986,1987,1988,1989,1990,1991,1992,1993,1994,1995,1996,1997,1998,1999,2000,2001,2002,2003,2004,2005,2006,2007,2008,2009,2010,2011,2012,2013,2014,2015,2016,2017,2018,2019,2020],\"xaxis\":\"x\",\"y\":[43380682.0,47954330.0,52058114.0,58243046.0,60437705.0,68672951.0,59724685.0,59216572.0,53719287.0,66402755.0,62479287.0,80016397.0,113186140.0,97222824.0,103978494.0,116856113.0,113033942.0,139659587.0,150022643.0,166640371.0,166922077.0,154632436.0,148968732.0,149956757.0,122768398.0,111590224.0,135680761.0,150881317.0,156608864.0,143049504.0,141597727.0,150791002.0,147892354.0,140164384.0,174783374.0,163461556.0,152591350.0,150346183.0,161181542.0,165079128.0,164492452.0,161247569.0,162521094.0,163414490.0,160529371.0,172234565.0,188441823.0,191947424.0,178302267.0,199553640.0,188392109.0,174980124.0,174400235.0,209525079.0,201534856.0,222586816.0,220426174.0,222355772.0,202073190.0,227885780.0],\"yaxis\":\"y\",\"type\":\"bar\"}],                        {\"template\":{\"data\":{\"bar\":[{\"error_x\":{\"color\":\"#2a3f5f\"},\"error_y\":{\"color\":\"#2a3f5f\"},\"marker\":{\"line\":{\"color\":\"#E5ECF6\",\"width\":0.5},\"pattern\":{\"fillmode\":\"overlay\",\"size\":10,\"solidity\":0.2}},\"type\":\"bar\"}],\"barpolar\":[{\"marker\":{\"line\":{\"color\":\"#E5ECF6\",\"width\":0.5},\"pattern\":{\"fillmode\":\"overlay\",\"size\":10,\"solidity\":0.2}},\"type\":\"barpolar\"}],\"carpet\":[{\"aaxis\":{\"endlinecolor\":\"#2a3f5f\",\"gridcolor\":\"white\",\"linecolor\":\"white\",\"minorgridcolor\":\"white\",\"startlinecolor\":\"#2a3f5f\"},\"baxis\":{\"endlinecolor\":\"#2a3f5f\",\"gridcolor\":\"white\",\"linecolor\":\"white\",\"minorgridcolor\":\"white\",\"startlinecolor\":\"#2a3f5f\"},\"type\":\"carpet\"}],\"choropleth\":[{\"colorbar\":{\"outlinewidth\":0,\"ticks\":\"\"},\"type\":\"choropleth\"}],\"contour\":[{\"colorbar\":{\"outlinewidth\":0,\"ticks\":\"\"},\"colorscale\":[[0.0,\"#0d0887\"],[0.1111111111111111,\"#46039f\"],[0.2222222222222222,\"#7201a8\"],[0.3333333333333333,\"#9c179e\"],[0.4444444444444444,\"#bd3786\"],[0.5555555555555556,\"#d8576b\"],[0.6666666666666666,\"#ed7953\"],[0.7777777777777778,\"#fb9f3a\"],[0.8888888888888888,\"#fdca26\"],[1.0,\"#f0f921\"]],\"type\":\"contour\"}],\"contourcarpet\":[{\"colorbar\":{\"outlinewidth\":0,\"ticks\":\"\"},\"type\":\"contourcarpet\"}],\"heatmap\":[{\"colorbar\":{\"outlinewidth\":0,\"ticks\":\"\"},\"colorscale\":[[0.0,\"#0d0887\"],[0.1111111111111111,\"#46039f\"],[0.2222222222222222,\"#7201a8\"],[0.3333333333333333,\"#9c179e\"],[0.4444444444444444,\"#bd3786\"],[0.5555555555555556,\"#d8576b\"],[0.6666666666666666,\"#ed7953\"],[0.7777777777777778,\"#fb9f3a\"],[0.8888888888888888,\"#fdca26\"],[1.0,\"#f0f921\"]],\"type\":\"heatmap\"}],\"heatmapgl\":[{\"colorbar\":{\"outlinewidth\":0,\"ticks\":\"\"},\"colorscale\":[[0.0,\"#0d0887\"],[0.1111111111111111,\"#46039f\"],[0.2222222222222222,\"#7201a8\"],[0.3333333333333333,\"#9c179e\"],[0.4444444444444444,\"#bd3786\"],[0.5555555555555556,\"#d8576b\"],[0.6666666666666666,\"#ed7953\"],[0.7777777777777778,\"#fb9f3a\"],[0.8888888888888888,\"#fdca26\"],[1.0,\"#f0f921\"]],\"type\":\"heatmapgl\"}],\"histogram\":[{\"marker\":{\"pattern\":{\"fillmode\":\"overlay\",\"size\":10,\"solidity\":0.2}},\"type\":\"histogram\"}],\"histogram2d\":[{\"colorbar\":{\"outlinewidth\":0,\"ticks\":\"\"},\"colorscale\":[[0.0,\"#0d0887\"],[0.1111111111111111,\"#46039f\"],[0.2222222222222222,\"#7201a8\"],[0.3333333333333333,\"#9c179e\"],[0.4444444444444444,\"#bd3786\"],[0.5555555555555556,\"#d8576b\"],[0.6666666666666666,\"#ed7953\"],[0.7777777777777778,\"#fb9f3a\"],[0.8888888888888888,\"#fdca26\"],[1.0,\"#f0f921\"]],\"type\":\"histogram2d\"}],\"histogram2dcontour\":[{\"colorbar\":{\"outlinewidth\":0,\"ticks\":\"\"},\"colorscale\":[[0.0,\"#0d0887\"],[0.1111111111111111,\"#46039f\"],[0.2222222222222222,\"#7201a8\"],[0.3333333333333333,\"#9c179e\"],[0.4444444444444444,\"#bd3786\"],[0.5555555555555556,\"#d8576b\"],[0.6666666666666666,\"#ed7953\"],[0.7777777777777778,\"#fb9f3a\"],[0.8888888888888888,\"#fdca26\"],[1.0,\"#f0f921\"]],\"type\":\"histogram2dcontour\"}],\"mesh3d\":[{\"colorbar\":{\"outlinewidth\":0,\"ticks\":\"\"},\"type\":\"mesh3d\"}],\"parcoords\":[{\"line\":{\"colorbar\":{\"outlinewidth\":0,\"ticks\":\"\"}},\"type\":\"parcoords\"}],\"pie\":[{\"automargin\":true,\"type\":\"pie\"}],\"scatter\":[{\"marker\":{\"colorbar\":{\"outlinewidth\":0,\"ticks\":\"\"}},\"type\":\"scatter\"}],\"scatter3d\":[{\"line\":{\"colorbar\":{\"outlinewidth\":0,\"ticks\":\"\"}},\"marker\":{\"colorbar\":{\"outlinewidth\":0,\"ticks\":\"\"}},\"type\":\"scatter3d\"}],\"scattercarpet\":[{\"marker\":{\"colorbar\":{\"outlinewidth\":0,\"ticks\":\"\"}},\"type\":\"scattercarpet\"}],\"scattergeo\":[{\"marker\":{\"colorbar\":{\"outlinewidth\":0,\"ticks\":\"\"}},\"type\":\"scattergeo\"}],\"scattergl\":[{\"marker\":{\"colorbar\":{\"outlinewidth\":0,\"ticks\":\"\"}},\"type\":\"scattergl\"}],\"scattermapbox\":[{\"marker\":{\"colorbar\":{\"outlinewidth\":0,\"ticks\":\"\"}},\"type\":\"scattermapbox\"}],\"scatterpolar\":[{\"marker\":{\"colorbar\":{\"outlinewidth\":0,\"ticks\":\"\"}},\"type\":\"scatterpolar\"}],\"scatterpolargl\":[{\"marker\":{\"colorbar\":{\"outlinewidth\":0,\"ticks\":\"\"}},\"type\":\"scatterpolargl\"}],\"scatterternary\":[{\"marker\":{\"colorbar\":{\"outlinewidth\":0,\"ticks\":\"\"}},\"type\":\"scatterternary\"}],\"surface\":[{\"colorbar\":{\"outlinewidth\":0,\"ticks\":\"\"},\"colorscale\":[[0.0,\"#0d0887\"],[0.1111111111111111,\"#46039f\"],[0.2222222222222222,\"#7201a8\"],[0.3333333333333333,\"#9c179e\"],[0.4444444444444444,\"#bd3786\"],[0.5555555555555556,\"#d8576b\"],[0.6666666666666666,\"#ed7953\"],[0.7777777777777778,\"#fb9f3a\"],[0.8888888888888888,\"#fdca26\"],[1.0,\"#f0f921\"]],\"type\":\"surface\"}],\"table\":[{\"cells\":{\"fill\":{\"color\":\"#EBF0F8\"},\"line\":{\"color\":\"white\"}},\"header\":{\"fill\":{\"color\":\"#C8D4E3\"},\"line\":{\"color\":\"white\"}},\"type\":\"table\"}]},\"layout\":{\"annotationdefaults\":{\"arrowcolor\":\"#2a3f5f\",\"arrowhead\":0,\"arrowwidth\":1},\"autotypenumbers\":\"strict\",\"coloraxis\":{\"colorbar\":{\"outlinewidth\":0,\"ticks\":\"\"}},\"colorscale\":{\"diverging\":[[0,\"#8e0152\"],[0.1,\"#c51b7d\"],[0.2,\"#de77ae\"],[0.3,\"#f1b6da\"],[0.4,\"#fde0ef\"],[0.5,\"#f7f7f7\"],[0.6,\"#e6f5d0\"],[0.7,\"#b8e186\"],[0.8,\"#7fbc41\"],[0.9,\"#4d9221\"],[1,\"#276419\"]],\"sequential\":[[0.0,\"#0d0887\"],[0.1111111111111111,\"#46039f\"],[0.2222222222222222,\"#7201a8\"],[0.3333333333333333,\"#9c179e\"],[0.4444444444444444,\"#bd3786\"],[0.5555555555555556,\"#d8576b\"],[0.6666666666666666,\"#ed7953\"],[0.7777777777777778,\"#fb9f3a\"],[0.8888888888888888,\"#fdca26\"],[1.0,\"#f0f921\"]],\"sequentialminus\":[[0.0,\"#0d0887\"],[0.1111111111111111,\"#46039f\"],[0.2222222222222222,\"#7201a8\"],[0.3333333333333333,\"#9c179e\"],[0.4444444444444444,\"#bd3786\"],[0.5555555555555556,\"#d8576b\"],[0.6666666666666666,\"#ed7953\"],[0.7777777777777778,\"#fb9f3a\"],[0.8888888888888888,\"#fdca26\"],[1.0,\"#f0f921\"]]},\"colorway\":[\"#636efa\",\"#EF553B\",\"#00cc96\",\"#ab63fa\",\"#FFA15A\",\"#19d3f3\",\"#FF6692\",\"#B6E880\",\"#FF97FF\",\"#FECB52\"],\"font\":{\"color\":\"#2a3f5f\"},\"geo\":{\"bgcolor\":\"white\",\"lakecolor\":\"white\",\"landcolor\":\"#E5ECF6\",\"showlakes\":true,\"showland\":true,\"subunitcolor\":\"white\"},\"hoverlabel\":{\"align\":\"left\"},\"hovermode\":\"closest\",\"mapbox\":{\"style\":\"light\"},\"paper_bgcolor\":\"white\",\"plot_bgcolor\":\"#E5ECF6\",\"polar\":{\"angularaxis\":{\"gridcolor\":\"white\",\"linecolor\":\"white\",\"ticks\":\"\"},\"bgcolor\":\"#E5ECF6\",\"radialaxis\":{\"gridcolor\":\"white\",\"linecolor\":\"white\",\"ticks\":\"\"}},\"scene\":{\"xaxis\":{\"backgroundcolor\":\"#E5ECF6\",\"gridcolor\":\"white\",\"gridwidth\":2,\"linecolor\":\"white\",\"showbackground\":true,\"ticks\":\"\",\"zerolinecolor\":\"white\"},\"yaxis\":{\"backgroundcolor\":\"#E5ECF6\",\"gridcolor\":\"white\",\"gridwidth\":2,\"linecolor\":\"white\",\"showbackground\":true,\"ticks\":\"\",\"zerolinecolor\":\"white\"},\"zaxis\":{\"backgroundcolor\":\"#E5ECF6\",\"gridcolor\":\"white\",\"gridwidth\":2,\"linecolor\":\"white\",\"showbackground\":true,\"ticks\":\"\",\"zerolinecolor\":\"white\"}},\"shapedefaults\":{\"line\":{\"color\":\"#2a3f5f\"}},\"ternary\":{\"aaxis\":{\"gridcolor\":\"white\",\"linecolor\":\"white\",\"ticks\":\"\"},\"baxis\":{\"gridcolor\":\"white\",\"linecolor\":\"white\",\"ticks\":\"\"},\"bgcolor\":\"#E5ECF6\",\"caxis\":{\"gridcolor\":\"white\",\"linecolor\":\"white\",\"ticks\":\"\"}},\"title\":{\"x\":0.05},\"xaxis\":{\"automargin\":true,\"gridcolor\":\"white\",\"linecolor\":\"white\",\"ticks\":\"\",\"title\":{\"standoff\":15},\"zerolinecolor\":\"white\",\"zerolinewidth\":2},\"yaxis\":{\"automargin\":true,\"gridcolor\":\"white\",\"linecolor\":\"white\",\"ticks\":\"\",\"title\":{\"standoff\":15},\"zerolinecolor\":\"white\",\"zerolinewidth\":2}}},\"xaxis\":{\"anchor\":\"y\",\"domain\":[0.0,1.0],\"title\":{\"text\":\"Year\"}},\"yaxis\":{\"anchor\":\"x\",\"domain\":[0.0,1.0],\"title\":{\"text\":\"Value\"}},\"legend\":{\"title\":{\"text\":\"Area\"},\"tracegroupgap\":0},\"title\":{\"text\":\"Toneladas Exportadas por A\\u00f1o\"},\"barmode\":\"relative\",\"height\":600},                        {\"responsive\": true}                    ).then(function(){\n",
              "                            \n",
              "var gd = document.getElementById('15e545e0-8f2e-46a2-b56f-6c37379e6e4c');\n",
              "var x = new MutationObserver(function (mutations, observer) {{\n",
              "        var display = window.getComputedStyle(gd).display;\n",
              "        if (!display || display === 'none') {{\n",
              "            console.log([gd, 'removed!']);\n",
              "            Plotly.purge(gd);\n",
              "            observer.disconnect();\n",
              "        }}\n",
              "}});\n",
              "\n",
              "// Listen for the removal of the full notebook cells\n",
              "var notebookContainer = gd.closest('#notebook-container');\n",
              "if (notebookContainer) {{\n",
              "    x.observe(notebookContainer, {childList: true});\n",
              "}}\n",
              "\n",
              "// Listen for the clearing of the current output cell\n",
              "var outputEl = gd.closest('.output');\n",
              "if (outputEl) {{\n",
              "    x.observe(outputEl, {childList: true});\n",
              "}}\n",
              "\n",
              "                        })                };                            </script>        </div>\n",
              "</body>\n",
              "</html>"
            ]
          },
          "metadata": {}
        }
      ]
    },
    {
      "cell_type": "markdown",
      "source": [
        "- Estados Unidos es el país más exportador de cultivos y productos de ramadería en los últimos 60 años\n",
        "- Brasil es el país que más ha aumentado su exportación, con una tendencia a superar EEUU en los próximos años.\n",
        "- Argentina tambíen ha pasado a ser un gran exportador en los últimos 20 años\n",
        "- los demás paises se mantienen bastante estables en los últimos años."
      ],
      "metadata": {
        "id": "vEV05exydUWO"
      }
    },
    {
      "cell_type": "code",
      "source": [
        "# Grafico evolutivo de lineas, no barras apiladas.\n",
        "\n",
        "evolutivo_lineas = df_Paises_Export_q.groupby(['Area', 'Year'])['Value'].sum().reset_index().sort_values('Year', ascending=True)\n",
        "#data.groupby(['Fecha', 'Pais'])['Confirmed'].sum().reset_index().sort_values('Confirmed', ascending=False)\n",
        "\n",
        "px.line(evolutivo_lineas, x=\"Year\", y=\"Value\", color='Area', title='Evolutivo', height=600)"
      ],
      "metadata": {
        "colab": {
          "base_uri": "https://localhost:8080/",
          "height": 617
        },
        "id": "izoXMx97ejaR",
        "outputId": "a81373f9-9230-45ec-82d3-a78966dde45e"
      },
      "execution_count": null,
      "outputs": [
        {
          "output_type": "display_data",
          "data": {
            "text/html": [
              "<html>\n",
              "<head><meta charset=\"utf-8\" /></head>\n",
              "<body>\n",
              "    <div>            <script src=\"https://cdnjs.cloudflare.com/ajax/libs/mathjax/2.7.5/MathJax.js?config=TeX-AMS-MML_SVG\"></script><script type=\"text/javascript\">if (window.MathJax) {MathJax.Hub.Config({SVG: {font: \"STIX-Web\"}});}</script>                <script type=\"text/javascript\">window.PlotlyConfig = {MathJaxConfig: 'local'};</script>\n",
              "        <script src=\"https://cdn.plot.ly/plotly-2.8.3.min.js\"></script>                <div id=\"8dc1830f-55ae-4145-833d-4de30a00c561\" class=\"plotly-graph-div\" style=\"height:600px; width:100%;\"></div>            <script type=\"text/javascript\">                                    window.PLOTLYENV=window.PLOTLYENV || {};                                    if (document.getElementById(\"8dc1830f-55ae-4145-833d-4de30a00c561\")) {                    Plotly.newPlot(                        \"8dc1830f-55ae-4145-833d-4de30a00c561\",                        [{\"hovertemplate\":\"Area=Argentina<br>Year=%{x}<br>Value=%{y}<extra></extra>\",\"legendgroup\":\"Argentina\",\"line\":{\"color\":\"#636efa\",\"dash\":\"solid\"},\"marker\":{\"symbol\":\"circle\"},\"mode\":\"lines\",\"name\":\"Argentina\",\"showlegend\":true,\"x\":[1961,1962,1963,1964,1965,1966,1967,1968,1969,1970,1971,1972,1973,1974,1975,1976,1977,1978,1979,1980,1981,1982,1983,1984,1985,1986,1987,1988,1989,1990,1991,1992,1993,1994,1995,1996,1997,1998,1999,2000,2001,2002,2003,2004,2005,2006,2007,2008,2009,2010,2011,2012,2013,2014,2015,2016,2017,2018,2019,2020],\"xaxis\":\"x\",\"y\":[6797001.0,10627730.0,9035103.0,12219939.0,14009864.0,13698929.0,11248481.0,10192872.0,12113956.0,14160480.0,13362945.0,8819409.0,13227984.0,14294271.0,10936148.0,14489485.0,22923322.0,21528807.0,23234205.0,18104986.0,25783336.0,22093475.0,31562034.0,28592766.0,32132019.0,26063219.0,19675365.0,23434660.0,18546891.0,27013375.0,29797038.0,31124744.0,27861537.0,28213710.0,34392462.0,28886029.0,41938178.0,51793004.0,48450924.0,52471066.0,55698580.0,53145310.0,58585207.0,58779931.0,72429763.0,70450896.0,82833921.0,79192788.0,59437917.0,79657834.0,84764563.0,81959502.0,74942397.0,69103010.0,79748064.0,95504581.0,92520541.0,79296051.0,104068940.0,95129606.0],\"yaxis\":\"y\",\"type\":\"scattergl\"},{\"hovertemplate\":\"Area=United States of America<br>Year=%{x}<br>Value=%{y}<extra></extra>\",\"legendgroup\":\"United States of America\",\"line\":{\"color\":\"#EF553B\",\"dash\":\"solid\"},\"marker\":{\"symbol\":\"circle\"},\"mode\":\"lines\",\"name\":\"United States of America\",\"showlegend\":true,\"x\":[1961,1962,1963,1964,1965,1966,1967,1968,1969,1970,1971,1972,1973,1974,1975,1976,1977,1978,1979,1980,1981,1982,1983,1984,1985,1986,1987,1988,1989,1990,1991,1992,1993,1994,1995,1996,1997,1998,1999,2000,2001,2002,2003,2004,2005,2006,2007,2008,2009,2010,2011,2012,2013,2014,2015,2016,2017,2018,2019,2020],\"xaxis\":\"x\",\"y\":[43380682.0,47954330.0,52058114.0,58243046.0,60437705.0,68672951.0,59724685.0,59216572.0,53719287.0,66402755.0,62479287.0,80016397.0,113186140.0,97222824.0,103978494.0,116856113.0,113033942.0,139659587.0,150022643.0,166640371.0,166922077.0,154632436.0,148968732.0,149956757.0,122768398.0,111590224.0,135680761.0,150881317.0,156608864.0,143049504.0,141597727.0,150791002.0,147892354.0,140164384.0,174783374.0,163461556.0,152591350.0,150346183.0,161181542.0,165079128.0,164492452.0,161247569.0,162521094.0,163414490.0,160529371.0,172234565.0,188441823.0,191947424.0,178302267.0,199553640.0,188392109.0,174980124.0,174400235.0,209525079.0,201534856.0,222586816.0,220426174.0,222355772.0,202073190.0,227885780.0],\"yaxis\":\"y\",\"type\":\"scattergl\"},{\"hovertemplate\":\"Area=Thailand<br>Year=%{x}<br>Value=%{y}<extra></extra>\",\"legendgroup\":\"Thailand\",\"line\":{\"color\":\"#00cc96\",\"dash\":\"solid\"},\"marker\":{\"symbol\":\"circle\"},\"mode\":\"lines\",\"name\":\"Thailand\",\"showlegend\":true,\"x\":[1961,1962,1963,1964,1965,1966,1967,1968,1969,1970,1971,1972,1973,1974,1975,1976,1977,1978,1979,1980,1981,1982,1983,1984,1985,1986,1987,1988,1989,1990,1991,1992,1993,1994,1995,1996,1997,1998,1999,2000,2001,2002,2003,2004,2005,2006,2007,2008,2009,2010,2011,2012,2013,2014,2015,2016,2017,2018,2019,2020],\"xaxis\":\"x\",\"y\":[4710102.0,4023250.0,4343287.0,6187184.0,5978681.0,5634711.0,5451501.0,5155430.0,5295457.0,5750086.0,7369266.0,8895008.0,6504628.0,8619135.0,8421698.0,12934360.0,15067762.0,14579291.0,14856533.0,15104925.0,18000387.0,23112717.0,18702531.0,22634890.0,22904669.0,24361726.0,21558686.0,24631024.0,29935657.0,23654543.0,24096463.0,27786123.0,23641271.0,22713292.0,25053948.0,24796275.0,25317073.0,23929407.0,27160277.0,27276364.0,32010448.0,30289650.0,35281680.0,40910990.0,31844043.0,32199552.0,38382584.0,40491474.0,39648349.0,38467932.0,45132978.0,39785505.0,41479034.0,52619826.0,52587719.0,52210917.0,55555057.0,53756852.0,47120851.0,41262213.0],\"yaxis\":\"y\",\"type\":\"scattergl\"},{\"hovertemplate\":\"Area=Spain<br>Year=%{x}<br>Value=%{y}<extra></extra>\",\"legendgroup\":\"Spain\",\"line\":{\"color\":\"#ab63fa\",\"dash\":\"solid\"},\"marker\":{\"symbol\":\"circle\"},\"mode\":\"lines\",\"name\":\"Spain\",\"showlegend\":true,\"x\":[1961,1962,1963,1964,1965,1966,1967,1968,1969,1970,1971,1972,1973,1974,1975,1976,1977,1978,1979,1980,1981,1982,1983,1984,1985,1986,1987,1988,1989,1990,1991,1992,1993,1994,1995,1996,1997,1998,1999,2000,2001,2002,2003,2004,2005,2006,2007,2008,2009,2010,2011,2012,2013,2014,2015,2016,2017,2018,2019,2020],\"xaxis\":\"x\",\"y\":[2350541.0,2504291.0,2171404.0,3114351.0,2881169.0,2900207.0,3637514.0,3501252.0,3799946.0,4191353.0,3603298.0,3924745.0,4519093.0,4043034.0,4005687.0,4939407.0,4885649.0,4804023.0,5196856.0,4941959.0,7199074.0,6044896.0,6435956.0,7796169.0,7866014.0,8821549.0,9419175.0,10104194.0,9971689.0,9149383.0,9955192.0,10712129.0,12431485.0,14224709.0,13530799.0,14767954.0,16819022.0,16640355.0,16928922.0,18310452.0,18941335.0,20197598.0,22026728.0,21950114.0,21217718.0,22596601.0,24204411.0,23752048.0,24171590.0,26692932.0,28564248.0,30364749.0,30280651.0,32698809.0,33939085.0,34396374.0,35119951.0,35952557.0,38882227.0,38632619.0],\"yaxis\":\"y\",\"type\":\"scattergl\"},{\"hovertemplate\":\"Area=Poland<br>Year=%{x}<br>Value=%{y}<extra></extra>\",\"legendgroup\":\"Poland\",\"line\":{\"color\":\"#FFA15A\",\"dash\":\"solid\"},\"marker\":{\"symbol\":\"circle\"},\"mode\":\"lines\",\"name\":\"Poland\",\"showlegend\":true,\"x\":[1961,1962,1963,1964,1965,1966,1967,1968,1969,1970,1971,1972,1973,1974,1975,1976,1977,1978,1979,1980,1981,1982,1983,1984,1985,1986,1987,1988,1989,1990,1991,1992,1993,1994,1995,1996,1997,1998,1999,2000,2001,2002,2003,2004,2005,2006,2007,2008,2009,2010,2011,2012,2013,2014,2015,2016,2017,2018,2019,2020],\"xaxis\":\"x\",\"y\":[2173536.0,2161277.0,1222438.0,2532134.0,2161518.0,1964528.0,2002669.0,2474988.0,1690496.0,2011344.0,1577610.0,2986892.0,2392187.0,2089877.0,1878380.0,2085353.0,2228579.0,1842483.0,2211642.0,1687104.0,1039440.0,1347646.0,1955541.0,2727576.0,3172081.0,3226112.0,3841350.0,4121983.0,4517425.0,5039449.0,5455842.0,5865534.0,3704041.0,3823422.0,3801213.0,3729148.0,4432479.0,4306727.0,4930182.0,4009811.0,4479917.0,4991061.0,5866207.0,6553986.0,9518053.0,9984377.0,9458141.0,9769436.0,13209019.0,12386481.0,11441221.0,15105528.0,17697065.0,19904811.0,21529506.0,21946703.0,21808542.0,21368699.0,22624246.0,27748419.0],\"yaxis\":\"y\",\"type\":\"scattergl\"},{\"hovertemplate\":\"Area=Netherlands<br>Year=%{x}<br>Value=%{y}<extra></extra>\",\"legendgroup\":\"Netherlands\",\"line\":{\"color\":\"#19d3f3\",\"dash\":\"solid\"},\"marker\":{\"symbol\":\"circle\"},\"mode\":\"lines\",\"name\":\"Netherlands\",\"showlegend\":true,\"x\":[1961,1962,1963,1964,1965,1966,1967,1968,1969,1970,1971,1972,1973,1974,1975,1976,1977,1978,1979,1980,1981,1982,1983,1984,1985,1986,1987,1988,1989,1990,1991,1992,1993,1994,1995,1996,1997,1998,1999,2000,2001,2002,2003,2004,2005,2006,2007,2008,2009,2010,2011,2012,2013,2014,2015,2016,2017,2018,2019,2020],\"xaxis\":\"x\",\"y\":[4424536.0,4530486.0,4560962.0,5174211.0,5852568.0,5306994.0,5939196.0,7605458.0,8643753.0,9152771.0,11062246.0,10895461.0,17638895.0,13058123.0,15519556.0,16178373.0,15423896.0,16199463.0,17812424.0,18625223.0,20539990.0,20935068.0,21675033.0,21826256.0,23318935.0,23361935.0,26559482.0,28329764.0,29969577.0,31185350.0,28269767.0,30582406.0,30436473.0,35408258.0,32095241.0,33406721.0,29171783.0,28937635.0,34725983.0,29378188.0,31654076.0,33278594.0,37882600.0,40597328.0,43910010.0,45447803.0,48432526.0,51783591.0,54800333.0,57056781.0,55977514.0,56210164.0,58409342.0,56070284.0,52567833.0,53497815.0,66515176.0,65603578.0,67392132.0,67099944.0],\"yaxis\":\"y\",\"type\":\"scattergl\"},{\"hovertemplate\":\"Area=Malaysia<br>Year=%{x}<br>Value=%{y}<extra></extra>\",\"legendgroup\":\"Malaysia\",\"line\":{\"color\":\"#FF6692\",\"dash\":\"solid\"},\"marker\":{\"symbol\":\"circle\"},\"mode\":\"lines\",\"name\":\"Malaysia\",\"showlegend\":true,\"x\":[1961,1962,1963,1964,1965,1966,1967,1968,1969,1970,1971,1972,1973,1974,1975,1976,1977,1978,1979,1980,1981,1982,1983,1984,1985,1986,1987,1988,1989,1990,1991,1992,1993,1994,1995,1996,1997,1998,1999,2000,2001,2002,2003,2004,2005,2006,2007,2008,2009,2010,2011,2012,2013,2014,2015,2016,2017,2018,2019,2020],\"xaxis\":\"x\",\"y\":[1430726.0,1386053.0,1439379.0,1462867.0,1560814.0,1598965.0,1630047.0,1866318.0,2063709.0,2180843.0,2385962.0,2603949.0,3035269.0,3088331.0,3375528.0,3750878.0,3854082.0,3883737.0,4578722.0,5010366.0,5342505.0,5920912.0,6402778.0,6635657.0,7025341.0,8643746.0,8754838.0,9036642.0,10549417.0,11611827.0,11094780.0,11132643.0,11937621.0,13193182.0,13429414.0,14347028.0,13257950.0,13886621.0,15254768.0,14903082.0,17304584.0,17841703.0,20203769.0,20663055.0,21887759.0,23466173.0,22783822.0,23561072.0,23053980.0,24395529.0,25866093.0,25272293.0,25817760.0,26587057.0,26846568.0,25178777.0,24588551.0,26147328.0,28255649.0,26937042.0],\"yaxis\":\"y\",\"type\":\"scattergl\"},{\"hovertemplate\":\"Area=Indonesia<br>Year=%{x}<br>Value=%{y}<extra></extra>\",\"legendgroup\":\"Indonesia\",\"line\":{\"color\":\"#B6E880\",\"dash\":\"solid\"},\"marker\":{\"symbol\":\"circle\"},\"mode\":\"lines\",\"name\":\"Indonesia\",\"showlegend\":true,\"x\":[1961,1962,1963,1964,1965,1966,1967,1968,1969,1970,1971,1972,1973,1974,1975,1976,1977,1978,1979,1980,1981,1982,1983,1984,1985,1986,1987,1988,1989,1990,1991,1992,1993,1994,1995,1996,1997,1998,1999,2000,2001,2002,2003,2004,2005,2006,2007,2008,2009,2010,2011,2012,2013,2014,2015,2016,2017,2018,2019,2020],\"xaxis\":\"x\",\"y\":[1603338.0,1437999.0,1468529.0,1543644.0,1819190.0,1960320.0,1914674.0,2063081.0,2350887.0,2479764.0,2623426.0,2425168.0,2505132.0,2893725.0,2880237.0,2777125.0,2581518.0,2954879.0,3408256.0,3609293.0,3094108.0,3144368.0,3740135.0,3834656.0,5205112.0,4682230.0,5176459.0,5695024.0,6494843.0,6892509.0,7035746.0,7514806.0,9027672.0,9118778.0,7468561.0,8352621.0,9545471.0,8924250.0,10525839.0,11614803.0,12032554.0,13858531.0,13421982.0,17744337.0,20928187.0,23320917.0,21233175.0,27423184.0,29332834.0,29235654.0,30871534.0,34422667.0,37044388.0,40601791.0,45008899.0,39991494.0,46641720.0,48648823.0,47949492.0,46612023.0],\"yaxis\":\"y\",\"type\":\"scattergl\"},{\"hovertemplate\":\"Area=Germany<br>Year=%{x}<br>Value=%{y}<extra></extra>\",\"legendgroup\":\"Germany\",\"line\":{\"color\":\"#FF97FF\",\"dash\":\"solid\"},\"marker\":{\"symbol\":\"circle\"},\"mode\":\"lines\",\"name\":\"Germany\",\"showlegend\":true,\"x\":[1961,1962,1963,1964,1965,1966,1967,1968,1969,1970,1971,1972,1973,1974,1975,1976,1977,1978,1979,1980,1981,1982,1983,1984,1985,1986,1987,1988,1989,1990,1991,1992,1993,1994,1995,1996,1997,1998,1999,2000,2001,2002,2003,2004,2005,2006,2007,2008,2009,2010,2011,2012,2013,2014,2015,2016,2017,2018,2019,2020],\"xaxis\":\"x\",\"y\":[4523059.0,4487981.0,4902575.0,5475689.0,5758579.0,6515591.0,7408240.0,8337441.0,10067574.0,11641657.0,11598067.0,13487055.0,15756630.0,15863891.0,15903311.0,17551023.0,18035999.0,18569178.0,19449926.0,20547399.0,22090359.0,22802841.0,22806919.0,23742632.0,25455593.0,29861926.0,31353363.0,30764569.0,31283640.0,32725023.0,36538078.0,37959342.0,36590248.0,38773496.0,36137354.0,38615953.0,37021865.0,40332464.0,42798006.0,47197729.0,46880823.0,45798663.0,47588010.0,47330438.0,50074584.0,49003159.0,46976117.0,50056680.0,53799059.0,57548462.0,55311356.0,57755554.0,61051948.0,63615210.0,66846564.0,66482415.0,63754126.0,60990663.0,60405108.0,64126123.0],\"yaxis\":\"y\",\"type\":\"scattergl\"},{\"hovertemplate\":\"Area=France<br>Year=%{x}<br>Value=%{y}<extra></extra>\",\"legendgroup\":\"France\",\"line\":{\"color\":\"#FECB52\",\"dash\":\"solid\"},\"marker\":{\"symbol\":\"circle\"},\"mode\":\"lines\",\"name\":\"France\",\"showlegend\":true,\"x\":[1961,1962,1963,1964,1965,1966,1967,1968,1969,1970,1971,1972,1973,1974,1975,1976,1977,1978,1979,1980,1981,1982,1983,1984,1985,1986,1987,1988,1989,1990,1991,1992,1993,1994,1995,1996,1997,1998,1999,2000,2001,2002,2003,2004,2005,2006,2007,2008,2009,2010,2011,2012,2013,2014,2015,2016,2017,2018,2019,2020],\"xaxis\":\"x\",\"y\":[8402671.0,6926477.0,9311163.0,11052475.0,12228539.0,12390999.0,11712525.0,15824255.0,18605180.0,17675826.0,19973255.0,24316742.0,26444617.0,27877064.0,23420099.0,25148891.0,23076522.0,28194196.0,31379642.0,35305335.0,38458830.0,36007172.0,42106484.0,45068572.0,51153555.0,48821346.0,54521281.0,53575551.0,58393345.0,59316455.0,58857229.0,61682693.0,62981189.0,55683314.0,58008842.0,57079626.0,59944048.0,62472190.0,69152387.0,67337789.0,60773942.0,61305580.0,64796190.0,61742289.0,66024106.0,64601385.0,60322345.0,62493501.0,61375186.0,71069248.0,69285811.0,64818502.0,68439783.0,68864831.0,73273970.0,67569109.0,63600392.0,69689797.0,68893249.0,68366228.0],\"yaxis\":\"y\",\"type\":\"scattergl\"},{\"hovertemplate\":\"Area=China, mainland<br>Year=%{x}<br>Value=%{y}<extra></extra>\",\"legendgroup\":\"China, mainland\",\"line\":{\"color\":\"#636efa\",\"dash\":\"solid\"},\"marker\":{\"symbol\":\"circle\"},\"mode\":\"lines\",\"name\":\"China, mainland\",\"showlegend\":true,\"x\":[1961,1962,1963,1964,1965,1966,1967,1968,1969,1970,1971,1972,1973,1974,1975,1976,1977,1978,1979,1980,1981,1982,1983,1984,1985,1986,1987,1988,1989,1990,1991,1992,1993,1994,1995,1996,1997,1998,1999,2000,2001,2002,2003,2004,2005,2006,2007,2008,2009,2010,2011,2012,2013,2014,2015,2016,2017,2018,2019,2020],\"xaxis\":\"x\",\"y\":[1525071.0,3425238.0,4730958.0,5883423.0,5877989.0,7547627.0,7542558.0,7068391.0,6784336.0,6920677.0,7403825.0,7848025.0,9910911.0,9642982.0,8970545.0,7809837.0,6848628.0,7820362.0,7643077.0,9665116.0,8002037.0,7998607.0,9233283.0,11748562.0,18488284.0,22439352.0,21419275.0,21962105.0,19350250.0,18933525.0,25967814.0,29069306.0,30885975.0,29039674.0,14223783.0,14474725.0,21745947.0,24446326.0,22829385.0,30920105.0,25558647.0,33956505.0,43145937.0,25377065.0,32323796.0,29142991.0,36331701.0,28852548.0,28698337.0,28524176.0,29395546.0,29995945.0,30064226.0,31751400.0,31418775.0,33357883.0,65311260.0,38597960.0,40455606.0,39160862.0],\"yaxis\":\"y\",\"type\":\"scattergl\"},{\"hovertemplate\":\"Area=China<br>Year=%{x}<br>Value=%{y}<extra></extra>\",\"legendgroup\":\"China\",\"line\":{\"color\":\"#EF553B\",\"dash\":\"solid\"},\"marker\":{\"symbol\":\"circle\"},\"mode\":\"lines\",\"name\":\"China\",\"showlegend\":true,\"x\":[1961,1962,1963,1964,1965,1966,1967,1968,1969,1970,1971,1972,1973,1974,1975,1976,1977,1978,1979,1980,1981,1982,1983,1984,1985,1986,1987,1988,1989,1990,1991,1992,1993,1994,1995,1996,1997,1998,1999,2000,2001,2002,2003,2004,2005,2006,2007,2008,2009,2010,2011,2012,2013,2014,2015,2016,2017,2018,2019,2020],\"xaxis\":\"x\",\"y\":[3009096.0,4951447.0,6356688.0,7957960.0,8376666.0,10102132.0,9535905.0,9060606.0,8709468.0,8529402.0,9410531.0,9693120.0,11813267.0,11146848.0,10247591.0,9415285.0,8850301.0,9871693.0,10183056.0,12122956.0,9927679.0,10572665.0,12235600.0,14128242.0,20614340.0,25264474.0,24243055.0,24669859.0,22081217.0,21588353.0,29222911.0,32092844.0,33807473.0,32604766.0,18221510.0,18552175.0,25533295.0,28051419.0,26287482.0,34639404.0,28924644.0,37094367.0,46086535.0,27768981.0,34519726.0,31542742.0,38954172.0,32140573.0,32292399.0,32633818.0,33697220.0,34029169.0,34088468.0,36043619.0,35620188.0,37909854.0,69960398.0,43501771.0,44975196.0,42856855.0],\"yaxis\":\"y\",\"type\":\"scattergl\"},{\"hovertemplate\":\"Area=Canada<br>Year=%{x}<br>Value=%{y}<extra></extra>\",\"legendgroup\":\"Canada\",\"line\":{\"color\":\"#00cc96\",\"dash\":\"solid\"},\"marker\":{\"symbol\":\"circle\"},\"mode\":\"lines\",\"name\":\"Canada\",\"showlegend\":true,\"x\":[1961,1962,1963,1964,1965,1966,1967,1968,1969,1970,1971,1972,1973,1974,1975,1976,1977,1978,1979,1980,1981,1982,1983,1984,1985,1986,1987,1988,1989,1990,1991,1992,1993,1994,1995,1996,1997,1998,1999,2000,2001,2002,2003,2004,2005,2006,2007,2008,2009,2010,2011,2012,2013,2014,2015,2016,2017,2018,2019,2020],\"xaxis\":\"x\",\"y\":[14103923.0,11843354.0,14627935.0,18455120.0,16802806.0,19634121.0,14308267.0,13310492.0,10757849.0,18305523.0,22373123.0,23858211.0,20772507.0,16502328.0,18859955.0,20570649.0,23678614.0,24830277.0,23184382.0,27857442.0,29132049.0,33111780.0,36138064.0,34998242.0,28427912.0,31194097.0,37688917.0,33332577.0,25836713.0,32775709.0,39216448.0,38664286.0,35831453.0,41873537.0,38830409.0,39970042.0,42753593.0,43791000.0,42435847.0,46401794.0,47114842.0,37951895.0,40172758.0,47321610.0,48410390.0,56649819.0,59275830.0,58775144.0,58432184.0,59724713.0,58744318.0,61132564.0,62990815.0,73784396.0,72366112.0,71884862.0,75718231.0,77583651.0,74011041.0,84377014.0],\"yaxis\":\"y\",\"type\":\"scattergl\"},{\"hovertemplate\":\"Area=Brazil<br>Year=%{x}<br>Value=%{y}<extra></extra>\",\"legendgroup\":\"Brazil\",\"line\":{\"color\":\"#ab63fa\",\"dash\":\"solid\"},\"marker\":{\"symbol\":\"circle\"},\"mode\":\"lines\",\"name\":\"Brazil\",\"showlegend\":true,\"x\":[1961,1962,1963,1964,1965,1966,1967,1968,1969,1970,1971,1972,1973,1974,1975,1976,1977,1978,1979,1980,1981,1982,1983,1984,1985,1986,1987,1988,1989,1990,1991,1992,1993,1994,1995,1996,1997,1998,1999,2000,2001,2002,2003,2004,2005,2006,2007,2008,2009,2010,2011,2012,2013,2014,2015,2016,2017,2018,2019,2020],\"xaxis\":\"x\",\"y\":[3443952.0,2699017.0,3712959.0,2499292.0,4296615.0,4964923.0,4360001.0,5655153.0,6004072.0,7022773.0,7385623.0,8929465.0,10204369.0,11942579.0,13245040.0,14784189.0,16637715.0,12699072.0,12195268.0,16235180.0,19417763.0,16782893.0,19423126.0,19176108.0,21432647.0,15917037.0,19690301.0,18686298.0,22046858.0,20416104.0,17407117.0,21291524.0,24252906.0,27019528.0,28496368.0,27966679.0,32166824.0,34500454.0,39420769.0,34716099.0,53959037.0,55886652.0,63118493.0,70513327.0,72391276.0,76696669.0,84332693.0,81366070.0,90717371.0,100223161.0,103061007.0,111439051.0,129024776.0,122844448.0,142790580.0,135663160.0,159223658.0,166207890.0,173057848.0,188606176.0],\"yaxis\":\"y\",\"type\":\"scattergl\"},{\"hovertemplate\":\"Area=Australia<br>Year=%{x}<br>Value=%{y}<extra></extra>\",\"legendgroup\":\"Australia\",\"line\":{\"color\":\"#FFA15A\",\"dash\":\"solid\"},\"marker\":{\"symbol\":\"circle\"},\"mode\":\"lines\",\"name\":\"Australia\",\"showlegend\":true,\"x\":[1961,1962,1963,1964,1965,1966,1967,1968,1969,1970,1971,1972,1973,1974,1975,1976,1977,1978,1979,1980,1981,1982,1983,1984,1985,1986,1987,1988,1989,1990,1991,1992,1993,1994,1995,1996,1997,1998,1999,2000,2001,2002,2003,2004,2005,2006,2007,2008,2009,2010,2011,2012,2013,2014,2015,2016,2017,2018,2019,2020],\"xaxis\":\"x\",\"y\":[8654783.0,10283375.0,8862128.0,12209530.0,11009078.0,9935713.0,12368652.0,11788885.0,11194781.0,13237660.0,17083176.0,18349420.0,14197054.0,13065499.0,17492655.0,18601720.0,21469629.0,23537746.0,19214322.0,31523231.0,24937629.0,26934007.0,23459038.0,26923086.0,35729031.0,35989160.0,33741772.0,29677494.0,27524391.0,27842725.0,26886613.0,24111988.0,28143079.0,33613814.0,27613223.0,39176709.0,43915302.0,39537618.0,43289662.0,43964033.0,41689750.0,40811214.0,29078344.0,42815393.0,35696157.0,38545288.0,24466585.0,28422979.0,36105611.0,36998838.0,39250682.0,50248925.0,45509310.0,46391891.0,46103519.0,44545842.0,54074363.0,38127696.0,29859951.0,31572071.0],\"yaxis\":\"y\",\"type\":\"scattergl\"},{\"hovertemplate\":\"Area=India<br>Year=%{x}<br>Value=%{y}<extra></extra>\",\"legendgroup\":\"India\",\"line\":{\"color\":\"#19d3f3\",\"dash\":\"solid\"},\"marker\":{\"symbol\":\"circle\"},\"mode\":\"lines\",\"name\":\"India\",\"showlegend\":true,\"x\":[1961,1962,1963,1964,1965,1966,1967,1968,1969,1970,1971,1972,1973,1974,1975,1976,1977,1978,1979,1980,1981,1982,1983,1984,1985,1986,1987,1988,1989,1990,1991,1992,1993,1994,1995,1996,1997,1998,1999,2000,2001,2002,2003,2004,2005,2006,2007,2008,2009,2010,2011,2012,2013,2014,2015,2016,2017,2018,2019,2020],\"xaxis\":\"x\",\"y\":[1673842.0,2025232.0,2441793.0,2145859.0,1975761.0,2062194.0,1735204.0,1821430.0,1569947.0,2207464.0,2368128.0,2373064.0,2639499.0,2551355.0,3046857.0,4279817.0,2931867.0,3407210.0,4976861.0,3864142.0,4742249.0,4007193.0,4096922.0,3620663.0,3380081.0,3738967.0,3327227.0,3510215.0,5262153.0,5368425.0,6945171.0,6655796.0,8505791.0,7692848.0,18074968.0,15952730.0,12138752.0,15346135.0,8836728.0,10170849.0,14797491.0,20961895.0,20917241.0,20433879.0,21091149.0,25061921.0,35378532.0,26951486.0,20045017.0,23432933.0,35368303.0,50650243.0,56564388.0,48127338.0,39192724.0,36635944.0,41585915.0,42842391.0,40153418.0,54516340.0],\"yaxis\":\"y\",\"type\":\"scattergl\"},{\"hovertemplate\":\"Area=China (excluding intra-trade)<br>Year=%{x}<br>Value=%{y}<extra></extra>\",\"legendgroup\":\"China (excluding intra-trade)\",\"line\":{\"color\":\"#FF6692\",\"dash\":\"solid\"},\"marker\":{\"symbol\":\"circle\"},\"mode\":\"lines\",\"name\":\"China (excluding intra-trade)\",\"showlegend\":true,\"x\":[1986,1987,1988,1989,1990,1991,1992,1993,1994,1995,1996,1997,1998,1999,2000,2001,2002,2003,2004,2005,2006,2007,2008,2009,2010,2011,2012,2013,2014,2015,2016,2017,2018,2019,2020],\"xaxis\":\"x\",\"y\":[2167853.0,12984428.0,15357172.0,14166921.0,14218398.0,20969115.0,23032797.0,24604389.0,22832625.0,10156408.0,9697890.0,16047596.0,16359978.0,16471033.0,24862063.0,19874792.0,28385439.0,36149727.0,19766249.0,27305282.0,23830627.0,30360487.0,23124231.0,23894819.0,24198820.0,26653129.0,26239363.0,27306602.0,26465927.0,26798709.0,27992731.0,60106541.0,34900691.0,33730449.0,32719976.0],\"yaxis\":\"y\",\"type\":\"scattergl\"},{\"hovertemplate\":\"Area=Ukraine<br>Year=%{x}<br>Value=%{y}<extra></extra>\",\"legendgroup\":\"Ukraine\",\"line\":{\"color\":\"#B6E880\",\"dash\":\"solid\"},\"marker\":{\"symbol\":\"circle\"},\"mode\":\"lines\",\"name\":\"Ukraine\",\"showlegend\":true,\"x\":[1992,1993,1994,1995,1996,1997,1998,1999,2000,2001,2002,2003,2004,2005,2006,2007,2008,2009,2010,2011,2012,2013,2014,2015,2016,2017,2018,2019,2020],\"xaxis\":\"x\",\"y\":[2378199.0,2060141.0,5682727.0,6912216.0,7713738.0,4855315.0,6458774.0,8442160.0,4241386.0,8332652.0,15254042.0,8711601.0,12268642.0,17445587.0,17564230.0,12482754.0,24815920.0,36943146.0,20525573.0,25879570.0,42061390.0,41062870.0,48311577.0,52785366.0,57866303.0,63371532.0,62262937.0,64235460.0,73405834.0],\"yaxis\":\"y\",\"type\":\"scattergl\"},{\"hovertemplate\":\"Area=Russian Federation<br>Year=%{x}<br>Value=%{y}<extra></extra>\",\"legendgroup\":\"Russian Federation\",\"line\":{\"color\":\"#FF97FF\",\"dash\":\"solid\"},\"marker\":{\"symbol\":\"circle\"},\"mode\":\"lines\",\"name\":\"Russian Federation\",\"showlegend\":true,\"x\":[1992,1993,1994,1995,1996,1997,1998,1999,2000,2001,2002,2003,2004,2005,2006,2007,2008,2009,2010,2011,2012,2013,2014,2015,2016,2017,2018,2019,2020],\"xaxis\":\"x\",\"y\":[1158091.0,1042358.0,3898824.0,4058083.0,3926302.0,4433546.0,4841879.0,2561689.0,4560746.0,5237549.0,15305472.0,13531948.0,8634201.0,15903519.0,15797792.0,21765357.0,18284461.0,27970435.0,18083588.0,24291827.0,32412150.0,28288233.0,41312291.0,42557660.0,47445494.0,58672147.0,71634950.0,59228221.0,67738027.0],\"yaxis\":\"y\",\"type\":\"scattergl\"},{\"hovertemplate\":\"Area=Belgium<br>Year=%{x}<br>Value=%{y}<extra></extra>\",\"legendgroup\":\"Belgium\",\"line\":{\"color\":\"#FECB52\",\"dash\":\"solid\"},\"marker\":{\"symbol\":\"circle\"},\"mode\":\"lines\",\"name\":\"Belgium\",\"showlegend\":true,\"x\":[2000,2001,2002,2003,2004,2005,2006,2007,2008,2009,2010,2011,2012,2013,2014,2015,2016,2017,2018,2019,2020],\"xaxis\":\"x\",\"y\":[23573651.0,22987471.0,23296226.0,24267638.0,24764838.0,26476313.0,27323184.0,27316094.0,28056778.0,26695258.0,28063114.0,29095456.0,30094756.0,30007993.0,31039670.0,31697697.0,32494977.0,34924763.0,36943741.0,35727698.0,36037663.0],\"yaxis\":\"y\",\"type\":\"scattergl\"}],                        {\"template\":{\"data\":{\"bar\":[{\"error_x\":{\"color\":\"#2a3f5f\"},\"error_y\":{\"color\":\"#2a3f5f\"},\"marker\":{\"line\":{\"color\":\"#E5ECF6\",\"width\":0.5},\"pattern\":{\"fillmode\":\"overlay\",\"size\":10,\"solidity\":0.2}},\"type\":\"bar\"}],\"barpolar\":[{\"marker\":{\"line\":{\"color\":\"#E5ECF6\",\"width\":0.5},\"pattern\":{\"fillmode\":\"overlay\",\"size\":10,\"solidity\":0.2}},\"type\":\"barpolar\"}],\"carpet\":[{\"aaxis\":{\"endlinecolor\":\"#2a3f5f\",\"gridcolor\":\"white\",\"linecolor\":\"white\",\"minorgridcolor\":\"white\",\"startlinecolor\":\"#2a3f5f\"},\"baxis\":{\"endlinecolor\":\"#2a3f5f\",\"gridcolor\":\"white\",\"linecolor\":\"white\",\"minorgridcolor\":\"white\",\"startlinecolor\":\"#2a3f5f\"},\"type\":\"carpet\"}],\"choropleth\":[{\"colorbar\":{\"outlinewidth\":0,\"ticks\":\"\"},\"type\":\"choropleth\"}],\"contour\":[{\"colorbar\":{\"outlinewidth\":0,\"ticks\":\"\"},\"colorscale\":[[0.0,\"#0d0887\"],[0.1111111111111111,\"#46039f\"],[0.2222222222222222,\"#7201a8\"],[0.3333333333333333,\"#9c179e\"],[0.4444444444444444,\"#bd3786\"],[0.5555555555555556,\"#d8576b\"],[0.6666666666666666,\"#ed7953\"],[0.7777777777777778,\"#fb9f3a\"],[0.8888888888888888,\"#fdca26\"],[1.0,\"#f0f921\"]],\"type\":\"contour\"}],\"contourcarpet\":[{\"colorbar\":{\"outlinewidth\":0,\"ticks\":\"\"},\"type\":\"contourcarpet\"}],\"heatmap\":[{\"colorbar\":{\"outlinewidth\":0,\"ticks\":\"\"},\"colorscale\":[[0.0,\"#0d0887\"],[0.1111111111111111,\"#46039f\"],[0.2222222222222222,\"#7201a8\"],[0.3333333333333333,\"#9c179e\"],[0.4444444444444444,\"#bd3786\"],[0.5555555555555556,\"#d8576b\"],[0.6666666666666666,\"#ed7953\"],[0.7777777777777778,\"#fb9f3a\"],[0.8888888888888888,\"#fdca26\"],[1.0,\"#f0f921\"]],\"type\":\"heatmap\"}],\"heatmapgl\":[{\"colorbar\":{\"outlinewidth\":0,\"ticks\":\"\"},\"colorscale\":[[0.0,\"#0d0887\"],[0.1111111111111111,\"#46039f\"],[0.2222222222222222,\"#7201a8\"],[0.3333333333333333,\"#9c179e\"],[0.4444444444444444,\"#bd3786\"],[0.5555555555555556,\"#d8576b\"],[0.6666666666666666,\"#ed7953\"],[0.7777777777777778,\"#fb9f3a\"],[0.8888888888888888,\"#fdca26\"],[1.0,\"#f0f921\"]],\"type\":\"heatmapgl\"}],\"histogram\":[{\"marker\":{\"pattern\":{\"fillmode\":\"overlay\",\"size\":10,\"solidity\":0.2}},\"type\":\"histogram\"}],\"histogram2d\":[{\"colorbar\":{\"outlinewidth\":0,\"ticks\":\"\"},\"colorscale\":[[0.0,\"#0d0887\"],[0.1111111111111111,\"#46039f\"],[0.2222222222222222,\"#7201a8\"],[0.3333333333333333,\"#9c179e\"],[0.4444444444444444,\"#bd3786\"],[0.5555555555555556,\"#d8576b\"],[0.6666666666666666,\"#ed7953\"],[0.7777777777777778,\"#fb9f3a\"],[0.8888888888888888,\"#fdca26\"],[1.0,\"#f0f921\"]],\"type\":\"histogram2d\"}],\"histogram2dcontour\":[{\"colorbar\":{\"outlinewidth\":0,\"ticks\":\"\"},\"colorscale\":[[0.0,\"#0d0887\"],[0.1111111111111111,\"#46039f\"],[0.2222222222222222,\"#7201a8\"],[0.3333333333333333,\"#9c179e\"],[0.4444444444444444,\"#bd3786\"],[0.5555555555555556,\"#d8576b\"],[0.6666666666666666,\"#ed7953\"],[0.7777777777777778,\"#fb9f3a\"],[0.8888888888888888,\"#fdca26\"],[1.0,\"#f0f921\"]],\"type\":\"histogram2dcontour\"}],\"mesh3d\":[{\"colorbar\":{\"outlinewidth\":0,\"ticks\":\"\"},\"type\":\"mesh3d\"}],\"parcoords\":[{\"line\":{\"colorbar\":{\"outlinewidth\":0,\"ticks\":\"\"}},\"type\":\"parcoords\"}],\"pie\":[{\"automargin\":true,\"type\":\"pie\"}],\"scatter\":[{\"marker\":{\"colorbar\":{\"outlinewidth\":0,\"ticks\":\"\"}},\"type\":\"scatter\"}],\"scatter3d\":[{\"line\":{\"colorbar\":{\"outlinewidth\":0,\"ticks\":\"\"}},\"marker\":{\"colorbar\":{\"outlinewidth\":0,\"ticks\":\"\"}},\"type\":\"scatter3d\"}],\"scattercarpet\":[{\"marker\":{\"colorbar\":{\"outlinewidth\":0,\"ticks\":\"\"}},\"type\":\"scattercarpet\"}],\"scattergeo\":[{\"marker\":{\"colorbar\":{\"outlinewidth\":0,\"ticks\":\"\"}},\"type\":\"scattergeo\"}],\"scattergl\":[{\"marker\":{\"colorbar\":{\"outlinewidth\":0,\"ticks\":\"\"}},\"type\":\"scattergl\"}],\"scattermapbox\":[{\"marker\":{\"colorbar\":{\"outlinewidth\":0,\"ticks\":\"\"}},\"type\":\"scattermapbox\"}],\"scatterpolar\":[{\"marker\":{\"colorbar\":{\"outlinewidth\":0,\"ticks\":\"\"}},\"type\":\"scatterpolar\"}],\"scatterpolargl\":[{\"marker\":{\"colorbar\":{\"outlinewidth\":0,\"ticks\":\"\"}},\"type\":\"scatterpolargl\"}],\"scatterternary\":[{\"marker\":{\"colorbar\":{\"outlinewidth\":0,\"ticks\":\"\"}},\"type\":\"scatterternary\"}],\"surface\":[{\"colorbar\":{\"outlinewidth\":0,\"ticks\":\"\"},\"colorscale\":[[0.0,\"#0d0887\"],[0.1111111111111111,\"#46039f\"],[0.2222222222222222,\"#7201a8\"],[0.3333333333333333,\"#9c179e\"],[0.4444444444444444,\"#bd3786\"],[0.5555555555555556,\"#d8576b\"],[0.6666666666666666,\"#ed7953\"],[0.7777777777777778,\"#fb9f3a\"],[0.8888888888888888,\"#fdca26\"],[1.0,\"#f0f921\"]],\"type\":\"surface\"}],\"table\":[{\"cells\":{\"fill\":{\"color\":\"#EBF0F8\"},\"line\":{\"color\":\"white\"}},\"header\":{\"fill\":{\"color\":\"#C8D4E3\"},\"line\":{\"color\":\"white\"}},\"type\":\"table\"}]},\"layout\":{\"annotationdefaults\":{\"arrowcolor\":\"#2a3f5f\",\"arrowhead\":0,\"arrowwidth\":1},\"autotypenumbers\":\"strict\",\"coloraxis\":{\"colorbar\":{\"outlinewidth\":0,\"ticks\":\"\"}},\"colorscale\":{\"diverging\":[[0,\"#8e0152\"],[0.1,\"#c51b7d\"],[0.2,\"#de77ae\"],[0.3,\"#f1b6da\"],[0.4,\"#fde0ef\"],[0.5,\"#f7f7f7\"],[0.6,\"#e6f5d0\"],[0.7,\"#b8e186\"],[0.8,\"#7fbc41\"],[0.9,\"#4d9221\"],[1,\"#276419\"]],\"sequential\":[[0.0,\"#0d0887\"],[0.1111111111111111,\"#46039f\"],[0.2222222222222222,\"#7201a8\"],[0.3333333333333333,\"#9c179e\"],[0.4444444444444444,\"#bd3786\"],[0.5555555555555556,\"#d8576b\"],[0.6666666666666666,\"#ed7953\"],[0.7777777777777778,\"#fb9f3a\"],[0.8888888888888888,\"#fdca26\"],[1.0,\"#f0f921\"]],\"sequentialminus\":[[0.0,\"#0d0887\"],[0.1111111111111111,\"#46039f\"],[0.2222222222222222,\"#7201a8\"],[0.3333333333333333,\"#9c179e\"],[0.4444444444444444,\"#bd3786\"],[0.5555555555555556,\"#d8576b\"],[0.6666666666666666,\"#ed7953\"],[0.7777777777777778,\"#fb9f3a\"],[0.8888888888888888,\"#fdca26\"],[1.0,\"#f0f921\"]]},\"colorway\":[\"#636efa\",\"#EF553B\",\"#00cc96\",\"#ab63fa\",\"#FFA15A\",\"#19d3f3\",\"#FF6692\",\"#B6E880\",\"#FF97FF\",\"#FECB52\"],\"font\":{\"color\":\"#2a3f5f\"},\"geo\":{\"bgcolor\":\"white\",\"lakecolor\":\"white\",\"landcolor\":\"#E5ECF6\",\"showlakes\":true,\"showland\":true,\"subunitcolor\":\"white\"},\"hoverlabel\":{\"align\":\"left\"},\"hovermode\":\"closest\",\"mapbox\":{\"style\":\"light\"},\"paper_bgcolor\":\"white\",\"plot_bgcolor\":\"#E5ECF6\",\"polar\":{\"angularaxis\":{\"gridcolor\":\"white\",\"linecolor\":\"white\",\"ticks\":\"\"},\"bgcolor\":\"#E5ECF6\",\"radialaxis\":{\"gridcolor\":\"white\",\"linecolor\":\"white\",\"ticks\":\"\"}},\"scene\":{\"xaxis\":{\"backgroundcolor\":\"#E5ECF6\",\"gridcolor\":\"white\",\"gridwidth\":2,\"linecolor\":\"white\",\"showbackground\":true,\"ticks\":\"\",\"zerolinecolor\":\"white\"},\"yaxis\":{\"backgroundcolor\":\"#E5ECF6\",\"gridcolor\":\"white\",\"gridwidth\":2,\"linecolor\":\"white\",\"showbackground\":true,\"ticks\":\"\",\"zerolinecolor\":\"white\"},\"zaxis\":{\"backgroundcolor\":\"#E5ECF6\",\"gridcolor\":\"white\",\"gridwidth\":2,\"linecolor\":\"white\",\"showbackground\":true,\"ticks\":\"\",\"zerolinecolor\":\"white\"}},\"shapedefaults\":{\"line\":{\"color\":\"#2a3f5f\"}},\"ternary\":{\"aaxis\":{\"gridcolor\":\"white\",\"linecolor\":\"white\",\"ticks\":\"\"},\"baxis\":{\"gridcolor\":\"white\",\"linecolor\":\"white\",\"ticks\":\"\"},\"bgcolor\":\"#E5ECF6\",\"caxis\":{\"gridcolor\":\"white\",\"linecolor\":\"white\",\"ticks\":\"\"}},\"title\":{\"x\":0.05},\"xaxis\":{\"automargin\":true,\"gridcolor\":\"white\",\"linecolor\":\"white\",\"ticks\":\"\",\"title\":{\"standoff\":15},\"zerolinecolor\":\"white\",\"zerolinewidth\":2},\"yaxis\":{\"automargin\":true,\"gridcolor\":\"white\",\"linecolor\":\"white\",\"ticks\":\"\",\"title\":{\"standoff\":15},\"zerolinecolor\":\"white\",\"zerolinewidth\":2}}},\"xaxis\":{\"anchor\":\"y\",\"domain\":[0.0,1.0],\"title\":{\"text\":\"Year\"}},\"yaxis\":{\"anchor\":\"x\",\"domain\":[0.0,1.0],\"title\":{\"text\":\"Value\"}},\"legend\":{\"title\":{\"text\":\"Area\"},\"tracegroupgap\":0},\"title\":{\"text\":\"Evolutivo\"},\"height\":600},                        {\"responsive\": true}                    ).then(function(){\n",
              "                            \n",
              "var gd = document.getElementById('8dc1830f-55ae-4145-833d-4de30a00c561');\n",
              "var x = new MutationObserver(function (mutations, observer) {{\n",
              "        var display = window.getComputedStyle(gd).display;\n",
              "        if (!display || display === 'none') {{\n",
              "            console.log([gd, 'removed!']);\n",
              "            Plotly.purge(gd);\n",
              "            observer.disconnect();\n",
              "        }}\n",
              "}});\n",
              "\n",
              "// Listen for the removal of the full notebook cells\n",
              "var notebookContainer = gd.closest('#notebook-container');\n",
              "if (notebookContainer) {{\n",
              "    x.observe(notebookContainer, {childList: true});\n",
              "}}\n",
              "\n",
              "// Listen for the clearing of the current output cell\n",
              "var outputEl = gd.closest('.output');\n",
              "if (outputEl) {{\n",
              "    x.observe(outputEl, {childList: true});\n",
              "}}\n",
              "\n",
              "                        })                };                            </script>        </div>\n",
              "</body>\n",
              "</html>"
            ]
          },
          "metadata": {}
        }
      ]
    },
    {
      "cell_type": "markdown",
      "source": [
        "Aquí podemos observar que aunque no en una gran proporción, todos los países han tenido unta tendencia a la alza en las exportaciones.\n",
        "\n",
        "Entre los destacados según la tendencia alcista, a parte de Brasil (el que más crece), EEUU y Argentina, encontramos países como Canadá  o Rusia."
      ],
      "metadata": {
        "id": "GonXIgRg9Xjj"
      }
    },
    {
      "cell_type": "code",
      "source": [
        ""
      ],
      "metadata": {
        "id": "q7iiQE2S10Su"
      },
      "execution_count": null,
      "outputs": []
    },
    {
      "cell_type": "markdown",
      "source": [
        "Qué exportan Brasil, Estados Unidos y Argentina?"
      ],
      "metadata": {
        "id": "wd9dLBHUk8kU"
      }
    },
    {
      "cell_type": "code",
      "source": [
        "top3_paises_exp = gb_df_Paises_Export_q_2020.sort_values(\"Value\").tail(3)[\"Area\"].to_list()\n",
        "top3_paises_exp"
      ],
      "metadata": {
        "colab": {
          "base_uri": "https://localhost:8080/"
        },
        "id": "CxVviKfxn9uo",
        "outputId": "8ca5cdb5-d981-4903-f3b3-b6c127ef0f02"
      },
      "execution_count": null,
      "outputs": [
        {
          "output_type": "execute_result",
          "data": {
            "text/plain": [
              "['Argentina', 'Brazil', 'United States of America']"
            ]
          },
          "metadata": {},
          "execution_count": 51
        }
      ]
    },
    {
      "cell_type": "code",
      "source": [
        "df_USA = df[ (df[\"Element\"] == \"Export Quantity\") & (df[\"Area\"] == 'United States of America') & (df[\"Year\"] == ult_año ) & (df[\"Item Code\"] < 1500 )].sort_values(\"Value\", ascending=False).head(10)\n",
        "df_USA"
      ],
      "metadata": {
        "colab": {
          "base_uri": "https://localhost:8080/",
          "height": 363
        },
        "id": "u07cXtLMnwSM",
        "outputId": "78715ff2-1fa2-4b4e-8b8f-4c70e3269372"
      },
      "execution_count": null,
      "outputs": [
        {
          "output_type": "execute_result",
          "data": {
            "text/html": [
              "\n",
              "  <div id=\"df-ad83b0c9-5f4d-4c5a-a42e-ad2fc2bdc8f1\">\n",
              "    <div class=\"colab-df-container\">\n",
              "      <div>\n",
              "<style scoped>\n",
              "    .dataframe tbody tr th:only-of-type {\n",
              "        vertical-align: middle;\n",
              "    }\n",
              "\n",
              "    .dataframe tbody tr th {\n",
              "        vertical-align: top;\n",
              "    }\n",
              "\n",
              "    .dataframe thead th {\n",
              "        text-align: right;\n",
              "    }\n",
              "</style>\n",
              "<table border=\"1\" class=\"dataframe\">\n",
              "  <thead>\n",
              "    <tr style=\"text-align: right;\">\n",
              "      <th></th>\n",
              "      <th>Area Code</th>\n",
              "      <th>Area</th>\n",
              "      <th>Item Code</th>\n",
              "      <th>Item</th>\n",
              "      <th>Element Code</th>\n",
              "      <th>Element</th>\n",
              "      <th>Year Code</th>\n",
              "      <th>Year</th>\n",
              "      <th>Unit</th>\n",
              "      <th>Value</th>\n",
              "      <th>Flag</th>\n",
              "    </tr>\n",
              "  </thead>\n",
              "  <tbody>\n",
              "    <tr>\n",
              "      <th>12028495</th>\n",
              "      <td>231</td>\n",
              "      <td>United States of America</td>\n",
              "      <td>236</td>\n",
              "      <td>Soybeans</td>\n",
              "      <td>5910</td>\n",
              "      <td>Export Quantity</td>\n",
              "      <td>2020</td>\n",
              "      <td>2020</td>\n",
              "      <td>tonnes</td>\n",
              "      <td>64571021.0</td>\n",
              "      <td>NaN</td>\n",
              "    </tr>\n",
              "    <tr>\n",
              "      <th>11998373</th>\n",
              "      <td>231</td>\n",
              "      <td>United States of America</td>\n",
              "      <td>56</td>\n",
              "      <td>Maize</td>\n",
              "      <td>5910</td>\n",
              "      <td>Export Quantity</td>\n",
              "      <td>2020</td>\n",
              "      <td>2020</td>\n",
              "      <td>tonnes</td>\n",
              "      <td>51838933.0</td>\n",
              "      <td>NaN</td>\n",
              "    </tr>\n",
              "    <tr>\n",
              "      <th>12038927</th>\n",
              "      <td>231</td>\n",
              "      <td>United States of America</td>\n",
              "      <td>15</td>\n",
              "      <td>Wheat</td>\n",
              "      <td>5910</td>\n",
              "      <td>Export Quantity</td>\n",
              "      <td>2020</td>\n",
              "      <td>2020</td>\n",
              "      <td>tonnes</td>\n",
              "      <td>26131626.0</td>\n",
              "      <td>NaN</td>\n",
              "    </tr>\n",
              "    <tr>\n",
              "      <th>11976836</th>\n",
              "      <td>231</td>\n",
              "      <td>United States of America</td>\n",
              "      <td>654</td>\n",
              "      <td>Dregs from brewing, distillation</td>\n",
              "      <td>5910</td>\n",
              "      <td>Export Quantity</td>\n",
              "      <td>2020</td>\n",
              "      <td>2020</td>\n",
              "      <td>tonnes</td>\n",
              "      <td>10958614.0</td>\n",
              "      <td>NaN</td>\n",
              "    </tr>\n",
              "    <tr>\n",
              "      <th>11964254</th>\n",
              "      <td>231</td>\n",
              "      <td>United States of America</td>\n",
              "      <td>238</td>\n",
              "      <td>Cake, soybeans</td>\n",
              "      <td>5910</td>\n",
              "      <td>Export Quantity</td>\n",
              "      <td>2020</td>\n",
              "      <td>2020</td>\n",
              "      <td>tonnes</td>\n",
              "      <td>10044220.0</td>\n",
              "      <td>NaN</td>\n",
              "    </tr>\n",
              "    <tr>\n",
              "      <th>12028015</th>\n",
              "      <td>231</td>\n",
              "      <td>United States of America</td>\n",
              "      <td>83</td>\n",
              "      <td>Sorghum</td>\n",
              "      <td>5910</td>\n",
              "      <td>Export Quantity</td>\n",
              "      <td>2020</td>\n",
              "      <td>2020</td>\n",
              "      <td>tonnes</td>\n",
              "      <td>6586580.0</td>\n",
              "      <td>NaN</td>\n",
              "    </tr>\n",
              "    <tr>\n",
              "      <th>11985206</th>\n",
              "      <td>231</td>\n",
              "      <td>United States of America</td>\n",
              "      <td>651</td>\n",
              "      <td>Forage products</td>\n",
              "      <td>5910</td>\n",
              "      <td>Export Quantity</td>\n",
              "      <td>2020</td>\n",
              "      <td>2020</td>\n",
              "      <td>tonnes</td>\n",
              "      <td>4708311.0</td>\n",
              "      <td>NaN</td>\n",
              "    </tr>\n",
              "    <tr>\n",
              "      <th>11974210</th>\n",
              "      <td>231</td>\n",
              "      <td>United States of America</td>\n",
              "      <td>767</td>\n",
              "      <td>Cotton lint</td>\n",
              "      <td>5910</td>\n",
              "      <td>Export Quantity</td>\n",
              "      <td>2020</td>\n",
              "      <td>2020</td>\n",
              "      <td>tonnes</td>\n",
              "      <td>3822303.0</td>\n",
              "      <td>NaN</td>\n",
              "    </tr>\n",
              "    <tr>\n",
              "      <th>12001705</th>\n",
              "      <td>231</td>\n",
              "      <td>United States of America</td>\n",
              "      <td>1058</td>\n",
              "      <td>Meat, chicken</td>\n",
              "      <td>5910</td>\n",
              "      <td>Export Quantity</td>\n",
              "      <td>2020</td>\n",
              "      <td>2020</td>\n",
              "      <td>tonnes</td>\n",
              "      <td>3546799.0</td>\n",
              "      <td>NaN</td>\n",
              "    </tr>\n",
              "    <tr>\n",
              "      <th>12025149</th>\n",
              "      <td>231</td>\n",
              "      <td>United States of America</td>\n",
              "      <td>30</td>\n",
              "      <td>Rice, paddy (rice milled equivalent)</td>\n",
              "      <td>5910</td>\n",
              "      <td>Export Quantity</td>\n",
              "      <td>2020</td>\n",
              "      <td>2020</td>\n",
              "      <td>tonnes</td>\n",
              "      <td>2791901.0</td>\n",
              "      <td>A</td>\n",
              "    </tr>\n",
              "  </tbody>\n",
              "</table>\n",
              "</div>\n",
              "      <button class=\"colab-df-convert\" onclick=\"convertToInteractive('df-ad83b0c9-5f4d-4c5a-a42e-ad2fc2bdc8f1')\"\n",
              "              title=\"Convert this dataframe to an interactive table.\"\n",
              "              style=\"display:none;\">\n",
              "        \n",
              "  <svg xmlns=\"http://www.w3.org/2000/svg\" height=\"24px\"viewBox=\"0 0 24 24\"\n",
              "       width=\"24px\">\n",
              "    <path d=\"M0 0h24v24H0V0z\" fill=\"none\"/>\n",
              "    <path d=\"M18.56 5.44l.94 2.06.94-2.06 2.06-.94-2.06-.94-.94-2.06-.94 2.06-2.06.94zm-11 1L8.5 8.5l.94-2.06 2.06-.94-2.06-.94L8.5 2.5l-.94 2.06-2.06.94zm10 10l.94 2.06.94-2.06 2.06-.94-2.06-.94-.94-2.06-.94 2.06-2.06.94z\"/><path d=\"M17.41 7.96l-1.37-1.37c-.4-.4-.92-.59-1.43-.59-.52 0-1.04.2-1.43.59L10.3 9.45l-7.72 7.72c-.78.78-.78 2.05 0 2.83L4 21.41c.39.39.9.59 1.41.59.51 0 1.02-.2 1.41-.59l7.78-7.78 2.81-2.81c.8-.78.8-2.07 0-2.86zM5.41 20L4 18.59l7.72-7.72 1.47 1.35L5.41 20z\"/>\n",
              "  </svg>\n",
              "      </button>\n",
              "      \n",
              "  <style>\n",
              "    .colab-df-container {\n",
              "      display:flex;\n",
              "      flex-wrap:wrap;\n",
              "      gap: 12px;\n",
              "    }\n",
              "\n",
              "    .colab-df-convert {\n",
              "      background-color: #E8F0FE;\n",
              "      border: none;\n",
              "      border-radius: 50%;\n",
              "      cursor: pointer;\n",
              "      display: none;\n",
              "      fill: #1967D2;\n",
              "      height: 32px;\n",
              "      padding: 0 0 0 0;\n",
              "      width: 32px;\n",
              "    }\n",
              "\n",
              "    .colab-df-convert:hover {\n",
              "      background-color: #E2EBFA;\n",
              "      box-shadow: 0px 1px 2px rgba(60, 64, 67, 0.3), 0px 1px 3px 1px rgba(60, 64, 67, 0.15);\n",
              "      fill: #174EA6;\n",
              "    }\n",
              "\n",
              "    [theme=dark] .colab-df-convert {\n",
              "      background-color: #3B4455;\n",
              "      fill: #D2E3FC;\n",
              "    }\n",
              "\n",
              "    [theme=dark] .colab-df-convert:hover {\n",
              "      background-color: #434B5C;\n",
              "      box-shadow: 0px 1px 3px 1px rgba(0, 0, 0, 0.15);\n",
              "      filter: drop-shadow(0px 1px 2px rgba(0, 0, 0, 0.3));\n",
              "      fill: #FFFFFF;\n",
              "    }\n",
              "  </style>\n",
              "\n",
              "      <script>\n",
              "        const buttonEl =\n",
              "          document.querySelector('#df-ad83b0c9-5f4d-4c5a-a42e-ad2fc2bdc8f1 button.colab-df-convert');\n",
              "        buttonEl.style.display =\n",
              "          google.colab.kernel.accessAllowed ? 'block' : 'none';\n",
              "\n",
              "        async function convertToInteractive(key) {\n",
              "          const element = document.querySelector('#df-ad83b0c9-5f4d-4c5a-a42e-ad2fc2bdc8f1');\n",
              "          const dataTable =\n",
              "            await google.colab.kernel.invokeFunction('convertToInteractive',\n",
              "                                                     [key], {});\n",
              "          if (!dataTable) return;\n",
              "\n",
              "          const docLinkHtml = 'Like what you see? Visit the ' +\n",
              "            '<a target=\"_blank\" href=https://colab.research.google.com/notebooks/data_table.ipynb>data table notebook</a>'\n",
              "            + ' to learn more about interactive tables.';\n",
              "          element.innerHTML = '';\n",
              "          dataTable['output_type'] = 'display_data';\n",
              "          await google.colab.output.renderOutput(dataTable, element);\n",
              "          const docLink = document.createElement('div');\n",
              "          docLink.innerHTML = docLinkHtml;\n",
              "          element.appendChild(docLink);\n",
              "        }\n",
              "      </script>\n",
              "    </div>\n",
              "  </div>\n",
              "  "
            ],
            "text/plain": [
              "          Area Code                      Area  ...       Value Flag\n",
              "12028495        231  United States of America  ...  64571021.0  NaN\n",
              "11998373        231  United States of America  ...  51838933.0  NaN\n",
              "12038927        231  United States of America  ...  26131626.0  NaN\n",
              "11976836        231  United States of America  ...  10958614.0  NaN\n",
              "11964254        231  United States of America  ...  10044220.0  NaN\n",
              "12028015        231  United States of America  ...   6586580.0  NaN\n",
              "11985206        231  United States of America  ...   4708311.0  NaN\n",
              "11974210        231  United States of America  ...   3822303.0  NaN\n",
              "12001705        231  United States of America  ...   3546799.0  NaN\n",
              "12025149        231  United States of America  ...   2791901.0    A\n",
              "\n",
              "[10 rows x 11 columns]"
            ]
          },
          "metadata": {},
          "execution_count": 52
        }
      ]
    },
    {
      "cell_type": "code",
      "source": [
        "df_USA.plot(x=\"Item\", y=\"Value\",kind=\"bar\")"
      ],
      "metadata": {
        "colab": {
          "base_uri": "https://localhost:8080/",
          "height": 475
        },
        "id": "gJbA17mZqrUj",
        "outputId": "36f57cd3-3b32-4a84-f763-32ec35b01fba"
      },
      "execution_count": null,
      "outputs": [
        {
          "output_type": "execute_result",
          "data": {
            "text/plain": [
              "<matplotlib.axes._subplots.AxesSubplot at 0x7f84b495d950>"
            ]
          },
          "metadata": {},
          "execution_count": 53
        },
        {
          "output_type": "display_data",
          "data": {
            "image/png": "[encoded data removed]",
            "text/plain": [
              "<Figure size 432x288 with 1 Axes>"
            ]
          },
          "metadata": {
            "needs_background": "light"
          }
        }
      ]
    },
    {
      "cell_type": "code",
      "source": [
        "ax = sns.barplot(data=df_USA, x=\"Item\", y=\"Value\")\n",
        "b = ax.set_xticklabels(ax.get_xticklabels(),rotation = 90)   #  si no lo igualo a alguna variable, me aparece una llista sobre el gráfico."
      ],
      "metadata": {
        "colab": {
          "base_uri": "https://localhost:8080/",
          "height": 458
        },
        "id": "8qNbxNkoq7LM",
        "outputId": "fea6eab8-2600-402b-d9e0-dbb073f2331b"
      },
      "execution_count": null,
      "outputs": [
        {
          "output_type": "display_data",
          "data": {
            "image/png": "[encoded data removed]",
            "text/plain": [
              "<Figure size 432x288 with 1 Axes>"
            ]
          },
          "metadata": {
            "needs_background": "light"
          }
        }
      ]
    },
    {
      "cell_type": "code",
      "source": [
        "df_BRA = df[ (df[\"Element\"] == \"Export Quantity\") & (df[\"Area\"] == 'Brazil') & (df[\"Year\"] == ult_año ) & (df[\"Item Code\"] < 1500 )].sort_values(\"Value\", ascending=False).head(10)\n",
        "df_BRA"
      ],
      "metadata": {
        "colab": {
          "base_uri": "https://localhost:8080/",
          "height": 363
        },
        "id": "tHMxQPOEok8A",
        "outputId": "d969eb7b-30de-4053-8f6b-f2d6462add0c"
      },
      "execution_count": null,
      "outputs": [
        {
          "output_type": "execute_result",
          "data": {
            "text/html": [
              "\n",
              "  <div id=\"df-157265bd-19c6-48a0-8549-5b2342aae391\">\n",
              "    <div class=\"colab-df-container\">\n",
              "      <div>\n",
              "<style scoped>\n",
              "    .dataframe tbody tr th:only-of-type {\n",
              "        vertical-align: middle;\n",
              "    }\n",
              "\n",
              "    .dataframe tbody tr th {\n",
              "        vertical-align: top;\n",
              "    }\n",
              "\n",
              "    .dataframe thead th {\n",
              "        text-align: right;\n",
              "    }\n",
              "</style>\n",
              "<table border=\"1\" class=\"dataframe\">\n",
              "  <thead>\n",
              "    <tr style=\"text-align: right;\">\n",
              "      <th></th>\n",
              "      <th>Area Code</th>\n",
              "      <th>Area</th>\n",
              "      <th>Item Code</th>\n",
              "      <th>Item</th>\n",
              "      <th>Element Code</th>\n",
              "      <th>Element</th>\n",
              "      <th>Year Code</th>\n",
              "      <th>Year</th>\n",
              "      <th>Unit</th>\n",
              "      <th>Value</th>\n",
              "      <th>Flag</th>\n",
              "    </tr>\n",
              "  </thead>\n",
              "  <tbody>\n",
              "    <tr>\n",
              "      <th>1472409</th>\n",
              "      <td>21</td>\n",
              "      <td>Brazil</td>\n",
              "      <td>236</td>\n",
              "      <td>Soybeans</td>\n",
              "      <td>5910</td>\n",
              "      <td>Export Quantity</td>\n",
              "      <td>2020</td>\n",
              "      <td>2020</td>\n",
              "      <td>tonnes</td>\n",
              "      <td>82973413.0</td>\n",
              "      <td>NaN</td>\n",
              "    </tr>\n",
              "    <tr>\n",
              "      <th>1444042</th>\n",
              "      <td>21</td>\n",
              "      <td>Brazil</td>\n",
              "      <td>56</td>\n",
              "      <td>Maize</td>\n",
              "      <td>5910</td>\n",
              "      <td>Export Quantity</td>\n",
              "      <td>2020</td>\n",
              "      <td>2020</td>\n",
              "      <td>tonnes</td>\n",
              "      <td>34431936.0</td>\n",
              "      <td>NaN</td>\n",
              "    </tr>\n",
              "    <tr>\n",
              "      <th>1474413</th>\n",
              "      <td>21</td>\n",
              "      <td>Brazil</td>\n",
              "      <td>162</td>\n",
              "      <td>Sugar Raw Centrifugal</td>\n",
              "      <td>5910</td>\n",
              "      <td>Export Quantity</td>\n",
              "      <td>2020</td>\n",
              "      <td>2020</td>\n",
              "      <td>tonnes</td>\n",
              "      <td>26675030.0</td>\n",
              "      <td>NaN</td>\n",
              "    </tr>\n",
              "    <tr>\n",
              "      <th>1411975</th>\n",
              "      <td>21</td>\n",
              "      <td>Brazil</td>\n",
              "      <td>238</td>\n",
              "      <td>Cake, soybeans</td>\n",
              "      <td>5910</td>\n",
              "      <td>Export Quantity</td>\n",
              "      <td>2020</td>\n",
              "      <td>2020</td>\n",
              "      <td>tonnes</td>\n",
              "      <td>16937916.0</td>\n",
              "      <td>NaN</td>\n",
              "    </tr>\n",
              "    <tr>\n",
              "      <th>1474653</th>\n",
              "      <td>21</td>\n",
              "      <td>Brazil</td>\n",
              "      <td>164</td>\n",
              "      <td>Sugar refined</td>\n",
              "      <td>5910</td>\n",
              "      <td>Export Quantity</td>\n",
              "      <td>2020</td>\n",
              "      <td>2020</td>\n",
              "      <td>tonnes</td>\n",
              "      <td>3960898.0</td>\n",
              "      <td>Im</td>\n",
              "    </tr>\n",
              "    <tr>\n",
              "      <th>1446886</th>\n",
              "      <td>21</td>\n",
              "      <td>Brazil</td>\n",
              "      <td>1058</td>\n",
              "      <td>Meat, chicken</td>\n",
              "      <td>5910</td>\n",
              "      <td>Export Quantity</td>\n",
              "      <td>2020</td>\n",
              "      <td>2020</td>\n",
              "      <td>tonnes</td>\n",
              "      <td>3899503.0</td>\n",
              "      <td>NaN</td>\n",
              "    </tr>\n",
              "    <tr>\n",
              "      <th>1420209</th>\n",
              "      <td>21</td>\n",
              "      <td>Brazil</td>\n",
              "      <td>656</td>\n",
              "      <td>Coffee, green</td>\n",
              "      <td>5910</td>\n",
              "      <td>Export Quantity</td>\n",
              "      <td>2020</td>\n",
              "      <td>2020</td>\n",
              "      <td>tonnes</td>\n",
              "      <td>2372633.0</td>\n",
              "      <td>Im</td>\n",
              "    </tr>\n",
              "    <tr>\n",
              "      <th>1421479</th>\n",
              "      <td>21</td>\n",
              "      <td>Brazil</td>\n",
              "      <td>767</td>\n",
              "      <td>Cotton lint</td>\n",
              "      <td>5910</td>\n",
              "      <td>Export Quantity</td>\n",
              "      <td>2020</td>\n",
              "      <td>2020</td>\n",
              "      <td>tonnes</td>\n",
              "      <td>2125418.0</td>\n",
              "      <td>NaN</td>\n",
              "    </tr>\n",
              "    <tr>\n",
              "      <th>1446646</th>\n",
              "      <td>21</td>\n",
              "      <td>Brazil</td>\n",
              "      <td>870</td>\n",
              "      <td>Meat, cattle, boneless (beef &amp; veal)</td>\n",
              "      <td>5910</td>\n",
              "      <td>Export Quantity</td>\n",
              "      <td>2020</td>\n",
              "      <td>2020</td>\n",
              "      <td>tonnes</td>\n",
              "      <td>1715557.0</td>\n",
              "      <td>NaN</td>\n",
              "    </tr>\n",
              "    <tr>\n",
              "      <th>1440600</th>\n",
              "      <td>21</td>\n",
              "      <td>Brazil</td>\n",
              "      <td>491</td>\n",
              "      <td>Juice, orange, single strength</td>\n",
              "      <td>5910</td>\n",
              "      <td>Export Quantity</td>\n",
              "      <td>2020</td>\n",
              "      <td>2020</td>\n",
              "      <td>tonnes</td>\n",
              "      <td>1323301.0</td>\n",
              "      <td>NaN</td>\n",
              "    </tr>\n",
              "  </tbody>\n",
              "</table>\n",
              "</div>\n",
              "      <button class=\"colab-df-convert\" onclick=\"convertToInteractive('df-157265bd-19c6-48a0-8549-5b2342aae391')\"\n",
              "              title=\"Convert this dataframe to an interactive table.\"\n",
              "              style=\"display:none;\">\n",
              "        \n",
              "  <svg xmlns=\"http://www.w3.org/2000/svg\" height=\"24px\"viewBox=\"0 0 24 24\"\n",
              "       width=\"24px\">\n",
              "    <path d=\"M0 0h24v24H0V0z\" fill=\"none\"/>\n",
              "    <path d=\"M18.56 5.44l.94 2.06.94-2.06 2.06-.94-2.06-.94-.94-2.06-.94 2.06-2.06.94zm-11 1L8.5 8.5l.94-2.06 2.06-.94-2.06-.94L8.5 2.5l-.94 2.06-2.06.94zm10 10l.94 2.06.94-2.06 2.06-.94-2.06-.94-.94-2.06-.94 2.06-2.06.94z\"/><path d=\"M17.41 7.96l-1.37-1.37c-.4-.4-.92-.59-1.43-.59-.52 0-1.04.2-1.43.59L10.3 9.45l-7.72 7.72c-.78.78-.78 2.05 0 2.83L4 21.41c.39.39.9.59 1.41.59.51 0 1.02-.2 1.41-.59l7.78-7.78 2.81-2.81c.8-.78.8-2.07 0-2.86zM5.41 20L4 18.59l7.72-7.72 1.47 1.35L5.41 20z\"/>\n",
              "  </svg>\n",
              "      </button>\n",
              "      \n",
              "  <style>\n",
              "    .colab-df-container {\n",
              "      display:flex;\n",
              "      flex-wrap:wrap;\n",
              "      gap: 12px;\n",
              "    }\n",
              "\n",
              "    .colab-df-convert {\n",
              "      background-color: #E8F0FE;\n",
              "      border: none;\n",
              "      border-radius: 50%;\n",
              "      cursor: pointer;\n",
              "      display: none;\n",
              "      fill: #1967D2;\n",
              "      height: 32px;\n",
              "      padding: 0 0 0 0;\n",
              "      width: 32px;\n",
              "    }\n",
              "\n",
              "    .colab-df-convert:hover {\n",
              "      background-color: #E2EBFA;\n",
              "      box-shadow: 0px 1px 2px rgba(60, 64, 67, 0.3), 0px 1px 3px 1px rgba(60, 64, 67, 0.15);\n",
              "      fill: #174EA6;\n",
              "    }\n",
              "\n",
              "    [theme=dark] .colab-df-convert {\n",
              "      background-color: #3B4455;\n",
              "      fill: #D2E3FC;\n",
              "    }\n",
              "\n",
              "    [theme=dark] .colab-df-convert:hover {\n",
              "      background-color: #434B5C;\n",
              "      box-shadow: 0px 1px 3px 1px rgba(0, 0, 0, 0.15);\n",
              "      filter: drop-shadow(0px 1px 2px rgba(0, 0, 0, 0.3));\n",
              "      fill: #FFFFFF;\n",
              "    }\n",
              "  </style>\n",
              "\n",
              "      <script>\n",
              "        const buttonEl =\n",
              "          document.querySelector('#df-157265bd-19c6-48a0-8549-5b2342aae391 button.colab-df-convert');\n",
              "        buttonEl.style.display =\n",
              "          google.colab.kernel.accessAllowed ? 'block' : 'none';\n",
              "\n",
              "        async function convertToInteractive(key) {\n",
              "          const element = document.querySelector('#df-157265bd-19c6-48a0-8549-5b2342aae391');\n",
              "          const dataTable =\n",
              "            await google.colab.kernel.invokeFunction('convertToInteractive',\n",
              "                                                     [key], {});\n",
              "          if (!dataTable) return;\n",
              "\n",
              "          const docLinkHtml = 'Like what you see? Visit the ' +\n",
              "            '<a target=\"_blank\" href=https://colab.research.google.com/notebooks/data_table.ipynb>data table notebook</a>'\n",
              "            + ' to learn more about interactive tables.';\n",
              "          element.innerHTML = '';\n",
              "          dataTable['output_type'] = 'display_data';\n",
              "          await google.colab.output.renderOutput(dataTable, element);\n",
              "          const docLink = document.createElement('div');\n",
              "          docLink.innerHTML = docLinkHtml;\n",
              "          element.appendChild(docLink);\n",
              "        }\n",
              "      </script>\n",
              "    </div>\n",
              "  </div>\n",
              "  "
            ],
            "text/plain": [
              "         Area Code    Area  Item Code  ...    Unit       Value Flag\n",
              "1472409         21  Brazil        236  ...  tonnes  82973413.0  NaN\n",
              "1444042         21  Brazil         56  ...  tonnes  34431936.0  NaN\n",
              "1474413         21  Brazil        162  ...  tonnes  26675030.0  NaN\n",
              "1411975         21  Brazil        238  ...  tonnes  16937916.0  NaN\n",
              "1474653         21  Brazil        164  ...  tonnes   3960898.0   Im\n",
              "1446886         21  Brazil       1058  ...  tonnes   3899503.0  NaN\n",
              "1420209         21  Brazil        656  ...  tonnes   2372633.0   Im\n",
              "1421479         21  Brazil        767  ...  tonnes   2125418.0  NaN\n",
              "1446646         21  Brazil        870  ...  tonnes   1715557.0  NaN\n",
              "1440600         21  Brazil        491  ...  tonnes   1323301.0  NaN\n",
              "\n",
              "[10 rows x 11 columns]"
            ]
          },
          "metadata": {},
          "execution_count": 55
        }
      ]
    },
    {
      "cell_type": "code",
      "source": [
        "df_BRA.plot(x=\"Item\", y=\"Value\",kind=\"bar\")"
      ],
      "metadata": {
        "colab": {
          "base_uri": "https://localhost:8080/",
          "height": 475
        },
        "id": "-RLUuS9b3Nov",
        "outputId": "c252c0cc-6f4d-4df4-d6db-f9b5b7247208"
      },
      "execution_count": null,
      "outputs": [
        {
          "output_type": "execute_result",
          "data": {
            "text/plain": [
              "<matplotlib.axes._subplots.AxesSubplot at 0x7f84b5e4f310>"
            ]
          },
          "metadata": {},
          "execution_count": 57
        },
        {
          "output_type": "display_data",
          "data": {
            "image/png": "[encoded data removed]",
            "text/plain": [
              "<Figure size 432x288 with 1 Axes>"
            ]
          },
          "metadata": {
            "needs_background": "light"
          }
        }
      ]
    },
    {
      "cell_type": "markdown",
      "source": [
        "#### Países más importadores"
      ],
      "metadata": {
        "id": "5iC4PXOM-ENm"
      }
    },
    {
      "cell_type": "code",
      "source": [
        "\n",
        "top_paises_imp = gb_df_Paises_Import_q_2020.sort_values(\"Value\").tail(20)[\"Area\"].to_list()\n",
        "\n",
        "df_Paises_Import_q = df[ (df[\"Element\"] == \"Import Quantity\") & (df[\"Area\"].isin(top_paises_imp)) & (df[\"Item Code\"] < 1500 )]\n",
        "\n",
        "# Grafico evolutivo de lineas, no barras apiladas.\n",
        "\n",
        "evolutivo_lineas = df_Paises_Import_q.groupby(['Area', 'Year'])['Value'].sum().reset_index().sort_values('Year', ascending=True)\n",
        "#data.groupby(['Fecha', 'Pais'])['Confirmed'].sum().reset_index().sort_values('Confirmed', ascending=False)\n",
        "\n",
        "px.line(evolutivo_lineas, x=\"Year\", y=\"Value\", color='Area', title='Evolutivo', height=600)"
      ],
      "metadata": {
        "colab": {
          "base_uri": "https://localhost:8080/",
          "height": 617
        },
        "id": "NHX6eZOCc2ol",
        "outputId": "7b0fa3c0-8f46-4866-aa20-dc71e4b01efb"
      },
      "execution_count": null,
      "outputs": [
        {
          "output_type": "display_data",
          "data": {
            "text/html": [
              "<html>\n",
              "<head><meta charset=\"utf-8\" /></head>\n",
              "<body>\n",
              "    <div>            <script src=\"https://cdnjs.cloudflare.com/ajax/libs/mathjax/2.7.5/MathJax.js?config=TeX-AMS-MML_SVG\"></script><script type=\"text/javascript\">if (window.MathJax) {MathJax.Hub.Config({SVG: {font: \"STIX-Web\"}});}</script>                <script type=\"text/javascript\">window.PlotlyConfig = {MathJaxConfig: 'local'};</script>\n",
              "        <script src=\"https://cdn.plot.ly/plotly-2.8.3.min.js\"></script>                <div id=\"9230f952-eb99-43e8-9f93-2a609f3e3564\" class=\"plotly-graph-div\" style=\"height:600px; width:100%;\"></div>            <script type=\"text/javascript\">                                    window.PLOTLYENV=window.PLOTLYENV || {};                                    if (document.getElementById(\"9230f952-eb99-43e8-9f93-2a609f3e3564\")) {                    Plotly.newPlot(                        \"9230f952-eb99-43e8-9f93-2a609f3e3564\",                        [{\"hovertemplate\":\"Area=Italy<br>Year=%{x}<br>Value=%{y}<extra></extra>\",\"legendgroup\":\"Italy\",\"line\":{\"color\":\"#636efa\",\"dash\":\"solid\"},\"marker\":{\"symbol\":\"circle\"},\"mode\":\"lines\",\"name\":\"Italy\",\"showlegend\":true,\"x\":[1961,1962,1963,1964,1965,1966,1967,1968,1969,1970,1971,1972,1973,1974,1975,1976,1977,1978,1979,1980,1981,1982,1983,1984,1985,1986,1987,1988,1989,1990,1991,1992,1993,1994,1995,1996,1997,1998,1999,2000,2001,2002,2003,2004,2005,2006,2007,2008,2009,2010,2011,2012,2013,2014,2015,2016,2017,2018,2019,2020],\"xaxis\":\"x\",\"y\":[8042077.0,7208080.0,9853083.0,9342332.0,12371991.0,13957147.0,14157786.0,14933308.0,16061011.0,16948393.0,19140109.0,20358095.0,21105887.0,20216044.0,18943355.0,20959858.0,20714888.0,23186374.0,24437240.0,23294274.0,21046734.0,22539502.0,22939931.0,23454356.0,27226307.0,26413310.0,27227764.0,26094724.0,29028301.0,27941308.0,30677409.0,29476132.0,27026493.0,27282041.0,26955351.0,29403556.0,29317289.0,30844407.0,30192253.0,31356508.0,32190450.0,34123931.0,34797271.0,36180822.0,34278480.0,35893424.0,35818201.0,34557154.0,36276926.0,39426746.0,40009950.0,37242743.0,38378582.0,43177309.0,41805606.0,43186645.0,44176433.0,44574224.0,45428967.0,44209473.0],\"yaxis\":\"y\",\"type\":\"scattergl\"},{\"hovertemplate\":\"Area=United Kingdom of Great Britain and Northern Ireland<br>Year=%{x}<br>Value=%{y}<extra></extra>\",\"legendgroup\":\"United Kingdom of Great Britain and Northern Ireland\",\"line\":{\"color\":\"#EF553B\",\"dash\":\"solid\"},\"marker\":{\"symbol\":\"circle\"},\"mode\":\"lines\",\"name\":\"United Kingdom of Great Britain and Northern Ireland\",\"showlegend\":true,\"x\":[1961,1962,1963,1964,1965,1966,1967,1968,1969,1970,1971,1972,1973,1974,1975,1976,1977,1978,1979,1980,1981,1982,1983,1984,1985,1986,1987,1988,1989,1990,1991,1992,1993,1994,1995,1996,1997,1998,1999,2000,2001,2002,2003,2004,2005,2006,2007,2008,2009,2010,2011,2012,2013,2014,2015,2016,2017,2018,2019,2020],\"xaxis\":\"x\",\"y\":[23143869.0,24969959.0,23292383.0,22994144.0,22799609.0,22198406.0,22264826.0,22292083.0,22781887.0,23346295.0,22794485.0,22122876.0,21912614.0,21221458.0,21585087.0,23707189.0,23749179.0,21423003.0,21028379.0,19511732.0,19286864.0,20564179.0,18768260.0,18639886.0,19287464.0,21538219.0,21272331.0,21204553.0,20786896.0,22195371.0,21794367.0,24055351.0,23140441.0,24827141.0,24185492.0,24468346.0,24511723.0,26178447.0,26599500.0,26751348.0,29193969.0,28820425.0,31321273.0,32164523.0,33811473.0,33961713.0,34401466.0,34935184.0,33468856.0,34176530.0,34113661.0,35920510.0,39515327.0,37060564.0,37503183.0,37481862.0,39421235.0,40075497.0,39787997.0,42388872.0],\"yaxis\":\"y\",\"type\":\"scattergl\"},{\"hovertemplate\":\"Area=Germany<br>Year=%{x}<br>Value=%{y}<extra></extra>\",\"legendgroup\":\"Germany\",\"line\":{\"color\":\"#00cc96\",\"dash\":\"solid\"},\"marker\":{\"symbol\":\"circle\"},\"mode\":\"lines\",\"name\":\"Germany\",\"showlegend\":true,\"x\":[1961,1962,1963,1964,1965,1966,1967,1968,1969,1970,1971,1972,1973,1974,1975,1976,1977,1978,1979,1980,1981,1982,1983,1984,1985,1986,1987,1988,1989,1990,1991,1992,1993,1994,1995,1996,1997,1998,1999,2000,2001,2002,2003,2004,2005,2006,2007,2008,2009,2010,2011,2012,2013,2014,2015,2016,2017,2018,2019,2020],\"xaxis\":\"x\",\"y\":[20880369.0,24993554.0,21180593.0,23581523.0,25524974.0,26929931.0,25755174.0,25766497.0,27291412.0,32504188.0,33799427.0,37387073.0,36431375.0,34577966.0,35894832.0,41229400.0,38285160.0,40709075.0,41349616.0,42783771.0,41378398.0,41513575.0,42330236.0,41144260.0,43593700.0,41700833.0,42525085.0,44386079.0,43626735.0,42522930.0,43566355.0,45489470.0,40910287.0,42078605.0,39268076.0,41948653.0,39643230.0,41502077.0,42515458.0,44713488.0,45942147.0,48903021.0,50678297.0,50713435.0,53194494.0,57676411.0,63080156.0,65130156.0,67829404.0,70519610.0,75971826.0,78472735.0,77323025.0,81144824.0,82347884.0,84530176.0,85617322.0,85056395.0,85276204.0,85448697.0],\"yaxis\":\"y\",\"type\":\"scattergl\"},{\"hovertemplate\":\"Area=Indonesia<br>Year=%{x}<br>Value=%{y}<extra></extra>\",\"legendgroup\":\"Indonesia\",\"line\":{\"color\":\"#ab63fa\",\"dash\":\"solid\"},\"marker\":{\"symbol\":\"circle\"},\"mode\":\"lines\",\"name\":\"Indonesia\",\"showlegend\":true,\"x\":[1961,1962,1963,1964,1965,1966,1967,1968,1969,1970,1971,1972,1973,1974,1975,1976,1977,1978,1979,1980,1981,1982,1983,1984,1985,1986,1987,1988,1989,1990,1991,1992,1993,1994,1995,1996,1997,1998,1999,2000,2001,2002,2003,2004,2005,2006,2007,2008,2009,2010,2011,2012,2013,2014,2015,2016,2017,2018,2019,2020],\"xaxis\":\"x\",\"y\":[2284327.0,2288086.0,2263030.0,2140415.0,455602.0,726647.0,949867.0,1535355.0,1684629.0,2496350.0,1580165.0,2099258.0,4809575.0,3313435.0,2483743.0,4336471.0,5334486.0,5544667.0,5546739.0,6473469.0,4205416.0,3910189.0,5142862.0,3469034.0,2512361.0,3196204.0,3702096.0,3819076.0,4549133.0,3838779.0,5467398.0,6799317.0,6254436.0,9431549.0,15946658.0,14712733.0,10972883.0,13243935.0,20012222.0,15221218.0,12362039.0,16082211.0,15721730.0,14054017.0,13950054.0,16277602.0,20516452.0,15498920.0,16474896.0,20553039.0,28671318.0,26712555.0,25832955.0,28289606.0,28759588.0,32665765.0,30992258.0,36641973.0,32654900.0,32614469.0],\"yaxis\":\"y\",\"type\":\"scattergl\"},{\"hovertemplate\":\"Area=Viet Nam<br>Year=%{x}<br>Value=%{y}<extra></extra>\",\"legendgroup\":\"Viet Nam\",\"line\":{\"color\":\"#FFA15A\",\"dash\":\"solid\"},\"marker\":{\"symbol\":\"circle\"},\"mode\":\"lines\",\"name\":\"Viet Nam\",\"showlegend\":true,\"x\":[1961,1962,1963,1964,1965,1966,1967,1968,1969,1970,1971,1972,1973,1974,1975,1976,1977,1978,1979,1980,1981,1982,1983,1984,1985,1986,1987,1988,1989,1990,1991,1992,1993,1994,1995,1996,1997,1998,1999,2000,2001,2002,2003,2004,2005,2006,2007,2008,2009,2010,2011,2012,2013,2014,2015,2016,2017,2018,2019,2020],\"xaxis\":\"x\",\"y\":[243722.0,656490.0,1282881.0,1112192.0,1045074.0,2221207.0,2945399.0,3213641.0,3071710.0,3813591.0,2538563.0,2721947.0,2754838.0,2807283.0,1605034.0,1106799.0,1618263.0,1675610.0,2114059.0,1298647.0,1094200.0,750440.0,399700.0,887200.0,796858.0,1168010.0,979300.0,830236.0,427821.0,292881.0,400686.0,352469.0,673393.0,858229.0,1344044.0,1088893.0,1207617.0,1465406.0,1881193.0,2016629.0,2742779.0,3160174.0,3799101.0,4059968.0,5016320.0,6228739.0,7326631.0,6999827.0,9278851.0,11667134.0,12193787.0,13654944.0,14109697.0,17433461.0,23284256.0,27886430.0,27358921.0,30409024.0,31467439.0,33791851.0],\"yaxis\":\"y\",\"type\":\"scattergl\"},{\"hovertemplate\":\"Area=France<br>Year=%{x}<br>Value=%{y}<extra></extra>\",\"legendgroup\":\"France\",\"line\":{\"color\":\"#19d3f3\",\"dash\":\"solid\"},\"marker\":{\"symbol\":\"circle\"},\"mode\":\"lines\",\"name\":\"France\",\"showlegend\":true,\"x\":[1961,1962,1963,1964,1965,1966,1967,1968,1969,1970,1971,1972,1973,1974,1975,1976,1977,1978,1979,1980,1981,1982,1983,1984,1985,1986,1987,1988,1989,1990,1991,1992,1993,1994,1995,1996,1997,1998,1999,2000,2001,2002,2003,2004,2005,2006,2007,2008,2009,2010,2011,2012,2013,2014,2015,2016,2017,2018,2019,2020],\"xaxis\":\"x\",\"y\":[7749118.0,9569542.0,9390306.0,10265808.0,10007279.0,10525608.0,10106180.0,9917521.0,11348586.0,11956445.0,11668667.0,12783609.0,13447001.0,13052983.0,14556409.0,16556301.0,17228436.0,19394898.0,19208284.0,19290360.0,20192423.0,21573483.0,21158546.0,20808103.0,20579867.0,22284850.0,23109149.0,23700685.0,23902671.0,25914545.0,27698316.0,27392072.0,28348679.0,30210396.0,29558656.0,27863875.0,28550516.0,30606319.0,32984072.0,31958402.0,29036332.0,29996847.0,30189099.0,33977218.0,31502378.0,33962182.0,34595756.0,36587308.0,36697016.0,39547646.0,36047064.0,39948268.0,41282534.0,39660885.0,41529977.0,39710932.0,38163613.0,39868414.0,37387935.0,36677474.0],\"yaxis\":\"y\",\"type\":\"scattergl\"},{\"hovertemplate\":\"Area=Turkey<br>Year=%{x}<br>Value=%{y}<extra></extra>\",\"legendgroup\":\"Turkey\",\"line\":{\"color\":\"#FF6692\",\"dash\":\"solid\"},\"marker\":{\"symbol\":\"circle\"},\"mode\":\"lines\",\"name\":\"Turkey\",\"showlegend\":true,\"x\":[1961,1962,1963,1964,1965,1966,1967,1968,1969,1970,1971,1972,1973,1974,1975,1976,1977,1978,1979,1980,1981,1982,1983,1984,1985,1986,1987,1988,1989,1990,1991,1992,1993,1994,1995,1996,1997,1998,1999,2000,2001,2002,2003,2004,2005,2006,2007,2008,2009,2010,2011,2012,2013,2014,2015,2016,2017,2018,2019,2020],\"xaxis\":\"x\",\"y\":[954894.0,785793.0,956981.0,206965.0,413806.0,358202.0,74337.0,54990.0,508431.0,1234516.0,791552.0,237383.0,224075.0,1454687.0,987304.0,298292.0,158997.0,159858.0,178006.0,393740.0,619958.0,838883.0,469154.0,2170158.0,1776888.0,1743033.0,2365235.0,1354694.0,4449728.0,5718606.0,2740839.0,3314213.0,5425700.0,3052169.0,6212302.0,7385291.0,7807367.0,7013329.0,6777635.0,7851099.0,4503304.0,7060690.0,9640518.0,8510386.0,7981554.0,7784929.0,11589026.0,13415816.0,11401273.0,13183330.0,16291466.0,15685702.0,16896543.0,20333946.0,18764516.0,19394353.0,25164094.0,25058589.0,33318651.0,32289121.0],\"yaxis\":\"y\",\"type\":\"scattergl\"},{\"hovertemplate\":\"Area=Japan<br>Year=%{x}<br>Value=%{y}<extra></extra>\",\"legendgroup\":\"Japan\",\"line\":{\"color\":\"#B6E880\",\"dash\":\"solid\"},\"marker\":{\"symbol\":\"circle\"},\"mode\":\"lines\",\"name\":\"Japan\",\"showlegend\":true,\"x\":[1961,1962,1963,1964,1965,1966,1967,1968,1969,1970,1971,1972,1973,1974,1975,1976,1977,1978,1979,1980,1981,1982,1983,1984,1985,1986,1987,1988,1989,1990,1991,1992,1993,1994,1995,1996,1997,1998,1999,2000,2001,2002,2003,2004,2005,2006,2007,2008,2009,2010,2011,2012,2013,2014,2015,2016,2017,2018,2019,2020],\"xaxis\":\"x\",\"y\":[11042649.0,11823334.0,14318605.0,16867928.0,19726369.0,21108200.0,21959435.0,23343730.0,24977634.0,29353414.0,28662640.0,30865385.0,34502926.0,34427146.0,32831132.0,36196644.0,38221133.0,40014342.0,42511842.0,42017004.0,41157539.0,41962356.0,43656164.0,45495760.0,45993612.0,47242532.0,48861424.0,51232275.0,50650339.0,50776448.0,52543970.0,53450064.0,54477866.0,56319501.0,55297591.0,55129891.0,56409565.0,54944924.0,56781280.0,56601260.0,55416608.0,55563470.0,56213330.0,55532627.0,56550710.0,55686756.0,55040478.0,54131576.0,52498153.0,54316478.0,54695824.0,54070615.0,53454873.0,52429708.0,51592644.0,52107168.0,40208571.0,54407714.0,54870749.0,54305371.0],\"yaxis\":\"y\",\"type\":\"scattergl\"},{\"hovertemplate\":\"Area=United States of America<br>Year=%{x}<br>Value=%{y}<extra></extra>\",\"legendgroup\":\"United States of America\",\"line\":{\"color\":\"#FF97FF\",\"dash\":\"solid\"},\"marker\":{\"symbol\":\"circle\"},\"mode\":\"lines\",\"name\":\"United States of America\",\"showlegend\":true,\"x\":[1961,1962,1963,1964,1965,1966,1967,1968,1969,1970,1971,1972,1973,1974,1975,1976,1977,1978,1979,1980,1981,1982,1983,1984,1985,1986,1987,1988,1989,1990,1991,1992,1993,1994,1995,1996,1997,1998,1999,2000,2001,2002,2003,2004,2005,2006,2007,2008,2009,2010,2011,2012,2013,2014,2015,2016,2017,2018,2019,2020],\"xaxis\":\"x\",\"y\":[14070840.0,14457761.0,14055359.0,13383050.0,13408097.0,14243900.0,14988900.0,16378598.0,15981816.0,17341753.0,17690253.0,18406326.0,18625916.0,18300334.0,15709968.0,18382159.0,19300802.0,18458035.0,19027967.0,17382461.0,19293089.0,18635763.0,20279595.0,23271105.0,24713237.0,24448901.0,24117694.0,24857183.0,26851576.0,28480433.0,28913008.0,31110044.0,32877197.0,36687890.0,35795579.0,40195095.0,44112205.0,45287499.0,46652464.0,47474550.0,49441652.0,51475755.0,53089657.0,56070640.0,57871017.0,63268919.0,66797002.0,68298743.0,61359876.0,63248965.0,66975686.0,69802282.0,74788994.0,80713850.0,80534872.0,81908465.0,83656342.0,82206420.0,85688211.0,83258110.0],\"yaxis\":\"y\",\"type\":\"scattergl\"},{\"hovertemplate\":\"Area=Spain<br>Year=%{x}<br>Value=%{y}<extra></extra>\",\"legendgroup\":\"Spain\",\"line\":{\"color\":\"#FECB52\",\"dash\":\"solid\"},\"marker\":{\"symbol\":\"circle\"},\"mode\":\"lines\",\"name\":\"Spain\",\"showlegend\":true,\"x\":[1961,1962,1963,1964,1965,1966,1967,1968,1969,1970,1971,1972,1973,1974,1975,1976,1977,1978,1979,1980,1981,1982,1983,1984,1985,1986,1987,1988,1989,1990,1991,1992,1993,1994,1995,1996,1997,1998,1999,2000,2001,2002,2003,2004,2005,2006,2007,2008,2009,2010,2011,2012,2013,2014,2015,2016,2017,2018,2019,2020],\"xaxis\":\"x\",\"y\":[2290002.0,2377468.0,2986653.0,3245049.0,4359806.0,5623162.0,5487150.0,4805732.0,5012899.0,4709870.0,5838351.0,5790292.0,5798874.0,8489136.0,8789400.0,8063404.0,8776575.0,9416007.0,9517236.0,10874691.0,10555508.0,12378209.0,11545409.0,8854266.0,8948368.0,11391684.0,13091093.0,12243262.0,13766701.0,15912553.0,17805581.0,19122037.0,20580539.0,21531162.0,25309603.0,22607908.0,21564500.0,23949218.0,25770535.0,25264315.0,25717481.0,31725018.0,29303245.0,30148755.0,36959396.0,34004371.0,35899654.0,34244136.0,34202432.0,31191189.0,32096109.0,34121753.0,32095961.0,35696255.0,38148471.0,39921869.0,42862940.0,45443730.0,46308311.0,42632174.0],\"yaxis\":\"y\",\"type\":\"scattergl\"},{\"hovertemplate\":\"Area=Mexico<br>Year=%{x}<br>Value=%{y}<extra></extra>\",\"legendgroup\":\"Mexico\",\"line\":{\"color\":\"#636efa\",\"dash\":\"solid\"},\"marker\":{\"symbol\":\"circle\"},\"mode\":\"lines\",\"name\":\"Mexico\",\"showlegend\":true,\"x\":[1961,1962,1963,1964,1965,1966,1967,1968,1969,1970,1971,1972,1973,1974,1975,1976,1977,1978,1979,1980,1981,1982,1983,1984,1985,1986,1987,1988,1989,1990,1991,1992,1993,1994,1995,1996,1997,1998,1999,2000,2001,2002,2003,2004,2005,2006,2007,2008,2009,2010,2011,2012,2013,2014,2015,2016,2017,2018,2019,2020],\"xaxis\":\"x\",\"y\":[307985.0,428606.0,874646.0,435924.0,451324.0,324392.0,269450.0,357012.0,336602.0,1337525.0,845125.0,1540954.0,2611740.0,4312936.0,4528390.0,1837101.0,4016816.0,4268275.0,4737627.0,10976636.0,11159756.0,6929681.0,11671728.0,10857714.0,8843376.0,5591311.0,7670436.0,9897093.0,12660658.0,14603933.0,13362684.0,16769475.0,15402733.0,18665772.0,13808330.0,20313172.0,17734185.0,23489704.0,26524071.0,27908568.0,30099617.0,31378554.0,30810242.0,30266699.0,31496558.0,35158572.0,34309874.0,32642595.0,31049388.0,33810722.0,36313132.0,36272348.0,32448546.0,35654815.0,38819600.0,42620108.0,45256863.0,47304527.0,46518550.0,39152809.0],\"yaxis\":\"y\",\"type\":\"scattergl\"},{\"hovertemplate\":\"Area=Myanmar<br>Year=%{x}<br>Value=%{y}<extra></extra>\",\"legendgroup\":\"Myanmar\",\"line\":{\"color\":\"#EF553B\",\"dash\":\"solid\"},\"marker\":{\"symbol\":\"circle\"},\"mode\":\"lines\",\"name\":\"Myanmar\",\"showlegend\":true,\"x\":[1961,1962,1963,1964,1965,1966,1967,1968,1969,1970,1971,1972,1973,1974,1975,1976,1977,1978,1979,1980,1981,1982,1983,1984,1985,1986,1987,1988,1989,1990,1991,1992,1993,1994,1995,1996,1997,1998,1999,2000,2001,2002,2003,2004,2005,2006,2007,2008,2009,2010,2011,2012,2013,2014,2015,2016,2017,2018,2019,2020],\"xaxis\":\"x\",\"y\":[137422.0,136127.0,136423.0,271136.0,172733.0,79654.0,82824.0,72550.0,38470.0,55837.0,61688.0,31122.0,31483.0,45285.0,31687.0,64557.0,50205.0,38187.0,39754.0,57747.0,57277.0,63504.0,27353.0,28790.0,45652.0,36478.0,14960.0,29776.0,33789.0,177392.0,205439.0,195414.0,231480.0,253571.0,353995.0,318519.0,298208.0,409776.0,486794.0,574611.0,570810.0,511859.0,512688.0,610003.0,706393.0,741521.0,753243.0,854667.0,821964.0,1006230.0,1117576.0,1459970.0,1579944.0,1778381.0,3239841.0,4516462.0,4335756.0,4470540.0,3371940.0,73561117.0],\"yaxis\":\"y\",\"type\":\"scattergl\"},{\"hovertemplate\":\"Area=China<br>Year=%{x}<br>Value=%{y}<extra></extra>\",\"legendgroup\":\"China\",\"line\":{\"color\":\"#00cc96\",\"dash\":\"solid\"},\"marker\":{\"symbol\":\"circle\"},\"mode\":\"lines\",\"name\":\"China\",\"showlegend\":true,\"x\":[1961,1962,1963,1964,1965,1966,1967,1968,1969,1970,1971,1972,1973,1974,1975,1976,1977,1978,1979,1980,1981,1982,1983,1984,1985,1986,1987,1988,1989,1990,1991,1992,1993,1994,1995,1996,1997,1998,1999,2000,2001,2002,2003,2004,2005,2006,2007,2008,2009,2010,2011,2012,2013,2014,2015,2016,2017,2018,2019,2020],\"xaxis\":\"x\",\"y\":[11264300.0,10428959.0,11703161.0,12759046.0,12860331.0,12836448.0,11020252.0,11465353.0,11052566.0,13273391.0,11689558.0,15304012.0,17928806.0,16833735.0,14264830.0,14436461.0,20804322.0,23551318.0,28032685.0,30924534.0,31150174.0,34131444.0,32199193.0,27403590.0,24442078.0,27500265.0,38867334.0,40312700.0,42283982.0,39081773.0,39034564.0,37463104.0,32015180.0,40429142.0,57518685.0,46746631.0,43680037.0,42114118.0,42566286.0,49939780.0,54892909.0,51640741.0,63720524.0,75850859.0,78902159.0,83797347.0,83693952.0,87929937.0,105999042.0,126550885.0,124780879.0,150751465.0,160116299.0,269518405.0,297983444.0,287275836.0,306718044.0,297456313.0,230977659.0,335774684.0],\"yaxis\":\"y\",\"type\":\"scattergl\"},{\"hovertemplate\":\"Area=China, Macao SAR<br>Year=%{x}<br>Value=%{y}<extra></extra>\",\"legendgroup\":\"China, Macao SAR\",\"line\":{\"color\":\"#ab63fa\",\"dash\":\"solid\"},\"marker\":{\"symbol\":\"circle\"},\"mode\":\"lines\",\"name\":\"China, Macao SAR\",\"showlegend\":true,\"x\":[1961,1962,1963,1964,1965,1966,1967,1968,1969,1970,1971,1972,1973,1974,1975,1976,1977,1978,1979,1980,1981,1982,1983,1984,1985,1986,1987,1988,1989,1990,1991,1992,1993,1994,1995,1996,1997,1998,1999,2000,2001,2002,2003,2004,2005,2006,2007,2008,2009,2010,2011,2012,2013,2014,2015,2016,2017,2018,2019,2020],\"xaxis\":\"x\",\"y\":[159130.0,180778.0,187850.0,191686.0,182507.0,190065.0,169730.0,154102.0,165374.0,177855.0,196901.0,202168.0,192460.0,201568.0,193230.0,234962.0,237851.0,234611.0,278583.0,316285.0,313603.0,352279.0,337975.0,344580.0,319521.0,337969.0,343173.0,344573.0,378657.0,418128.0,409512.0,434187.0,430240.0,462499.0,464556.0,476420.0,442261.0,436418.0,423422.0,420237.0,423608.0,417330.0,442140.0,468424.0,499348.0,504631.0,615008.0,536085.0,523940.0,513377.0,574498.0,594827.0,575418.0,93517596.0,93136984.0,97738016.0,98327468.0,101915368.0,32826056.0,97681934.0],\"yaxis\":\"y\",\"type\":\"scattergl\"},{\"hovertemplate\":\"Area=China, mainland<br>Year=%{x}<br>Value=%{y}<extra></extra>\",\"legendgroup\":\"China, mainland\",\"line\":{\"color\":\"#FFA15A\",\"dash\":\"solid\"},\"marker\":{\"symbol\":\"circle\"},\"mode\":\"lines\",\"name\":\"China, mainland\",\"showlegend\":true,\"x\":[1961,1962,1963,1964,1965,1966,1967,1968,1969,1970,1971,1972,1973,1974,1975,1976,1977,1978,1979,1980,1981,1982,1983,1984,1985,1986,1987,1988,1989,1990,1991,1992,1993,1994,1995,1996,1997,1998,1999,2000,2001,2002,2003,2004,2005,2006,2007,2008,2009,2010,2011,2012,2013,2014,2015,2016,2017,2018,2019,2020],\"xaxis\":\"x\",\"y\":[7693660.0,6432959.0,7187350.0,7823302.0,7766234.0,7554771.0,5609732.0,5599766.0,4670853.0,6322601.0,4142570.0,6125170.0,9001180.0,7942700.0,4819500.0,3744700.0,9827100.0,11443662.0,14884448.0,16363508.0,17281384.0,19617726.0,16334559.0,12242138.0,8639370.0,10524764.0,20475503.0,21214800.0,23321122.0,19100285.0,17897088.0,15889056.0,10603328.0,17116321.0,33103533.0,22500683.0,18895562.0,19260741.0,19831506.0,26894015.0,31234322.0,27687339.0,40172696.0,52749604.0,55638215.0,60899074.0,61397672.0,65631342.0,82294330.0,101810934.0,100124724.0,126093648.0,135939381.0,151349139.0,180306758.0,164924215.0,182880168.0,170586845.0,173821371.0,214387837.0],\"yaxis\":\"y\",\"type\":\"scattergl\"},{\"hovertemplate\":\"Area=Republic of Korea<br>Year=%{x}<br>Value=%{y}<extra></extra>\",\"legendgroup\":\"Republic of Korea\",\"line\":{\"color\":\"#19d3f3\",\"dash\":\"solid\"},\"marker\":{\"symbol\":\"circle\"},\"mode\":\"lines\",\"name\":\"Republic of Korea\",\"showlegend\":true,\"x\":[1961,1962,1963,1964,1965,1966,1967,1968,1969,1970,1971,1972,1973,1974,1975,1976,1977,1978,1979,1980,1981,1982,1983,1984,1985,1986,1987,1988,1989,1990,1991,1992,1993,1994,1995,1996,1997,1998,1999,2000,2001,2002,2003,2004,2005,2006,2007,2008,2009,2010,2011,2012,2013,2014,2015,2016,2017,2018,2019,2020],\"xaxis\":\"x\",\"y\":[780853.0,693918.0,1644836.0,788515.0,863141.0,870938.0,1347628.0,2248332.0,3751406.0,3792915.0,5242342.0,4802485.0,4589286.0,4100746.0,4792745.0,4487138.0,5360262.0,5840996.0,7801883.0,8447757.0,12741723.0,8763575.0,9807990.0,9685454.0,10352106.0,11604555.0,13577771.0,14547002.0,16296671.0,15628487.0,17435785.0,18655810.0,19121036.0,19882668.0,21639101.0,22662113.0,22127602.0,21312014.0,23011484.0,23928845.0,24032948.0,25415690.0,25364592.0,24966759.0,25592108.0,26113571.0,27131680.0,28876840.0,26763150.0,29765875.0,30387040.0,32379471.0,32977146.0,33485256.0,33964029.0,34372814.0,34172578.0,35512150.0,36641330.0,37013057.0],\"yaxis\":\"y\",\"type\":\"scattergl\"},{\"hovertemplate\":\"Area=Saudi Arabia<br>Year=%{x}<br>Value=%{y}<extra></extra>\",\"legendgroup\":\"Saudi Arabia\",\"line\":{\"color\":\"#FF6692\",\"dash\":\"solid\"},\"marker\":{\"symbol\":\"circle\"},\"mode\":\"lines\",\"name\":\"Saudi Arabia\",\"showlegend\":true,\"x\":[1961,1962,1963,1964,1965,1966,1967,1968,1969,1970,1971,1972,1973,1974,1975,1976,1977,1978,1979,1980,1981,1982,1983,1984,1985,1986,1987,1988,1989,1990,1991,1992,1993,1994,1995,1996,1997,1998,1999,2000,2001,2002,2003,2004,2005,2006,2007,2008,2009,2010,2011,2012,2013,2014,2015,2016,2017,2018,2019,2020],\"xaxis\":\"x\",\"y\":[1007423.0,1117583.0,1275740.0,1399937.0,1638698.0,1944003.0,1270299.0,2864030.0,2231480.0,2182159.0,2283342.0,3172702.0,2400666.0,2259806.0,2456653.0,3169466.0,3954419.0,6416121.0,8650900.0,10538701.0,13478278.0,15879943.0,14391586.0,18090224.0,13398307.0,13779467.0,15928571.0,13094369.0,11314602.0,9949400.0,9735467.0,15885788.0,15251379.0,15756958.0,16234980.0,16661902.0,16843289.0,13775073.0,16366590.0,18089191.0,12550261.0,16723920.0,17763959.0,15958658.0,22458685.0,23347260.0,24199499.0,22623832.0,22279095.0,27324915.0,28505910.0,32279555.0,35556956.0,35196171.0,35080708.0,38282347.0,37516540.0,33587072.0,31367148.0,29407373.0],\"yaxis\":\"y\",\"type\":\"scattergl\"},{\"hovertemplate\":\"Area=Netherlands<br>Year=%{x}<br>Value=%{y}<extra></extra>\",\"legendgroup\":\"Netherlands\",\"line\":{\"color\":\"#B6E880\",\"dash\":\"solid\"},\"marker\":{\"symbol\":\"circle\"},\"mode\":\"lines\",\"name\":\"Netherlands\",\"showlegend\":true,\"x\":[1961,1962,1963,1964,1965,1966,1967,1968,1969,1970,1971,1972,1973,1974,1975,1976,1977,1978,1979,1980,1981,1982,1983,1984,1985,1986,1987,1988,1989,1990,1991,1992,1993,1994,1995,1996,1997,1998,1999,2000,2001,2002,2003,2004,2005,2006,2007,2008,2009,2010,2011,2012,2013,2014,2015,2016,2017,2018,2019,2020],\"xaxis\":\"x\",\"y\":[7271888.0,8001322.0,8665628.0,9134919.0,9160541.0,9202321.0,9643565.0,11036842.0,19442677.0,17734007.0,19156689.0,20424648.0,23336132.0,23883676.0,26619417.0,28453175.0,27989925.0,29127778.0,29497282.0,31330559.0,31267498.0,33519813.0,32989850.0,34144010.0,40314809.0,38311785.0,40452755.0,43702624.0,38968301.0,46463296.0,41167693.0,45955266.0,39186518.0,48092035.0,45350428.0,43393747.0,39001925.0,39341558.0,48478759.0,41393397.0,49085271.0,44672541.0,47887524.0,50732248.0,51979583.0,50182892.0,53463691.0,54730199.0,54803031.0,56899173.0,58358453.0,59244158.0,59608428.0,62276218.0,63143248.0,62706202.0,72924131.0,75989137.0,77423036.0,77125495.0],\"yaxis\":\"y\",\"type\":\"scattergl\"},{\"hovertemplate\":\"Area=China (excluding intra-trade)<br>Year=%{x}<br>Value=%{y}<extra></extra>\",\"legendgroup\":\"China (excluding intra-trade)\",\"line\":{\"color\":\"#FF97FF\",\"dash\":\"solid\"},\"marker\":{\"symbol\":\"circle\"},\"mode\":\"lines\",\"name\":\"China (excluding intra-trade)\",\"showlegend\":true,\"x\":[1986,1987,1988,1989,1990,1991,1992,1993,1994,1995,1996,1997,1998,1999,2000,2001,2002,2003,2004,2005,2006,2007,2008,2009,2010,2011,2012,2013,2014,2015,2016,2017,2018,2019,2020],\"xaxis\":\"x\",\"y\":[10839131.0,31753690.0,33394088.0,34097832.0,32218843.0,32175931.0,30650529.0,25685160.0,33454116.0,49123155.0,40231531.0,37435382.0,36167662.0,36682388.0,44783409.0,49675074.0,46484285.0,57606355.0,69118860.0,72695427.0,77574327.0,65236845.0,70357015.0,99651963.0,120282040.0,119308776.0,142480600.0,158045794.0,167484107.0,199458255.0,180595273.0,198603636.0,190112764.0,194693597.0,230188340.0],\"yaxis\":\"y\",\"type\":\"scattergl\"},{\"hovertemplate\":\"Area=Belgium<br>Year=%{x}<br>Value=%{y}<extra></extra>\",\"legendgroup\":\"Belgium\",\"line\":{\"color\":\"#FECB52\",\"dash\":\"solid\"},\"marker\":{\"symbol\":\"circle\"},\"mode\":\"lines\",\"name\":\"Belgium\",\"showlegend\":true,\"x\":[2000,2001,2002,2003,2004,2005,2006,2007,2008,2009,2010,2011,2012,2013,2014,2015,2016,2017,2018,2019,2020],\"xaxis\":\"x\",\"y\":[34110118.0,34221627.0,36240879.0,35510761.0,32024853.0,32928726.0,34966941.0,39989039.0,39755319.0,34703001.0,37739108.0,37683074.0,38269806.0,39452160.0,41559688.0,43373791.0,46519530.0,45354008.0,46381392.0,44706631.0,45099789.0],\"yaxis\":\"y\",\"type\":\"scattergl\"}],                        {\"template\":{\"data\":{\"bar\":[{\"error_x\":{\"color\":\"#2a3f5f\"},\"error_y\":{\"color\":\"#2a3f5f\"},\"marker\":{\"line\":{\"color\":\"#E5ECF6\",\"width\":0.5},\"pattern\":{\"fillmode\":\"overlay\",\"size\":10,\"solidity\":0.2}},\"type\":\"bar\"}],\"barpolar\":[{\"marker\":{\"line\":{\"color\":\"#E5ECF6\",\"width\":0.5},\"pattern\":{\"fillmode\":\"overlay\",\"size\":10,\"solidity\":0.2}},\"type\":\"barpolar\"}],\"carpet\":[{\"aaxis\":{\"endlinecolor\":\"#2a3f5f\",\"gridcolor\":\"white\",\"linecolor\":\"white\",\"minorgridcolor\":\"white\",\"startlinecolor\":\"#2a3f5f\"},\"baxis\":{\"endlinecolor\":\"#2a3f5f\",\"gridcolor\":\"white\",\"linecolor\":\"white\",\"minorgridcolor\":\"white\",\"startlinecolor\":\"#2a3f5f\"},\"type\":\"carpet\"}],\"choropleth\":[{\"colorbar\":{\"outlinewidth\":0,\"ticks\":\"\"},\"type\":\"choropleth\"}],\"contour\":[{\"colorbar\":{\"outlinewidth\":0,\"ticks\":\"\"},\"colorscale\":[[0.0,\"#0d0887\"],[0.1111111111111111,\"#46039f\"],[0.2222222222222222,\"#7201a8\"],[0.3333333333333333,\"#9c179e\"],[0.4444444444444444,\"#bd3786\"],[0.5555555555555556,\"#d8576b\"],[0.6666666666666666,\"#ed7953\"],[0.7777777777777778,\"#fb9f3a\"],[0.8888888888888888,\"#fdca26\"],[1.0,\"#f0f921\"]],\"type\":\"contour\"}],\"contourcarpet\":[{\"colorbar\":{\"outlinewidth\":0,\"ticks\":\"\"},\"type\":\"contourcarpet\"}],\"heatmap\":[{\"colorbar\":{\"outlinewidth\":0,\"ticks\":\"\"},\"colorscale\":[[0.0,\"#0d0887\"],[0.1111111111111111,\"#46039f\"],[0.2222222222222222,\"#7201a8\"],[0.3333333333333333,\"#9c179e\"],[0.4444444444444444,\"#bd3786\"],[0.5555555555555556,\"#d8576b\"],[0.6666666666666666,\"#ed7953\"],[0.7777777777777778,\"#fb9f3a\"],[0.8888888888888888,\"#fdca26\"],[1.0,\"#f0f921\"]],\"type\":\"heatmap\"}],\"heatmapgl\":[{\"colorbar\":{\"outlinewidth\":0,\"ticks\":\"\"},\"colorscale\":[[0.0,\"#0d0887\"],[0.1111111111111111,\"#46039f\"],[0.2222222222222222,\"#7201a8\"],[0.3333333333333333,\"#9c179e\"],[0.4444444444444444,\"#bd3786\"],[0.5555555555555556,\"#d8576b\"],[0.6666666666666666,\"#ed7953\"],[0.7777777777777778,\"#fb9f3a\"],[0.8888888888888888,\"#fdca26\"],[1.0,\"#f0f921\"]],\"type\":\"heatmapgl\"}],\"histogram\":[{\"marker\":{\"pattern\":{\"fillmode\":\"overlay\",\"size\":10,\"solidity\":0.2}},\"type\":\"histogram\"}],\"histogram2d\":[{\"colorbar\":{\"outlinewidth\":0,\"ticks\":\"\"},\"colorscale\":[[0.0,\"#0d0887\"],[0.1111111111111111,\"#46039f\"],[0.2222222222222222,\"#7201a8\"],[0.3333333333333333,\"#9c179e\"],[0.4444444444444444,\"#bd3786\"],[0.5555555555555556,\"#d8576b\"],[0.6666666666666666,\"#ed7953\"],[0.7777777777777778,\"#fb9f3a\"],[0.8888888888888888,\"#fdca26\"],[1.0,\"#f0f921\"]],\"type\":\"histogram2d\"}],\"histogram2dcontour\":[{\"colorbar\":{\"outlinewidth\":0,\"ticks\":\"\"},\"colorscale\":[[0.0,\"#0d0887\"],[0.1111111111111111,\"#46039f\"],[0.2222222222222222,\"#7201a8\"],[0.3333333333333333,\"#9c179e\"],[0.4444444444444444,\"#bd3786\"],[0.5555555555555556,\"#d8576b\"],[0.6666666666666666,\"#ed7953\"],[0.7777777777777778,\"#fb9f3a\"],[0.8888888888888888,\"#fdca26\"],[1.0,\"#f0f921\"]],\"type\":\"histogram2dcontour\"}],\"mesh3d\":[{\"colorbar\":{\"outlinewidth\":0,\"ticks\":\"\"},\"type\":\"mesh3d\"}],\"parcoords\":[{\"line\":{\"colorbar\":{\"outlinewidth\":0,\"ticks\":\"\"}},\"type\":\"parcoords\"}],\"pie\":[{\"automargin\":true,\"type\":\"pie\"}],\"scatter\":[{\"marker\":{\"colorbar\":{\"outlinewidth\":0,\"ticks\":\"\"}},\"type\":\"scatter\"}],\"scatter3d\":[{\"line\":{\"colorbar\":{\"outlinewidth\":0,\"ticks\":\"\"}},\"marker\":{\"colorbar\":{\"outlinewidth\":0,\"ticks\":\"\"}},\"type\":\"scatter3d\"}],\"scattercarpet\":[{\"marker\":{\"colorbar\":{\"outlinewidth\":0,\"ticks\":\"\"}},\"type\":\"scattercarpet\"}],\"scattergeo\":[{\"marker\":{\"colorbar\":{\"outlinewidth\":0,\"ticks\":\"\"}},\"type\":\"scattergeo\"}],\"scattergl\":[{\"marker\":{\"colorbar\":{\"outlinewidth\":0,\"ticks\":\"\"}},\"type\":\"scattergl\"}],\"scattermapbox\":[{\"marker\":{\"colorbar\":{\"outlinewidth\":0,\"ticks\":\"\"}},\"type\":\"scattermapbox\"}],\"scatterpolar\":[{\"marker\":{\"colorbar\":{\"outlinewidth\":0,\"ticks\":\"\"}},\"type\":\"scatterpolar\"}],\"scatterpolargl\":[{\"marker\":{\"colorbar\":{\"outlinewidth\":0,\"ticks\":\"\"}},\"type\":\"scatterpolargl\"}],\"scatterternary\":[{\"marker\":{\"colorbar\":{\"outlinewidth\":0,\"ticks\":\"\"}},\"type\":\"scatterternary\"}],\"surface\":[{\"colorbar\":{\"outlinewidth\":0,\"ticks\":\"\"},\"colorscale\":[[0.0,\"#0d0887\"],[0.1111111111111111,\"#46039f\"],[0.2222222222222222,\"#7201a8\"],[0.3333333333333333,\"#9c179e\"],[0.4444444444444444,\"#bd3786\"],[0.5555555555555556,\"#d8576b\"],[0.6666666666666666,\"#ed7953\"],[0.7777777777777778,\"#fb9f3a\"],[0.8888888888888888,\"#fdca26\"],[1.0,\"#f0f921\"]],\"type\":\"surface\"}],\"table\":[{\"cells\":{\"fill\":{\"color\":\"#EBF0F8\"},\"line\":{\"color\":\"white\"}},\"header\":{\"fill\":{\"color\":\"#C8D4E3\"},\"line\":{\"color\":\"white\"}},\"type\":\"table\"}]},\"layout\":{\"annotationdefaults\":{\"arrowcolor\":\"#2a3f5f\",\"arrowhead\":0,\"arrowwidth\":1},\"autotypenumbers\":\"strict\",\"coloraxis\":{\"colorbar\":{\"outlinewidth\":0,\"ticks\":\"\"}},\"colorscale\":{\"diverging\":[[0,\"#8e0152\"],[0.1,\"#c51b7d\"],[0.2,\"#de77ae\"],[0.3,\"#f1b6da\"],[0.4,\"#fde0ef\"],[0.5,\"#f7f7f7\"],[0.6,\"#e6f5d0\"],[0.7,\"#b8e186\"],[0.8,\"#7fbc41\"],[0.9,\"#4d9221\"],[1,\"#276419\"]],\"sequential\":[[0.0,\"#0d0887\"],[0.1111111111111111,\"#46039f\"],[0.2222222222222222,\"#7201a8\"],[0.3333333333333333,\"#9c179e\"],[0.4444444444444444,\"#bd3786\"],[0.5555555555555556,\"#d8576b\"],[0.6666666666666666,\"#ed7953\"],[0.7777777777777778,\"#fb9f3a\"],[0.8888888888888888,\"#fdca26\"],[1.0,\"#f0f921\"]],\"sequentialminus\":[[0.0,\"#0d0887\"],[0.1111111111111111,\"#46039f\"],[0.2222222222222222,\"#7201a8\"],[0.3333333333333333,\"#9c179e\"],[0.4444444444444444,\"#bd3786\"],[0.5555555555555556,\"#d8576b\"],[0.6666666666666666,\"#ed7953\"],[0.7777777777777778,\"#fb9f3a\"],[0.8888888888888888,\"#fdca26\"],[1.0,\"#f0f921\"]]},\"colorway\":[\"#636efa\",\"#EF553B\",\"#00cc96\",\"#ab63fa\",\"#FFA15A\",\"#19d3f3\",\"#FF6692\",\"#B6E880\",\"#FF97FF\",\"#FECB52\"],\"font\":{\"color\":\"#2a3f5f\"},\"geo\":{\"bgcolor\":\"white\",\"lakecolor\":\"white\",\"landcolor\":\"#E5ECF6\",\"showlakes\":true,\"showland\":true,\"subunitcolor\":\"white\"},\"hoverlabel\":{\"align\":\"left\"},\"hovermode\":\"closest\",\"mapbox\":{\"style\":\"light\"},\"paper_bgcolor\":\"white\",\"plot_bgcolor\":\"#E5ECF6\",\"polar\":{\"angularaxis\":{\"gridcolor\":\"white\",\"linecolor\":\"white\",\"ticks\":\"\"},\"bgcolor\":\"#E5ECF6\",\"radialaxis\":{\"gridcolor\":\"white\",\"linecolor\":\"white\",\"ticks\":\"\"}},\"scene\":{\"xaxis\":{\"backgroundcolor\":\"#E5ECF6\",\"gridcolor\":\"white\",\"gridwidth\":2,\"linecolor\":\"white\",\"showbackground\":true,\"ticks\":\"\",\"zerolinecolor\":\"white\"},\"yaxis\":{\"backgroundcolor\":\"#E5ECF6\",\"gridcolor\":\"white\",\"gridwidth\":2,\"linecolor\":\"white\",\"showbackground\":true,\"ticks\":\"\",\"zerolinecolor\":\"white\"},\"zaxis\":{\"backgroundcolor\":\"#E5ECF6\",\"gridcolor\":\"white\",\"gridwidth\":2,\"linecolor\":\"white\",\"showbackground\":true,\"ticks\":\"\",\"zerolinecolor\":\"white\"}},\"shapedefaults\":{\"line\":{\"color\":\"#2a3f5f\"}},\"ternary\":{\"aaxis\":{\"gridcolor\":\"white\",\"linecolor\":\"white\",\"ticks\":\"\"},\"baxis\":{\"gridcolor\":\"white\",\"linecolor\":\"white\",\"ticks\":\"\"},\"bgcolor\":\"#E5ECF6\",\"caxis\":{\"gridcolor\":\"white\",\"linecolor\":\"white\",\"ticks\":\"\"}},\"title\":{\"x\":0.05},\"xaxis\":{\"automargin\":true,\"gridcolor\":\"white\",\"linecolor\":\"white\",\"ticks\":\"\",\"title\":{\"standoff\":15},\"zerolinecolor\":\"white\",\"zerolinewidth\":2},\"yaxis\":{\"automargin\":true,\"gridcolor\":\"white\",\"linecolor\":\"white\",\"ticks\":\"\",\"title\":{\"standoff\":15},\"zerolinecolor\":\"white\",\"zerolinewidth\":2}}},\"xaxis\":{\"anchor\":\"y\",\"domain\":[0.0,1.0],\"title\":{\"text\":\"Year\"}},\"yaxis\":{\"anchor\":\"x\",\"domain\":[0.0,1.0],\"title\":{\"text\":\"Value\"}},\"legend\":{\"title\":{\"text\":\"Area\"},\"tracegroupgap\":0},\"title\":{\"text\":\"Evolutivo\"},\"height\":600},                        {\"responsive\": true}                    ).then(function(){\n",
              "                            \n",
              "var gd = document.getElementById('9230f952-eb99-43e8-9f93-2a609f3e3564');\n",
              "var x = new MutationObserver(function (mutations, observer) {{\n",
              "        var display = window.getComputedStyle(gd).display;\n",
              "        if (!display || display === 'none') {{\n",
              "            console.log([gd, 'removed!']);\n",
              "            Plotly.purge(gd);\n",
              "            observer.disconnect();\n",
              "        }}\n",
              "}});\n",
              "\n",
              "// Listen for the removal of the full notebook cells\n",
              "var notebookContainer = gd.closest('#notebook-container');\n",
              "if (notebookContainer) {{\n",
              "    x.observe(notebookContainer, {childList: true});\n",
              "}}\n",
              "\n",
              "// Listen for the clearing of the current output cell\n",
              "var outputEl = gd.closest('.output');\n",
              "if (outputEl) {{\n",
              "    x.observe(outputEl, {childList: true});\n",
              "}}\n",
              "\n",
              "                        })                };                            </script>        </div>\n",
              "</body>\n",
              "</html>"
            ]
          },
          "metadata": {}
        }
      ]
    },
    {
      "cell_type": "markdown",
      "source": [
        "Vemos China aumentando las importaciones a una velocidad sin precedentes probablemente en consonancia al augmento del poder adquisitivo de la población y aumento de la clase media-alta!! También destaca Myanmar como dato anecdótico."
      ],
      "metadata": {
        "id": "HfoocjNN-WW0"
      }
    },
    {
      "cell_type": "markdown",
      "source": [
        "### Qué importa China?? Evolución."
      ],
      "metadata": {
        "id": "z3SrtaHYDhWt"
      }
    },
    {
      "cell_type": "code",
      "source": [
        "[x for x in list(df[\"Area\"].drop_duplicates()) if \"China\" in x]"
      ],
      "metadata": {
        "colab": {
          "base_uri": "https://localhost:8080/"
        },
        "id": "c5NOFYbp3WOk",
        "outputId": "4c4ceb00-ed4e-4b27-c601-956fee61f892"
      },
      "execution_count": null,
      "outputs": [
        {
          "output_type": "execute_result",
          "data": {
            "text/plain": [
              "['China',\n",
              " 'China, Hong Kong SAR',\n",
              " 'China, Macao SAR',\n",
              " 'China, mainland',\n",
              " 'China, Taiwan Province of',\n",
              " 'China (excluding intra-trade)']"
            ]
          },
          "metadata": {},
          "execution_count": 66
        }
      ]
    },
    {
      "cell_type": "code",
      "source": [
        "df_CHI = df[ (df[\"Element\"] == \"Import Quantity\") & (df[\"Area\"] == 'China (excluding intra-trade)') & (df[\"Year\"] == ult_año ) & (df[\"Item Code\"] < 1500 )].sort_values(\"Value\", ascending=False).head(10)\n"
      ],
      "metadata": {
        "id": "-JbhGqBa2Fy0"
      },
      "execution_count": null,
      "outputs": []
    },
    {
      "cell_type": "code",
      "source": [
        "df_CHI.plot(x=\"Item\", y=\"Value\",kind=\"bar\")"
      ],
      "metadata": {
        "colab": {
          "base_uri": "https://localhost:8080/",
          "height": 409
        },
        "id": "LjuMPd7u54A4",
        "outputId": "327c3e56-cc6a-4a79-b9bc-b25e81c5266e"
      },
      "execution_count": null,
      "outputs": [
        {
          "output_type": "execute_result",
          "data": {
            "text/plain": [
              "<matplotlib.axes._subplots.AxesSubplot at 0x7f84b29cb710>"
            ]
          },
          "metadata": {},
          "execution_count": 72
        },
        {
          "output_type": "display_data",
          "data": {
            "image/png": "[encoded data removed]",
            "text/plain": [
              "<Figure size 432x288 with 1 Axes>"
            ]
          },
          "metadata": {
            "needs_background": "light"
          }
        }
      ]
    },
    {
      "cell_type": "markdown",
      "source": [
        "### Producto más exportado a nivel mundial"
      ],
      "metadata": {
        "id": "vJ4k2qAZV7dc"
      }
    },
    {
      "cell_type": "code",
      "source": [
        "gb_df_Item_Export_q_2020 = df_Paises_Export_q_2020.groupby([\"Year\",\"Item\",\"Element\"])[\"Value\"].sum().reset_index()"
      ],
      "metadata": {
        "id": "KHKYcnRhv0AF"
      },
      "execution_count": null,
      "outputs": []
    },
    {
      "cell_type": "code",
      "source": [
        "tabla_orden = gb_df_Item_Export_q_2020.sort_values(\"Value\", ascending=True).tail(20)\n",
        "fig = px.bar(tabla_orden, \n",
        "             x=\"Value\", y=\"Item\", title='Cantidad Total Exportada en Toneladas el 2020 por alimento', text='Value', orientation='h', \n",
        "             width=700, height=700, range_x = [0, max(tabla_orden['Value'])+100000000])\n",
        "fig.update_traces(marker_color='#46cdcf', opacity=0.8, textposition='outside')\n"
      ],
      "metadata": {
        "colab": {
          "base_uri": "https://localhost:8080/",
          "height": 717
        },
        "id": "HKpbBGKr-_8S",
        "outputId": "a9b871d8-29b1-4cce-85c4-1938ad1dddb9"
      },
      "execution_count": null,
      "outputs": [
        {
          "output_type": "display_data",
          "data": {
            "text/html": [
              "<html>\n",
              "<head><meta charset=\"utf-8\" /></head>\n",
              "<body>\n",
              "    <div>            <script src=\"https://cdnjs.cloudflare.com/ajax/libs/mathjax/2.7.5/MathJax.js?config=TeX-AMS-MML_SVG\"></script><script type=\"text/javascript\">if (window.MathJax) {MathJax.Hub.Config({SVG: {font: \"STIX-Web\"}});}</script>                <script type=\"text/javascript\">window.PlotlyConfig = {MathJaxConfig: 'local'};</script>\n",
              "        <script src=\"https://cdn.plot.ly/plotly-2.8.3.min.js\"></script>                <div id=\"5db8b221-315d-47f4-8889-5a2348f2b941\" class=\"plotly-graph-div\" style=\"height:700px; width:700px;\"></div>            <script type=\"text/javascript\">                                    window.PLOTLYENV=window.PLOTLYENV || {};                                    if (document.getElementById(\"5db8b221-315d-47f4-8889-5a2348f2b941\")) {                    Plotly.newPlot(                        \"5db8b221-315d-47f4-8889-5a2348f2b941\",                        [{\"alignmentgroup\":\"True\",\"hovertemplate\":\"Value=%{text}<br>Item=%{y}<extra></extra>\",\"legendgroup\":\"\",\"marker\":{\"color\":\"#46cdcf\",\"pattern\":{\"shape\":\"\"}},\"name\":\"\",\"offsetgroup\":\"\",\"orientation\":\"h\",\"showlegend\":false,\"text\":[15612611.0,16414671.0,17387720.0,20389157.0,23825417.0,24530501.0,25009112.0,25085907.0,25804912.0,28195447.0,37981649.0,39077710.0,41892697.0,47347286.0,48101450.0,48704535.0,68264630.0,173523856.0,192896519.0,198526653.0],\"textposition\":\"outside\",\"x\":[15612611.0,16414671.0,17387720.0,20389157.0,23825417.0,24530501.0,25009112.0,25085907.0,25804912.0,28195447.0,37981649.0,39077710.0,41892697.0,47347286.0,48101450.0,48704535.0,68264630.0,173523856.0,192896519.0,198526653.0],\"xaxis\":\"x\",\"y\":[\"Oil, sunflower\",\"Beer of barley\",\"Food wastes\",\"Beehives\",\"Food prep nes\",\"Bananas\",\"Waters,ice etc\",\"Rapeseed\",\"Beverages, non alcoholic\",\"Sugar refined\",\"Barley\",\"Rice, milled\",\"Sugar Raw Centrifugal\",\"Oil, palm\",\"Rice, paddy (rice milled equivalent)\",\"Pigs\",\"Cake, soybeans\",\"Soybeans\",\"Maize\",\"Wheat\"],\"yaxis\":\"y\",\"type\":\"bar\",\"opacity\":0.8}],                        {\"template\":{\"data\":{\"bar\":[{\"error_x\":{\"color\":\"#2a3f5f\"},\"error_y\":{\"color\":\"#2a3f5f\"},\"marker\":{\"line\":{\"color\":\"#E5ECF6\",\"width\":0.5},\"pattern\":{\"fillmode\":\"overlay\",\"size\":10,\"solidity\":0.2}},\"type\":\"bar\"}],\"barpolar\":[{\"marker\":{\"line\":{\"color\":\"#E5ECF6\",\"width\":0.5},\"pattern\":{\"fillmode\":\"overlay\",\"size\":10,\"solidity\":0.2}},\"type\":\"barpolar\"}],\"carpet\":[{\"aaxis\":{\"endlinecolor\":\"#2a3f5f\",\"gridcolor\":\"white\",\"linecolor\":\"white\",\"minorgridcolor\":\"white\",\"startlinecolor\":\"#2a3f5f\"},\"baxis\":{\"endlinecolor\":\"#2a3f5f\",\"gridcolor\":\"white\",\"linecolor\":\"white\",\"minorgridcolor\":\"white\",\"startlinecolor\":\"#2a3f5f\"},\"type\":\"carpet\"}],\"choropleth\":[{\"colorbar\":{\"outlinewidth\":0,\"ticks\":\"\"},\"type\":\"choropleth\"}],\"contour\":[{\"colorbar\":{\"outlinewidth\":0,\"ticks\":\"\"},\"colorscale\":[[0.0,\"#0d0887\"],[0.1111111111111111,\"#46039f\"],[0.2222222222222222,\"#7201a8\"],[0.3333333333333333,\"#9c179e\"],[0.4444444444444444,\"#bd3786\"],[0.5555555555555556,\"#d8576b\"],[0.6666666666666666,\"#ed7953\"],[0.7777777777777778,\"#fb9f3a\"],[0.8888888888888888,\"#fdca26\"],[1.0,\"#f0f921\"]],\"type\":\"contour\"}],\"contourcarpet\":[{\"colorbar\":{\"outlinewidth\":0,\"ticks\":\"\"},\"type\":\"contourcarpet\"}],\"heatmap\":[{\"colorbar\":{\"outlinewidth\":0,\"ticks\":\"\"},\"colorscale\":[[0.0,\"#0d0887\"],[0.1111111111111111,\"#46039f\"],[0.2222222222222222,\"#7201a8\"],[0.3333333333333333,\"#9c179e\"],[0.4444444444444444,\"#bd3786\"],[0.5555555555555556,\"#d8576b\"],[0.6666666666666666,\"#ed7953\"],[0.7777777777777778,\"#fb9f3a\"],[0.8888888888888888,\"#fdca26\"],[1.0,\"#f0f921\"]],\"type\":\"heatmap\"}],\"heatmapgl\":[{\"colorbar\":{\"outlinewidth\":0,\"ticks\":\"\"},\"colorscale\":[[0.0,\"#0d0887\"],[0.1111111111111111,\"#46039f\"],[0.2222222222222222,\"#7201a8\"],[0.3333333333333333,\"#9c179e\"],[0.4444444444444444,\"#bd3786\"],[0.5555555555555556,\"#d8576b\"],[0.6666666666666666,\"#ed7953\"],[0.7777777777777778,\"#fb9f3a\"],[0.8888888888888888,\"#fdca26\"],[1.0,\"#f0f921\"]],\"type\":\"heatmapgl\"}],\"histogram\":[{\"marker\":{\"pattern\":{\"fillmode\":\"overlay\",\"size\":10,\"solidity\":0.2}},\"type\":\"histogram\"}],\"histogram2d\":[{\"colorbar\":{\"outlinewidth\":0,\"ticks\":\"\"},\"colorscale\":[[0.0,\"#0d0887\"],[0.1111111111111111,\"#46039f\"],[0.2222222222222222,\"#7201a8\"],[0.3333333333333333,\"#9c179e\"],[0.4444444444444444,\"#bd3786\"],[0.5555555555555556,\"#d8576b\"],[0.6666666666666666,\"#ed7953\"],[0.7777777777777778,\"#fb9f3a\"],[0.8888888888888888,\"#fdca26\"],[1.0,\"#f0f921\"]],\"type\":\"histogram2d\"}],\"histogram2dcontour\":[{\"colorbar\":{\"outlinewidth\":0,\"ticks\":\"\"},\"colorscale\":[[0.0,\"#0d0887\"],[0.1111111111111111,\"#46039f\"],[0.2222222222222222,\"#7201a8\"],[0.3333333333333333,\"#9c179e\"],[0.4444444444444444,\"#bd3786\"],[0.5555555555555556,\"#d8576b\"],[0.6666666666666666,\"#ed7953\"],[0.7777777777777778,\"#fb9f3a\"],[0.8888888888888888,\"#fdca26\"],[1.0,\"#f0f921\"]],\"type\":\"histogram2dcontour\"}],\"mesh3d\":[{\"colorbar\":{\"outlinewidth\":0,\"ticks\":\"\"},\"type\":\"mesh3d\"}],\"parcoords\":[{\"line\":{\"colorbar\":{\"outlinewidth\":0,\"ticks\":\"\"}},\"type\":\"parcoords\"}],\"pie\":[{\"automargin\":true,\"type\":\"pie\"}],\"scatter\":[{\"marker\":{\"colorbar\":{\"outlinewidth\":0,\"ticks\":\"\"}},\"type\":\"scatter\"}],\"scatter3d\":[{\"line\":{\"colorbar\":{\"outlinewidth\":0,\"ticks\":\"\"}},\"marker\":{\"colorbar\":{\"outlinewidth\":0,\"ticks\":\"\"}},\"type\":\"scatter3d\"}],\"scattercarpet\":[{\"marker\":{\"colorbar\":{\"outlinewidth\":0,\"ticks\":\"\"}},\"type\":\"scattercarpet\"}],\"scattergeo\":[{\"marker\":{\"colorbar\":{\"outlinewidth\":0,\"ticks\":\"\"}},\"type\":\"scattergeo\"}],\"scattergl\":[{\"marker\":{\"colorbar\":{\"outlinewidth\":0,\"ticks\":\"\"}},\"type\":\"scattergl\"}],\"scattermapbox\":[{\"marker\":{\"colorbar\":{\"outlinewidth\":0,\"ticks\":\"\"}},\"type\":\"scattermapbox\"}],\"scatterpolar\":[{\"marker\":{\"colorbar\":{\"outlinewidth\":0,\"ticks\":\"\"}},\"type\":\"scatterpolar\"}],\"scatterpolargl\":[{\"marker\":{\"colorbar\":{\"outlinewidth\":0,\"ticks\":\"\"}},\"type\":\"scatterpolargl\"}],\"scatterternary\":[{\"marker\":{\"colorbar\":{\"outlinewidth\":0,\"ticks\":\"\"}},\"type\":\"scatterternary\"}],\"surface\":[{\"colorbar\":{\"outlinewidth\":0,\"ticks\":\"\"},\"colorscale\":[[0.0,\"#0d0887\"],[0.1111111111111111,\"#46039f\"],[0.2222222222222222,\"#7201a8\"],[0.3333333333333333,\"#9c179e\"],[0.4444444444444444,\"#bd3786\"],[0.5555555555555556,\"#d8576b\"],[0.6666666666666666,\"#ed7953\"],[0.7777777777777778,\"#fb9f3a\"],[0.8888888888888888,\"#fdca26\"],[1.0,\"#f0f921\"]],\"type\":\"surface\"}],\"table\":[{\"cells\":{\"fill\":{\"color\":\"#EBF0F8\"},\"line\":{\"color\":\"white\"}},\"header\":{\"fill\":{\"color\":\"#C8D4E3\"},\"line\":{\"color\":\"white\"}},\"type\":\"table\"}]},\"layout\":{\"annotationdefaults\":{\"arrowcolor\":\"#2a3f5f\",\"arrowhead\":0,\"arrowwidth\":1},\"autotypenumbers\":\"strict\",\"coloraxis\":{\"colorbar\":{\"outlinewidth\":0,\"ticks\":\"\"}},\"colorscale\":{\"diverging\":[[0,\"#8e0152\"],[0.1,\"#c51b7d\"],[0.2,\"#de77ae\"],[0.3,\"#f1b6da\"],[0.4,\"#fde0ef\"],[0.5,\"#f7f7f7\"],[0.6,\"#e6f5d0\"],[0.7,\"#b8e186\"],[0.8,\"#7fbc41\"],[0.9,\"#4d9221\"],[1,\"#276419\"]],\"sequential\":[[0.0,\"#0d0887\"],[0.1111111111111111,\"#46039f\"],[0.2222222222222222,\"#7201a8\"],[0.3333333333333333,\"#9c179e\"],[0.4444444444444444,\"#bd3786\"],[0.5555555555555556,\"#d8576b\"],[0.6666666666666666,\"#ed7953\"],[0.7777777777777778,\"#fb9f3a\"],[0.8888888888888888,\"#fdca26\"],[1.0,\"#f0f921\"]],\"sequentialminus\":[[0.0,\"#0d0887\"],[0.1111111111111111,\"#46039f\"],[0.2222222222222222,\"#7201a8\"],[0.3333333333333333,\"#9c179e\"],[0.4444444444444444,\"#bd3786\"],[0.5555555555555556,\"#d8576b\"],[0.6666666666666666,\"#ed7953\"],[0.7777777777777778,\"#fb9f3a\"],[0.8888888888888888,\"#fdca26\"],[1.0,\"#f0f921\"]]},\"colorway\":[\"#636efa\",\"#EF553B\",\"#00cc96\",\"#ab63fa\",\"#FFA15A\",\"#19d3f3\",\"#FF6692\",\"#B6E880\",\"#FF97FF\",\"#FECB52\"],\"font\":{\"color\":\"#2a3f5f\"},\"geo\":{\"bgcolor\":\"white\",\"lakecolor\":\"white\",\"landcolor\":\"#E5ECF6\",\"showlakes\":true,\"showland\":true,\"subunitcolor\":\"white\"},\"hoverlabel\":{\"align\":\"left\"},\"hovermode\":\"closest\",\"mapbox\":{\"style\":\"light\"},\"paper_bgcolor\":\"white\",\"plot_bgcolor\":\"#E5ECF6\",\"polar\":{\"angularaxis\":{\"gridcolor\":\"white\",\"linecolor\":\"white\",\"ticks\":\"\"},\"bgcolor\":\"#E5ECF6\",\"radialaxis\":{\"gridcolor\":\"white\",\"linecolor\":\"white\",\"ticks\":\"\"}},\"scene\":{\"xaxis\":{\"backgroundcolor\":\"#E5ECF6\",\"gridcolor\":\"white\",\"gridwidth\":2,\"linecolor\":\"white\",\"showbackground\":true,\"ticks\":\"\",\"zerolinecolor\":\"white\"},\"yaxis\":{\"backgroundcolor\":\"#E5ECF6\",\"gridcolor\":\"white\",\"gridwidth\":2,\"linecolor\":\"white\",\"showbackground\":true,\"ticks\":\"\",\"zerolinecolor\":\"white\"},\"zaxis\":{\"backgroundcolor\":\"#E5ECF6\",\"gridcolor\":\"white\",\"gridwidth\":2,\"linecolor\":\"white\",\"showbackground\":true,\"ticks\":\"\",\"zerolinecolor\":\"white\"}},\"shapedefaults\":{\"line\":{\"color\":\"#2a3f5f\"}},\"ternary\":{\"aaxis\":{\"gridcolor\":\"white\",\"linecolor\":\"white\",\"ticks\":\"\"},\"baxis\":{\"gridcolor\":\"white\",\"linecolor\":\"white\",\"ticks\":\"\"},\"bgcolor\":\"#E5ECF6\",\"caxis\":{\"gridcolor\":\"white\",\"linecolor\":\"white\",\"ticks\":\"\"}},\"title\":{\"x\":0.05},\"xaxis\":{\"automargin\":true,\"gridcolor\":\"white\",\"linecolor\":\"white\",\"ticks\":\"\",\"title\":{\"standoff\":15},\"zerolinecolor\":\"white\",\"zerolinewidth\":2},\"yaxis\":{\"automargin\":true,\"gridcolor\":\"white\",\"linecolor\":\"white\",\"ticks\":\"\",\"title\":{\"standoff\":15},\"zerolinecolor\":\"white\",\"zerolinewidth\":2}}},\"xaxis\":{\"anchor\":\"y\",\"domain\":[0.0,1.0],\"title\":{\"text\":\"Value\"},\"range\":[0,298526653.0]},\"yaxis\":{\"anchor\":\"x\",\"domain\":[0.0,1.0],\"title\":{\"text\":\"Item\"}},\"legend\":{\"tracegroupgap\":0},\"title\":{\"text\":\"Cantidad Total Exportada en Toneladas el 2020 por alimento\"},\"barmode\":\"relative\",\"height\":700,\"width\":700},                        {\"responsive\": true}                    ).then(function(){\n",
              "                            \n",
              "var gd = document.getElementById('5db8b221-315d-47f4-8889-5a2348f2b941');\n",
              "var x = new MutationObserver(function (mutations, observer) {{\n",
              "        var display = window.getComputedStyle(gd).display;\n",
              "        if (!display || display === 'none') {{\n",
              "            console.log([gd, 'removed!']);\n",
              "            Plotly.purge(gd);\n",
              "            observer.disconnect();\n",
              "        }}\n",
              "}});\n",
              "\n",
              "// Listen for the removal of the full notebook cells\n",
              "var notebookContainer = gd.closest('#notebook-container');\n",
              "if (notebookContainer) {{\n",
              "    x.observe(notebookContainer, {childList: true});\n",
              "}}\n",
              "\n",
              "// Listen for the clearing of the current output cell\n",
              "var outputEl = gd.closest('.output');\n",
              "if (outputEl) {{\n",
              "    x.observe(outputEl, {childList: true});\n",
              "}}\n",
              "\n",
              "                        })                };                            </script>        </div>\n",
              "</body>\n",
              "</html>"
            ]
          },
          "metadata": {}
        }
      ]
    },
    {
      "cell_type": "markdown",
      "source": [
        "Los productos más exportados son: Trigo, Maiz y soja."
      ],
      "metadata": {
        "id": "QodKiWIi61lg"
      }
    },
    {
      "cell_type": "code",
      "source": [
        "gb_df_Item_Export_q_2020.sort_values(\"Value\", ascending=False).head(5)"
      ],
      "metadata": {
        "colab": {
          "base_uri": "https://localhost:8080/",
          "height": 206
        },
        "id": "eHMMOKPOwG2D",
        "outputId": "30c7b230-7cc0-4779-e621-182da309110b"
      },
      "execution_count": null,
      "outputs": [
        {
          "output_type": "execute_result",
          "data": {
            "text/html": [
              "\n",
              "  <div id=\"df-5f06f5ab-3eaf-4312-8fa6-b2e0b104d547\">\n",
              "    <div class=\"colab-df-container\">\n",
              "      <div>\n",
              "<style scoped>\n",
              "    .dataframe tbody tr th:only-of-type {\n",
              "        vertical-align: middle;\n",
              "    }\n",
              "\n",
              "    .dataframe tbody tr th {\n",
              "        vertical-align: top;\n",
              "    }\n",
              "\n",
              "    .dataframe thead th {\n",
              "        text-align: right;\n",
              "    }\n",
              "</style>\n",
              "<table border=\"1\" class=\"dataframe\">\n",
              "  <thead>\n",
              "    <tr style=\"text-align: right;\">\n",
              "      <th></th>\n",
              "      <th>Year</th>\n",
              "      <th>Item</th>\n",
              "      <th>Element</th>\n",
              "      <th>Value</th>\n",
              "    </tr>\n",
              "  </thead>\n",
              "  <tbody>\n",
              "    <tr>\n",
              "      <th>380</th>\n",
              "      <td>2020</td>\n",
              "      <td>Wheat</td>\n",
              "      <td>Export Quantity</td>\n",
              "      <td>198526653.0</td>\n",
              "    </tr>\n",
              "    <tr>\n",
              "      <th>200</th>\n",
              "      <td>2020</td>\n",
              "      <td>Maize</td>\n",
              "      <td>Export Quantity</td>\n",
              "      <td>192896519.0</td>\n",
              "    </tr>\n",
              "    <tr>\n",
              "      <th>335</th>\n",
              "      <td>2020</td>\n",
              "      <td>Soybeans</td>\n",
              "      <td>Export Quantity</td>\n",
              "      <td>173523856.0</td>\n",
              "    </tr>\n",
              "    <tr>\n",
              "      <th>49</th>\n",
              "      <td>2020</td>\n",
              "      <td>Cake, soybeans</td>\n",
              "      <td>Export Quantity</td>\n",
              "      <td>68264630.0</td>\n",
              "    </tr>\n",
              "    <tr>\n",
              "      <th>294</th>\n",
              "      <td>2020</td>\n",
              "      <td>Pigs</td>\n",
              "      <td>Export Quantity</td>\n",
              "      <td>48704535.0</td>\n",
              "    </tr>\n",
              "  </tbody>\n",
              "</table>\n",
              "</div>\n",
              "      <button class=\"colab-df-convert\" onclick=\"convertToInteractive('df-5f06f5ab-3eaf-4312-8fa6-b2e0b104d547')\"\n",
              "              title=\"Convert this dataframe to an interactive table.\"\n",
              "              style=\"display:none;\">\n",
              "        \n",
              "  <svg xmlns=\"http://www.w3.org/2000/svg\" height=\"24px\"viewBox=\"0 0 24 24\"\n",
              "       width=\"24px\">\n",
              "    <path d=\"M0 0h24v24H0V0z\" fill=\"none\"/>\n",
              "    <path d=\"M18.56 5.44l.94 2.06.94-2.06 2.06-.94-2.06-.94-.94-2.06-.94 2.06-2.06.94zm-11 1L8.5 8.5l.94-2.06 2.06-.94-2.06-.94L8.5 2.5l-.94 2.06-2.06.94zm10 10l.94 2.06.94-2.06 2.06-.94-2.06-.94-.94-2.06-.94 2.06-2.06.94z\"/><path d=\"M17.41 7.96l-1.37-1.37c-.4-.4-.92-.59-1.43-.59-.52 0-1.04.2-1.43.59L10.3 9.45l-7.72 7.72c-.78.78-.78 2.05 0 2.83L4 21.41c.39.39.9.59 1.41.59.51 0 1.02-.2 1.41-.59l7.78-7.78 2.81-2.81c.8-.78.8-2.07 0-2.86zM5.41 20L4 18.59l7.72-7.72 1.47 1.35L5.41 20z\"/>\n",
              "  </svg>\n",
              "      </button>\n",
              "      \n",
              "  <style>\n",
              "    .colab-df-container {\n",
              "      display:flex;\n",
              "      flex-wrap:wrap;\n",
              "      gap: 12px;\n",
              "    }\n",
              "\n",
              "    .colab-df-convert {\n",
              "      background-color: #E8F0FE;\n",
              "      border: none;\n",
              "      border-radius: 50%;\n",
              "      cursor: pointer;\n",
              "      display: none;\n",
              "      fill: #1967D2;\n",
              "      height: 32px;\n",
              "      padding: 0 0 0 0;\n",
              "      width: 32px;\n",
              "    }\n",
              "\n",
              "    .colab-df-convert:hover {\n",
              "      background-color: #E2EBFA;\n",
              "      box-shadow: 0px 1px 2px rgba(60, 64, 67, 0.3), 0px 1px 3px 1px rgba(60, 64, 67, 0.15);\n",
              "      fill: #174EA6;\n",
              "    }\n",
              "\n",
              "    [theme=dark] .colab-df-convert {\n",
              "      background-color: #3B4455;\n",
              "      fill: #D2E3FC;\n",
              "    }\n",
              "\n",
              "    [theme=dark] .colab-df-convert:hover {\n",
              "      background-color: #434B5C;\n",
              "      box-shadow: 0px 1px 3px 1px rgba(0, 0, 0, 0.15);\n",
              "      filter: drop-shadow(0px 1px 2px rgba(0, 0, 0, 0.3));\n",
              "      fill: #FFFFFF;\n",
              "    }\n",
              "  </style>\n",
              "\n",
              "      <script>\n",
              "        const buttonEl =\n",
              "          document.querySelector('#df-5f06f5ab-3eaf-4312-8fa6-b2e0b104d547 button.colab-df-convert');\n",
              "        buttonEl.style.display =\n",
              "          google.colab.kernel.accessAllowed ? 'block' : 'none';\n",
              "\n",
              "        async function convertToInteractive(key) {\n",
              "          const element = document.querySelector('#df-5f06f5ab-3eaf-4312-8fa6-b2e0b104d547');\n",
              "          const dataTable =\n",
              "            await google.colab.kernel.invokeFunction('convertToInteractive',\n",
              "                                                     [key], {});\n",
              "          if (!dataTable) return;\n",
              "\n",
              "          const docLinkHtml = 'Like what you see? Visit the ' +\n",
              "            '<a target=\"_blank\" href=https://colab.research.google.com/notebooks/data_table.ipynb>data table notebook</a>'\n",
              "            + ' to learn more about interactive tables.';\n",
              "          element.innerHTML = '';\n",
              "          dataTable['output_type'] = 'display_data';\n",
              "          await google.colab.output.renderOutput(dataTable, element);\n",
              "          const docLink = document.createElement('div');\n",
              "          docLink.innerHTML = docLinkHtml;\n",
              "          element.appendChild(docLink);\n",
              "        }\n",
              "      </script>\n",
              "    </div>\n",
              "  </div>\n",
              "  "
            ],
            "text/plain": [
              "     Year            Item          Element        Value\n",
              "380  2020           Wheat  Export Quantity  198526653.0\n",
              "200  2020           Maize  Export Quantity  192896519.0\n",
              "335  2020        Soybeans  Export Quantity  173523856.0\n",
              "49   2020  Cake, soybeans  Export Quantity   68264630.0\n",
              "294  2020            Pigs  Export Quantity   48704535.0"
            ]
          },
          "metadata": {},
          "execution_count": 114
        }
      ]
    },
    {
      "cell_type": "markdown",
      "source": [
        "### Producto más importado a nivel mundial"
      ],
      "metadata": {
        "id": "j9TejCtdCeTx"
      }
    },
    {
      "cell_type": "code",
      "source": [
        "gb_df_Item_Import_q_2020 = df_Paises_Import_q_2020.groupby([\"Year\",\"Item\",\"Element\"])[\"Value\"].sum().reset_index()"
      ],
      "metadata": {
        "id": "XPmkTAW-jjxV"
      },
      "execution_count": null,
      "outputs": []
    },
    {
      "cell_type": "code",
      "source": [
        "gb_df_Item_Import_q_2020.sort_values(\"Value\", ascending=False).head(20)"
      ],
      "metadata": {
        "colab": {
          "base_uri": "https://localhost:8080/",
          "height": 677
        },
        "id": "_rSUpiCZjpkN",
        "outputId": "7b80739f-71ab-44ba-f5cb-09e03c674811"
      },
      "execution_count": null,
      "outputs": [
        {
          "output_type": "execute_result",
          "data": {
            "text/html": [
              "\n",
              "  <div id=\"df-ce4c0163-4eb7-4619-be93-80adab5fb991\">\n",
              "    <div class=\"colab-df-container\">\n",
              "      <div>\n",
              "<style scoped>\n",
              "    .dataframe tbody tr th:only-of-type {\n",
              "        vertical-align: middle;\n",
              "    }\n",
              "\n",
              "    .dataframe tbody tr th {\n",
              "        vertical-align: top;\n",
              "    }\n",
              "\n",
              "    .dataframe thead th {\n",
              "        text-align: right;\n",
              "    }\n",
              "</style>\n",
              "<table border=\"1\" class=\"dataframe\">\n",
              "  <thead>\n",
              "    <tr style=\"text-align: right;\">\n",
              "      <th></th>\n",
              "      <th>Year</th>\n",
              "      <th>Item</th>\n",
              "      <th>Element</th>\n",
              "      <th>Value</th>\n",
              "    </tr>\n",
              "  </thead>\n",
              "  <tbody>\n",
              "    <tr>\n",
              "      <th>336</th>\n",
              "      <td>2020</td>\n",
              "      <td>Soybeans</td>\n",
              "      <td>Import Quantity</td>\n",
              "      <td>372929173.0</td>\n",
              "    </tr>\n",
              "    <tr>\n",
              "      <th>379</th>\n",
              "      <td>2020</td>\n",
              "      <td>Waters,ice etc</td>\n",
              "      <td>Import Quantity</td>\n",
              "      <td>217540334.0</td>\n",
              "    </tr>\n",
              "    <tr>\n",
              "      <th>201</th>\n",
              "      <td>2020</td>\n",
              "      <td>Maize</td>\n",
              "      <td>Import Quantity</td>\n",
              "      <td>216715155.0</td>\n",
              "    </tr>\n",
              "    <tr>\n",
              "      <th>381</th>\n",
              "      <td>2020</td>\n",
              "      <td>Wheat</td>\n",
              "      <td>Import Quantity</td>\n",
              "      <td>210877751.0</td>\n",
              "    </tr>\n",
              "    <tr>\n",
              "      <th>320</th>\n",
              "      <td>2020</td>\n",
              "      <td>Rodents, other</td>\n",
              "      <td>Import Quantity</td>\n",
              "      <td>70154904.0</td>\n",
              "    </tr>\n",
              "    <tr>\n",
              "      <th>50</th>\n",
              "      <td>2020</td>\n",
              "      <td>Cake, soybeans</td>\n",
              "      <td>Import Quantity</td>\n",
              "      <td>67379574.0</td>\n",
              "    </tr>\n",
              "    <tr>\n",
              "      <th>268</th>\n",
              "      <td>2020</td>\n",
              "      <td>Oil, palm</td>\n",
              "      <td>Import Quantity</td>\n",
              "      <td>60927212.0</td>\n",
              "    </tr>\n",
              "    <tr>\n",
              "      <th>342</th>\n",
              "      <td>2020</td>\n",
              "      <td>Sugar Raw Centrifugal</td>\n",
              "      <td>Import Quantity</td>\n",
              "      <td>49552257.0</td>\n",
              "    </tr>\n",
              "    <tr>\n",
              "      <th>15</th>\n",
              "      <td>2020</td>\n",
              "      <td>Barley</td>\n",
              "      <td>Import Quantity</td>\n",
              "      <td>49056104.0</td>\n",
              "    </tr>\n",
              "    <tr>\n",
              "      <th>319</th>\n",
              "      <td>2020</td>\n",
              "      <td>Rice, paddy (rice milled equivalent)</td>\n",
              "      <td>Import Quantity</td>\n",
              "      <td>48622805.0</td>\n",
              "    </tr>\n",
              "    <tr>\n",
              "      <th>295</th>\n",
              "      <td>2020</td>\n",
              "      <td>Pigs</td>\n",
              "      <td>Import Quantity</td>\n",
              "      <td>40665195.0</td>\n",
              "    </tr>\n",
              "    <tr>\n",
              "      <th>316</th>\n",
              "      <td>2020</td>\n",
              "      <td>Rice, milled</td>\n",
              "      <td>Import Quantity</td>\n",
              "      <td>36145814.0</td>\n",
              "    </tr>\n",
              "    <tr>\n",
              "      <th>313</th>\n",
              "      <td>2020</td>\n",
              "      <td>Rapeseed</td>\n",
              "      <td>Import Quantity</td>\n",
              "      <td>31180935.0</td>\n",
              "    </tr>\n",
              "    <tr>\n",
              "      <th>348</th>\n",
              "      <td>2020</td>\n",
              "      <td>Sugar refined</td>\n",
              "      <td>Import Quantity</td>\n",
              "      <td>28398912.0</td>\n",
              "    </tr>\n",
              "    <tr>\n",
              "      <th>14</th>\n",
              "      <td>2020</td>\n",
              "      <td>Bananas</td>\n",
              "      <td>Import Quantity</td>\n",
              "      <td>27010451.0</td>\n",
              "    </tr>\n",
              "    <tr>\n",
              "      <th>25</th>\n",
              "      <td>2020</td>\n",
              "      <td>Beverages, non alcoholic</td>\n",
              "      <td>Import Quantity</td>\n",
              "      <td>23587796.0</td>\n",
              "    </tr>\n",
              "    <tr>\n",
              "      <th>139</th>\n",
              "      <td>2020</td>\n",
              "      <td>Food prep nes</td>\n",
              "      <td>Import Quantity</td>\n",
              "      <td>21910104.0</td>\n",
              "    </tr>\n",
              "    <tr>\n",
              "      <th>275</th>\n",
              "      <td>2020</td>\n",
              "      <td>Oil, sunflower</td>\n",
              "      <td>Import Quantity</td>\n",
              "      <td>19048225.0</td>\n",
              "    </tr>\n",
              "    <tr>\n",
              "      <th>20</th>\n",
              "      <td>2020</td>\n",
              "      <td>Beer of barley</td>\n",
              "      <td>Import Quantity</td>\n",
              "      <td>17874957.0</td>\n",
              "    </tr>\n",
              "    <tr>\n",
              "      <th>216</th>\n",
              "      <td>2020</td>\n",
              "      <td>Meat, chicken</td>\n",
              "      <td>Import Quantity</td>\n",
              "      <td>17840215.0</td>\n",
              "    </tr>\n",
              "  </tbody>\n",
              "</table>\n",
              "</div>\n",
              "      <button class=\"colab-df-convert\" onclick=\"convertToInteractive('df-ce4c0163-4eb7-4619-be93-80adab5fb991')\"\n",
              "              title=\"Convert this dataframe to an interactive table.\"\n",
              "              style=\"display:none;\">\n",
              "        \n",
              "  <svg xmlns=\"http://www.w3.org/2000/svg\" height=\"24px\"viewBox=\"0 0 24 24\"\n",
              "       width=\"24px\">\n",
              "    <path d=\"M0 0h24v24H0V0z\" fill=\"none\"/>\n",
              "    <path d=\"M18.56 5.44l.94 2.06.94-2.06 2.06-.94-2.06-.94-.94-2.06-.94 2.06-2.06.94zm-11 1L8.5 8.5l.94-2.06 2.06-.94-2.06-.94L8.5 2.5l-.94 2.06-2.06.94zm10 10l.94 2.06.94-2.06 2.06-.94-2.06-.94-.94-2.06-.94 2.06-2.06.94z\"/><path d=\"M17.41 7.96l-1.37-1.37c-.4-.4-.92-.59-1.43-.59-.52 0-1.04.2-1.43.59L10.3 9.45l-7.72 7.72c-.78.78-.78 2.05 0 2.83L4 21.41c.39.39.9.59 1.41.59.51 0 1.02-.2 1.41-.59l7.78-7.78 2.81-2.81c.8-.78.8-2.07 0-2.86zM5.41 20L4 18.59l7.72-7.72 1.47 1.35L5.41 20z\"/>\n",
              "  </svg>\n",
              "      </button>\n",
              "      \n",
              "  <style>\n",
              "    .colab-df-container {\n",
              "      display:flex;\n",
              "      flex-wrap:wrap;\n",
              "      gap: 12px;\n",
              "    }\n",
              "\n",
              "    .colab-df-convert {\n",
              "      background-color: #E8F0FE;\n",
              "      border: none;\n",
              "      border-radius: 50%;\n",
              "      cursor: pointer;\n",
              "      display: none;\n",
              "      fill: #1967D2;\n",
              "      height: 32px;\n",
              "      padding: 0 0 0 0;\n",
              "      width: 32px;\n",
              "    }\n",
              "\n",
              "    .colab-df-convert:hover {\n",
              "      background-color: #E2EBFA;\n",
              "      box-shadow: 0px 1px 2px rgba(60, 64, 67, 0.3), 0px 1px 3px 1px rgba(60, 64, 67, 0.15);\n",
              "      fill: #174EA6;\n",
              "    }\n",
              "\n",
              "    [theme=dark] .colab-df-convert {\n",
              "      background-color: #3B4455;\n",
              "      fill: #D2E3FC;\n",
              "    }\n",
              "\n",
              "    [theme=dark] .colab-df-convert:hover {\n",
              "      background-color: #434B5C;\n",
              "      box-shadow: 0px 1px 3px 1px rgba(0, 0, 0, 0.15);\n",
              "      filter: drop-shadow(0px 1px 2px rgba(0, 0, 0, 0.3));\n",
              "      fill: #FFFFFF;\n",
              "    }\n",
              "  </style>\n",
              "\n",
              "      <script>\n",
              "        const buttonEl =\n",
              "          document.querySelector('#df-ce4c0163-4eb7-4619-be93-80adab5fb991 button.colab-df-convert');\n",
              "        buttonEl.style.display =\n",
              "          google.colab.kernel.accessAllowed ? 'block' : 'none';\n",
              "\n",
              "        async function convertToInteractive(key) {\n",
              "          const element = document.querySelector('#df-ce4c0163-4eb7-4619-be93-80adab5fb991');\n",
              "          const dataTable =\n",
              "            await google.colab.kernel.invokeFunction('convertToInteractive',\n",
              "                                                     [key], {});\n",
              "          if (!dataTable) return;\n",
              "\n",
              "          const docLinkHtml = 'Like what you see? Visit the ' +\n",
              "            '<a target=\"_blank\" href=https://colab.research.google.com/notebooks/data_table.ipynb>data table notebook</a>'\n",
              "            + ' to learn more about interactive tables.';\n",
              "          element.innerHTML = '';\n",
              "          dataTable['output_type'] = 'display_data';\n",
              "          await google.colab.output.renderOutput(dataTable, element);\n",
              "          const docLink = document.createElement('div');\n",
              "          docLink.innerHTML = docLinkHtml;\n",
              "          element.appendChild(docLink);\n",
              "        }\n",
              "      </script>\n",
              "    </div>\n",
              "  </div>\n",
              "  "
            ],
            "text/plain": [
              "     Year                                  Item          Element        Value\n",
              "336  2020                              Soybeans  Import Quantity  372929173.0\n",
              "379  2020                        Waters,ice etc  Import Quantity  217540334.0\n",
              "201  2020                                 Maize  Import Quantity  216715155.0\n",
              "381  2020                                 Wheat  Import Quantity  210877751.0\n",
              "320  2020                        Rodents, other  Import Quantity   70154904.0\n",
              "50   2020                        Cake, soybeans  Import Quantity   67379574.0\n",
              "268  2020                             Oil, palm  Import Quantity   60927212.0\n",
              "342  2020                 Sugar Raw Centrifugal  Import Quantity   49552257.0\n",
              "15   2020                                Barley  Import Quantity   49056104.0\n",
              "319  2020  Rice, paddy (rice milled equivalent)  Import Quantity   48622805.0\n",
              "295  2020                                  Pigs  Import Quantity   40665195.0\n",
              "316  2020                          Rice, milled  Import Quantity   36145814.0\n",
              "313  2020                              Rapeseed  Import Quantity   31180935.0\n",
              "348  2020                         Sugar refined  Import Quantity   28398912.0\n",
              "14   2020                               Bananas  Import Quantity   27010451.0\n",
              "25   2020              Beverages, non alcoholic  Import Quantity   23587796.0\n",
              "139  2020                         Food prep nes  Import Quantity   21910104.0\n",
              "275  2020                        Oil, sunflower  Import Quantity   19048225.0\n",
              "20   2020                        Beer of barley  Import Quantity   17874957.0\n",
              "216  2020                         Meat, chicken  Import Quantity   17840215.0"
            ]
          },
          "metadata": {},
          "execution_count": 49
        }
      ]
    },
    {
      "cell_type": "markdown",
      "source": [
        "No acabo de entender porque el Item \"Waters, Ice etc\" aparece en la tabla de productos más importados pero no en la de más exportados...."
      ],
      "metadata": {
        "id": "7Nc45iv77jeb"
      }
    },
    {
      "cell_type": "markdown",
      "source": [
        "### Podríamos seguir analizando, y ver la evolución de las exportaciones e importaciones por alimentos."
      ],
      "metadata": {
        "id": "WUNRj1tIDb4J"
      }
    }
  ]
}